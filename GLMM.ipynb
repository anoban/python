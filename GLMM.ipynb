{
 "cells": [
  {
   "cell_type": "code",
   "execution_count": 2,
   "id": "cb0dd2b5-c063-4e72-99c8-56336bddb454",
   "metadata": {
    "execution": {
     "iopub.execute_input": "2024-01-16T11:51:02.635791Z",
     "iopub.status.busy": "2024-01-16T11:51:02.635791Z",
     "iopub.status.idle": "2024-01-16T11:51:02.642694Z",
     "shell.execute_reply": "2024-01-16T11:51:02.642694Z",
     "shell.execute_reply.started": "2024-01-16T11:51:02.635791Z"
    }
   },
   "outputs": [],
   "source": [
    "import numpy as np\n",
    "import pandas as pd\n",
    "import matplotlib.pyplot as plt\n",
    "from sklearn.linear_model import LinearRegression"
   ]
  },
  {
   "cell_type": "markdown",
   "id": "594c597f-21c4-4d28-b51d-527ab11a35fe",
   "metadata": {},
   "source": [
    "# ___Introduction To Generalized Linear Mixed Models (GLMM)___\n",
    "------------------\n",
    "\n",
    "___Practiced using [UCLA material](https://stats.oarc.ucla.edu/other/mult-pkg/introduction-to-generalized-linear-mixed-models/)___"
   ]
  },
  {
   "cell_type": "code",
   "execution_count": 3,
   "id": "76efb7a7-8f1d-464b-89ad-4a74f1b32c68",
   "metadata": {
    "execution": {
     "iopub.execute_input": "2024-01-16T11:55:22.069901Z",
     "iopub.status.busy": "2024-01-16T11:55:22.069901Z",
     "iopub.status.idle": "2024-01-16T11:55:22.083089Z",
     "shell.execute_reply": "2024-01-16T11:55:22.083089Z",
     "shell.execute_reply.started": "2024-01-16T11:55:22.069901Z"
    }
   },
   "outputs": [],
   "source": [
    "# GLMMs are extension to Linear Mixel Models (LMMs) that accomodate variables from different distributions e.g. binary distribution\n",
    "# Or one could think of GLMMs as an extension to GLMs like linear regression that accomodate both fixed and random effects."
   ]
  },
  {
   "cell_type": "code",
   "execution_count": 4,
   "id": "b229a354-4df1-4784-9a60-61faae457324",
   "metadata": {
    "execution": {
     "iopub.execute_input": "2024-01-16T11:55:47.745558Z",
     "iopub.status.busy": "2024-01-16T11:55:47.745558Z",
     "iopub.status.idle": "2024-01-16T11:55:47.754664Z",
     "shell.execute_reply": "2024-01-16T11:55:47.754606Z",
     "shell.execute_reply.started": "2024-01-16T11:55:47.745558Z"
    }
   },
   "outputs": [],
   "source": [
    "# The general form of a model is "
   ]
  },
  {
   "cell_type": "markdown",
   "id": "83beb1f6-405f-4310-8ef2-6058889e6515",
   "metadata": {},
   "source": [
    "# ___$y = X\\beta + Zu + \\varepsilon$___"
   ]
  },
  {
   "cell_type": "code",
   "execution_count": null,
   "id": "9700fbdd-9885-43f2-9353-42ea89c487c5",
   "metadata": {},
   "outputs": [],
   "source": [
    "# where y is a N x 1 column vector (the outcome variable).\n",
    "# X is a N x p matrix of p number of predictor variables\n",
    "# beta is a p x 1 column vector of fixed effect regression coefficients (of the predictor variables)\n",
    "# "
   ]
  }
 ],
 "metadata": {
  "kernelspec": {
   "display_name": "Python 3 (ipykernel)",
   "language": "python",
   "name": "python3"
  },
  "language_info": {
   "codemirror_mode": {
    "name": "ipython",
    "version": 3
   },
   "file_extension": ".py",
   "mimetype": "text/x-python",
   "name": "python",
   "nbconvert_exporter": "python",
   "pygments_lexer": "ipython3",
   "version": "3.11.7"
  }
 },
 "nbformat": 4,
 "nbformat_minor": 5
}
