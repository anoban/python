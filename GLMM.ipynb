{
 "cells": [
  {
   "cell_type": "code",
   "execution_count": 5,
   "id": "cb0dd2b5-c063-4e72-99c8-56336bddb454",
   "metadata": {
    "execution": {
     "iopub.execute_input": "2024-01-16T12:11:12.613974Z",
     "iopub.status.busy": "2024-01-16T12:11:12.613974Z",
     "iopub.status.idle": "2024-01-16T12:11:12.625962Z",
     "shell.execute_reply": "2024-01-16T12:11:12.625962Z",
     "shell.execute_reply.started": "2024-01-16T12:11:12.613974Z"
    }
   },
   "outputs": [],
   "source": [
    "import numpy as np\n",
    "import pandas as pd\n",
    "import matplotlib.pyplot as plt\n",
    "from sklearn.linear_model import LinearRegression\n",
    "from scipy.io import arff"
   ]
  },
  {
   "cell_type": "markdown",
   "id": "594c597f-21c4-4d28-b51d-527ab11a35fe",
   "metadata": {},
   "source": [
    "# ___Introduction To Generalized Linear Mixed Models (GLMM)___\n",
    "------------------\n",
    "\n",
    "___Practiced using [UCLA material](https://stats.oarc.ucla.edu/other/mult-pkg/introduction-to-generalized-linear-mixed-models/)___"
   ]
  },
  {
   "cell_type": "code",
   "execution_count": 3,
   "id": "76efb7a7-8f1d-464b-89ad-4a74f1b32c68",
   "metadata": {
    "execution": {
     "iopub.execute_input": "2024-01-16T11:55:22.069901Z",
     "iopub.status.busy": "2024-01-16T11:55:22.069901Z",
     "iopub.status.idle": "2024-01-16T11:55:22.083089Z",
     "shell.execute_reply": "2024-01-16T11:55:22.083089Z",
     "shell.execute_reply.started": "2024-01-16T11:55:22.069901Z"
    }
   },
   "outputs": [],
   "source": [
    "# GLMMs are extension to Linear Mixel Models (LMMs) that accomodate variables from different distributions e.g. binary distribution\n",
    "# Or one could think of GLMMs as an extension to GLMs like linear regression that accomodate both fixed and random effects."
   ]
  },
  {
   "cell_type": "code",
   "execution_count": 4,
   "id": "b229a354-4df1-4784-9a60-61faae457324",
   "metadata": {
    "execution": {
     "iopub.execute_input": "2024-01-16T11:55:47.745558Z",
     "iopub.status.busy": "2024-01-16T11:55:47.745558Z",
     "iopub.status.idle": "2024-01-16T11:55:47.754664Z",
     "shell.execute_reply": "2024-01-16T11:55:47.754606Z",
     "shell.execute_reply.started": "2024-01-16T11:55:47.745558Z"
    }
   },
   "outputs": [],
   "source": [
    "# The general form of a model is "
   ]
  },
  {
   "cell_type": "markdown",
   "id": "83beb1f6-405f-4310-8ef2-6058889e6515",
   "metadata": {},
   "source": [
    "# ___$y = \\beta X + uZ + \\varepsilon$___"
   ]
  },
  {
   "cell_type": "code",
   "execution_count": 1,
   "id": "9700fbdd-9885-43f2-9353-42ea89c487c5",
   "metadata": {
    "execution": {
     "iopub.execute_input": "2024-01-18T10:18:57.620502Z",
     "iopub.status.busy": "2024-01-18T10:18:57.620502Z",
     "iopub.status.idle": "2024-01-18T10:18:57.626221Z",
     "shell.execute_reply": "2024-01-18T10:18:57.625565Z",
     "shell.execute_reply.started": "2024-01-18T10:18:57.620502Z"
    }
   },
   "outputs": [],
   "source": [
    "# where y is a N x 1 column vector (the outcome variable). (i.e in layman terms, a one dimensional array with N values)\n",
    "\n",
    "# X is a N x p matrix of p number of predictor variables (i.e a matrix with N rows and p columns)\n",
    "# beta is a p x 1 column vector of fixed effect regression coefficients (of the predictor variables, i.e a one dimensional array of N size)\n",
    "# the highlight here is that betas are FIXED EFFECT REGRESSION COEFFICIENTS, one coefficient for each column in X\n",
    "\n",
    "# Z is a N x q matrix of random effects, random complements to the FIXED EFFECTS X (N rows, q columns)\n",
    "# again, the highlight here is that thse are RANDOM EFFECTS\n",
    "# u is a q x 1 column vector of random effect coefficients, the random complements to the FIXED EFFECT betas.\n",
    "\n",
    "# epsilon is N x 1 column vector of residuals, THE PART OF Y THAT CANNOT BE EXPLAINED BY THE MODEL:"
   ]
  },
  {
   "cell_type": "markdown",
   "id": "2fe1bf1a-f8a5-4a05-b41b-4ebbd75f3618",
   "metadata": {},
   "source": [
    "# ___$y = \\beta X + uZ$___"
   ]
  },
  {
   "cell_type": "code",
   "execution_count": null,
   "id": "ec90637c-2b7a-4cce-b904-cf2d97aba86e",
   "metadata": {},
   "outputs": [],
   "source": [
    "# OR SIMPLY THE ERROR VALUES.\n",
    "\n",
    "# the dimensionality of the equation is as follows;"
   ]
  },
  {
   "cell_type": "markdown",
   "id": "d86a630c-a869-4322-9c1c-c3f0c2f1644e",
   "metadata": {},
   "source": [
    "## ___$\\overbrace{y}^{N \\times 1} = \\overbrace{\\underbrace{\\beta}_{p \\times 1}\\underbrace{Z}_{N \\times p}}^{N \\times 1} + \\overbrace{\\underbrace{u}_{q \\times 1} \\underbrace{Z}_{N \\times q}}^{N \\times 1} + \\overbrace{\\varepsilon}^{N \\times 1}$___"
   ]
  },
  {
   "cell_type": "code",
   "execution_count": null,
   "id": "5c8086c5-aed0-44dc-b7f5-12223e21c662",
   "metadata": {},
   "outputs": [],
   "source": []
  },
  {
   "cell_type": "code",
   "execution_count": 3,
   "id": "9aeaff10-d8f4-4fdf-82e3-2d4a78b4fef3",
   "metadata": {
    "execution": {
     "iopub.execute_input": "2024-01-18T10:49:03.035863Z",
     "iopub.status.busy": "2024-01-18T10:49:03.035863Z",
     "iopub.status.idle": "2024-01-18T10:49:03.038638Z",
     "shell.execute_reply": "2024-01-18T10:49:03.038638Z",
     "shell.execute_reply.started": "2024-01-18T10:49:03.035863Z"
    }
   },
   "outputs": [],
   "source": [
    "# let's comsider a synthesized data of 407 doctors (N)\n",
    "# not all doctors see the same number of patients, it could vary between from just 2 to 40. (this number is denoted as n_{i})\n",
    "# the average number of patients examined by a doctor is 21 (given)\n",
    "# equation:"
   ]
  },
  {
   "cell_type": "markdown",
   "id": "a9b6c981-3f5f-46ab-b6d8-c6f599610e71",
   "metadata": {},
   "source": [
    "# ___$$N = \\sum_{i = 0}^{N}{n_i}$$___"
   ]
  },
  {
   "cell_type": "markdown",
   "id": "c72ff989-a216-4e78-94d8-b89e4889c22d",
   "metadata": {},
   "source": [
    "___According to:___\n",
    "\n",
    "# ___$N = \\sum_{i = 0}^{N}{n_i}$___"
   ]
  },
  {
   "cell_type": "code",
   "execution_count": 5,
   "id": "6676f34f-bf48-4a52-868a-bfcd255a57e8",
   "metadata": {
    "execution": {
     "iopub.execute_input": "2024-01-18T10:55:02.849460Z",
     "iopub.status.busy": "2024-01-18T10:55:02.849460Z",
     "iopub.status.idle": "2024-01-18T10:55:02.858482Z",
     "shell.execute_reply": "2024-01-18T10:55:02.858482Z",
     "shell.execute_reply.started": "2024-01-18T10:55:02.849460Z"
    }
   },
   "outputs": [
    {
     "data": {
      "text/plain": [
       "8547"
      ]
     },
     "execution_count": 5,
     "metadata": {},
     "output_type": "execute_result"
    }
   ],
   "source": [
    "avpatients = 21\n",
    "ndocs = 407\n",
    "\n",
    "# the total patients examined by 407 doctors:\n",
    "\n",
    "npatients = ndocs * avpatients\n",
    "npatients"
   ]
  },
  {
   "cell_type": "code",
   "execution_count": null,
   "id": "3a5e7794-09a8-46f2-9862-d98463d3587f",
   "metadata": {},
   "outputs": [],
   "source": []
  }
 ],
 "metadata": {
  "kernelspec": {
   "display_name": "Python 3 (ipykernel)",
   "language": "python",
   "name": "python3"
  },
  "language_info": {
   "codemirror_mode": {
    "name": "ipython",
    "version": 3
   },
   "file_extension": ".py",
   "mimetype": "text/x-python",
   "name": "python",
   "nbconvert_exporter": "python",
   "pygments_lexer": "ipython3",
   "version": "3.11.7"
  }
 },
 "nbformat": 4,
 "nbformat_minor": 5
}
