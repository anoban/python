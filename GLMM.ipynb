{
 "cells": [
  {
   "cell_type": "code",
   "execution_count": 1,
   "id": "cb0dd2b5-c063-4e72-99c8-56336bddb454",
   "metadata": {
    "execution": {
     "iopub.execute_input": "2024-01-21T01:58:33.791698Z",
     "iopub.status.busy": "2024-01-21T01:58:33.791698Z",
     "iopub.status.idle": "2024-01-21T01:58:38.927629Z",
     "shell.execute_reply": "2024-01-21T01:58:38.927629Z",
     "shell.execute_reply.started": "2024-01-21T01:58:33.791698Z"
    }
   },
   "outputs": [],
   "source": [
    "import numpy as np\n",
    "import pandas as pd\n",
    "import matplotlib.pyplot as plt\n",
    "from sklearn.linear_model import LinearRegression\n",
    "from scipy.io import arff"
   ]
  },
  {
   "cell_type": "markdown",
   "id": "594c597f-21c4-4d28-b51d-527ab11a35fe",
   "metadata": {},
   "source": [
    "# ___Introduction To Generalized Linear Mixed Models (GLMM)___\n",
    "------------------\n",
    "\n",
    "___Practiced using [UCLA material](https://stats.oarc.ucla.edu/other/mult-pkg/introduction-to-generalized-linear-mixed-models/)___"
   ]
  },
  {
   "cell_type": "code",
   "execution_count": 3,
   "id": "76efb7a7-8f1d-464b-89ad-4a74f1b32c68",
   "metadata": {
    "execution": {
     "iopub.execute_input": "2024-01-16T11:55:22.069901Z",
     "iopub.status.busy": "2024-01-16T11:55:22.069901Z",
     "iopub.status.idle": "2024-01-16T11:55:22.083089Z",
     "shell.execute_reply": "2024-01-16T11:55:22.083089Z",
     "shell.execute_reply.started": "2024-01-16T11:55:22.069901Z"
    }
   },
   "outputs": [],
   "source": [
    "# GLMMs are extension to Linear Mixel Models (LMMs) that accomodate variables from different distributions e.g. binary distribution\n",
    "# Or one could think of GLMMs as an extension to GLMs like linear regression that accomodate both fixed and random effects."
   ]
  },
  {
   "cell_type": "code",
   "execution_count": 4,
   "id": "b229a354-4df1-4784-9a60-61faae457324",
   "metadata": {
    "execution": {
     "iopub.execute_input": "2024-01-16T11:55:47.745558Z",
     "iopub.status.busy": "2024-01-16T11:55:47.745558Z",
     "iopub.status.idle": "2024-01-16T11:55:47.754664Z",
     "shell.execute_reply": "2024-01-16T11:55:47.754606Z",
     "shell.execute_reply.started": "2024-01-16T11:55:47.745558Z"
    }
   },
   "outputs": [],
   "source": [
    "# The general form of a model is "
   ]
  },
  {
   "cell_type": "markdown",
   "id": "83beb1f6-405f-4310-8ef2-6058889e6515",
   "metadata": {},
   "source": [
    "# ___$y = \\beta X + uZ + \\varepsilon$___"
   ]
  },
  {
   "cell_type": "code",
   "execution_count": 1,
   "id": "9700fbdd-9885-43f2-9353-42ea89c487c5",
   "metadata": {
    "execution": {
     "iopub.execute_input": "2024-01-18T10:18:57.620502Z",
     "iopub.status.busy": "2024-01-18T10:18:57.620502Z",
     "iopub.status.idle": "2024-01-18T10:18:57.626221Z",
     "shell.execute_reply": "2024-01-18T10:18:57.625565Z",
     "shell.execute_reply.started": "2024-01-18T10:18:57.620502Z"
    }
   },
   "outputs": [],
   "source": [
    "# where y is a N x 1 column vector (the outcome variable). (i.e in layman terms, a one dimensional array with N values)\n",
    "\n",
    "# X is a N x p matrix of p number of predictor variables (i.e a matrix with N rows and p columns)\n",
    "# beta is a p x 1 column vector of fixed effect regression coefficients (of the predictor variables, i.e a one dimensional array of N size)\n",
    "# the highlight here is that betas are FIXED EFFECT REGRESSION COEFFICIENTS, one coefficient for each column in X\n",
    "\n",
    "# Z is a N x q matrix of random effects, random complements to the FIXED EFFECTS X (N rows, q columns)\n",
    "# again, the highlight here is that thse are RANDOM EFFECTS\n",
    "# u is a q x 1 column vector of random effect coefficients, the random complements to the FIXED EFFECT betas.\n",
    "\n",
    "# epsilon is N x 1 column vector of residuals, THE PART OF Y THAT CANNOT BE EXPLAINED BY THE MODEL:"
   ]
  },
  {
   "cell_type": "markdown",
   "id": "2fe1bf1a-f8a5-4a05-b41b-4ebbd75f3618",
   "metadata": {},
   "source": [
    "# ___$y = \\beta X + uZ$___"
   ]
  },
  {
   "cell_type": "code",
   "execution_count": null,
   "id": "ec90637c-2b7a-4cce-b904-cf2d97aba86e",
   "metadata": {},
   "outputs": [],
   "source": [
    "# OR SIMPLY THE ERROR VALUES.\n",
    "\n",
    "# the dimensionality of the equation is as follows;"
   ]
  },
  {
   "cell_type": "markdown",
   "id": "d86a630c-a869-4322-9c1c-c3f0c2f1644e",
   "metadata": {},
   "source": [
    "## ___$\\overbrace{y}^{N \\times 1} = \\overbrace{\\underbrace{\\beta}_{p \\times 1}\\underbrace{Z}_{N \\times p}}^{N \\times 1} + \\overbrace{\\underbrace{u}_{q \\times 1} \\underbrace{Z}_{N \\times q}}^{N \\times 1} + \\overbrace{\\varepsilon}^{N \\times 1}$___"
   ]
  },
  {
   "cell_type": "code",
   "execution_count": null,
   "id": "5c8086c5-aed0-44dc-b7f5-12223e21c662",
   "metadata": {},
   "outputs": [],
   "source": []
  },
  {
   "cell_type": "code",
   "execution_count": 2,
   "id": "9aeaff10-d8f4-4fdf-82e3-2d4a78b4fef3",
   "metadata": {
    "execution": {
     "iopub.execute_input": "2024-01-21T02:01:35.911439Z",
     "iopub.status.busy": "2024-01-21T02:01:35.911439Z",
     "iopub.status.idle": "2024-01-21T02:01:35.915910Z",
     "shell.execute_reply": "2024-01-21T02:01:35.915910Z",
     "shell.execute_reply.started": "2024-01-21T02:01:35.911439Z"
    }
   },
   "outputs": [],
   "source": [
    "# let's comsider a synthesized data of 407 doctors (Q)\n",
    "# not all doctors see the same number of patients, number of patients seen by each doctor could vary between from just 2 to 40. \n",
    "# (this number is denoted as n_{i})\n",
    "# the average number of patients examined by a doctor is 21 (given)\n",
    "\n",
    "# following equation gives the total number of patients seen by all the doctors,"
   ]
  },
  {
   "cell_type": "markdown",
   "id": "a9b6c981-3f5f-46ab-b6d8-c6f599610e71",
   "metadata": {},
   "source": [
    "# ___$$N = \\sum_{i = 0}^{Q}{n_i}$$___"
   ]
  },
  {
   "cell_type": "markdown",
   "id": "c72ff989-a216-4e78-94d8-b89e4889c22d",
   "metadata": {},
   "source": [
    "___According to:___\n",
    "\n",
    "# ___$N = \\sum_{i = 0}^{Q}{n_i}$___"
   ]
  },
  {
   "cell_type": "code",
   "execution_count": 5,
   "id": "6676f34f-bf48-4a52-868a-bfcd255a57e8",
   "metadata": {
    "execution": {
     "iopub.execute_input": "2024-01-18T10:55:02.849460Z",
     "iopub.status.busy": "2024-01-18T10:55:02.849460Z",
     "iopub.status.idle": "2024-01-18T10:55:02.858482Z",
     "shell.execute_reply": "2024-01-18T10:55:02.858482Z",
     "shell.execute_reply.started": "2024-01-18T10:55:02.849460Z"
    }
   },
   "outputs": [
    {
     "data": {
      "text/plain": [
       "8547"
      ]
     },
     "execution_count": 5,
     "metadata": {},
     "output_type": "execute_result"
    }
   ],
   "source": [
    "avpatients = 21\n",
    "ndocs = 407\n",
    "\n",
    "# the total patients examined by 407 doctors:\n",
    "\n",
    "npatients = ndocs * avpatients\n",
    "npatients"
   ]
  },
  {
   "cell_type": "code",
   "execution_count": 8,
   "id": "3a5e7794-09a8-46f2-9862-d98463d3587f",
   "metadata": {
    "execution": {
     "iopub.execute_input": "2024-01-18T12:49:47.649863Z",
     "iopub.status.busy": "2024-01-18T12:49:47.649863Z",
     "iopub.status.idle": "2024-01-18T12:49:47.656682Z",
     "shell.execute_reply": "2024-01-18T12:49:47.656682Z",
     "shell.execute_reply.started": "2024-01-18T12:49:47.649863Z"
    }
   },
   "outputs": [],
   "source": [
    "# Context:\n",
    "\n",
    "# our outcome y, mobility scores is a continuous variable\n",
    "# we have 6 fixed effect predictors (FEP).\n",
    "\n",
    "# FEP0 - age in years\n",
    "# FEP1 - married (0/1)\n",
    "# FEP2 - sex (0 - f/ 1 - m)\n",
    "# FEP3 - RBC count\n",
    "# FEP4 - WBC count\n",
    "# FEI - a fixed effect intercept for every doctor\n",
    "\n",
    "# random effect predictors\n",
    "\n",
    "# REI - random intercept for every doctor"
   ]
  },
  {
   "cell_type": "code",
   "execution_count": 7,
   "id": "b46eea03-8fa8-4b49-8b7d-c187f2f4156c",
   "metadata": {
    "execution": {
     "iopub.execute_input": "2024-01-18T12:34:50.562542Z",
     "iopub.status.busy": "2024-01-18T12:34:50.562542Z",
     "iopub.status.idle": "2024-01-18T12:34:50.568281Z",
     "shell.execute_reply": "2024-01-18T12:34:50.568281Z",
     "shell.execute_reply.started": "2024-01-18T12:34:50.562542Z"
    }
   },
   "outputs": [],
   "source": [
    "# maybe GLMMs aren't that difficult :)"
   ]
  },
  {
   "cell_type": "code",
   "execution_count": null,
   "id": "6a1ff5ed-5a72-4409-974e-2c3403b85812",
   "metadata": {},
   "outputs": [],
   "source": []
  },
  {
   "cell_type": "code",
   "execution_count": null,
   "id": "3583ca41-ed69-4a7e-9dea-bd8e80ea83f5",
   "metadata": {},
   "outputs": [],
   "source": []
  },
  {
   "cell_type": "code",
   "execution_count": null,
   "id": "3a3b3e77-a20d-476c-81bd-b0fbc7b2e82f",
   "metadata": {},
   "outputs": [],
   "source": []
  },
  {
   "cell_type": "code",
   "execution_count": 9,
   "id": "9cd1b1bf-985c-4e12-b0f8-95eef7e5ced4",
   "metadata": {
    "execution": {
     "iopub.execute_input": "2024-01-18T14:59:12.251196Z",
     "iopub.status.busy": "2024-01-18T14:59:12.251196Z",
     "iopub.status.idle": "2024-01-18T14:59:12.267117Z",
     "shell.execute_reply": "2024-01-18T14:59:12.266110Z",
     "shell.execute_reply.started": "2024-01-18T14:59:12.251196Z"
    }
   },
   "outputs": [],
   "source": [
    "# The dataset contains 9358 instances of hourly averaged responses from an array of 5 metal oxide chemical sensors embedded in an\n",
    "# Air Quality Chemical Multisensor Device. The device was located on the field in a significantly polluted area, at road level, within an Italian city.\n",
    "# Data were recorded from March 2004 to February 2005 (one year) representing the longest freely available recordings of on field deployed air quality\n",
    "# chemical sensor devices responses. Ground Truth hourly averaged concentrations for CO, Non Metanic Hydrocarbons, Benzene, Total Nitrogen Oxides (NOx)\n",
    "# and Nitrogen Dioxide (NO2)  and were provided by a co-located reference certified analyzer. Evidences of cross-sensitivities as well as both concept \n",
    "# and sensor drifts are present as described in De Vito et al., Sens. And Act. B, Vol. 129,2,2008 (citation required) eventually affecting sensors \n",
    "# concentration estimation capabilities. Missing values are tagged with -200 value.\n",
    "\n",
    "# This dataset can be used exclusively for research purposes. Commercial purposes are fully excluded."
   ]
  },
  {
   "cell_type": "code",
   "execution_count": 22,
   "id": "8473c04a-18ed-4caf-9117-eddac09045f8",
   "metadata": {
    "execution": {
     "iopub.execute_input": "2024-01-21T02:31:00.502083Z",
     "iopub.status.busy": "2024-01-21T02:31:00.502083Z",
     "iopub.status.idle": "2024-01-21T02:31:00.525431Z",
     "shell.execute_reply": "2024-01-21T02:31:00.524388Z",
     "shell.execute_reply.started": "2024-01-21T02:31:00.502083Z"
    }
   },
   "outputs": [],
   "source": [
    "aqual = pd.read_csv(r\"./AirQualityUCI.csv\", sep = ';', parse_dates = True)"
   ]
  },
  {
   "cell_type": "code",
   "execution_count": 23,
   "id": "1e36186f-03a9-4f4e-98eb-19ccc6bfea5b",
   "metadata": {
    "execution": {
     "iopub.execute_input": "2024-01-21T02:31:00.996946Z",
     "iopub.status.busy": "2024-01-21T02:31:00.996946Z",
     "iopub.status.idle": "2024-01-21T02:31:01.006035Z",
     "shell.execute_reply": "2024-01-21T02:31:01.006035Z",
     "shell.execute_reply.started": "2024-01-21T02:31:00.996946Z"
    }
   },
   "outputs": [
    {
     "data": {
      "text/plain": [
       "0       10/03/2004 18.00.00\n",
       "1       10/03/2004 19.00.00\n",
       "2       10/03/2004 20.00.00\n",
       "3       10/03/2004 21.00.00\n",
       "4       10/03/2004 22.00.00\n",
       "               ...         \n",
       "9352    04/04/2005 10.00.00\n",
       "9353    04/04/2005 11.00.00\n",
       "9354    04/04/2005 12.00.00\n",
       "9355    04/04/2005 13.00.00\n",
       "9356    04/04/2005 14.00.00\n",
       "Length: 9357, dtype: object"
      ]
     },
     "execution_count": 23,
     "metadata": {},
     "output_type": "execute_result"
    }
   ],
   "source": [
    "aqual.Date + ' ' + aqual.Time"
   ]
  },
  {
   "cell_type": "code",
   "execution_count": 24,
   "id": "4b58e6e3-20b3-4abd-b3b4-824b35d95d01",
   "metadata": {
    "execution": {
     "iopub.execute_input": "2024-01-21T02:31:01.355067Z",
     "iopub.status.busy": "2024-01-21T02:31:01.355067Z",
     "iopub.status.idle": "2024-01-21T02:31:01.389790Z",
     "shell.execute_reply": "2024-01-21T02:31:01.389270Z",
     "shell.execute_reply.started": "2024-01-21T02:31:01.355067Z"
    }
   },
   "outputs": [
    {
     "data": {
      "text/plain": [
       "0      2004-03-10 18:00:00\n",
       "1      2004-03-10 19:00:00\n",
       "2      2004-03-10 20:00:00\n",
       "3      2004-03-10 21:00:00\n",
       "4      2004-03-10 22:00:00\n",
       "               ...        \n",
       "9352   2005-04-04 10:00:00\n",
       "9353   2005-04-04 11:00:00\n",
       "9354   2005-04-04 12:00:00\n",
       "9355   2005-04-04 13:00:00\n",
       "9356   2005-04-04 14:00:00\n",
       "Length: 9357, dtype: datetime64[ns]"
      ]
     },
     "execution_count": 24,
     "metadata": {},
     "output_type": "execute_result"
    }
   ],
   "source": [
    "pd.to_datetime(aqual.Date + ' ' + aqual.Time, format = \"%d/%m/%Y %H.%M.%S\", dayfirst = True)"
   ]
  },
  {
   "cell_type": "code",
   "execution_count": 25,
   "id": "b8015c9d-1b77-4563-9234-e8fe5f8e8594",
   "metadata": {
    "execution": {
     "iopub.execute_input": "2024-01-21T02:31:01.843876Z",
     "iopub.status.busy": "2024-01-21T02:31:01.843876Z",
     "iopub.status.idle": "2024-01-21T02:31:01.875720Z",
     "shell.execute_reply": "2024-01-21T02:31:01.874625Z",
     "shell.execute_reply.started": "2024-01-21T02:31:01.843876Z"
    }
   },
   "outputs": [],
   "source": [
    "aqual.Time = pd.to_datetime(aqual.Date + ' ' + aqual.Time, format = \"%d/%m/%Y %H.%M.%S\", dayfirst = True)\n",
    "aqual.drop(\"Date\", axis = 1, inplace = True)"
   ]
  },
  {
   "cell_type": "code",
   "execution_count": 28,
   "id": "aa295212-0aa2-4e0d-8928-19e3d18cde23",
   "metadata": {
    "execution": {
     "iopub.execute_input": "2024-01-21T02:31:11.387520Z",
     "iopub.status.busy": "2024-01-21T02:31:11.387520Z",
     "iopub.status.idle": "2024-01-21T02:31:11.396795Z",
     "shell.execute_reply": "2024-01-21T02:31:11.396684Z",
     "shell.execute_reply.started": "2024-01-21T02:31:11.387520Z"
    }
   },
   "outputs": [
    {
     "data": {
      "text/plain": [
       "0      2004-03-10 18:00:00\n",
       "1      2004-03-10 19:00:00\n",
       "2      2004-03-10 20:00:00\n",
       "3      2004-03-10 21:00:00\n",
       "4      2004-03-10 22:00:00\n",
       "               ...        \n",
       "9352   2005-04-04 10:00:00\n",
       "9353   2005-04-04 11:00:00\n",
       "9354   2005-04-04 12:00:00\n",
       "9355   2005-04-04 13:00:00\n",
       "9356   2005-04-04 14:00:00\n",
       "Name: Time, Length: 9357, dtype: datetime64[ns]"
      ]
     },
     "execution_count": 28,
     "metadata": {},
     "output_type": "execute_result"
    }
   ],
   "source": [
    "aqual.Time"
   ]
  },
  {
   "cell_type": "code",
   "execution_count": null,
   "id": "fe97eb14-132f-4407-9f76-84887428588d",
   "metadata": {},
   "outputs": [],
   "source": []
  }
 ],
 "metadata": {
  "kernelspec": {
   "display_name": "Python 3 (ipykernel)",
   "language": "python",
   "name": "python3"
  },
  "language_info": {
   "codemirror_mode": {
    "name": "ipython",
    "version": 3
   },
   "file_extension": ".py",
   "mimetype": "text/x-python",
   "name": "python",
   "nbconvert_exporter": "python",
   "pygments_lexer": "ipython3",
   "version": "3.11.7"
  }
 },
 "nbformat": 4,
 "nbformat_minor": 5
}
