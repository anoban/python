{
 "cells": [
  {
   "cell_type": "code",
   "execution_count": 1,
   "id": "e2ecd13a-3772-4a18-bb26-9faa21f40c60",
   "metadata": {
    "execution": {
     "iopub.execute_input": "2024-01-24T00:30:25.750712Z",
     "iopub.status.busy": "2024-01-24T00:30:25.749712Z",
     "iopub.status.idle": "2024-01-24T00:30:27.452552Z",
     "shell.execute_reply": "2024-01-24T00:30:27.451594Z",
     "shell.execute_reply.started": "2024-01-24T00:30:25.750712Z"
    }
   },
   "outputs": [],
   "source": [
    "import typing\n",
    "import numpy as np\n",
    "from numpy.typing import NDArray\n",
    "import pandas as pd\n",
    "import matplotlib.pyplot as plt"
   ]
  },
  {
   "cell_type": "code",
   "execution_count": 2,
   "id": "0f7f6062-d001-4d96-8f95-796452a325d1",
   "metadata": {
    "execution": {
     "iopub.execute_input": "2024-01-23T11:23:46.550128Z",
     "iopub.status.busy": "2024-01-23T11:23:46.550128Z",
     "iopub.status.idle": "2024-01-23T11:23:46.553594Z",
     "shell.execute_reply": "2024-01-23T11:23:46.553594Z",
     "shell.execute_reply.started": "2024-01-23T11:23:46.550128Z"
    }
   },
   "outputs": [],
   "source": [
    "# DNA-A primers\n",
    "\n",
    "# OY2395F 5'-GCTCCCTGAATGTTCGGATGGA-3'\n",
    "# OY680R 5'-GTTCTCRTCCATCCATATCTTAC-3'\n",
    "# MKBEGF4 5'-ATATCTGCAGGGNAARATHTGGATGGA-3'\n",
    "# MKBEGR5 5'-TGGACTGCAGACNGGNAARACNATGTGGGC-3'\n",
    "# GEMA1223F 5'-GTCGGAGGSTGTAAGGTCGTCCAG-3'\n",
    "# GEMA2454R 5'-CTCACWTAYCHCAARTGCTCTC-3'"
   ]
  },
  {
   "cell_type": "code",
   "execution_count": 4,
   "id": "54501370-c091-4804-9a3d-2e10e09096ce",
   "metadata": {
    "execution": {
     "iopub.execute_input": "2024-01-23T11:29:25.410319Z",
     "iopub.status.busy": "2024-01-23T11:29:25.410319Z",
     "iopub.status.idle": "2024-01-23T11:29:25.420227Z",
     "shell.execute_reply": "2024-01-23T11:29:25.420227Z",
     "shell.execute_reply.started": "2024-01-23T11:29:25.410319Z"
    }
   },
   "outputs": [],
   "source": [
    "primers = [\n",
    "           \"GCTCCCTGAATGTTCGGATGGA\",\n",
    "           \"GTTCTCRTCCATCCATATCTTAC\",\n",
    "           \"ATATCTGCAGGGNAARATHTGGATGGA\",\n",
    "           \"TGGACTGCAGACNGGNAARACNATGTGGGC\", \n",
    "           \"GTCGGAGGSTGTAAGGTCGTCCAG\",\n",
    "           \"CTCACWTAYCHCAARTGCTCTC\"\n",
    "           ]"
   ]
  },
  {
   "cell_type": "code",
   "execution_count": 27,
   "id": "bbd3552a-69da-4682-b511-39da833f1131",
   "metadata": {
    "execution": {
     "iopub.execute_input": "2024-01-23T04:07:09.054898Z",
     "iopub.status.busy": "2024-01-23T04:07:09.054898Z",
     "iopub.status.idle": "2024-01-23T04:07:09.065905Z",
     "shell.execute_reply": "2024-01-23T04:07:09.064932Z",
     "shell.execute_reply.started": "2024-01-23T04:07:09.054898Z"
    }
   },
   "outputs": [],
   "source": [
    "def unique(sequence: str) -> typing.List[str]:\n",
    "    \"\"\"\n",
    "    \n",
    "    \"\"\"\n",
    "    \n",
    "    bases: typing.List[str] = []\n",
    "    for base in sequence:\n",
    "        if base not in bases:\n",
    "            bases.append(base)\n",
    "    return bases"
   ]
  },
  {
   "cell_type": "code",
   "execution_count": 28,
   "id": "6b7cf08a-fe65-4e08-a838-cc2325bcfeb0",
   "metadata": {
    "execution": {
     "iopub.execute_input": "2024-01-23T04:07:09.558503Z",
     "iopub.status.busy": "2024-01-23T04:07:09.558503Z",
     "iopub.status.idle": "2024-01-23T04:07:09.575717Z",
     "shell.execute_reply": "2024-01-23T04:07:09.574711Z",
     "shell.execute_reply.started": "2024-01-23T04:07:09.558503Z"
    }
   },
   "outputs": [
    {
     "data": {
      "text/plain": [
       "['G', 'C', 'T', 'A', 'R', 'N', 'H', 'S', 'W', 'Y']"
      ]
     },
     "execution_count": 28,
     "metadata": {},
     "output_type": "execute_result"
    }
   ],
   "source": [
    "bases = []\n",
    "\n",
    "for primer in primers:\n",
    "    for base in primer:\n",
    "        if base not in bases:\n",
    "            bases.append(base)\n",
    "\n",
    "bases"
   ]
  },
  {
   "cell_type": "code",
   "execution_count": 6,
   "id": "66be9fe5-9b69-491d-9667-b9fb4dc1f502",
   "metadata": {
    "execution": {
     "iopub.execute_input": "2024-01-23T11:31:46.447323Z",
     "iopub.status.busy": "2024-01-23T11:31:46.447323Z",
     "iopub.status.idle": "2024-01-23T11:31:46.458999Z",
     "shell.execute_reply": "2024-01-23T11:31:46.458908Z",
     "shell.execute_reply.started": "2024-01-23T11:31:46.447323Z"
    }
   },
   "outputs": [],
   "source": [
    "def complement(sequence: str, reverse: bool = True) -> str:\n",
    "    \"\"\"\n",
    "    \n",
    "    \"\"\"\n",
    "\n",
    "    lookup : typing.Dict[str, str]= {'A': 'T', 'T': 'A', 'C': 'G', 'G': 'C', 'R': 'Y', 'Y': 'R', 'N': 'N', 'H': 'D', 'D': 'H', 'S': 'S', 'W': 'W'}\n",
    "    tmp : str = \"\"\n",
    "    if reverse:\n",
    "        for b in sequence[::-1]:\n",
    "            tmp += lookup.get(b, 'N')\n",
    "    else:\n",
    "        for b in sequence:\n",
    "            tmp += lookup.get(b, 'N')\n",
    "    \n",
    "    return tmp"
   ]
  },
  {
   "cell_type": "code",
   "execution_count": null,
   "id": "2a64f505-1422-4b0f-b6e9-1fcb9d13f4ff",
   "metadata": {},
   "outputs": [],
   "source": []
  },
  {
   "cell_type": "code",
   "execution_count": 7,
   "id": "f08f48ae-9442-4bec-a8dc-a54dca2dc9f5",
   "metadata": {
    "execution": {
     "iopub.execute_input": "2024-01-23T11:31:47.922347Z",
     "iopub.status.busy": "2024-01-23T11:31:47.922347Z",
     "iopub.status.idle": "2024-01-23T11:31:47.932702Z",
     "shell.execute_reply": "2024-01-23T11:31:47.932406Z",
     "shell.execute_reply.started": "2024-01-23T11:31:47.922347Z"
    }
   },
   "outputs": [
    {
     "name": "stdout",
     "output_type": "stream",
     "text": [
      "StarSX\n"
     ]
    },
    {
     "data": {
      "text/plain": [
       "'starsX'"
      ]
     },
     "execution_count": 7,
     "metadata": {},
     "output_type": "execute_result"
    }
   ],
   "source": [
    "x = \"starsX\"\n",
    "print(x.replace('s', 'S'))\n",
    "x"
   ]
  },
  {
   "cell_type": "code",
   "execution_count": 8,
   "id": "7b09649e-458a-48c8-894a-391adfc7cf04",
   "metadata": {
    "execution": {
     "iopub.execute_input": "2024-01-23T11:31:49.678989Z",
     "iopub.status.busy": "2024-01-23T11:31:49.678989Z",
     "iopub.status.idle": "2024-01-23T11:31:49.697005Z",
     "shell.execute_reply": "2024-01-23T11:31:49.697005Z",
     "shell.execute_reply.started": "2024-01-23T11:31:49.678989Z"
    }
   },
   "outputs": [
    {
     "data": {
      "text/plain": [
       "'nabona'"
      ]
     },
     "execution_count": 8,
     "metadata": {},
     "output_type": "execute_result"
    }
   ],
   "source": [
    "\"anoban\"[::-1]"
   ]
  },
  {
   "cell_type": "code",
   "execution_count": 11,
   "id": "35e9381a-6e10-4889-83c2-01355f23db38",
   "metadata": {
    "execution": {
     "iopub.execute_input": "2024-01-23T11:33:31.449886Z",
     "iopub.status.busy": "2024-01-23T11:33:31.449886Z",
     "iopub.status.idle": "2024-01-23T11:33:31.457906Z",
     "shell.execute_reply": "2024-01-23T11:33:31.457906Z",
     "shell.execute_reply.started": "2024-01-23T11:33:31.449886Z"
    }
   },
   "outputs": [
    {
     "data": {
      "text/plain": [
       "['CGAGGGACTTACAAGCCTACCT',\n",
       " 'CAAGAGYAGGTAGGTATAGAATG',\n",
       " 'TATAGACGTCCCNTTYTADACCTACCT',\n",
       " 'ACCTGACGTCTGNCCNTTYTGNTACACCCG',\n",
       " 'CAGCCTCCSACATTCCAGCAGGTC',\n",
       " 'GAGTGWATRGDGTTYACGAGAG']"
      ]
     },
     "execution_count": 11,
     "metadata": {},
     "output_type": "execute_result"
    }
   ],
   "source": [
    "[complement(primer, reverse = False) for primer in primers]"
   ]
  },
  {
   "cell_type": "code",
   "execution_count": 13,
   "id": "b28141d8-8be3-40fe-9243-21a5630b2aa0",
   "metadata": {
    "execution": {
     "iopub.execute_input": "2024-01-23T11:48:16.447975Z",
     "iopub.status.busy": "2024-01-23T11:48:16.447975Z",
     "iopub.status.idle": "2024-01-23T11:48:16.455182Z",
     "shell.execute_reply": "2024-01-23T11:48:16.455182Z",
     "shell.execute_reply.started": "2024-01-23T11:48:16.447975Z"
    }
   },
   "outputs": [
    {
     "data": {
      "text/plain": [
       "['TCCATCCGAACATTCAGGGAGC',\n",
       " 'GTAAGATATGGATGGAYGAGAAC',\n",
       " 'TCCATCCADATYTTNCCCTGCAGATAT',\n",
       " 'GCCCACATNGTYTTNCCNGTCTGCAGTCCA',\n",
       " 'CTGGACGACCTTACASCCTCCGAC',\n",
       " 'GAGAGCAYTTGDGRTAWGTGAG']"
      ]
     },
     "execution_count": 13,
     "metadata": {},
     "output_type": "execute_result"
    }
   ],
   "source": [
    "[complement(primer, reverse = True) for primer in primers]"
   ]
  },
  {
   "cell_type": "code",
   "execution_count": null,
   "id": "37812122-7e48-47b3-b89e-20f5a8dd68a0",
   "metadata": {},
   "outputs": [],
   "source": []
  },
  {
   "cell_type": "code",
   "execution_count": 15,
   "id": "591662d3-02bf-44dd-ad04-bc8468cb1b17",
   "metadata": {
    "execution": {
     "iopub.execute_input": "2024-01-23T11:49:15.262326Z",
     "iopub.status.busy": "2024-01-23T11:49:15.246679Z",
     "iopub.status.idle": "2024-01-23T11:49:15.265699Z",
     "shell.execute_reply": "2024-01-23T11:49:15.265699Z",
     "shell.execute_reply.started": "2024-01-23T11:49:15.262326Z"
    }
   },
   "outputs": [],
   "source": [
    "# Accession FJ515747 DNA-A of Bhendi yellow vein Delhi virus [2004:New Delhi] isolate OY131\n",
    "# length 2751 nucleotides.\n",
    "\n",
    "# >OY2395F \n",
    "# GCTCCCTGAATGTTCGGATGGA\n",
    "# \n",
    "# >OY680R-Reversed-Complement\n",
    "# GTAAGATATGGATGGAYGAGAAC\n",
    "# \n",
    "# >MKBEGF4\n",
    "# ATATCTGCAGGGNAARATHTGGATGGA\n",
    "# \n",
    "# >MKBEGR5-Reversed-Complement\n",
    "# GCCCACATNGTYTTNCCNGTCTGCAGTCCA\n",
    "# \n",
    "# >GEMA1223F \n",
    "# GTCGGAGGSTGTAAGGTCGTCCAG\n",
    "# \n",
    "# >GEMA2454R-Reversed-Complement\n",
    "# GAGAGCAYTTGDGRTAWGTGAG"
   ]
  },
  {
   "cell_type": "code",
   "execution_count": 17,
   "id": "6a5fc111-6675-47f4-b9eb-3f0250579f1c",
   "metadata": {
    "execution": {
     "iopub.execute_input": "2024-01-23T12:03:00.372078Z",
     "iopub.status.busy": "2024-01-23T12:03:00.372078Z",
     "iopub.status.idle": "2024-01-23T12:03:00.382765Z",
     "shell.execute_reply": "2024-01-23T12:03:00.382765Z",
     "shell.execute_reply.started": "2024-01-23T12:03:00.372078Z"
    }
   },
   "outputs": [],
   "source": [
    "# reverse primers are reversed and complemented to match the template strand\n",
    "\n",
    "# OY2395F = 2315 - 2336\n",
    "# OY680R = 637 - 659\n",
    "\n",
    "# MKBEGF4 = 635 - 652\n",
    "# MKBEGR5 = 1904 - 1933\n",
    "\n",
    "# GEMA1223F = 1227 - 1250\n",
    "# GEMA2454R = 2529 - 2550"
   ]
  },
  {
   "cell_type": "code",
   "execution_count": 7,
   "id": "ad341687-5cfc-47a1-bd28-ce9398e9f06e",
   "metadata": {
    "execution": {
     "iopub.execute_input": "2024-01-23T19:22:05.550440Z",
     "iopub.status.busy": "2024-01-23T19:22:05.550440Z",
     "iopub.status.idle": "2024-01-23T19:22:05.567430Z",
     "shell.execute_reply": "2024-01-23T19:22:05.566917Z",
     "shell.execute_reply.started": "2024-01-23T19:22:05.550440Z"
    }
   },
   "outputs": [
    {
     "data": {
      "text/html": [
       "<div>\n",
       "<style scoped>\n",
       "    .dataframe tbody tr th:only-of-type {\n",
       "        vertical-align: middle;\n",
       "    }\n",
       "\n",
       "    .dataframe tbody tr th {\n",
       "        vertical-align: top;\n",
       "    }\n",
       "\n",
       "    .dataframe thead th {\n",
       "        text-align: right;\n",
       "    }\n",
       "</style>\n",
       "<table border=\"1\" class=\"dataframe\">\n",
       "  <thead>\n",
       "    <tr style=\"text-align: right;\">\n",
       "      <th></th>\n",
       "      <th>OY2395F</th>\n",
       "      <th>OY680R</th>\n",
       "      <th>MKBEGF4</th>\n",
       "      <th>MKBEGR5</th>\n",
       "      <th>GEMA1223F</th>\n",
       "      <th>GEMA2454R</th>\n",
       "    </tr>\n",
       "  </thead>\n",
       "  <tbody>\n",
       "    <tr>\n",
       "      <th>Start</th>\n",
       "      <td>2315</td>\n",
       "      <td>637</td>\n",
       "      <td>635</td>\n",
       "      <td>1904</td>\n",
       "      <td>1227</td>\n",
       "      <td>2529</td>\n",
       "    </tr>\n",
       "    <tr>\n",
       "      <th>Stop</th>\n",
       "      <td>2336</td>\n",
       "      <td>659</td>\n",
       "      <td>652</td>\n",
       "      <td>1933</td>\n",
       "      <td>1250</td>\n",
       "      <td>2550</td>\n",
       "    </tr>\n",
       "  </tbody>\n",
       "</table>\n",
       "</div>"
      ],
      "text/plain": [
       "       OY2395F  OY680R  MKBEGF4  MKBEGR5  GEMA1223F  GEMA2454R\n",
       "Start     2315     637      635     1904       1227       2529\n",
       "Stop      2336     659      652     1933       1250       2550"
      ]
     },
     "execution_count": 7,
     "metadata": {},
     "output_type": "execute_result"
    }
   ],
   "source": [
    "# primer data\n",
    "\n",
    "primers_meta = {\n",
    "    \"OY2395F\": [2315, 2336],\n",
    "    \"OY680R\": [637, 659],\n",
    "    \"MKBEGF4\": [635, 652],\n",
    "    \"MKBEGR5\": [1904, 1933],\n",
    "    \"GEMA1223F\": [1227, 1250],\n",
    "    \"GEMA2454R\": [2529, 2550]\n",
    "}\n",
    "\n",
    "meta = pd.DataFrame(primers_meta, index = [\"Start\", \"Stop\"])\n",
    "meta"
   ]
  },
  {
   "cell_type": "code",
   "execution_count": 12,
   "id": "dfdf85c6-3dd6-4874-9807-85ef2dab651c",
   "metadata": {
    "execution": {
     "iopub.execute_input": "2024-01-23T19:27:33.050356Z",
     "iopub.status.busy": "2024-01-23T19:27:33.050356Z",
     "iopub.status.idle": "2024-01-23T19:27:33.058660Z",
     "shell.execute_reply": "2024-01-23T19:27:33.058660Z",
     "shell.execute_reply.started": "2024-01-23T19:27:33.050356Z"
    }
   },
   "outputs": [],
   "source": [
    "# length of DNA-A\n",
    "\n",
    "NNUCLEOTIDES = 2751"
   ]
  },
  {
   "cell_type": "code",
   "execution_count": 9,
   "id": "bc4796a7-5247-46e6-af12-e548345f34e6",
   "metadata": {
    "execution": {
     "iopub.execute_input": "2024-01-23T19:23:25.354773Z",
     "iopub.status.busy": "2024-01-23T19:23:25.354773Z",
     "iopub.status.idle": "2024-01-23T19:23:25.363259Z",
     "shell.execute_reply": "2024-01-23T19:23:25.363259Z",
     "shell.execute_reply.started": "2024-01-23T19:23:25.354773Z"
    }
   },
   "outputs": [
    {
     "data": {
      "text/plain": [
       "OY2395F      21\n",
       "OY680R       22\n",
       "MKBEGF4      17\n",
       "MKBEGR5      29\n",
       "GEMA1223F    23\n",
       "GEMA2454R    21\n",
       "dtype: int64"
      ]
     },
     "execution_count": 9,
     "metadata": {},
     "output_type": "execute_result"
    }
   ],
   "source": [
    "# primer lengths\n",
    "\n",
    "meta.loc[\"Stop\", :] - meta.loc[\"Start\", :]"
   ]
  },
  {
   "cell_type": "code",
   "execution_count": 18,
   "id": "ce50fab1-e8f2-4bc0-a2bf-f942836c5d09",
   "metadata": {
    "execution": {
     "iopub.execute_input": "2024-01-23T19:30:06.757583Z",
     "iopub.status.busy": "2024-01-23T19:30:06.757583Z",
     "iopub.status.idle": "2024-01-23T19:30:06.771607Z",
     "shell.execute_reply": "2024-01-23T19:30:06.771526Z",
     "shell.execute_reply.started": "2024-01-23T19:30:06.757583Z"
    }
   },
   "outputs": [],
   "source": [
    "# amplicon lengths\n",
    "\n",
    "amplicon_lengths = pd.Series([NNUCLEOTIDES - 2336 + 637, 1904 - 652, 2529 - 1250], index = [\"OY\", \"MKBEG\", \"GEMA\"], dtype = np.int64)"
   ]
  },
  {
   "cell_type": "code",
   "execution_count": 19,
   "id": "1a005df5-e873-4527-ada2-9e68f6922147",
   "metadata": {
    "execution": {
     "iopub.execute_input": "2024-01-23T19:30:07.930014Z",
     "iopub.status.busy": "2024-01-23T19:30:07.930014Z",
     "iopub.status.idle": "2024-01-23T19:30:07.939242Z",
     "shell.execute_reply": "2024-01-23T19:30:07.939242Z",
     "shell.execute_reply.started": "2024-01-23T19:30:07.930014Z"
    }
   },
   "outputs": [
    {
     "data": {
      "text/plain": [
       "OY       1052\n",
       "MKBEG    1252\n",
       "GEMA     1279\n",
       "dtype: int64"
      ]
     },
     "execution_count": 19,
     "metadata": {},
     "output_type": "execute_result"
    }
   ],
   "source": [
    "amplicon_lengths"
   ]
  },
  {
   "cell_type": "code",
   "execution_count": 20,
   "id": "c9ab73f1-aef2-49a3-ac06-38d39123a748",
   "metadata": {
    "execution": {
     "iopub.execute_input": "2024-01-23T19:30:09.740471Z",
     "iopub.status.busy": "2024-01-23T19:30:09.740471Z",
     "iopub.status.idle": "2024-01-23T19:30:09.746342Z",
     "shell.execute_reply": "2024-01-23T19:30:09.746342Z",
     "shell.execute_reply.started": "2024-01-23T19:30:09.740471Z"
    }
   },
   "outputs": [
    {
     "data": {
      "text/plain": [
       "OY       0.382406\n",
       "MKBEG    0.455107\n",
       "GEMA     0.464922\n",
       "dtype: float64"
      ]
     },
     "execution_count": 20,
     "metadata": {},
     "output_type": "execute_result"
    }
   ],
   "source": [
    "# nothing exceeds half :)\n",
    "\n",
    "amplicon_lengths / NNUCLEOTIDES"
   ]
  },
  {
   "cell_type": "code",
   "execution_count": 17,
   "id": "71c6d5c3-12e5-4b79-b389-6cb73e535a25",
   "metadata": {
    "execution": {
     "iopub.execute_input": "2024-01-23T19:29:51.392617Z",
     "iopub.status.busy": "2024-01-23T19:29:51.392617Z",
     "iopub.status.idle": "2024-01-23T19:29:51.412591Z",
     "shell.execute_reply": "2024-01-23T19:29:51.412077Z",
     "shell.execute_reply.started": "2024-01-23T19:29:51.392617Z"
    }
   },
   "outputs": [
    {
     "data": {
      "text/plain": [
       "3583"
      ]
     },
     "execution_count": 17,
     "metadata": {},
     "output_type": "execute_result"
    }
   ],
   "source": [
    "amplicon_lengths.sum()"
   ]
  },
  {
   "cell_type": "code",
   "execution_count": 10,
   "id": "b126bb27-3f98-49b6-be5a-089eb78bdb6c",
   "metadata": {
    "execution": {
     "iopub.execute_input": "2024-01-23T19:27:09.147150Z",
     "iopub.status.busy": "2024-01-23T19:27:09.147150Z",
     "iopub.status.idle": "2024-01-23T19:27:09.155246Z",
     "shell.execute_reply": "2024-01-23T19:27:09.155246Z",
     "shell.execute_reply.started": "2024-01-23T19:27:09.147150Z"
    }
   },
   "outputs": [
    {
     "data": {
      "text/plain": [
       "2.5132741228718345"
      ]
     },
     "execution_count": 10,
     "metadata": {},
     "output_type": "execute_result"
    }
   ],
   "source": [
    "SURFACE = np.pi * 2 * RADIUS\n",
    "SURFACE"
   ]
  },
  {
   "cell_type": "code",
   "execution_count": 136,
   "id": "2ef28846-8c64-40b0-8729-f2cafdf3887d",
   "metadata": {
    "execution": {
     "iopub.execute_input": "2024-01-23T13:00:10.746529Z",
     "iopub.status.busy": "2024-01-23T13:00:10.746529Z",
     "iopub.status.idle": "2024-01-23T13:00:10.764484Z",
     "shell.execute_reply": "2024-01-23T13:00:10.763967Z",
     "shell.execute_reply.started": "2024-01-23T13:00:10.746529Z"
    }
   },
   "outputs": [
    {
     "data": {
      "text/plain": [
       "0.0191852986478766"
      ]
     },
     "execution_count": 136,
     "metadata": {},
     "output_type": "execute_result"
    }
   ],
   "source": [
    "OY2395F_len / NNUCLEOTIDES * SURFACE"
   ]
  },
  {
   "cell_type": "code",
   "execution_count": null,
   "id": "81063e47-a780-4e91-a933-4545ab70d5fe",
   "metadata": {},
   "outputs": [],
   "source": []
  },
  {
   "cell_type": "code",
   "execution_count": 38,
   "id": "32616b6e-54e2-4c1e-a4f5-5b236d4fb654",
   "metadata": {
    "execution": {
     "iopub.execute_input": "2024-01-23T19:48:18.525904Z",
     "iopub.status.busy": "2024-01-23T19:48:18.525904Z",
     "iopub.status.idle": "2024-01-23T19:48:18.534651Z",
     "shell.execute_reply": "2024-01-23T19:48:18.534651Z",
     "shell.execute_reply.started": "2024-01-23T19:48:18.525904Z"
    }
   },
   "outputs": [],
   "source": [
    "def generate_coords(origin: typing.Tuple[float, float], radius: float, seq_length: int, start: int, fragment_length: int) -> typing.Tuple[NDArray[np.float64], NDArray[np.float64]]:\n",
    "    \"\"\"\n",
    "    \n",
    "    \n",
    "    \"\"\"    \n",
    "    assert (start >= 0) & (fragment_length <= seq_length) & (radius > 0.0) & (seq_length > 0) & (fragment_length > 0)\n",
    "    \n",
    "    NMARKERS_TOTAL: int = 2 * np.pi * radius * 1000     # this number of markers will demarcate the circumference\n",
    "    PROP_LEN: float = fragment_length / seq_length\n",
    "    NMARKERS_FRAGMENT: int = int(PROP_LEN * NMARKERS_TOTAL)  # number of markers the represent the fragment\n",
    "    QUARTER: float = start / seq_length\n",
    "    START_X: int = origin[0]\n",
    "    START_Y: int = origin[1] + radius\n",
    "\n",
    "    \n"
   ]
  },
  {
   "cell_type": "code",
   "execution_count": null,
   "id": "84794c8b-9e29-40b8-9454-b823236e9bc5",
   "metadata": {},
   "outputs": [],
   "source": []
  },
  {
   "cell_type": "code",
   "execution_count": 30,
   "id": "8f8c60ed-fc4d-44b5-91f2-c88187e629cc",
   "metadata": {
    "execution": {
     "iopub.execute_input": "2024-01-23T19:38:17.626378Z",
     "iopub.status.busy": "2024-01-23T19:38:17.626378Z",
     "iopub.status.idle": "2024-01-23T19:38:17.636054Z",
     "shell.execute_reply": "2024-01-23T19:38:17.635976Z",
     "shell.execute_reply.started": "2024-01-23T19:38:17.626378Z"
    }
   },
   "outputs": [],
   "source": [
    "generate_coords(origin = (0.5, 0.5), radius = 0.45, seq_length = 2751, start = 0, fragment_length = 21)"
   ]
  },
  {
   "cell_type": "code",
   "execution_count": null,
   "id": "a37163ae-306f-4d70-928c-c8474fd2ae2e",
   "metadata": {},
   "outputs": [],
   "source": []
  },
  {
   "cell_type": "code",
   "execution_count": 51,
   "id": "f55f9d51-b77a-402a-9d0c-05ce93997200",
   "metadata": {
    "execution": {
     "iopub.execute_input": "2024-01-23T20:07:17.951528Z",
     "iopub.status.busy": "2024-01-23T20:07:17.951528Z",
     "iopub.status.idle": "2024-01-23T20:07:17.963110Z",
     "shell.execute_reply": "2024-01-23T20:07:17.963110Z",
     "shell.execute_reply.started": "2024-01-23T20:07:17.951528Z"
    }
   },
   "outputs": [
    {
     "data": {
      "text/plain": [
       "687.75"
      ]
     },
     "execution_count": 51,
     "metadata": {},
     "output_type": "execute_result"
    }
   ],
   "source": [
    "NNUCLEOTIDES / 4"
   ]
  },
  {
   "cell_type": "code",
   "execution_count": 253,
   "id": "dc56e43a-ecd8-460d-82e3-1e41cfebe64b",
   "metadata": {
    "execution": {
     "iopub.execute_input": "2024-01-23T21:59:55.125155Z",
     "iopub.status.busy": "2024-01-23T21:59:55.125155Z",
     "iopub.status.idle": "2024-01-23T21:59:55.142400Z",
     "shell.execute_reply": "2024-01-23T21:59:55.142257Z",
     "shell.execute_reply.started": "2024-01-23T21:59:55.125155Z"
    }
   },
   "outputs": [
    {
     "data": {
      "text/plain": [
       "OY2395F      21\n",
       "MKBEGF4      17\n",
       "GEMA1223F    23\n",
       "dtype: int64"
      ]
     },
     "execution_count": 253,
     "metadata": {},
     "output_type": "execute_result"
    }
   ],
   "source": [
    "# lengths of start primers\n",
    "\n",
    "(meta.loc[\"Stop\", :] - meta.loc[\"Start\", :])[::2]"
   ]
  },
  {
   "cell_type": "code",
   "execution_count": null,
   "id": "f274c04c-878b-49ad-91c2-4a520df9b6e9",
   "metadata": {},
   "outputs": [],
   "source": []
  },
  {
   "cell_type": "code",
   "execution_count": 6,
   "id": "9d175740-f825-4cba-8ca2-eb13056fcf6a",
   "metadata": {
    "execution": {
     "iopub.execute_input": "2024-01-24T00:31:54.925022Z",
     "iopub.status.busy": "2024-01-24T00:31:54.925022Z",
     "iopub.status.idle": "2024-01-24T00:31:54.937690Z",
     "shell.execute_reply": "2024-01-24T00:31:54.937240Z",
     "shell.execute_reply.started": "2024-01-24T00:31:54.925022Z"
    }
   },
   "outputs": [],
   "source": [
    "# original circle coordinates\n",
    "\n",
    "RADIUS = 0.4000\n",
    "\n",
    "fq_x = np.linspace(start = 0.0, stop = RADIUS, num = 250) \n",
    "fq_y = np.sqrt((RADIUS * RADIUS) - np.square(fq_x)) + 0.5\n",
    "fq_x += 0.5\n",
    "\n",
    "sq_x = np.linspace(start = RADIUS, stop = 0.0, num = 250)\n",
    "sq_y = np.abs(np.sqrt((RADIUS * RADIUS) - np.square(sq_x)) - 0.5)\n",
    "sq_x += 0.5\n",
    "\n",
    "tq_x = np.linspace(start = RADIUS, stop = 0.0, num = 250)\n",
    "tq_y = np.flip(sq_y)\n",
    "tq_x += 0.1\n",
    "\n",
    "qq_x = np.linspace(start = 0.0, stop = RADIUS, num = 250)\n",
    "qq_y = np.flip(fq_y)\n",
    "qq_x += 0.1\n",
    "\n",
    "x, y = np.concatenate([fq_x, sq_x, tq_x, qq_x]), np.concatenate([fq_y, sq_y, tq_y, qq_y])"
   ]
  },
  {
   "cell_type": "code",
   "execution_count": null,
   "id": "5a2feb31-9245-4d92-968e-8a32b20a1361",
   "metadata": {},
   "outputs": [],
   "source": []
  },
  {
   "cell_type": "code",
   "execution_count": 78,
   "id": "f7dfab17-74ae-4a1d-a775-0da979c684a4",
   "metadata": {
    "execution": {
     "iopub.execute_input": "2024-01-24T00:50:48.587985Z",
     "iopub.status.busy": "2024-01-24T00:50:48.587985Z",
     "iopub.status.idle": "2024-01-24T00:50:48.605692Z",
     "shell.execute_reply": "2024-01-24T00:50:48.605692Z",
     "shell.execute_reply.started": "2024-01-24T00:50:48.587985Z"
    }
   },
   "outputs": [],
   "source": [
    "# outer circle coordinates\n",
    "\n",
    "_RADIUS = 0.4075\n",
    "_NUDGE = 0.40000 - _RADIUS\n",
    "\n",
    "_fq_x = np.linspace(start = 0.0, stop = _RADIUS, num = 250) \n",
    "_fq_y = np.sqrt((_RADIUS * _RADIUS) - np.square(_fq_x)) + 0.5\n",
    "_fq_x += 0.5\n",
    "\n",
    "_sq_x = np.linspace(start = _RADIUS, stop = 0.0, num = 250)\n",
    "_sq_y = np.abs(np.sqrt((_RADIUS * _RADIUS) - np.square(_sq_x)) - 0.5)\n",
    "_sq_x += 0.5\n",
    "\n",
    "_tq_x = np.linspace(start = _RADIUS, stop = _NUDGE, num = 250)\n",
    "_tq_y = np.flip(_sq_y)\n",
    "_tq_x += 0.0975\n",
    "\n",
    "_qq_x = np.linspace(start = _NUDGE, stop = _RADIUS, num = 250)\n",
    "_qq_y = np.flip(_fq_y)\n",
    "_qq_x += 0.0975\n",
    "\n",
    "_x, _y = np.concatenate([_fq_x, _sq_x, _tq_x, _qq_x]), np.concatenate([_fq_y, _sq_y, _tq_y, _qq_y])"
   ]
  },
  {
   "cell_type": "code",
   "execution_count": null,
   "id": "a75a4262-4bfd-4bad-9d05-dada970802d1",
   "metadata": {},
   "outputs": [],
   "source": []
  },
  {
   "cell_type": "code",
   "execution_count": 74,
   "id": "95f64e96-37d3-4143-a5d7-331df5a5b21e",
   "metadata": {
    "execution": {
     "iopub.execute_input": "2024-01-24T00:50:05.452354Z",
     "iopub.status.busy": "2024-01-24T00:50:05.452354Z",
     "iopub.status.idle": "2024-01-24T00:50:05.464643Z",
     "shell.execute_reply": "2024-01-24T00:50:05.464643Z",
     "shell.execute_reply.started": "2024-01-24T00:50:05.452354Z"
    }
   },
   "outputs": [],
   "source": [
    "# inner circle coordinates\n",
    "\n",
    "RADIUS_ = 0.3925\n",
    "NUDGE_ = 0.4000 - RADIUS_\n",
    "\n",
    "fq_x_ = np.linspace(start = 0.0, stop = RADIUS_, num = 250) \n",
    "fq_y_ = np.sqrt((RADIUS_ * RADIUS_) - np.square(fq_x_)) + 0.5\n",
    "fq_x_ += 0.5\n",
    "\n",
    "sq_x_ = np.linspace(start = RADIUS_, stop = 0.0, num = 250)\n",
    "sq_y_ = np.abs(np.sqrt((RADIUS_ * RADIUS_) - np.square(sq_x_)) - 0.5)\n",
    "sq_x_ += 0.5\n",
    "\n",
    "tq_x_ = np.linspace(start = RADIUS_, stop = NUDGE_, num = 250)\n",
    "tq_y_ = np.flip(sq_y_)\n",
    "tq_x_ += 0.1025\n",
    "\n",
    "qq_x_ = np.linspace(start = NUDGE_, stop = RADIUS_, num = 250)\n",
    "qq_y_ = np.flip(fq_y_)\n",
    "qq_x_ += 0.1025\n",
    "\n",
    "x_, y_ = np.concatenate([fq_x_, sq_x_, tq_x_, qq_x_]), np.concatenate([fq_y_, sq_y_, tq_y_, qq_y_])"
   ]
  },
  {
   "cell_type": "code",
   "execution_count": null,
   "id": "e8c24570-3258-4d20-a4f9-4ada44d30331",
   "metadata": {},
   "outputs": [],
   "source": []
  },
  {
   "cell_type": "code",
   "execution_count": 148,
   "id": "0fcc93f9-54ea-4fd3-aa04-98f44ff2ae9e",
   "metadata": {
    "execution": {
     "iopub.execute_input": "2024-01-24T01:17:25.602716Z",
     "iopub.status.busy": "2024-01-24T01:17:25.602716Z",
     "iopub.status.idle": "2024-01-24T01:17:25.614080Z",
     "shell.execute_reply": "2024-01-24T01:17:25.613030Z",
     "shell.execute_reply.started": "2024-01-24T01:17:25.602716Z"
    }
   },
   "outputs": [],
   "source": [
    "# second outer layer (outermost)\n",
    "\n",
    "__RADIUS = 0.4175\n",
    "__NUDGE = 0.40000 - __RADIUS\n",
    "\n",
    "__fq_x = np.linspace(start = 0.0, stop = __RADIUS, num = 250) \n",
    "__fq_y = np.sqrt((__RADIUS * __RADIUS) - np.square(__fq_x)) + 0.5\n",
    "__fq_x += 0.5\n",
    "\n",
    "__sq_x = np.linspace(start = __RADIUS, stop = 0.0, num = 250)\n",
    "__sq_y = np.abs(np.sqrt((__RADIUS * __RADIUS) - np.square(__sq_x)) - 0.5)\n",
    "__sq_x += 0.5\n",
    "\n",
    "__tq_x = np.linspace(start = __RADIUS, stop = _NUDGE, num = 250)\n",
    "__tq_y = np.flip(__sq_y)\n",
    "__tq_x += 0.0875\n",
    "\n",
    "__qq_x = np.linspace(start = _NUDGE, stop = __RADIUS, num = 250)\n",
    "__qq_y = np.flip(__fq_y)\n",
    "__qq_x += 0.0875\n",
    "\n",
    "__x, __y = np.concatenate([__fq_x, __sq_x, __tq_x, __qq_x]), np.concatenate([__fq_y, __sq_y, __tq_y, __qq_y])"
   ]
  },
  {
   "cell_type": "code",
   "execution_count": null,
   "id": "a154fd7f-d8c7-4210-979d-bf8f6fc9d3b0",
   "metadata": {},
   "outputs": [],
   "source": []
  },
  {
   "cell_type": "code",
   "execution_count": 149,
   "id": "73ce84a5-f2bf-414a-8928-126254156bda",
   "metadata": {
    "execution": {
     "iopub.execute_input": "2024-01-24T01:17:27.886962Z",
     "iopub.status.busy": "2024-01-24T01:17:27.886962Z",
     "iopub.status.idle": "2024-01-24T01:17:28.019181Z",
     "shell.execute_reply": "2024-01-24T01:17:28.019181Z",
     "shell.execute_reply.started": "2024-01-24T01:17:27.886962Z"
    }
   },
   "outputs": [
    {
     "data": {
      "image/png": "[encoded data removed]",
      "text/plain": [
       "<Figure size 1000x1000 with 1 Axes>"
      ]
     },
     "metadata": {},
     "output_type": "display_data"
    }
   ],
   "source": [
    "# woohooo :))))\n",
    "\n",
    "fig, axes = plt.subplots()\n",
    "fig.set_size_inches(10, 10)\n",
    "axes.plot(x, y, color = \"red\")\n",
    "axes.plot(x_, y_, color = \"blue\")\n",
    "axes.plot(_x, _y, color = \"orange\")\n",
    "axes.plot(__x, __y, color = \"purple\")\n",
    "plt.show()"
   ]
  },
  {
   "cell_type": "code",
   "execution_count": null,
   "id": "0449885d-ebe8-495b-b2a8-95fbe2879a8d",
   "metadata": {},
   "outputs": [],
   "source": []
  },
  {
   "cell_type": "code",
   "execution_count": null,
   "id": "072454bd-2b44-4226-9b40-5a225b9db7d8",
   "metadata": {},
   "outputs": [],
   "source": []
  },
  {
   "cell_type": "code",
   "execution_count": 241,
   "id": "c8a78534-5378-461a-b05b-32ce8d4da0ca",
   "metadata": {
    "execution": {
     "iopub.execute_input": "2024-01-24T02:06:44.868297Z",
     "iopub.status.busy": "2024-01-24T02:06:44.868297Z",
     "iopub.status.idle": "2024-01-24T02:06:45.273595Z",
     "shell.execute_reply": "2024-01-24T02:06:45.273595Z",
     "shell.execute_reply.started": "2024-01-24T02:06:44.868297Z"
    }
   },
   "outputs": [
    {
     "data": {
      "image/png": "[encoded data removed]",
      "text/plain": [
       "<Figure size 800x800 with 1 Axes>"
      ]
     },
     "metadata": {},
     "output_type": "display_data"
    }
   ],
   "source": [
    "# there are some places that could use some improvements but I'm more than happy with this :)\n",
    "\n",
    "# starting the drawings with the OY2395F primer\n",
    "\n",
    "fig, axes = plt.subplots()\n",
    "fig.set_size_inches(8, 8)\n",
    "axes.set_xticks([])\n",
    "axes.set_yticks([])\n",
    "\n",
    "NBASES = 2751\n",
    "UNIT_MARKERS = x.size / NBASES\n",
    "plt.rcParams[\"lines.linewidth\"] = 4\n",
    "plt.rcParams[\"font.size\"] = 10\n",
    "\n",
    "circle = plt.Circle((0.5, 0.5), radius = RADIUS, facecolor = \"none\", edgecolor = \"black\", label = \"SLCMV DNA-A\")\n",
    "axes.add_patch(circle)\n",
    "\n",
    "axes.plot(x[0:int(21 * UNIT_MARKERS)] + 0.0075,\n",
    "          y[0:int(21 * UNIT_MARKERS)] + 0.0075, color = \"#FF0000\", label = \"OY2395F\")\n",
    "axes.plot(x[int(1073 * UNIT_MARKERS):int((1073 + 22) * UNIT_MARKERS)] + 0.0075,\n",
    "          y[int(1073 * UNIT_MARKERS):int((1073 + 22) * UNIT_MARKERS)] - 0.0075, color = \"#FF0000\", label = \"OY680R\")\n",
    "axes.plot(_x[int(45 * UNIT_MARKERS):int((1055) * UNIT_MARKERS)],\n",
    "          _y[int(45 * UNIT_MARKERS):int((1055) * UNIT_MARKERS)], color = \"#852791\")\n",
    "axes.text(_x[980], _y[980] - 0.025, s = \"OY2395F\", color = \"black\", fontfamily = \"sans-serif\")\n",
    "axes.text(_x[400], _y[400] - 0.025, s = \"OY680R\", color = \"black\", fontfamily = \"sans-serif\")\n",
    "\n",
    "\n",
    "\n",
    "axes.plot(x[int(1071 * UNIT_MARKERS):int((1073 + 17) * UNIT_MARKERS)] + 0.0075,\n",
    "          y[int(1071 * UNIT_MARKERS):int((1073 + 17) * UNIT_MARKERS)] + 0.0125, color = \"#00FF00\", label = \"MKBEGF4\")\n",
    "axes.plot(x[int(2323 * UNIT_MARKERS):int((2323 + 29) * UNIT_MARKERS)] - 0.0075,\n",
    "          y[int(2323 * UNIT_MARKERS):int((2323 + 29) * UNIT_MARKERS)] - 0.015, color = \"#00FF00\", label = \"MKBEGR5\")\n",
    "axes.plot(x_[int(1088 * UNIT_MARKERS):int(2290 * UNIT_MARKERS)], \n",
    "          y_[int(1088 * UNIT_MARKERS):int(2290 * UNIT_MARKERS)], color = \"#FFE300\")\n",
    "axes.text(x_[400] - 0.045, y_[400] + 0.025, s = \"MKBEGF4\", color = \"black\", fontfamily = \"sans-serif\")\n",
    "axes.text(x_[830] + 0.025, y_[830], s = \"MKBEGR5\", color = \"black\", fontfamily = \"sans-serif\")\n",
    "\n",
    "\n",
    "\n",
    "axes.plot(x[int(1663 * UNIT_MARKERS):int((1663 + 23) * UNIT_MARKERS)] + 0.0075,\n",
    "          y[int(1663 * UNIT_MARKERS):int((1663 + 23) * UNIT_MARKERS)] - 0.025, color = \"#FF00FF\", label = \"GEMA1223F\")\n",
    "axes.plot(x[int(214 * UNIT_MARKERS):int((214 + 21) * UNIT_MARKERS)] + 0.0075,\n",
    "          y[int(214 * UNIT_MARKERS):int((214 + 21) * UNIT_MARKERS)] + 0.0175, color = \"#FF00FF\", label = \"GEMA2454R\")\n",
    "axes.plot(__x[int(1676 * UNIT_MARKERS):int(NBASES * UNIT_MARKERS)],\n",
    "          __y[int(1676 * UNIT_MARKERS):int(NBASES * UNIT_MARKERS)], color = \"blue\")\n",
    "axes.plot(__x[0:73], __y[0:73], color = \"blue\")\n",
    "axes.text(__x[595], __y[595] - 0.025, s = \"GEMA1223F\", color = \"black\", fontfamily = \"sans-serif\")\n",
    "axes.text(__x[80], __y[80] + 0.0075, s = \"GEMA2454R\", color = \"black\", fontfamily = \"sans-serif\")\n",
    "\n",
    "# axes.legend()\n",
    "# axes.set_title(\"$DNA-A\\hspace{1}of\\hspace{1}SLCMV$\")\n",
    "plt.tight_layout()\n",
    "# plt.show()\n",
    "\n",
    "plt.savefig(\"./primers.png\", format = \"png\", dpi = 300, edgecolor = \"none\", pad_inches = 0, bbox_inches = \"tight\")"
   ]
  },
  {
   "cell_type": "code",
   "execution_count": 239,
   "id": "eafb098e-cf1d-4452-a6ea-871cd6da787d",
   "metadata": {
    "execution": {
     "iopub.execute_input": "2024-01-23T21:50:17.904380Z",
     "iopub.status.busy": "2024-01-23T21:50:17.904380Z",
     "iopub.status.idle": "2024-01-23T21:50:17.909546Z",
     "shell.execute_reply": "2024-01-23T21:50:17.909024Z",
     "shell.execute_reply.started": "2024-01-23T21:50:17.904380Z"
    }
   },
   "outputs": [
    {
     "data": {
      "text/plain": [
       "0.3635041802980734"
      ]
     },
     "execution_count": 239,
     "metadata": {},
     "output_type": "execute_result"
    }
   ],
   "source": [
    "UNIT_MARKERS"
   ]
  },
  {
   "cell_type": "code",
   "execution_count": 115,
   "id": "6dc70811-7f7e-4304-9d62-8eda8906392d",
   "metadata": {
    "execution": {
     "iopub.execute_input": "2024-01-23T12:52:28.873416Z",
     "iopub.status.busy": "2024-01-23T12:52:28.857944Z",
     "iopub.status.idle": "2024-01-23T12:52:28.877623Z",
     "shell.execute_reply": "2024-01-23T12:52:28.877623Z",
     "shell.execute_reply.started": "2024-01-23T12:52:28.873416Z"
    }
   },
   "outputs": [
    {
     "data": {
      "text/plain": [
       "array([0.9       , 0.89997959, 0.89991837, 0.8998163 , 0.89967337,\n",
       "       0.89948952, 0.89926471, 0.89899885, 0.89869187, 0.89834368,\n",
       "       0.89795416, 0.8975232 , 0.89705065, 0.89653638, 0.89598021,\n",
       "       0.89538197, 0.89474148, 0.89405852, 0.89333287, 0.89256429,\n",
       "       0.89175254, 0.89089735, 0.88999842, 0.88905545, 0.88806814,\n",
       "       0.88703612, 0.88595905, 0.88483655, 0.88366822, 0.88245364,\n",
       "       0.88119237, 0.87988394, 0.87852786, 0.87712362, 0.87567068,\n",
       "       0.87416847, 0.87261639, 0.87101383, 0.86936012, 0.86765457,\n",
       "       0.86589646, 0.86408502, 0.86221946, 0.86029894, 0.85832257,\n",
       "       0.85628942, 0.85419851, 0.85204882, 0.84983927, 0.8475687 ,\n",
       "       0.84523592, 0.84283965, 0.84037856, 0.83785123, 0.83525616,\n",
       "       0.83259177, 0.82985637, 0.82704818, 0.82416532, 0.82120577,\n",
       "       0.81816739, 0.8150479 , 0.81184486, 0.80855569, 0.80517758,\n",
       "       0.80170755, 0.7981424 , 0.79447866, 0.79071262, 0.78684023,\n",
       "       0.78285714, 0.7787586 , 0.77453943, 0.770194  , 0.76571609,\n",
       "       0.7610989 , 0.7563349 , 0.75141574, 0.74633214, 0.74107368,\n",
       "       0.73562866, 0.72998383, 0.72412409, 0.71803212, 0.71168787,\n",
       "       0.70506792, 0.69814464, 0.69088504, 0.68324914, 0.67518774,\n",
       "       0.66663912, 0.65752395, 0.64773742, 0.63713586, 0.62551293,\n",
       "       0.61255263, 0.59772434, 0.57999592, 0.55670977, 0.5       ])"
      ]
     },
     "execution_count": 115,
     "metadata": {},
     "output_type": "execute_result"
    }
   ],
   "source": [
    "y_0"
   ]
  }
 ],
 "metadata": {
  "kernelspec": {
   "display_name": "Python 3 (ipykernel)",
   "language": "python",
   "name": "python3"
  },
  "language_info": {
   "codemirror_mode": {
    "name": "ipython",
    "version": 3
   },
   "file_extension": ".py",
   "mimetype": "text/x-python",
   "name": "python",
   "nbconvert_exporter": "python",
   "pygments_lexer": "ipython3",
   "version": "3.11.7"
  }
 },
 "nbformat": 4,
 "nbformat_minor": 5
}
