{
 "cells": [
  {
   "cell_type": "code",
   "execution_count": 3,
   "id": "0d7c8e9c-ad9f-4f2d-bcd4-a14b27fd8f57",
   "metadata": {
    "execution": {
     "iopub.execute_input": "2023-09-22T09:39:06.805355Z",
     "iopub.status.busy": "2023-09-22T09:39:06.805355Z",
     "iopub.status.idle": "2023-09-22T09:39:06.813229Z",
     "shell.execute_reply": "2023-09-22T09:39:06.813229Z",
     "shell.execute_reply.started": "2023-09-22T09:39:06.805355Z"
    }
   },
   "outputs": [],
   "source": [
    "import os\n",
    "from itertools import combinations\n",
    "\n",
    "import numpy as np\n",
    "import pandas as pd\n",
    "import matplotlib.pyplot as plt\n",
    "\n",
    "from bs4 import BeautifulSoup"
   ]
  },
  {
   "cell_type": "code",
   "execution_count": 42,
   "id": "e9377e03-48af-41c4-a9a8-d1a815275333",
   "metadata": {
    "execution": {
     "iopub.execute_input": "2023-09-19T14:55:43.061844Z",
     "iopub.status.busy": "2023-09-19T14:55:43.061844Z",
     "iopub.status.idle": "2023-09-19T14:55:43.066423Z",
     "shell.execute_reply": "2023-09-19T14:55:43.066423Z",
     "shell.execute_reply.started": "2023-09-19T14:55:43.061844Z"
    }
   },
   "outputs": [],
   "source": [
    "# https://ictv.global/report/chapter/geminiviridae/geminiviridae/begomovirus"
   ]
  },
  {
   "cell_type": "code",
   "execution_count": null,
   "id": "47d1d8f5-d554-4d2b-a6b7-431954a14f8b",
   "metadata": {},
   "outputs": [],
   "source": [
    "# CDS -> Codon DNA Segments."
   ]
  },
  {
   "cell_type": "code",
   "execution_count": null,
   "id": "c0b39f25-a710-48cf-a48f-39ace77dd6d2",
   "metadata": {
    "execution": {
     "iopub.execute_input": "2023-09-19T15:07:35.727403Z",
     "iopub.status.busy": "2023-09-19T15:07:35.727403Z",
     "iopub.status.idle": "2023-09-19T15:07:35.739449Z",
     "shell.execute_reply": "2023-09-19T15:07:35.739289Z",
     "shell.execute_reply.started": "2023-09-19T15:07:35.727403Z"
    }
   },
   "outputs": [],
   "source": [
    "# HTML parsing logic."
   ]
  },
  {
   "cell_type": "code",
   "execution_count": null,
   "id": "50292f6d-fe75-4397-a599-71b160c8cf3c",
   "metadata": {
    "execution": {
     "iopub.execute_input": "2023-09-19T15:24:25.886737Z",
     "iopub.status.busy": "2023-09-19T15:24:25.886737Z",
     "iopub.status.idle": "2023-09-19T15:24:26.015515Z",
     "shell.execute_reply": "2023-09-19T15:24:26.015515Z",
     "shell.execute_reply.started": "2023-09-19T15:24:25.886737Z"
    }
   },
   "outputs": [],
   "source": [
    "# Copy pasted the HTML manually from Firefox. Fuck lazy loads.\n",
    "\n",
    "with open(\"./data/Genus Begomovirus ICTV.html\", mode = \"r\", encoding = \"utf8\") as html:\n",
    "    content = html.read()\n",
    "    soup = BeautifulSoup(content, \"html.parser\")\n",
    "\n",
    "table = soup.find_all(\"table\", attrs = {\"class\" : \"virus-isolates-table\"})[0]\n",
    "\n",
    "headers = [th.text for th in table.find_all(\"th\")]\n",
    "headers\n",
    "\n",
    "table_dict = {\n",
    "    \"Species\": [],\n",
    "    \"Virus name\": [],\n",
    "    \"Isolate\": [],\n",
    "    \"Accession\": [],\n",
    "    \"Available sequence\": [],\n",
    "    \"Abbrev\":[]\n",
    "}\n",
    "\n",
    "# Except for the row with table headers, there seems to be two kinds of table rows.\n",
    "# 1) <tr class=\"virus-row\">\n",
    "# 2) <tr class=\"alt-virus-row\">\n",
    "\n",
    "counter = 0\n",
    "for tr in table.find_all(\"tr\"):\n",
    "    if counter == 0:\n",
    "        counter += 1\n",
    "        continue\n",
    "    else:\n",
    "        table_dict[\"Species\"].append(tr.find(\"td\", attrs = {\"class\": \"col-species\"}).text)\n",
    "        table_dict[\"Virus name\"].append(tr.find(\"td\", attrs = {\"class\": \"col-alternativeNameCSV\"}).text)\n",
    "        table_dict[\"Isolate\"].append(tr.find(\"td\", attrs = {\"class\": \"col-isolate\"}).text)\n",
    "        table_dict[\"Accession\"].append(tr.find(\"td\", attrs = {\"class\": \"col-accessionNumber\"}).text)\n",
    "        table_dict[\"Available sequence\"].append(tr.find(\"td\", attrs = {\"class\": \"col-availableSequence\"}).text)\n",
    "        table_dict[\"Abbrev\"].append(tr.find(\"td\", attrs = {\"class\": \"col-abbrev\"}).text)\n",
    "        counter += 1\n",
    "\n",
    "begomovirus = pd.DataFrame(table_dict)\n",
    "begomovirus.to_csv(\"./data/begomovirus_ictv.csv\", sep = ',', header = True, index = False, mode = \"w\")"
   ]
  },
  {
   "cell_type": "code",
   "execution_count": 113,
   "id": "7dd7aff2-0fab-4991-b91c-c0282c3b8739",
   "metadata": {
    "execution": {
     "iopub.execute_input": "2023-09-19T15:25:31.943879Z",
     "iopub.status.busy": "2023-09-19T15:25:31.943879Z",
     "iopub.status.idle": "2023-09-19T15:25:31.948301Z",
     "shell.execute_reply": "2023-09-19T15:25:31.948301Z",
     "shell.execute_reply.started": "2023-09-19T15:25:31.943879Z"
    }
   },
   "outputs": [],
   "source": []
  },
  {
   "cell_type": "code",
   "execution_count": null,
   "id": "e3ffddd4-4201-4e96-983c-05d06172d1ad",
   "metadata": {},
   "outputs": [],
   "source": [
    "# Cassava associated viruses - filtering logic."
   ]
  },
  {
   "cell_type": "code",
   "execution_count": null,
   "id": "17d52317-bc0d-4de3-bc15-1bf84d1c4f1a",
   "metadata": {
    "execution": {
     "iopub.execute_input": "2023-09-19T15:39:59.819724Z",
     "iopub.status.busy": "2023-09-19T15:39:59.819724Z",
     "iopub.status.idle": "2023-09-19T15:39:59.835125Z",
     "shell.execute_reply": "2023-09-19T15:39:59.835125Z",
     "shell.execute_reply.started": "2023-09-19T15:39:59.819724Z"
    }
   },
   "outputs": [],
   "source": [
    "ictv_begomo = pd.read_csv(\"./data/begomovirus_ictv.csv\")\n",
    "ind = np.array([True if \"cassava\" in name.lower() else False for name in ictv_begomo[\"Virus name\"].values])\n",
    "ictv_begomo.loc[ind, :].to_csv(\"./data/cassava_filtered.csv\", sep = ',', header = True, index = False, mode = \"w\")"
   ]
  },
  {
   "cell_type": "code",
   "execution_count": 18,
   "id": "e478dcbc-ec7d-4fdb-a6a8-05b7477bac72",
   "metadata": {
    "execution": {
     "iopub.execute_input": "2023-09-19T15:41:43.232996Z",
     "iopub.status.busy": "2023-09-19T15:41:43.232996Z",
     "iopub.status.idle": "2023-09-19T15:41:43.255375Z",
     "shell.execute_reply": "2023-09-19T15:41:43.254359Z",
     "shell.execute_reply.started": "2023-09-19T15:41:43.232996Z"
    }
   },
   "outputs": [],
   "source": []
  },
  {
   "cell_type": "code",
   "execution_count": 3,
   "id": "0c190a70-fb5a-42b9-98c9-d61785a4a824",
   "metadata": {
    "execution": {
     "iopub.execute_input": "2023-09-20T09:11:23.517545Z",
     "iopub.status.busy": "2023-09-20T09:11:23.514957Z",
     "iopub.status.idle": "2023-09-20T09:11:23.523325Z",
     "shell.execute_reply": "2023-09-20T09:11:23.522712Z",
     "shell.execute_reply.started": "2023-09-20T09:11:23.517545Z"
    }
   },
   "outputs": [],
   "source": [
    "# https://www.ncbi.nlm.nih.gov/sviewer/viewer.cgi?tool=portal&save=file&log$=seqview&db=nuccore&report=fasta&id=89330928&conwithfeat=on&withparts=on&show-sequence=on&hide-cdd=on&ncbi_phid=CE8AC93650A0D641000000000A89088C"
   ]
  },
  {
   "cell_type": "code",
   "execution_count": null,
   "id": "d511842f-3d67-47cc-bc63-4b3b4e742e29",
   "metadata": {},
   "outputs": [],
   "source": []
  },
  {
   "cell_type": "code",
   "execution_count": 7,
   "id": "274a34db-352c-4d63-b6c5-822b40fa9219",
   "metadata": {
    "execution": {
     "iopub.execute_input": "2023-09-22T09:44:35.110235Z",
     "iopub.status.busy": "2023-09-22T09:44:35.110235Z",
     "iopub.status.idle": "2023-09-22T09:44:35.124678Z",
     "shell.execute_reply": "2023-09-22T09:44:35.124582Z",
     "shell.execute_reply.started": "2023-09-22T09:44:35.110235Z"
    }
   },
   "outputs": [],
   "source": [
    "cmv = pd.read_csv(\"./data/meta/cassava_filtered.csv\")"
   ]
  },
  {
   "cell_type": "code",
   "execution_count": 8,
   "id": "d39c9aed-fa61-4783-befe-6db277d44ee7",
   "metadata": {
    "execution": {
     "iopub.execute_input": "2023-09-22T09:44:35.470345Z",
     "iopub.status.busy": "2023-09-22T09:44:35.470345Z",
     "iopub.status.idle": "2023-09-22T09:44:35.491575Z",
     "shell.execute_reply": "2023-09-22T09:44:35.491575Z",
     "shell.execute_reply.started": "2023-09-22T09:44:35.470345Z"
    }
   },
   "outputs": [
    {
     "data": {
      "text/plain": [
       "['DNA-A: HE616777',\n",
       " 'DNA-A: J02057',\n",
       " 'DNA-A: HE617299',\n",
       " 'DNA-A: AF112354',\n",
       " 'DNA-A: AJ717572',\n",
       " 'DNA-A: AJ006460',\n",
       " 'DNA-A: AF126806',\n",
       " 'DNA-A: AJ717542',\n",
       " 'JX473582',\n",
       " 'DNA-A: AY795983',\n",
       " 'DNA-A: AF422174',\n",
       " 'DNA-A: Z24758',\n",
       " 'DNA-A: JF496657',\n",
       " 'DNA-A: GQ924760',\n",
       " 'DNA-A: AJ575819',\n",
       " 'DNA-A: AF155806',\n",
       " 'DNA-A: AJ314737',\n",
       " 'DNA-A: AJ579307']"
      ]
     },
     "execution_count": 8,
     "metadata": {},
     "output_type": "execute_result"
    }
   ],
   "source": [
    "[acc[0] for acc in cmv.Accession.str.split(\";\")]"
   ]
  },
  {
   "cell_type": "code",
   "execution_count": 9,
   "id": "9fde55eb-2ba3-45d5-859f-55c3137fefbe",
   "metadata": {
    "execution": {
     "iopub.execute_input": "2023-09-22T09:44:44.945668Z",
     "iopub.status.busy": "2023-09-22T09:44:44.945668Z",
     "iopub.status.idle": "2023-09-22T09:44:45.080002Z",
     "shell.execute_reply": "2023-09-22T09:44:45.080002Z",
     "shell.execute_reply.started": "2023-09-22T09:44:44.945668Z"
    }
   },
   "outputs": [],
   "source": [
    "accessions = []\n",
    "\n",
    "for fasta in os.listdir(\"./data/refseqs/edited/\"):\n",
    "    with open(\"./data/refseqs/edited/\" + fasta, \"r\") as file:\n",
    "        accessions.append(str(file.read()).split(\"|\")[0].replace('>', ''))"
   ]
  },
  {
   "cell_type": "code",
   "execution_count": 10,
   "id": "f5d63eb7-5dbc-4dd3-a711-1989b40a4c8d",
   "metadata": {
    "execution": {
     "iopub.execute_input": "2023-09-22T09:44:46.154760Z",
     "iopub.status.busy": "2023-09-22T09:44:46.154760Z",
     "iopub.status.idle": "2023-09-22T09:44:46.163962Z",
     "shell.execute_reply": "2023-09-22T09:44:46.163962Z",
     "shell.execute_reply.started": "2023-09-22T09:44:46.154760Z"
    }
   },
   "outputs": [
    {
     "data": {
      "text/plain": [
       "['HE616777',\n",
       " 'J02057',\n",
       " 'HE617299',\n",
       " 'AF112354',\n",
       " 'AJ717572',\n",
       " 'AJ006460',\n",
       " 'AJ717542',\n",
       " 'JX473582',\n",
       " 'AY795983',\n",
       " 'AF126806',\n",
       " 'AF422174',\n",
       " 'Z24758',\n",
       " 'GQ924760',\n",
       " 'AJ575819',\n",
       " 'JF496657',\n",
       " 'AF155806',\n",
       " 'AJ579307',\n",
       " 'AJ314737']"
      ]
     },
     "execution_count": 10,
     "metadata": {},
     "output_type": "execute_result"
    }
   ],
   "source": [
    "accessions"
   ]
  },
  {
   "cell_type": "code",
   "execution_count": 11,
   "id": "296363ca-e33f-4ffa-aba4-98d487c175b0",
   "metadata": {
    "execution": {
     "iopub.execute_input": "2023-09-22T09:44:53.678974Z",
     "iopub.status.busy": "2023-09-22T09:44:53.678974Z",
     "iopub.status.idle": "2023-09-22T09:44:53.702146Z",
     "shell.execute_reply": "2023-09-22T09:44:53.702146Z",
     "shell.execute_reply.started": "2023-09-22T09:44:53.678974Z"
    }
   },
   "outputs": [
    {
     "data": {
      "text/html": [
       "<div>\n",
       "<style scoped>\n",
       "    .dataframe tbody tr th:only-of-type {\n",
       "        vertical-align: middle;\n",
       "    }\n",
       "\n",
       "    .dataframe tbody tr th {\n",
       "        vertical-align: top;\n",
       "    }\n",
       "\n",
       "    .dataframe thead th {\n",
       "        text-align: right;\n",
       "    }\n",
       "</style>\n",
       "<table border=\"1\" class=\"dataframe\">\n",
       "  <thead>\n",
       "    <tr style=\"text-align: right;\">\n",
       "      <th></th>\n",
       "      <th>Species</th>\n",
       "      <th>Virus name</th>\n",
       "      <th>Isolate</th>\n",
       "      <th>Accession</th>\n",
       "      <th>Available sequence</th>\n",
       "      <th>Abbrev</th>\n",
       "    </tr>\n",
       "  </thead>\n",
       "  <tbody>\n",
       "    <tr>\n",
       "      <th>0</th>\n",
       "      <td>African cassava mosaic Burkina Faso virus</td>\n",
       "      <td>African cassava mosaic Burkina Faso virus</td>\n",
       "      <td>BF-Oua-127-08</td>\n",
       "      <td>DNA-A: HE616777;DNA-B: HE616778</td>\n",
       "      <td>Complete genome</td>\n",
       "      <td>ACMBFV</td>\n",
       "    </tr>\n",
       "    <tr>\n",
       "      <th>1</th>\n",
       "      <td>African cassava mosaic virus</td>\n",
       "      <td>African cassava mosaic virus</td>\n",
       "      <td>Cameroon/1998</td>\n",
       "      <td>DNA-A: J02057;DNA-B: J02058</td>\n",
       "      <td>Complete genome</td>\n",
       "      <td>ACMV</td>\n",
       "    </tr>\n",
       "    <tr>\n",
       "      <th>2</th>\n",
       "      <td>Cassava mosaic Madagascar virus</td>\n",
       "      <td>cassava mosaic Madagascar virus</td>\n",
       "      <td>Madgascar/Toliary/2006</td>\n",
       "      <td>DNA-A: HE617299;DNA-B: HE617300</td>\n",
       "      <td>Complete genome</td>\n",
       "      <td>CMMGV</td>\n",
       "    </tr>\n",
       "    <tr>\n",
       "      <th>3</th>\n",
       "      <td>East African cassava mosaic Cameroon virus</td>\n",
       "      <td>East African cassava mosaic Cameroon virus</td>\n",
       "      <td>Cameroon/1998</td>\n",
       "      <td>DNA-A: AF112354;DNA-B: AF112355</td>\n",
       "      <td>Complete genome</td>\n",
       "      <td>EACMCMV</td>\n",
       "    </tr>\n",
       "    <tr>\n",
       "      <th>4</th>\n",
       "      <td>East African cassava mosaic Kenya virus</td>\n",
       "      <td>East African cassava mosaic Kenya virus</td>\n",
       "      <td>Kenya/Mitaboni/K298/2002</td>\n",
       "      <td>DNA-A: AJ717572;DNA-B: AJ704971</td>\n",
       "      <td>Complete genome</td>\n",
       "      <td>EACMKV</td>\n",
       "    </tr>\n",
       "  </tbody>\n",
       "</table>\n",
       "</div>"
      ],
      "text/plain": [
       "                                      Species  \\\n",
       "0   African cassava mosaic Burkina Faso virus   \n",
       "1                African cassava mosaic virus   \n",
       "2             Cassava mosaic Madagascar virus   \n",
       "3  East African cassava mosaic Cameroon virus   \n",
       "4     East African cassava mosaic Kenya virus   \n",
       "\n",
       "                                   Virus name                   Isolate  \\\n",
       "0   African cassava mosaic Burkina Faso virus             BF-Oua-127-08   \n",
       "1                African cassava mosaic virus             Cameroon/1998   \n",
       "2             cassava mosaic Madagascar virus    Madgascar/Toliary/2006   \n",
       "3  East African cassava mosaic Cameroon virus             Cameroon/1998   \n",
       "4     East African cassava mosaic Kenya virus  Kenya/Mitaboni/K298/2002   \n",
       "\n",
       "                         Accession Available sequence   Abbrev  \n",
       "0  DNA-A: HE616777;DNA-B: HE616778    Complete genome   ACMBFV  \n",
       "1      DNA-A: J02057;DNA-B: J02058    Complete genome     ACMV  \n",
       "2  DNA-A: HE617299;DNA-B: HE617300    Complete genome    CMMGV  \n",
       "3  DNA-A: AF112354;DNA-B: AF112355    Complete genome  EACMCMV  \n",
       "4  DNA-A: AJ717572;DNA-B: AJ704971    Complete genome   EACMKV  "
      ]
     },
     "execution_count": 11,
     "metadata": {},
     "output_type": "execute_result"
    }
   ],
   "source": [
    "cmv.head()"
   ]
  },
  {
   "cell_type": "code",
   "execution_count": null,
   "id": "b5253694-2129-42ee-a9fa-7da17952a522",
   "metadata": {},
   "outputs": [],
   "source": []
  },
  {
   "cell_type": "code",
   "execution_count": 12,
   "id": "b44ee6fb-76f5-43dc-8e62-35cf3156503f",
   "metadata": {
    "execution": {
     "iopub.execute_input": "2023-09-22T09:45:10.849649Z",
     "iopub.status.busy": "2023-09-22T09:45:10.849649Z",
     "iopub.status.idle": "2023-09-22T09:45:10.864008Z",
     "shell.execute_reply": "2023-09-22T09:45:10.863954Z",
     "shell.execute_reply.started": "2023-09-22T09:45:10.849649Z"
    }
   },
   "outputs": [],
   "source": [
    "identifiers = []\n",
    "\n",
    "for fasta in os.listdir(\"./data/refseqs/edited/\"):\n",
    "    with open(\"./data/refseqs/edited/\" + fasta, \"r\") as fp:\n",
    "        identifiers.append(str(fp.read()).splitlines()[0].replace('>', ''))"
   ]
  },
  {
   "cell_type": "code",
   "execution_count": 13,
   "id": "ff43d043-3b25-4efb-a8ea-ee93110e9dc8",
   "metadata": {
    "execution": {
     "iopub.execute_input": "2023-09-22T09:45:11.352057Z",
     "iopub.status.busy": "2023-09-22T09:45:11.336581Z",
     "iopub.status.idle": "2023-09-22T09:45:11.356404Z",
     "shell.execute_reply": "2023-09-22T09:45:11.356404Z",
     "shell.execute_reply.started": "2023-09-22T09:45:11.352057Z"
    }
   },
   "outputs": [
    {
     "data": {
      "text/plain": [
       "['HE616777|ACMBFV(BF:Oua:BF127:08)',\n",
       " 'J02057|ACMV(KE:West Kenyan 844:98)',\n",
       " 'HE617299|CMMGV(MG:Tol:06)',\n",
       " 'AF112354|EACMCMV(CMRN:WACMV/CM:98)',\n",
       " 'AJ717572|EACMKV(KE:EACMKV-[K298]:02)',\n",
       " 'AJ006460|EACMMV(MW:MK:96)',\n",
       " 'AJ717542|EACMV/KE2(KE:EACMV-KE2[K48]:01)',\n",
       " 'JX473582|EACMV/MW(MW:Malawi/2007/8N:07)',\n",
       " 'AY795983|EACMV/TZ(TZ:TZ1:01)',\n",
       " 'AF126806|EACMV/UG(UG:EACMV/Ug2//Svr:97)',\n",
       " 'AF422174|EACMZV(TZ:ZNZ:Uguja:98)',\n",
       " 'Z24758|ICMV/IN(IN:Triv:86)',\n",
       " 'GQ924760|ICMV/Jat(IN:Dharwad:08)',\n",
       " 'AJ575819|ICMV/Ker(IN:KL:Adivaram 2:02)',\n",
       " 'JF496657|ICMV(IN:MH:Jalgaon:09)',\n",
       " 'AF155806|SACMV(ZA:01)',\n",
       " 'AJ579307|SLCMV/IN(IN:KL:Adivaram:03)',\n",
       " 'AJ314737|SLCMV/LK(LK:CMB:SLCMV-Col:98)']"
      ]
     },
     "execution_count": 13,
     "metadata": {},
     "output_type": "execute_result"
    }
   ],
   "source": [
    "identifiers"
   ]
  },
  {
   "cell_type": "code",
   "execution_count": 14,
   "id": "3c3fc929-a79a-4992-978e-10b962942348",
   "metadata": {
    "execution": {
     "iopub.execute_input": "2023-09-22T09:45:59.081943Z",
     "iopub.status.busy": "2023-09-22T09:45:59.081943Z",
     "iopub.status.idle": "2023-09-22T09:45:59.086086Z",
     "shell.execute_reply": "2023-09-22T09:45:59.085573Z",
     "shell.execute_reply.started": "2023-09-22T09:45:59.081943Z"
    }
   },
   "outputs": [],
   "source": [
    "IDENTS = [\n",
    "\"ACMBFV(BF:Oua:BF127:08)\",\n",
    "\"ACMV(KE:West Kenyan 844:98)\",\n",
    "\"CMMGV(MG:Tol:06)\",\n",
    "\"EACMCMV(CMRN:WACMV/CM:98)\",\n",
    "\"EACMKV(KE:EACMKV-[K298]:02)\",\n",
    "\"EACMMV(MW:MK:96)\",\n",
    "\"EACMV/KE2(KE:EACMV-KE2[K48]:01)\",\n",
    "\"EACMV/MW(MW:Malawi/2007/8N:07)\",\n",
    "\"EACMV/TZ(TZ:TZ1:01)\",\n",
    "\"EACMV/UG(UG:EACMV/Ug2//Svr:97)\",\n",
    "\"EACMZV(TZ:ZNZ:Uguja:98)\",\n",
    "\"ICMV/IN(IN:Triv:86)\",\n",
    "\"ICMV(IN:MH:Jalgaon:09)\",\n",
    "\"ICMV/Jat(IN:Dharwad:08)\",\n",
    "\"ICMV/Ker(IN:KL:Adivaram 2:02)\",\n",
    "\"SACMV(ZA:01)\",\n",
    "\"SLCMV/IN(IN:KL:Adivaram:03)\",\n",
    "\"SLCMV/LK(LK:CMB:SLCMV-Col:98)\"\n",
    "]"
   ]
  },
  {
   "cell_type": "code",
   "execution_count": 17,
   "id": "38a71fae-45f7-4f08-98f9-f732d333b8b3",
   "metadata": {
    "execution": {
     "iopub.execute_input": "2023-09-22T09:46:38.343614Z",
     "iopub.status.busy": "2023-09-22T09:46:38.343614Z",
     "iopub.status.idle": "2023-09-22T09:46:38.360218Z",
     "shell.execute_reply": "2023-09-22T09:46:38.359645Z",
     "shell.execute_reply.started": "2023-09-22T09:46:38.343614Z"
    }
   },
   "outputs": [
    {
     "data": {
      "text/plain": [
       "[True,\n",
       " True,\n",
       " True,\n",
       " True,\n",
       " True,\n",
       " True,\n",
       " True,\n",
       " True,\n",
       " True,\n",
       " True,\n",
       " True,\n",
       " True,\n",
       " True,\n",
       " True,\n",
       " True,\n",
       " True,\n",
       " True,\n",
       " True]"
      ]
     },
     "execution_count": 17,
     "metadata": {},
     "output_type": "execute_result"
    }
   ],
   "source": [
    "# Good :)\n",
    "\n",
    "[ident.split('|')[1] in IDENTS for ident in identifiers]"
   ]
  },
  {
   "cell_type": "code",
   "execution_count": null,
   "id": "4b58a95f-2fc3-432b-a3e2-62b785971de3",
   "metadata": {},
   "outputs": [],
   "source": []
  },
  {
   "cell_type": "code",
   "execution_count": 26,
   "id": "a46563fb-a8ac-45dd-97bb-e4d364e98d88",
   "metadata": {
    "execution": {
     "iopub.execute_input": "2023-09-22T09:50:02.776737Z",
     "iopub.status.busy": "2023-09-22T09:50:02.776737Z",
     "iopub.status.idle": "2023-09-22T09:50:02.784325Z",
     "shell.execute_reply": "2023-09-22T09:50:02.783816Z",
     "shell.execute_reply.started": "2023-09-22T09:50:02.776737Z"
    }
   },
   "outputs": [
    {
     "data": {
      "text/plain": [
       "['AF314144.fasta',\n",
       " 'GU323321.fasta',\n",
       " 'JN555600.fasta',\n",
       " 'KX698088.fasta',\n",
       " 'KX698089.fasta',\n",
       " 'KX698090.fasta',\n",
       " 'KX698091.fasta',\n",
       " 'KX698092.fasta',\n",
       " 'KX698093.fasta',\n",
       " 'MH455207.fasta',\n",
       " 'MH455208.fasta',\n",
       " 'MH455209.fasta',\n",
       " 'MH455210.fasta',\n",
       " 'MH455211.fasta',\n",
       " 'MH455212.fasta',\n",
       " 'MN384976.fasta',\n",
       " 'MN389529.fasta',\n",
       " 'MT572475.fasta',\n",
       " 'MT572476.fasta',\n",
       " 'MT572477.fasta',\n",
       " 'NC_004647.fasta',\n",
       " 'NC_031754.fasta',\n",
       " 'NC_055131.fasta']"
      ]
     },
     "execution_count": 26,
     "metadata": {},
     "output_type": "execute_result"
    }
   ],
   "source": [
    "# Now we need to write new identifiers.\n",
    "\n",
    "sl_viruses = list(filter(lambda fname: fname if \".fasta\" in fname else None, os.listdir(\"./data/srilanka/\")))\n",
    "sl_viruses"
   ]
  },
  {
   "cell_type": "code",
   "execution_count": 28,
   "id": "d68f72b4-74e5-4280-959d-4bce717cd6ee",
   "metadata": {
    "execution": {
     "iopub.execute_input": "2023-09-22T09:51:26.308812Z",
     "iopub.status.busy": "2023-09-22T09:51:26.308812Z",
     "iopub.status.idle": "2023-09-22T09:51:26.502027Z",
     "shell.execute_reply": "2023-09-22T09:51:26.502027Z",
     "shell.execute_reply.started": "2023-09-22T09:51:26.308812Z"
    }
   },
   "outputs": [],
   "source": [
    "fastas_read = []\n",
    "\n",
    "for fname in sl_viruses:\n",
    "    with open(\"./data/srilanka/\" + fname, \"r\") as fp:\n",
    "        fastas_read.append(str(fp.read()))"
   ]
  },
  {
   "cell_type": "code",
   "execution_count": 49,
   "id": "64469af2-9999-4313-b007-5476ac8c2d9b",
   "metadata": {
    "execution": {
     "iopub.execute_input": "2023-09-22T10:01:35.241078Z",
     "iopub.status.busy": "2023-09-22T10:01:35.241078Z",
     "iopub.status.idle": "2023-09-22T10:01:35.247017Z",
     "shell.execute_reply": "2023-09-22T10:01:35.246227Z",
     "shell.execute_reply.started": "2023-09-22T10:01:35.241078Z"
    }
   },
   "outputs": [],
   "source": [
    "accessions = [\n",
    "\"AF314144\",\n",
    "\"NC_055131\",\n",
    "\"JN555600\",\n",
    "\"GU323321\",\n",
    "\"KX698088\",\n",
    "\"KX698091\",\n",
    "\"KX698092\",\n",
    "\"MN384976\",\n",
    "\"KX698090\",\n",
    "\"MH455208\",\n",
    "\"MN389529\",\n",
    "\"KX698093\",\n",
    "\"NC_031754\",\n",
    "\"MH455207\",\n",
    "\"MH455212\",\n",
    "\"MT572476\",\n",
    "\"MH455210\",\n",
    "\"MT572475\",\n",
    "\"MT572477\",\n",
    "\"MH455211\",\n",
    "\"KX698089\",\n",
    "\"MH455209\",\n",
    "\"NC_004647\"\n",
    "]\n",
    "\n",
    "NW_IDENTS = [\n",
    "\"AYVSLV(LK:99)\",\n",
    "\"ChiLCV(LK:Noch:CL-14:09)\",\n",
    "\"ChiLCV(LK:Noch:CL-15:09)\",\n",
    "\"HgYMV(LK:09)\",\n",
    "\"OELuV(LK:Jaf:15)\",\n",
    "\"OELuV(LK:Put:15)\",\n",
    "\"OELuV(LK:Mat:15)\",\n",
    "\"OELCuV(LK:DAJfn01:18)\",\n",
    "\"OELuV(LK:Vav:15)\",\n",
    "\"OELCuV(LK:Va02:15)\",\n",
    "\"OELCuV(LK:DAVav02:18)\",\n",
    "\"OELCuV(LK:Bat:15)\",\n",
    "\"OELuV(LK:Tri:15)\",\n",
    "\"OELCuV(LK:Tr02:15)\",\n",
    "\"BYVMV(LK:Ma02:15)\",\n",
    "\"BYVMV(LK:MI:Part:XX)\",\n",
    "\"BYVMV(LK:Ka02:15)\",\n",
    "\"BYVMV(LK:Gan:Part:XX)\",\n",
    "\"BYVMV(LK:Ang:Part:XX)\",\n",
    "\"BYVMV(LK:Pu02:15)\",\n",
    "\"BYVMV(LK:Kan:15)\",\n",
    "\"BYVMV(LK:Ja02:15)\",\n",
    "\"ToLCLKV(LK:Bad:Band:97)\"\n",
    "]"
   ]
  },
  {
   "cell_type": "code",
   "execution_count": 52,
   "id": "5cbc1010-e9da-441b-8b3e-a8a516d1ebbf",
   "metadata": {
    "execution": {
     "iopub.execute_input": "2023-09-22T10:01:55.302980Z",
     "iopub.status.busy": "2023-09-22T10:01:55.302980Z",
     "iopub.status.idle": "2023-09-22T10:01:55.318168Z",
     "shell.execute_reply": "2023-09-22T10:01:55.318168Z",
     "shell.execute_reply.started": "2023-09-22T10:01:55.302980Z"
    }
   },
   "outputs": [
    {
     "data": {
      "text/plain": [
       "(23, 23)"
      ]
     },
     "execution_count": 52,
     "metadata": {},
     "output_type": "execute_result"
    }
   ],
   "source": [
    "# Good :)\n",
    "\n",
    "len(NW_IDENTS), len(accessions)"
   ]
  },
  {
   "cell_type": "code",
   "execution_count": 56,
   "id": "f2460ca1-8501-479c-8c5f-fdd3bd1f5027",
   "metadata": {
    "execution": {
     "iopub.execute_input": "2023-09-22T10:03:32.365062Z",
     "iopub.status.busy": "2023-09-22T10:03:32.365062Z",
     "iopub.status.idle": "2023-09-22T10:03:32.375706Z",
     "shell.execute_reply": "2023-09-22T10:03:32.375706Z",
     "shell.execute_reply.started": "2023-09-22T10:03:32.365062Z"
    }
   },
   "outputs": [],
   "source": [
    "lookup = {acc: ident for acc, ident in zip(accessions, NW_IDENTS)}"
   ]
  },
  {
   "cell_type": "code",
   "execution_count": 57,
   "id": "c75181f7-5631-4612-9ec1-38a654e1d034",
   "metadata": {
    "execution": {
     "iopub.execute_input": "2023-09-22T10:03:37.513008Z",
     "iopub.status.busy": "2023-09-22T10:03:37.513008Z",
     "iopub.status.idle": "2023-09-22T10:03:37.518167Z",
     "shell.execute_reply": "2023-09-22T10:03:37.517658Z",
     "shell.execute_reply.started": "2023-09-22T10:03:37.513008Z"
    }
   },
   "outputs": [
    {
     "data": {
      "text/plain": [
       "{'AF314144': 'AYVSLV(LK:99)',\n",
       " 'NC_055131': 'ChiLCV(LK:Noch:CL-14:09)',\n",
       " 'JN555600': 'ChiLCV(LK:Noch:CL-15:09)',\n",
       " 'GU323321': 'HgYMV(LK:09)',\n",
       " 'KX698088': 'OELuV(LK:Jaf:15)',\n",
       " 'KX698091': 'OELuV(LK:Put:15)',\n",
       " 'KX698092': 'OELuV(LK:Mat:15)',\n",
       " 'MN384976': 'OELCuV(LK:DAJfn01:18)',\n",
       " 'KX698090': 'OELuV(LK:Vav:15)',\n",
       " 'MH455208': 'OELCuV(LK:Va02:15)',\n",
       " 'MN389529': 'OELCuV(LK:DAVav02:18)',\n",
       " 'KX698093': 'OELCuV(LK:Bat:15)',\n",
       " 'NC_031754': 'OELuV(LK:Tri:15)',\n",
       " 'MH455207': 'OELCuV(LK:Tr02:15)',\n",
       " 'MH455212': 'BYVMV(LK:Ma02:15)',\n",
       " 'MT572476': 'BYVMV(LK:MI:Part:XX)',\n",
       " 'MH455210': 'BYVMV(LK:Ka02:15)',\n",
       " 'MT572475': 'BYVMV(LK:Gan:Part:XX)',\n",
       " 'MT572477': 'BYVMV(LK:Ang:Part:XX)',\n",
       " 'MH455211': 'BYVMV(LK:Pu02:15)',\n",
       " 'KX698089': 'BYVMV(LK:Kan:15)',\n",
       " 'MH455209': 'BYVMV(LK:Ja02:15)',\n",
       " 'NC_004647': 'ToLCLKV(LK:Bad:Band:97)'}"
      ]
     },
     "execution_count": 57,
     "metadata": {},
     "output_type": "execute_result"
    }
   ],
   "source": [
    "lookup"
   ]
  },
  {
   "cell_type": "code",
   "execution_count": 70,
   "id": "56d7c120-b447-4e82-a91a-716a9a8432c8",
   "metadata": {
    "execution": {
     "iopub.execute_input": "2023-09-22T10:29:00.783095Z",
     "iopub.status.busy": "2023-09-22T10:29:00.783095Z",
     "iopub.status.idle": "2023-09-22T10:29:00.799652Z",
     "shell.execute_reply": "2023-09-22T10:29:00.799652Z",
     "shell.execute_reply.started": "2023-09-22T10:29:00.783095Z"
    }
   },
   "outputs": [],
   "source": [
    "write_contents = []\n",
    "\n",
    "for content in fastas_read:\n",
    "    acc = content.splitlines()[0].split(\" \")[0].replace(\".1\", '').replace('>', '')\n",
    "    except_firstline = content.splitlines()[1:]\n",
    "    nw_firstline = '>' + acc + '|' + lookup.get(acc, \"Ooops\")\n",
    "    write_contents.append(nw_firstline + '\\n' + \"\\n\".join(except_firstline))"
   ]
  },
  {
   "cell_type": "code",
   "execution_count": 72,
   "id": "8632e5d8-0132-4d55-ba91-0b3a9ad6472d",
   "metadata": {
    "execution": {
     "iopub.execute_input": "2023-09-22T10:29:07.156100Z",
     "iopub.status.busy": "2023-09-22T10:29:07.156100Z",
     "iopub.status.idle": "2023-09-22T10:29:07.164888Z",
     "shell.execute_reply": "2023-09-22T10:29:07.164888Z",
     "shell.execute_reply.started": "2023-09-22T10:29:07.156100Z"
    }
   },
   "outputs": [
    {
     "data": {
      "text/plain": [
       "(23, 23)"
      ]
     },
     "execution_count": 72,
     "metadata": {},
     "output_type": "execute_result"
    }
   ],
   "source": [
    "len(sl_viruses), len(write_contents)"
   ]
  },
  {
   "cell_type": "code",
   "execution_count": 74,
   "id": "4d8921a2-ad84-4434-bc9a-7c2529022730",
   "metadata": {
    "execution": {
     "iopub.execute_input": "2023-09-22T10:30:58.230164Z",
     "iopub.status.busy": "2023-09-22T10:30:58.230164Z",
     "iopub.status.idle": "2023-09-22T10:30:58.285352Z",
     "shell.execute_reply": "2023-09-22T10:30:58.285352Z",
     "shell.execute_reply.started": "2023-09-22T10:30:58.230164Z"
    }
   },
   "outputs": [],
   "source": [
    "for i in range(len(sl_viruses)):\n",
    "    with open(\"./data/srilanka/edited/\" + sl_viruses[i], \"w+\") as fp:\n",
    "        fp.write(write_contents[i])"
   ]
  },
  {
   "cell_type": "code",
   "execution_count": null,
   "id": "670d3785-8ca0-4ec6-a45c-5600c2d197a2",
   "metadata": {},
   "outputs": [],
   "source": []
  },
  {
   "cell_type": "code",
   "execution_count": 89,
   "id": "87f4eebb-c8d0-44b3-9b4f-aa115291cb42",
   "metadata": {
    "execution": {
     "iopub.execute_input": "2023-09-22T10:59:25.109817Z",
     "iopub.status.busy": "2023-09-22T10:59:25.109817Z",
     "iopub.status.idle": "2023-09-22T10:59:25.126003Z",
     "shell.execute_reply": "2023-09-22T10:59:25.126003Z",
     "shell.execute_reply.started": "2023-09-22T10:59:25.109817Z"
    }
   },
   "outputs": [],
   "source": [
    "# Test the writes are okay!\n",
    "\n",
    "old = list(filter(lambda fname: fname if \".fasta\" in fname else None, os.listdir(\"./data/srilanka/\")))\n",
    "new = list(filter(lambda fname: fname if \".fasta\" in fname else None, os.listdir(\"./data/srilanka/edited/\")))"
   ]
  },
  {
   "cell_type": "code",
   "execution_count": 92,
   "id": "776db469-f53d-47d4-8f7e-0c66d04838e3",
   "metadata": {
    "execution": {
     "iopub.execute_input": "2023-09-22T11:00:09.760229Z",
     "iopub.status.busy": "2023-09-22T11:00:09.760229Z",
     "iopub.status.idle": "2023-09-22T11:00:09.769390Z",
     "shell.execute_reply": "2023-09-22T11:00:09.768720Z",
     "shell.execute_reply.started": "2023-09-22T11:00:09.760229Z"
    }
   },
   "outputs": [
    {
     "data": {
      "text/plain": [
       "23"
      ]
     },
     "execution_count": 92,
     "metadata": {},
     "output_type": "execute_result"
    }
   ],
   "source": [
    "sum([o in new for o in old])"
   ]
  },
  {
   "cell_type": "code",
   "execution_count": 105,
   "id": "dacc97a4-8904-4189-8160-c4e5dd08f480",
   "metadata": {
    "execution": {
     "iopub.execute_input": "2023-09-22T11:06:38.959759Z",
     "iopub.status.busy": "2023-09-22T11:06:38.959759Z",
     "iopub.status.idle": "2023-09-22T11:06:39.002078Z",
     "shell.execute_reply": "2023-09-22T11:06:39.001068Z",
     "shell.execute_reply.started": "2023-09-22T11:06:38.959759Z"
    }
   },
   "outputs": [
    {
     "name": "stdout",
     "output_type": "stream",
     "text": [
      "1.0,  2748\n",
      "1.0,  2735\n",
      "1.0,  2754\n",
      "1.0,  2738\n",
      "1.0,  2786\n",
      "1.0,  2738\n",
      "1.0,  2738\n",
      "1.0,  2738\n",
      "1.0,  2738\n",
      "1.0,  2762\n",
      "1.0,  2738\n",
      "1.0,  2749\n",
      "1.0,  2743\n",
      "1.0,  2735\n",
      "1.0,  2741\n",
      "1.0,  2738\n",
      "1.0,  2741\n",
      "1.0,   656\n",
      "1.0,   656\n",
      "1.0,   657\n",
      "1.0,  2756\n",
      "1.0,  2738\n",
      "1.0,  2754\n"
     ]
    }
   ],
   "source": [
    "for fo, fn in zip(old, new):\n",
    "    with open(\"./data/srilanka/\" + fo, \"r\") as fpo:\n",
    "        oarr = np.array(list(\"\".join(str(fpo.read()).splitlines()[1:])))\n",
    "    with open(\"./data/srilanka/edited/\" + fo, \"r\") as fpn:\n",
    "        narr = np.array(list(\"\".join(str(fpn.read()).splitlines()[1:])))\n",
    "    chk_status = oarr == narr\n",
    "    print(f\"{chk_status.mean():.1f}, {chk_status.size: 5d}\")"
   ]
  },
  {
   "cell_type": "code",
   "execution_count": 107,
   "id": "e48b8843-78e0-4b87-a4ec-e89be35e308a",
   "metadata": {
    "execution": {
     "iopub.execute_input": "2023-09-22T11:07:50.099136Z",
     "iopub.status.busy": "2023-09-22T11:07:50.099136Z",
     "iopub.status.idle": "2023-09-22T11:07:50.109346Z",
     "shell.execute_reply": "2023-09-22T11:07:50.109295Z",
     "shell.execute_reply.started": "2023-09-22T11:07:50.099136Z"
    }
   },
   "outputs": [],
   "source": [
    "# Woohoo motherfuckers! The writes are in fucking fact okay!"
   ]
  },
  {
   "cell_type": "code",
   "execution_count": null,
   "id": "4e1c21b3-c1a1-4740-9e17-3a8fe852d520",
   "metadata": {},
   "outputs": [],
   "source": []
  }
 ],
 "metadata": {
  "kernelspec": {
   "display_name": "Python 3 (ipykernel)",
   "language": "python",
   "name": "python3"
  },
  "language_info": {
   "codemirror_mode": {
    "name": "ipython",
    "version": 3
   },
   "file_extension": ".py",
   "mimetype": "text/x-python",
   "name": "python",
   "nbconvert_exporter": "python",
   "pygments_lexer": "ipython3",
   "version": "3.11.7"
  }
 },
 "nbformat": 4,
 "nbformat_minor": 5
}
