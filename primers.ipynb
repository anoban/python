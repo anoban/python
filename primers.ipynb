{
 "cells": [
  {
   "cell_type": "code",
   "execution_count": 2,
   "id": "63b54261-ce5d-4b44-9548-99b3bff1ead5",
   "metadata": {
    "execution": {
     "iopub.execute_input": "2023-12-30T01:12:04.847939Z",
     "iopub.status.busy": "2023-12-30T01:12:04.847939Z",
     "iopub.status.idle": "2023-12-30T01:12:04.864365Z",
     "shell.execute_reply": "2023-12-30T01:12:04.863189Z",
     "shell.execute_reply.started": "2023-12-30T01:12:04.847939Z"
    }
   },
   "outputs": [],
   "source": [
    "# primers\n",
    "\n",
    "OY2395F = \"GCTCCCTGAATGTTCGGATGGA\"\n",
    "OY680R = \"GTTCTCRTCCATCCATATCTTAC\"\n",
    "MKBEGF4 = \"ATATCTGCAGGGNAARATHTGGATGGA\"\n",
    "MKBEGR5 = \"TGGACTGCAGACNGGNAARACNATGTGGGC\"\n",
    "GEMA1223F = \"GTCGGAGGSTGTAAGGTCGTCCAG\"\n",
    "GEMA2454R =\t\"CTCACWTAYCHCAARTGCTCTC\""
   ]
  },
  {
   "cell_type": "code",
   "execution_count": 9,
   "id": "461fea96-773c-44f9-ad90-e22cf8bb5505",
   "metadata": {
    "execution": {
     "iopub.execute_input": "2023-12-30T01:14:20.062375Z",
     "iopub.status.busy": "2023-12-30T01:14:20.062375Z",
     "iopub.status.idle": "2023-12-30T01:14:20.074780Z",
     "shell.execute_reply": "2023-12-30T01:14:20.073685Z",
     "shell.execute_reply.started": "2023-12-30T01:14:20.062375Z"
    }
   },
   "outputs": [
    {
     "data": {
      "text/plain": [
       "'AGGTAGGCTTGTAAGTCCCTCG'"
      ]
     },
     "execution_count": 9,
     "metadata": {},
     "output_type": "execute_result"
    }
   ],
   "source": [
    "\"\".join(reversed(OY2395F))\n"
   ]
  },
  {
   "cell_type": "code",
   "execution_count": 10,
   "id": "bf20000f-7dfd-4e55-9e10-4944ae1ea1bd",
   "metadata": {
    "execution": {
     "iopub.execute_input": "2023-12-30T01:14:20.266595Z",
     "iopub.status.busy": "2023-12-30T01:14:20.266595Z",
     "iopub.status.idle": "2023-12-30T01:14:20.274439Z",
     "shell.execute_reply": "2023-12-30T01:14:20.274439Z",
     "shell.execute_reply.started": "2023-12-30T01:14:20.266595Z"
    }
   },
   "outputs": [
    {
     "data": {
      "text/plain": [
       "'CATTCTATACCTACCTRCTCTTG'"
      ]
     },
     "execution_count": 10,
     "metadata": {},
     "output_type": "execute_result"
    }
   ],
   "source": [
    "\"\".join(reversed(OY680R))\n"
   ]
  },
  {
   "cell_type": "code",
   "execution_count": 11,
   "id": "85ecdb28-5527-41d8-ad3c-96e024be4dc0",
   "metadata": {
    "execution": {
     "iopub.execute_input": "2023-12-30T01:14:20.439545Z",
     "iopub.status.busy": "2023-12-30T01:14:20.439545Z",
     "iopub.status.idle": "2023-12-30T01:14:20.457178Z",
     "shell.execute_reply": "2023-12-30T01:14:20.457178Z",
     "shell.execute_reply.started": "2023-12-30T01:14:20.439545Z"
    }
   },
   "outputs": [
    {
     "data": {
      "text/plain": [
       "'AGGTAGGTHTARAANGGGACGTCTATA'"
      ]
     },
     "execution_count": 11,
     "metadata": {},
     "output_type": "execute_result"
    }
   ],
   "source": [
    "\"\".join(reversed(MKBEGF4))\n"
   ]
  },
  {
   "cell_type": "code",
   "execution_count": 12,
   "id": "6d5f50ee-727d-497f-ab40-0c8a193a2b7d",
   "metadata": {
    "execution": {
     "iopub.execute_input": "2023-12-30T01:14:20.627773Z",
     "iopub.status.busy": "2023-12-30T01:14:20.627773Z",
     "iopub.status.idle": "2023-12-30T01:14:20.635532Z",
     "shell.execute_reply": "2023-12-30T01:14:20.635532Z",
     "shell.execute_reply.started": "2023-12-30T01:14:20.627773Z"
    }
   },
   "outputs": [
    {
     "data": {
      "text/plain": [
       "'CGGGTGTANCARAANGGNCAGACGTCAGGT'"
      ]
     },
     "execution_count": 12,
     "metadata": {},
     "output_type": "execute_result"
    }
   ],
   "source": [
    "\"\".join(reversed(MKBEGR5))\n"
   ]
  },
  {
   "cell_type": "code",
   "execution_count": 13,
   "id": "2f7c896b-6687-476a-b74c-a364d2648c8e",
   "metadata": {
    "execution": {
     "iopub.execute_input": "2023-12-30T01:14:20.785082Z",
     "iopub.status.busy": "2023-12-30T01:14:20.785082Z",
     "iopub.status.idle": "2023-12-30T01:14:20.801652Z",
     "shell.execute_reply": "2023-12-30T01:14:20.801652Z",
     "shell.execute_reply.started": "2023-12-30T01:14:20.785082Z"
    }
   },
   "outputs": [
    {
     "data": {
      "text/plain": [
       "'GACCTGCTGGAATGTSGGAGGCTG'"
      ]
     },
     "execution_count": 13,
     "metadata": {},
     "output_type": "execute_result"
    }
   ],
   "source": [
    "\"\".join(reversed(GEMA1223F))\n"
   ]
  },
  {
   "cell_type": "code",
   "execution_count": 14,
   "id": "0aedcd7d-4fbf-4059-ae96-bfaf4214ddf1",
   "metadata": {
    "execution": {
     "iopub.execute_input": "2023-12-30T01:14:21.569709Z",
     "iopub.status.busy": "2023-12-30T01:14:21.569709Z",
     "iopub.status.idle": "2023-12-30T01:14:21.580271Z",
     "shell.execute_reply": "2023-12-30T01:14:21.579169Z",
     "shell.execute_reply.started": "2023-12-30T01:14:21.569709Z"
    }
   },
   "outputs": [
    {
     "data": {
      "text/plain": [
       "'CTCTCGTRAACHCYATWCACTC'"
      ]
     },
     "execution_count": 14,
     "metadata": {},
     "output_type": "execute_result"
    }
   ],
   "source": [
    "\"\".join(reversed(GEMA2454R))\n"
   ]
  },
  {
   "cell_type": "code",
   "execution_count": 15,
   "id": "3e20d477-4161-4401-aa72-dcdbd9f912c3",
   "metadata": {
    "execution": {
     "iopub.execute_input": "2023-12-30T01:17:32.213151Z",
     "iopub.status.busy": "2023-12-30T01:17:32.213151Z",
     "iopub.status.idle": "2023-12-30T01:17:32.233032Z",
     "shell.execute_reply": "2023-12-30T01:17:32.232427Z",
     "shell.execute_reply.started": "2023-12-30T01:17:32.213151Z"
    }
   },
   "outputs": [
    {
     "data": {
      "text/plain": [
       "'Jim'"
      ]
     },
     "execution_count": 15,
     "metadata": {},
     "output_type": "execute_result"
    }
   ],
   "source": [
    "a = \"Jim\"\n",
    "a.replace('i', 'I')\n",
    "a"
   ]
  },
  {
   "cell_type": "code",
   "execution_count": 16,
   "id": "5706461f-c6b5-49ac-b49a-bbb4db145073",
   "metadata": {
    "execution": {
     "iopub.execute_input": "2023-12-30T01:18:53.555970Z",
     "iopub.status.busy": "2023-12-30T01:18:53.555970Z",
     "iopub.status.idle": "2023-12-30T01:18:53.575051Z",
     "shell.execute_reply": "2023-12-30T01:18:53.574296Z",
     "shell.execute_reply.started": "2023-12-30T01:18:53.555970Z"
    }
   },
   "outputs": [],
   "source": [
    "def complement(fasta: str) -> str:\n",
    "    \"\"\"\n",
    "    Returns a complementary nucleotide sequence of the FASTA input.\n",
    "    Nucleotides other than A,T,U,C,G will be preserved.\n",
    "    \"\"\"\n",
    "    tmp: str = fasta\n",
    "    tmp = tmp.replace('A', 'T')\n",
    "    tmp = tmp.replace('T', 'A')\n",
    "    tmp = tmp.replace('A', 'U')\n",
    "    tmp = tmp.replace('U', 'A')\n",
    "    tmp = tmp.replace('G', 'C')\n",
    "    tmp = tmp.replace('C', 'G')\n",
    "    return tmp"
   ]
  },
  {
   "cell_type": "code",
   "execution_count": 19,
   "id": "1b444ee4-cb03-4051-9d5d-241ab0f75cf4",
   "metadata": {
    "execution": {
     "iopub.execute_input": "2023-12-30T01:20:39.144426Z",
     "iopub.status.busy": "2023-12-30T01:20:39.144426Z",
     "iopub.status.idle": "2023-12-30T01:20:39.163102Z",
     "shell.execute_reply": "2023-12-30T01:20:39.162028Z",
     "shell.execute_reply.started": "2023-12-30T01:20:39.144426Z"
    }
   },
   "outputs": [
    {
     "name": "stdout",
     "output_type": "stream",
     "text": [
      "GGAGGGAGAAAGAAGGGAAGGA\n",
      "GAAGAGRAGGAAGGAAAAGAAAG\n",
      "AAAAGAGGAGGGNAARAAHAGGAAGGA\n",
      "AGGAGAGGAGAGNGGNAARAGNAAGAGGGG\n",
      "GAGGGAGGSAGAAAGGAGGAGGAG\n",
      "GAGAGWAAYGHGAARAGGAGAG\n"
     ]
    }
   ],
   "source": [
    "for primer in [OY2395F, OY680R, MKBEGF4, MKBEGR5, GEMA1223F, GEMA2454R]:\n",
    "    print(complement(primer))"
   ]
  },
  {
   "cell_type": "code",
   "execution_count": 20,
   "id": "826279ad-8a0f-4cea-99db-01a9b6cff9e3",
   "metadata": {
    "execution": {
     "iopub.execute_input": "2023-12-30T02:39:11.555418Z",
     "iopub.status.busy": "2023-12-30T02:39:11.554409Z",
     "iopub.status.idle": "2023-12-30T02:39:11.564347Z",
     "shell.execute_reply": "2023-12-30T02:39:11.563341Z",
     "shell.execute_reply.started": "2023-12-30T02:39:11.555418Z"
    }
   },
   "outputs": [
    {
     "data": {
      "text/plain": [
       "'AGGTAGGCTTGTAAGTCCCTCG'"
      ]
     },
     "execution_count": 20,
     "metadata": {},
     "output_type": "execute_result"
    }
   ],
   "source": [
    "\"\".join(reversed(OY2395F))"
   ]
  },
  {
   "cell_type": "code",
   "execution_count": null,
   "id": "279653dd-1b44-4fe1-91eb-fd20a7ea7f7b",
   "metadata": {},
   "outputs": [],
   "source": []
  }
 ],
 "metadata": {
  "kernelspec": {
   "display_name": "Python 3 (ipykernel)",
   "language": "python",
   "name": "python3"
  },
  "language_info": {
   "codemirror_mode": {
    "name": "ipython",
    "version": 3
   },
   "file_extension": ".py",
   "mimetype": "text/x-python",
   "name": "python",
   "nbconvert_exporter": "python",
   "pygments_lexer": "ipython3",
   "version": "3.11.7"
  }
 },
 "nbformat": 4,
 "nbformat_minor": 5
}
