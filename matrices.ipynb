{
 "cells": [
  {
   "cell_type": "code",
   "execution_count": 11,
   "id": "003e6bdf-c415-4312-b5b9-a70a30515002",
   "metadata": {
    "execution": {
     "iopub.execute_input": "2024-03-21T02:33:57.997858Z",
     "iopub.status.busy": "2024-03-21T02:33:57.997858Z",
     "iopub.status.idle": "2024-03-21T02:33:58.005036Z",
     "shell.execute_reply": "2024-03-21T02:33:58.005036Z",
     "shell.execute_reply.started": "2024-03-21T02:33:57.997858Z"
    }
   },
   "outputs": [],
   "source": [
    "import numpy as np\n",
    "np.random.seed(2024 - 3 - 21)"
   ]
  },
  {
   "cell_type": "code",
   "execution_count": 12,
   "id": "5b6ed42b-f3b7-40d4-b9aa-69d6b50a787b",
   "metadata": {
    "execution": {
     "iopub.execute_input": "2024-03-21T02:34:00.246228Z",
     "iopub.status.busy": "2024-03-21T02:34:00.246228Z",
     "iopub.status.idle": "2024-03-21T02:34:00.256451Z",
     "shell.execute_reply": "2024-03-21T02:34:00.255878Z",
     "shell.execute_reply.started": "2024-03-21T02:34:00.246228Z"
    }
   },
   "outputs": [
    {
     "data": {
      "text/plain": [
       "matrix([[1, 0, 0],\n",
       "        [0, 1, 0],\n",
       "        [0, 0, 1]])"
      ]
     },
     "execution_count": 12,
     "metadata": {},
     "output_type": "execute_result"
    }
   ],
   "source": [
    "# x is an identity matrix\n",
    "\n",
    "x = np.matrix([[1, 0, 0], [0, 1, 0], [0, 0, 1]])\n",
    "x"
   ]
  },
  {
   "cell_type": "code",
   "execution_count": 13,
   "id": "416939ca-04b2-44b7-a295-ca0ff4b70b32",
   "metadata": {
    "execution": {
     "iopub.execute_input": "2024-03-21T02:34:00.663613Z",
     "iopub.status.busy": "2024-03-21T02:34:00.662497Z",
     "iopub.status.idle": "2024-03-21T02:34:00.669273Z",
     "shell.execute_reply": "2024-03-21T02:34:00.669149Z",
     "shell.execute_reply.started": "2024-03-21T02:34:00.663613Z"
    }
   },
   "outputs": [
    {
     "data": {
      "text/plain": [
       "array([[1, 0, 0, 0],\n",
       "       [0, 1, 0, 0],\n",
       "       [0, 0, 1, 0],\n",
       "       [0, 0, 0, 1]], dtype=int64)"
      ]
     },
     "execution_count": 13,
     "metadata": {},
     "output_type": "execute_result"
    }
   ],
   "source": [
    "# 4 x 4 identity matrix\n",
    "\n",
    "np.eye(N = 4, M = 4, dtype = np.int64)"
   ]
  },
  {
   "cell_type": "code",
   "execution_count": 17,
   "id": "8337ed52-faa8-413b-9715-7f89f6e4ecf6",
   "metadata": {
    "execution": {
     "iopub.execute_input": "2024-03-21T02:35:06.189528Z",
     "iopub.status.busy": "2024-03-21T02:35:06.189528Z",
     "iopub.status.idle": "2024-03-21T02:35:06.199686Z",
     "shell.execute_reply": "2024-03-21T02:35:06.199180Z",
     "shell.execute_reply.started": "2024-03-21T02:35:06.189528Z"
    }
   },
   "outputs": [
    {
     "data": {
      "text/plain": [
       "array([[ 1,  2,  3],\n",
       "       [ 4,  5,  6],\n",
       "       [ 7,  8,  9],\n",
       "       [10, 11, 12]])"
      ]
     },
     "execution_count": 17,
     "metadata": {},
     "output_type": "execute_result"
    }
   ],
   "source": [
    "# a 4 x 3 matrix\n",
    "\n",
    "a = np.array([[1, 2, 3], [4, 5, 6], [7, 8,9], [10, 11, 12]])\n",
    "a"
   ]
  },
  {
   "cell_type": "code",
   "execution_count": 20,
   "id": "9028b502-8abc-4a03-9f96-4a0439b74e9e",
   "metadata": {
    "execution": {
     "iopub.execute_input": "2024-03-21T02:36:25.653885Z",
     "iopub.status.busy": "2024-03-21T02:36:25.653885Z",
     "iopub.status.idle": "2024-03-21T02:36:25.671705Z",
     "shell.execute_reply": "2024-03-21T02:36:25.670681Z",
     "shell.execute_reply.started": "2024-03-21T02:36:25.653885Z"
    }
   },
   "outputs": [
    {
     "data": {
      "text/plain": [
       "array([[ 1,  2,  3,  4],\n",
       "       [ 5,  6,  7,  8],\n",
       "       [ 9, 10, 11, 12]])"
      ]
     },
     "execution_count": 20,
     "metadata": {},
     "output_type": "execute_result"
    }
   ],
   "source": [
    "b = np.array([[1, 2, 3, 4], [5, 6, 7, 8], [9, 10, 11, 12]])\n",
    "b"
   ]
  },
  {
   "cell_type": "code",
   "execution_count": null,
   "id": "6ba6c1b7-0e5a-492c-bade-84b72d6ba59a",
   "metadata": {},
   "outputs": [],
   "source": []
  },
  {
   "cell_type": "code",
   "execution_count": 24,
   "id": "7a6b7040-8a64-4745-b0a5-96d265713212",
   "metadata": {
    "execution": {
     "iopub.execute_input": "2024-03-21T02:42:27.413008Z",
     "iopub.status.busy": "2024-03-21T02:42:27.413008Z",
     "iopub.status.idle": "2024-03-21T02:42:27.425842Z",
     "shell.execute_reply": "2024-03-21T02:42:27.424835Z",
     "shell.execute_reply.started": "2024-03-21T02:42:27.413008Z"
    }
   },
   "outputs": [],
   "source": [
    "# in matrix multiplication, the number of columns of the first matrix and the number of rows of the second matrix must be the same\n",
    "# the resulting matrix will have number of rows of the first matrix\n",
    "# and the number of columns of the second matrix"
   ]
  },
  {
   "cell_type": "code",
   "execution_count": 23,
   "id": "93162151-75d8-4d4f-894a-6536bc82c5f4",
   "metadata": {
    "execution": {
     "iopub.execute_input": "2024-03-21T02:37:20.421969Z",
     "iopub.status.busy": "2024-03-21T02:37:20.421969Z",
     "iopub.status.idle": "2024-03-21T02:37:20.431409Z",
     "shell.execute_reply": "2024-03-21T02:37:20.430889Z",
     "shell.execute_reply.started": "2024-03-21T02:37:20.421969Z"
    }
   },
   "outputs": [
    {
     "data": {
      "text/plain": [
       "array([[ 38,  44,  50,  56],\n",
       "       [ 83,  98, 113, 128],\n",
       "       [128, 152, 176, 200],\n",
       "       [173, 206, 239, 272]])"
      ]
     },
     "execution_count": 23,
     "metadata": {},
     "output_type": "execute_result"
    }
   ],
   "source": [
    "np.matmul(a, b)"
   ]
  },
  {
   "cell_type": "code",
   "execution_count": 22,
   "id": "6f35f2c6-e9e1-4a34-ac4a-373c3056b31c",
   "metadata": {
    "execution": {
     "iopub.execute_input": "2024-03-21T02:36:43.353309Z",
     "iopub.status.busy": "2024-03-21T02:36:43.353309Z",
     "iopub.status.idle": "2024-03-21T02:36:43.362697Z",
     "shell.execute_reply": "2024-03-21T02:36:43.362179Z",
     "shell.execute_reply.started": "2024-03-21T02:36:43.353309Z"
    }
   },
   "outputs": [
    {
     "data": {
      "text/plain": [
       "array([[ 70,  80,  90],\n",
       "       [158, 184, 210],\n",
       "       [246, 288, 330]])"
      ]
     },
     "execution_count": 22,
     "metadata": {},
     "output_type": "execute_result"
    }
   ],
   "source": [
    "np.matmul(b, a)"
   ]
  }
 ],
 "metadata": {
  "kernelspec": {
   "display_name": "Python 3 (ipykernel)",
   "language": "python",
   "name": "python3"
  },
  "language_info": {
   "codemirror_mode": {
    "name": "ipython",
    "version": 3
   },
   "file_extension": ".py",
   "mimetype": "text/x-python",
   "name": "python",
   "nbconvert_exporter": "python",
   "pygments_lexer": "ipython3",
   "version": "3.12.2"
  }
 },
 "nbformat": 4,
 "nbformat_minor": 5
}
