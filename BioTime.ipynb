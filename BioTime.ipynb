{
 "cells": [
  {
   "cell_type": "code",
   "execution_count": 1,
   "id": "a43f87e9-9012-435b-bae7-e3edbcaa54ba",
   "metadata": {
    "execution": {
     "iopub.execute_input": "2024-01-08T12:24:50.214531Z",
     "iopub.status.busy": "2024-01-08T12:24:50.214531Z",
     "iopub.status.idle": "2024-01-08T12:24:50.683101Z",
     "shell.execute_reply": "2024-01-08T12:24:50.683101Z",
     "shell.execute_reply.started": "2024-01-08T12:24:50.214531Z"
    }
   },
   "outputs": [],
   "source": [
    "import numpy as np\n",
    "from pyarrow import csv as csv\n",
    "import pandas as pd"
   ]
  },
  {
   "cell_type": "code",
   "execution_count": 2,
   "id": "9a115d6f-beec-404b-92d2-a329ccfc8f04",
   "metadata": {
    "execution": {
     "iopub.execute_input": "2024-01-08T12:25:04.320972Z",
     "iopub.status.busy": "2024-01-08T12:25:04.320972Z",
     "iopub.status.idle": "2024-01-08T12:25:15.989698Z",
     "shell.execute_reply": "2024-01-08T12:25:15.989221Z",
     "shell.execute_reply.started": "2024-01-08T12:25:04.320972Z"
    }
   },
   "outputs": [],
   "source": [
    "df = pd.read_csv(r\"C:/Users/Anoban/Downloads/BioTIMEQuery_24_06_2021/BioTIMEQuery_24_06_2021.csv\", engine = \"c\", low_memory = False,\n",
    "                 on_bad_lines = \"skip\")"
   ]
  },
  {
   "cell_type": "code",
   "execution_count": 3,
   "id": "56242302-920d-4056-9e49-4106a7be960c",
   "metadata": {
    "execution": {
     "iopub.execute_input": "2024-01-08T12:25:33.488975Z",
     "iopub.status.busy": "2024-01-08T12:25:33.488975Z",
     "iopub.status.idle": "2024-01-08T12:25:33.496203Z",
     "shell.execute_reply": "2024-01-08T12:25:33.495692Z",
     "shell.execute_reply.started": "2024-01-08T12:25:33.488975Z"
    }
   },
   "outputs": [
    {
     "data": {
      "text/plain": [
       "Index(['Unnamed: 0', 'STUDY_ID', 'DAY', 'MONTH', 'YEAR', 'SAMPLE_DESC', 'PLOT',\n",
       "       'ID_SPECIES', 'LATITUDE', 'LONGITUDE', 'sum.allrawdata.ABUNDANCE',\n",
       "       'sum.allrawdata.BIOMASS', 'GENUS', 'SPECIES', 'GENUS_SPECIES'],\n",
       "      dtype='object')"
      ]
     },
     "execution_count": 3,
     "metadata": {},
     "output_type": "execute_result"
    }
   ],
   "source": [
    "df.columns"
   ]
  },
  {
   "cell_type": "code",
   "execution_count": 4,
   "id": "444d12c7-2e48-4383-8156-303c3a36cc7e",
   "metadata": {
    "execution": {
     "iopub.execute_input": "2024-01-08T12:25:42.369326Z",
     "iopub.status.busy": "2024-01-08T12:25:42.368328Z",
     "iopub.status.idle": "2024-01-08T12:25:42.373926Z",
     "shell.execute_reply": "2024-01-08T12:25:42.373926Z",
     "shell.execute_reply.started": "2024-01-08T12:25:42.369326Z"
    }
   },
   "outputs": [
    {
     "data": {
      "text/plain": [
       "(8552249, 15)"
      ]
     },
     "execution_count": 4,
     "metadata": {},
     "output_type": "execute_result"
    }
   ],
   "source": [
    "df.shape"
   ]
  },
  {
   "cell_type": "code",
   "execution_count": 5,
   "id": "2722907a-d02a-41f8-8b48-ad5f839a360a",
   "metadata": {
    "execution": {
     "iopub.execute_input": "2024-01-08T12:26:32.937983Z",
     "iopub.status.busy": "2024-01-08T12:26:32.937983Z",
     "iopub.status.idle": "2024-01-08T12:26:32.980537Z",
     "shell.execute_reply": "2024-01-08T12:26:32.980537Z",
     "shell.execute_reply.started": "2024-01-08T12:26:32.937983Z"
    }
   },
   "outputs": [
    {
     "data": {
      "text/plain": [
       "Unnamed: 0                    int64\n",
       "STUDY_ID                      int64\n",
       "DAY                         float64\n",
       "MONTH                       float64\n",
       "YEAR                          int64\n",
       "SAMPLE_DESC                  object\n",
       "PLOT                         object\n",
       "ID_SPECIES                    int64\n",
       "LATITUDE                    float64\n",
       "LONGITUDE                   float64\n",
       "sum.allrawdata.ABUNDANCE    float64\n",
       "sum.allrawdata.BIOMASS      float64\n",
       "GENUS                        object\n",
       "SPECIES                      object\n",
       "GENUS_SPECIES                object\n",
       "dtype: object"
      ]
     },
     "execution_count": 5,
     "metadata": {},
     "output_type": "execute_result"
    }
   ],
   "source": [
    "df.dtypes"
   ]
  },
  {
   "cell_type": "code",
   "execution_count": 6,
   "id": "6f1235fa-4d27-4c73-a431-f7944d9b7652",
   "metadata": {
    "execution": {
     "iopub.execute_input": "2024-01-08T12:26:48.710804Z",
     "iopub.status.busy": "2024-01-08T12:26:48.710804Z",
     "iopub.status.idle": "2024-01-08T12:26:48.812107Z",
     "shell.execute_reply": "2024-01-08T12:26:48.812107Z",
     "shell.execute_reply.started": "2024-01-08T12:26:48.710804Z"
    }
   },
   "outputs": [
    {
     "data": {
      "text/plain": [
       "array([1984, 1992, 1996, 1923, 1926, 1927, 1929, 1930, 1931, 1932, 1933,\n",
       "       1934, 1935, 1936, 1937, 1938, 1939, 1940, 1941, 1942, 1945, 1946,\n",
       "       1947, 1949, 1950, 1951, 1952, 1954, 1955, 1956, 1957, 1973, 2005,\n",
       "       1997, 2003, 2000, 2001, 2007, 1993, 1999, 1995, 2006, 2008, 2004,\n",
       "       2009, 1994, 1998, 2002, 1976, 1977, 1978, 1979, 1980, 1988, 1989,\n",
       "       1990, 1991, 1981, 1982, 1983, 1986, 1987, 1970, 1971, 1972, 1974,\n",
       "       1975, 2012, 2013, 2014, 2015, 2010, 2011, 1924, 1928, 1948, 1953,\n",
       "       1958, 1959, 1960, 1961, 1962, 1963, 1964, 1965, 1966, 1967, 1968,\n",
       "       1969, 1985, 1921, 1905, 1904, 1903, 1906, 1907, 1908, 1909, 1911,\n",
       "       1874, 1914, 1889, 1915, 1902, 1900, 1925, 1910, 1944, 1919, 1920,\n",
       "       1943, 1916, 1917, 2016, 1913, 1918, 1898, 1922, 2017, 2018],\n",
       "      dtype=int64)"
      ]
     },
     "execution_count": 6,
     "metadata": {},
     "output_type": "execute_result"
    }
   ],
   "source": [
    "df.YEAR.unique()"
   ]
  },
  {
   "cell_type": "code",
   "execution_count": 8,
   "id": "25712264-72d5-4e8c-a02c-ac30adabaa86",
   "metadata": {
    "execution": {
     "iopub.execute_input": "2024-01-08T12:27:37.453384Z",
     "iopub.status.busy": "2024-01-08T12:27:37.453384Z",
     "iopub.status.idle": "2024-01-08T12:27:37.519587Z",
     "shell.execute_reply": "2024-01-08T12:27:37.519587Z",
     "shell.execute_reply.started": "2024-01-08T12:27:37.453384Z"
    }
   },
   "outputs": [
    {
     "data": {
      "text/plain": [
       "6540004.159463165"
      ]
     },
     "execution_count": 8,
     "metadata": {},
     "output_type": "execute_result"
    }
   ],
   "source": [
    "df.loc[:, \"sum.allrawdata.BIOMASS\"].mean()"
   ]
  },
  {
   "cell_type": "code",
   "execution_count": 9,
   "id": "9b9468e6-d532-4588-acf6-860bfa8cb399",
   "metadata": {
    "execution": {
     "iopub.execute_input": "2024-01-08T12:27:50.032815Z",
     "iopub.status.busy": "2024-01-08T12:27:50.032815Z",
     "iopub.status.idle": "2024-01-08T12:27:50.082842Z",
     "shell.execute_reply": "2024-01-08T12:27:50.082842Z",
     "shell.execute_reply.started": "2024-01-08T12:27:50.032815Z"
    }
   },
   "outputs": [
    {
     "data": {
      "text/plain": [
       "0.0"
      ]
     },
     "execution_count": 9,
     "metadata": {},
     "output_type": "execute_result"
    }
   ],
   "source": [
    "df.loc[:, \"sum.allrawdata.BIOMASS\"].min()"
   ]
  },
  {
   "cell_type": "code",
   "execution_count": 10,
   "id": "13e1403c-6abf-4c9e-94bb-26de84ea2d94",
   "metadata": {
    "execution": {
     "iopub.execute_input": "2024-01-08T12:27:54.976811Z",
     "iopub.status.busy": "2024-01-08T12:27:54.972816Z",
     "iopub.status.idle": "2024-01-08T12:27:55.018612Z",
     "shell.execute_reply": "2024-01-08T12:27:55.018612Z",
     "shell.execute_reply.started": "2024-01-08T12:27:54.976811Z"
    }
   },
   "outputs": [
    {
     "data": {
      "text/plain": [
       "27237600000000.0"
      ]
     },
     "execution_count": 10,
     "metadata": {},
     "output_type": "execute_result"
    }
   ],
   "source": [
    "df.loc[:, \"sum.allrawdata.BIOMASS\"].max()"
   ]
  },
  {
   "cell_type": "code",
   "execution_count": 11,
   "id": "0fb2e7c1-e121-43e6-8028-30a147335fe5",
   "metadata": {
    "execution": {
     "iopub.execute_input": "2024-01-08T12:28:01.976875Z",
     "iopub.status.busy": "2024-01-08T12:28:01.976875Z",
     "iopub.status.idle": "2024-01-08T12:28:02.082772Z",
     "shell.execute_reply": "2024-01-08T12:28:02.082772Z",
     "shell.execute_reply.started": "2024-01-08T12:28:01.976875Z"
    }
   },
   "outputs": [
    {
     "data": {
      "text/plain": [
       "0.0"
      ]
     },
     "execution_count": 11,
     "metadata": {},
     "output_type": "execute_result"
    }
   ],
   "source": [
    "df.loc[:, \"sum.allrawdata.BIOMASS\"].median()"
   ]
  },
  {
   "cell_type": "code",
   "execution_count": 12,
   "id": "b0013e4c-f541-4523-9ef6-27e65770965b",
   "metadata": {
    "execution": {
     "iopub.execute_input": "2024-01-08T12:28:57.769345Z",
     "iopub.status.busy": "2024-01-08T12:28:57.769345Z",
     "iopub.status.idle": "2024-01-08T12:28:57.822998Z",
     "shell.execute_reply": "2024-01-08T12:28:57.822998Z",
     "shell.execute_reply.started": "2024-01-08T12:28:57.769345Z"
    }
   },
   "outputs": [
    {
     "data": {
      "text/html": [
       "<div>\n",
       "<style scoped>\n",
       "    .dataframe tbody tr th:only-of-type {\n",
       "        vertical-align: middle;\n",
       "    }\n",
       "\n",
       "    .dataframe tbody tr th {\n",
       "        vertical-align: top;\n",
       "    }\n",
       "\n",
       "    .dataframe thead th {\n",
       "        text-align: right;\n",
       "    }\n",
       "</style>\n",
       "<table border=\"1\" class=\"dataframe\">\n",
       "  <thead>\n",
       "    <tr style=\"text-align: right;\">\n",
       "      <th></th>\n",
       "      <th>Unnamed: 0</th>\n",
       "      <th>STUDY_ID</th>\n",
       "      <th>DAY</th>\n",
       "      <th>MONTH</th>\n",
       "      <th>YEAR</th>\n",
       "      <th>SAMPLE_DESC</th>\n",
       "      <th>PLOT</th>\n",
       "      <th>ID_SPECIES</th>\n",
       "      <th>LATITUDE</th>\n",
       "      <th>LONGITUDE</th>\n",
       "      <th>sum.allrawdata.ABUNDANCE</th>\n",
       "      <th>sum.allrawdata.BIOMASS</th>\n",
       "      <th>GENUS</th>\n",
       "      <th>SPECIES</th>\n",
       "      <th>GENUS_SPECIES</th>\n",
       "    </tr>\n",
       "  </thead>\n",
       "  <tbody>\n",
       "    <tr>\n",
       "      <th>0</th>\n",
       "      <td>1</td>\n",
       "      <td>10</td>\n",
       "      <td>NaN</td>\n",
       "      <td>NaN</td>\n",
       "      <td>1984</td>\n",
       "      <td>47.400000_-95.120000_12_Control_0_Medium</td>\n",
       "      <td>12</td>\n",
       "      <td>22</td>\n",
       "      <td>47.4</td>\n",
       "      <td>-95.12</td>\n",
       "      <td>1.0</td>\n",
       "      <td>0.0</td>\n",
       "      <td>Acer</td>\n",
       "      <td>rubrum</td>\n",
       "      <td>Acer rubrum</td>\n",
       "    </tr>\n",
       "    <tr>\n",
       "      <th>1</th>\n",
       "      <td>2</td>\n",
       "      <td>10</td>\n",
       "      <td>NaN</td>\n",
       "      <td>NaN</td>\n",
       "      <td>1984</td>\n",
       "      <td>47.400000_-95.120000_12_Control_0_Medium</td>\n",
       "      <td>12</td>\n",
       "      <td>23</td>\n",
       "      <td>47.4</td>\n",
       "      <td>-95.12</td>\n",
       "      <td>3.0</td>\n",
       "      <td>0.0</td>\n",
       "      <td>Acer</td>\n",
       "      <td>saccharum</td>\n",
       "      <td>Acer saccharum</td>\n",
       "    </tr>\n",
       "    <tr>\n",
       "      <th>2</th>\n",
       "      <td>3</td>\n",
       "      <td>10</td>\n",
       "      <td>NaN</td>\n",
       "      <td>NaN</td>\n",
       "      <td>1984</td>\n",
       "      <td>47.400000_-95.120000_12_Control_0_Medium</td>\n",
       "      <td>12</td>\n",
       "      <td>24</td>\n",
       "      <td>47.4</td>\n",
       "      <td>-95.12</td>\n",
       "      <td>1.0</td>\n",
       "      <td>0.0</td>\n",
       "      <td>Acer</td>\n",
       "      <td>spicatum</td>\n",
       "      <td>Acer spicatum</td>\n",
       "    </tr>\n",
       "    <tr>\n",
       "      <th>3</th>\n",
       "      <td>4</td>\n",
       "      <td>10</td>\n",
       "      <td>NaN</td>\n",
       "      <td>NaN</td>\n",
       "      <td>1984</td>\n",
       "      <td>47.400000_-95.120000_12_Control_0_Medium</td>\n",
       "      <td>12</td>\n",
       "      <td>607</td>\n",
       "      <td>47.4</td>\n",
       "      <td>-95.12</td>\n",
       "      <td>12.0</td>\n",
       "      <td>0.0</td>\n",
       "      <td>Corylus</td>\n",
       "      <td>cornuta</td>\n",
       "      <td>Corylus cornuta</td>\n",
       "    </tr>\n",
       "    <tr>\n",
       "      <th>4</th>\n",
       "      <td>5</td>\n",
       "      <td>10</td>\n",
       "      <td>NaN</td>\n",
       "      <td>NaN</td>\n",
       "      <td>1984</td>\n",
       "      <td>47.400000_-95.120000_12_Control_0_Small</td>\n",
       "      <td>12</td>\n",
       "      <td>1911</td>\n",
       "      <td>47.4</td>\n",
       "      <td>-95.12</td>\n",
       "      <td>1.0</td>\n",
       "      <td>0.0</td>\n",
       "      <td>Populus</td>\n",
       "      <td>pinnata</td>\n",
       "      <td>Populus pinnata</td>\n",
       "    </tr>\n",
       "  </tbody>\n",
       "</table>\n",
       "</div>"
      ],
      "text/plain": [
       "   Unnamed: 0  STUDY_ID  DAY  MONTH  YEAR  \\\n",
       "0           1        10  NaN    NaN  1984   \n",
       "1           2        10  NaN    NaN  1984   \n",
       "2           3        10  NaN    NaN  1984   \n",
       "3           4        10  NaN    NaN  1984   \n",
       "4           5        10  NaN    NaN  1984   \n",
       "\n",
       "                                SAMPLE_DESC PLOT  ID_SPECIES  LATITUDE  \\\n",
       "0  47.400000_-95.120000_12_Control_0_Medium   12          22      47.4   \n",
       "1  47.400000_-95.120000_12_Control_0_Medium   12          23      47.4   \n",
       "2  47.400000_-95.120000_12_Control_0_Medium   12          24      47.4   \n",
       "3  47.400000_-95.120000_12_Control_0_Medium   12         607      47.4   \n",
       "4   47.400000_-95.120000_12_Control_0_Small   12        1911      47.4   \n",
       "\n",
       "   LONGITUDE  sum.allrawdata.ABUNDANCE  sum.allrawdata.BIOMASS    GENUS  \\\n",
       "0     -95.12                       1.0                     0.0     Acer   \n",
       "1     -95.12                       3.0                     0.0     Acer   \n",
       "2     -95.12                       1.0                     0.0     Acer   \n",
       "3     -95.12                      12.0                     0.0  Corylus   \n",
       "4     -95.12                       1.0                     0.0  Populus   \n",
       "\n",
       "     SPECIES    GENUS_SPECIES  \n",
       "0     rubrum      Acer rubrum  \n",
       "1  saccharum   Acer saccharum  \n",
       "2   spicatum    Acer spicatum  \n",
       "3    cornuta  Corylus cornuta  \n",
       "4    pinnata  Populus pinnata  "
      ]
     },
     "execution_count": 12,
     "metadata": {},
     "output_type": "execute_result"
    }
   ],
   "source": [
    "df.head()"
   ]
  },
  {
   "cell_type": "code",
   "execution_count": null,
   "id": "8be3fd3c-e3bd-4087-a53e-dd58c0436d51",
   "metadata": {},
   "outputs": [],
   "source": []
  }
 ],
 "metadata": {
  "kernelspec": {
   "display_name": "Python 3 (ipykernel)",
   "language": "python",
   "name": "python3"
  },
  "language_info": {
   "codemirror_mode": {
    "name": "ipython",
    "version": 3
   },
   "file_extension": ".py",
   "mimetype": "text/x-python",
   "name": "python",
   "nbconvert_exporter": "python",
   "pygments_lexer": "ipython3",
   "version": "3.11.7"
  }
 },
 "nbformat": 4,
 "nbformat_minor": 5
}
