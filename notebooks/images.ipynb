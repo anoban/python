{
 "cells": [
  {
   "cell_type": "code",
   "execution_count": 32,
   "id": "c29308b3-2116-4f73-ae00-3a400b6be9d3",
   "metadata": {
    "execution": {
     "iopub.execute_input": "2023-08-29T13:46:51.655253Z",
     "iopub.status.busy": "2023-08-29T13:46:51.655253Z",
     "iopub.status.idle": "2023-08-29T13:46:51.662310Z",
     "shell.execute_reply": "2023-08-29T13:46:51.662310Z",
     "shell.execute_reply.started": "2023-08-29T13:46:51.655253Z"
    }
   },
   "outputs": [],
   "source": [
    "import numpy as np\n",
    "import PIL"
   ]
  },
  {
   "cell_type": "markdown",
   "id": "6a350bb8-fd60-40b8-923a-24163ea9bac3",
   "metadata": {},
   "source": [
    "## ___Prototyping a JPEG decoder___\n",
    "-----------------------"
   ]
  },
  {
   "cell_type": "markdown",
   "id": "d291c61c-9c41-4f73-9e02-772d20c7bcb9",
   "metadata": {},
   "source": [
    "![](./jpegrgb_dissected.png)"
   ]
  },
  {
   "cell_type": "code",
   "execution_count": 49,
   "id": "98b48875-a375-4b13-ba10-5f8dbd9c379a",
   "metadata": {
    "execution": {
     "iopub.execute_input": "2023-08-29T13:57:55.976893Z",
     "iopub.status.busy": "2023-08-29T13:57:55.976893Z",
     "iopub.status.idle": "2023-08-29T13:57:55.992522Z",
     "shell.execute_reply": "2023-08-29T13:57:55.992522Z",
     "shell.execute_reply.started": "2023-08-29T13:57:55.976893Z"
    }
   },
   "outputs": [],
   "source": [
    "with open(\"./alesia_riabenkova_black_and_white-wallpaper-5120x3200.jpg\",mode = \"rb\") as fp:\n",
    "    alesia = np.fromfile(fp, dtype = np.uint8)\n",
    "\n",
    "with open(\"./alesia_riabenkova_black_and_white-wallpaper-5120x3200.jpg\",mode = \"rb\") as fp:\n",
    "    alesia_16 = np.fromfile(fp, dtype = np.uint16)"
   ]
  },
  {
   "cell_type": "code",
   "execution_count": 50,
   "id": "41f06b46-bc29-47c6-a1d9-4da98245dc8d",
   "metadata": {
    "execution": {
     "iopub.execute_input": "2023-08-29T13:57:59.727862Z",
     "iopub.status.busy": "2023-08-29T13:57:59.727862Z",
     "iopub.status.idle": "2023-08-29T13:57:59.739800Z",
     "shell.execute_reply": "2023-08-29T13:57:59.739800Z",
     "shell.execute_reply.started": "2023-08-29T13:57:59.727862Z"
    }
   },
   "outputs": [
    {
     "data": {
      "text/plain": [
       "4888175"
      ]
     },
     "execution_count": 50,
     "metadata": {},
     "output_type": "execute_result"
    }
   ],
   "source": [
    "# we have the byte stream of the .jpeg file :)\n",
    "\n",
    "alesia.size"
   ]
  },
  {
   "cell_type": "code",
   "execution_count": 51,
   "id": "cac3de45-288d-4251-b370-a5d5e71902f6",
   "metadata": {
    "execution": {
     "iopub.execute_input": "2023-08-29T13:58:00.449555Z",
     "iopub.status.busy": "2023-08-29T13:58:00.449555Z",
     "iopub.status.idle": "2023-08-29T13:58:00.456594Z",
     "shell.execute_reply": "2023-08-29T13:58:00.456594Z",
     "shell.execute_reply.started": "2023-08-29T13:58:00.449555Z"
    }
   },
   "outputs": [
    {
     "name": "stdout",
     "output_type": "stream",
     "text": [
      "255 216\n"
     ]
    }
   ],
   "source": [
    "print(0xFF, 0xD8)"
   ]
  },
  {
   "cell_type": "code",
   "execution_count": 52,
   "id": "cb650703-d0b2-482e-b947-34932b573647",
   "metadata": {
    "execution": {
     "iopub.execute_input": "2023-08-29T13:58:01.125162Z",
     "iopub.status.busy": "2023-08-29T13:58:01.125162Z",
     "iopub.status.idle": "2023-08-29T13:58:01.130791Z",
     "shell.execute_reply": "2023-08-29T13:58:01.130791Z",
     "shell.execute_reply.started": "2023-08-29T13:58:01.125162Z"
    }
   },
   "outputs": [
    {
     "data": {
      "text/plain": [
       "array([255, 216], dtype=uint8)"
      ]
     },
     "execution_count": 52,
     "metadata": {},
     "output_type": "execute_result"
    }
   ],
   "source": [
    "# start of image (2 bytes)\n",
    "\n",
    "alesia[:2]"
   ]
  },
  {
   "cell_type": "code",
   "execution_count": null,
   "id": "fadac4e4-6e52-47a3-b1c1-2859842f64a4",
   "metadata": {},
   "outputs": [],
   "source": []
  },
  {
   "cell_type": "code",
   "execution_count": 60,
   "id": "9342bfa0-9075-4919-b931-21880decbfda",
   "metadata": {
    "execution": {
     "iopub.execute_input": "2023-08-29T14:02:02.124625Z",
     "iopub.status.busy": "2023-08-29T14:02:02.124625Z",
     "iopub.status.idle": "2023-08-29T14:02:02.139416Z",
     "shell.execute_reply": "2023-08-29T14:02:02.138902Z",
     "shell.execute_reply.started": "2023-08-29T14:02:02.124625Z"
    }
   },
   "outputs": [
    {
     "data": {
      "text/plain": [
       "array([255, 224], dtype=uint8)"
      ]
     },
     "execution_count": 60,
     "metadata": {},
     "output_type": "execute_result"
    }
   ],
   "source": [
    "# application default header (2 bytes) marker\n",
    "\n",
    "alesia[2:4]"
   ]
  },
  {
   "cell_type": "code",
   "execution_count": 62,
   "id": "1b098cc2-2e50-43fe-9b2c-74e94c0dc8c8",
   "metadata": {
    "execution": {
     "iopub.execute_input": "2023-08-29T14:03:02.116115Z",
     "iopub.status.busy": "2023-08-29T14:03:02.116115Z",
     "iopub.status.idle": "2023-08-29T14:03:02.133408Z",
     "shell.execute_reply": "2023-08-29T14:03:02.133408Z",
     "shell.execute_reply.started": "2023-08-29T14:03:02.116115Z"
    }
   },
   "outputs": [
    {
     "data": {
      "text/plain": [
       "array([ 0, 16, 74, 70, 73, 70,  0,  1,  1,  0,  0,  1,  0,  1,  0,  0],\n",
       "      dtype=uint8)"
      ]
     },
     "execution_count": 62,
     "metadata": {},
     "output_type": "execute_result"
    }
   ],
   "source": [
    "# default header contents (16 bytes)\n",
    "\n",
    "alesia[4:20]"
   ]
  },
  {
   "cell_type": "code",
   "execution_count": 74,
   "id": "6b11455a-ce70-4a27-b2ff-14f067444c55",
   "metadata": {
    "execution": {
     "iopub.execute_input": "2023-08-29T14:11:46.605408Z",
     "iopub.status.busy": "2023-08-29T14:11:46.605408Z",
     "iopub.status.idle": "2023-08-29T14:11:46.624547Z",
     "shell.execute_reply": "2023-08-29T14:11:46.623911Z",
     "shell.execute_reply.started": "2023-08-29T14:11:46.605408Z"
    }
   },
   "outputs": [
    {
     "data": {
      "text/plain": [
       "'JFIF\\x00'"
      ]
     },
     "execution_count": 74,
     "metadata": {},
     "output_type": "execute_result"
    }
   ],
   "source": [
    "# 74, 70, 73, 70, 0 is JFIF\\0 (C's null terminator)\n",
    "\n",
    "alesia[6:11].tobytes().decode()"
   ]
  },
  {
   "cell_type": "code",
   "execution_count": 92,
   "id": "4d93fb7c-7b22-42d1-9f59-760e03f34a4c",
   "metadata": {
    "execution": {
     "iopub.execute_input": "2023-08-29T14:40:36.791983Z",
     "iopub.status.busy": "2023-08-29T14:40:36.791983Z",
     "iopub.status.idle": "2023-08-29T14:40:36.796089Z",
     "shell.execute_reply": "2023-08-29T14:40:36.796089Z",
     "shell.execute_reply.started": "2023-08-29T14:40:36.791983Z"
    }
   },
   "outputs": [
    {
     "data": {
      "text/plain": [
       "72"
      ]
     },
     "execution_count": 92,
     "metadata": {},
     "output_type": "execute_result"
    }
   ],
   "source": [
    "0x48"
   ]
  },
  {
   "cell_type": "code",
   "execution_count": 68,
   "id": "211f7d4c-7512-4c47-991a-2b021b477010",
   "metadata": {
    "execution": {
     "iopub.execute_input": "2023-08-29T14:05:50.423217Z",
     "iopub.status.busy": "2023-08-29T14:05:50.423217Z",
     "iopub.status.idle": "2023-08-29T14:05:50.436385Z",
     "shell.execute_reply": "2023-08-29T14:05:50.436385Z",
     "shell.execute_reply.started": "2023-08-29T14:05:50.423217Z"
    }
   },
   "outputs": [
    {
     "data": {
      "text/plain": [
       "array([255, 254], dtype=uint8)"
      ]
     },
     "execution_count": 68,
     "metadata": {},
     "output_type": "execute_result"
    }
   ],
   "source": [
    "# quantization table marker \n",
    "\n",
    "alesia[20:22]"
   ]
  },
  {
   "cell_type": "code",
   "execution_count": 69,
   "id": "78cdb38f-124d-4a7c-8fc1-47a1d06616e9",
   "metadata": {
    "execution": {
     "iopub.execute_input": "2023-08-29T14:07:01.832207Z",
     "iopub.status.busy": "2023-08-29T14:07:01.832207Z",
     "iopub.status.idle": "2023-08-29T14:07:01.844287Z",
     "shell.execute_reply": "2023-08-29T14:07:01.844287Z",
     "shell.execute_reply.started": "2023-08-29T14:07:01.832207Z"
    }
   },
   "outputs": [
    {
     "data": {
      "text/plain": [
       "array([  0,  59,  67,  82,  69,  65,  84,  79,  82,  58,  32, 103, 100,\n",
       "        45, 106, 112, 101, 103,  32, 118,  49,  46,  48,  32,  40, 117,\n",
       "       115, 105, 110, 103,  32,  73,  74,  71,  32,  74,  80,  69,  71,\n",
       "        32, 118,  54,  50,  41,  44,  32, 113, 117,  97, 108, 105, 116,\n",
       "       121,  32,  61,  32,  57,  53,  10, 255, 219,   0,  67,   0,   2,\n",
       "         1,   1], dtype=uint8)"
      ]
     },
     "execution_count": 69,
     "metadata": {},
     "output_type": "execute_result"
    }
   ],
   "source": [
    "# quantization table contents (67 bytes)\n",
    "\n",
    "alesia[22:89]"
   ]
  },
  {
   "cell_type": "code",
   "execution_count": 82,
   "id": "59406aeb-a1e4-45ed-9818-e98913322fd4",
   "metadata": {
    "execution": {
     "iopub.execute_input": "2023-08-29T14:24:35.996357Z",
     "iopub.status.busy": "2023-08-29T14:24:35.996357Z",
     "iopub.status.idle": "2023-08-29T14:24:36.013850Z",
     "shell.execute_reply": "2023-08-29T14:24:36.013850Z",
     "shell.execute_reply.started": "2023-08-29T14:24:35.996357Z"
    }
   },
   "outputs": [
    {
     "data": {
      "text/plain": [
       "array([  1,   1,   1,   2,   1,   1,   1,   2,   2,   2,   2,   2,   4,\n",
       "         3,   2,   2,   2,   2,   5,   4,   4,   3,   4,   6,   5,   6,\n",
       "         6,   6,   5,   6,   6,   6,   7,   9,   8,   6,   7,   9,   7,\n",
       "         6,   6,   8,  11,   8,   9,  10,  10,  10,  10,  10,   6,   8,\n",
       "        11,  12,  11,  10,  12,   9,  10,  10,  10, 255, 219,   0,  67,\n",
       "         1,   2,   2,   2,   2,   2,   2,   5,   3,   3,   5,  10,   7,\n",
       "         6,   7,  10,  10,  10,  10,  10,  10,  10,  10,  10,  10,  10,\n",
       "        10,  10,  10,  10,  10,  10,  10,  10,  10,  10,  10,  10,  10,\n",
       "        10,  10,  10,  10,  10,  10,  10], dtype=uint8)"
      ]
     },
     "execution_count": 82,
     "metadata": {},
     "output_type": "execute_result"
    }
   ],
   "source": [
    "alesia[89:200]"
   ]
  },
  {
   "cell_type": "code",
   "execution_count": 79,
   "id": "398d1446-255b-4ce8-adbb-3b87f4090628",
   "metadata": {
    "execution": {
     "iopub.execute_input": "2023-08-29T14:23:55.765702Z",
     "iopub.status.busy": "2023-08-29T14:23:55.765702Z",
     "iopub.status.idle": "2023-08-29T14:23:55.782901Z",
     "shell.execute_reply": "2023-08-29T14:23:55.782901Z",
     "shell.execute_reply.started": "2023-08-29T14:23:55.765702Z"
    }
   },
   "outputs": [
    {
     "data": {
      "text/plain": [
       "(255, 219, 224)"
      ]
     },
     "execution_count": 79,
     "metadata": {},
     "output_type": "execute_result"
    }
   ],
   "source": [
    "0xFF, 0xDB, 0xE0"
   ]
  },
  {
   "cell_type": "code",
   "execution_count": 78,
   "id": "f08f514e-f9ba-45a2-b566-bb7af4a5dffa",
   "metadata": {
    "execution": {
     "iopub.execute_input": "2023-08-29T14:17:33.639245Z",
     "iopub.status.busy": "2023-08-29T14:17:33.639245Z",
     "iopub.status.idle": "2023-08-29T14:17:33.647404Z",
     "shell.execute_reply": "2023-08-29T14:17:33.647404Z",
     "shell.execute_reply.started": "2023-08-29T14:17:33.639245Z"
    }
   },
   "outputs": [
    {
     "data": {
      "text/plain": [
       "(array([ 176797,  214058,  571537,  582714,  588693,  589361,  658245,\n",
       "         663563,  688351,  786157, 1030076, 1031089, 1039593, 1199007,\n",
       "        1247195, 1437831, 1449990, 1506074, 1629912, 1685748, 1689630,\n",
       "        1721805, 1772748, 1780407, 1808164, 1883984, 1964643, 2020754,\n",
       "        2034650, 2263110, 2396393, 2429660], dtype=int64),)"
      ]
     },
     "execution_count": 78,
     "metadata": {},
     "output_type": "execute_result"
    }
   ],
   "source": [
    "np.where(0xFFDB == alesia_16)"
   ]
  },
  {
   "cell_type": "code",
   "execution_count": 83,
   "id": "4ee93c85-4e0a-40ce-913c-860a34918e70",
   "metadata": {
    "execution": {
     "iopub.execute_input": "2023-08-29T14:27:40.144116Z",
     "iopub.status.busy": "2023-08-29T14:27:40.144116Z",
     "iopub.status.idle": "2023-08-29T14:27:40.149232Z",
     "shell.execute_reply": "2023-08-29T14:27:40.149232Z",
     "shell.execute_reply.started": "2023-08-29T14:27:40.144116Z"
    }
   },
   "outputs": [],
   "source": [
    "alesia_cpy = alesia.copy()"
   ]
  },
  {
   "cell_type": "code",
   "execution_count": 84,
   "id": "d0c9a5e7-5271-4640-b471-f0d0327d1748",
   "metadata": {
    "execution": {
     "iopub.execute_input": "2023-08-29T14:30:08.473968Z",
     "iopub.status.busy": "2023-08-29T14:30:08.472938Z",
     "iopub.status.idle": "2023-08-29T14:30:08.564070Z",
     "shell.execute_reply": "2023-08-29T14:30:08.564070Z",
     "shell.execute_reply.started": "2023-08-29T14:30:08.473968Z"
    }
   },
   "outputs": [],
   "source": [
    "rands = np.random.randint(low = 0, high = 255, size = alesia.size)\n",
    "\n",
    "for i in range(200, alesia.size, 20):\n",
    "    alesia_cpy[i] = rands[i]"
   ]
  },
  {
   "cell_type": "code",
   "execution_count": 87,
   "id": "1b5b8487-5a6b-42ec-8b2d-2ed535b44cce",
   "metadata": {
    "execution": {
     "iopub.execute_input": "2023-08-29T14:38:11.320201Z",
     "iopub.status.busy": "2023-08-29T14:38:11.320201Z",
     "iopub.status.idle": "2023-08-29T14:38:11.336445Z",
     "shell.execute_reply": "2023-08-29T14:38:11.336445Z",
     "shell.execute_reply.started": "2023-08-29T14:38:11.320201Z"
    }
   },
   "outputs": [],
   "source": [
    "with open(\"./demi_lovato_sorry_not_sorry-wallpaper-5120x3200.jpg\", \"rb\") as fp:\n",
    "    demi = np.fromfile(fp, dtype = np.uint8)"
   ]
  },
  {
   "cell_type": "code",
   "execution_count": 88,
   "id": "5c614208-5d4b-4f78-9a71-bb4d4f0bf203",
   "metadata": {
    "execution": {
     "iopub.execute_input": "2023-08-29T14:38:27.414881Z",
     "iopub.status.busy": "2023-08-29T14:38:27.414881Z",
     "iopub.status.idle": "2023-08-29T14:38:27.427837Z",
     "shell.execute_reply": "2023-08-29T14:38:27.427837Z",
     "shell.execute_reply.started": "2023-08-29T14:38:27.414881Z"
    }
   },
   "outputs": [
    {
     "data": {
      "text/plain": [
       "4774391"
      ]
     },
     "execution_count": 88,
     "metadata": {},
     "output_type": "execute_result"
    }
   ],
   "source": [
    "demi.size"
   ]
  },
  {
   "cell_type": "code",
   "execution_count": 89,
   "id": "3fb2f4a8-e384-4597-a898-726559ef7087",
   "metadata": {
    "execution": {
     "iopub.execute_input": "2023-08-29T14:38:35.504482Z",
     "iopub.status.busy": "2023-08-29T14:38:35.504482Z",
     "iopub.status.idle": "2023-08-29T14:38:35.516383Z",
     "shell.execute_reply": "2023-08-29T14:38:35.516383Z",
     "shell.execute_reply.started": "2023-08-29T14:38:35.504482Z"
    }
   },
   "outputs": [
    {
     "data": {
      "text/plain": [
       "array([255, 216], dtype=uint8)"
      ]
     },
     "execution_count": 89,
     "metadata": {},
     "output_type": "execute_result"
    }
   ],
   "source": [
    "demi[:2]"
   ]
  },
  {
   "cell_type": "code",
   "execution_count": 90,
   "id": "71baaf2d-bf8e-48d1-a574-c3661f816f00",
   "metadata": {
    "execution": {
     "iopub.execute_input": "2023-08-29T14:38:53.448824Z",
     "iopub.status.busy": "2023-08-29T14:38:53.448824Z",
     "iopub.status.idle": "2023-08-29T14:38:53.461179Z",
     "shell.execute_reply": "2023-08-29T14:38:53.461179Z",
     "shell.execute_reply.started": "2023-08-29T14:38:53.448824Z"
    }
   },
   "outputs": [
    {
     "data": {
      "text/plain": [
       "array([255, 224], dtype=uint8)"
      ]
     },
     "execution_count": 90,
     "metadata": {},
     "output_type": "execute_result"
    }
   ],
   "source": [
    "demi[2:4]"
   ]
  },
  {
   "cell_type": "code",
   "execution_count": 91,
   "id": "fb213a25-cf31-4c7a-9115-8837646a4304",
   "metadata": {
    "execution": {
     "iopub.execute_input": "2023-08-29T14:39:01.087017Z",
     "iopub.status.busy": "2023-08-29T14:39:01.087017Z",
     "iopub.status.idle": "2023-08-29T14:39:01.093572Z",
     "shell.execute_reply": "2023-08-29T14:39:01.093572Z",
     "shell.execute_reply.started": "2023-08-29T14:39:01.087017Z"
    }
   },
   "outputs": [
    {
     "data": {
      "text/plain": [
       "array([ 0, 16, 74, 70, 73, 70,  0,  1,  1,  0,  0,  1,  0,  1,  0,  0],\n",
       "      dtype=uint8)"
      ]
     },
     "execution_count": 91,
     "metadata": {},
     "output_type": "execute_result"
    }
   ],
   "source": [
    "demi[4:20]"
   ]
  },
  {
   "cell_type": "code",
   "execution_count": 93,
   "id": "6aa1e0a2-96bc-4a4b-9ffb-35228e541855",
   "metadata": {
    "execution": {
     "iopub.execute_input": "2023-08-29T14:41:53.507481Z",
     "iopub.status.busy": "2023-08-29T14:41:53.507481Z",
     "iopub.status.idle": "2023-08-29T14:41:53.525250Z",
     "shell.execute_reply": "2023-08-29T14:41:53.525250Z",
     "shell.execute_reply.started": "2023-08-29T14:41:53.507481Z"
    }
   },
   "outputs": [
    {
     "data": {
      "text/plain": [
       "array([255, 254], dtype=uint8)"
      ]
     },
     "execution_count": 93,
     "metadata": {},
     "output_type": "execute_result"
    }
   ],
   "source": [
    "demi[20:22]"
   ]
  },
  {
   "cell_type": "code",
   "execution_count": null,
   "id": "d459c482-eac3-46e6-aef0-751adce70c99",
   "metadata": {},
   "outputs": [],
   "source": []
  },
  {
   "cell_type": "code",
   "execution_count": null,
   "id": "08d7a760-4381-47f2-af72-d6ffa0b2f99b",
   "metadata": {},
   "outputs": [],
   "source": []
  },
  {
   "cell_type": "code",
   "execution_count": null,
   "id": "e4947ec1-4a1e-432e-8c1f-ff74054ceef3",
   "metadata": {},
   "outputs": [],
   "source": []
  },
  {
   "cell_type": "code",
   "execution_count": null,
   "id": "8009756d-38fb-41f4-a4e5-72f9f23c1592",
   "metadata": {},
   "outputs": [],
   "source": []
  },
  {
   "cell_type": "code",
   "execution_count": null,
   "id": "14e82aa4-705c-46f1-84fb-be8da7144c25",
   "metadata": {},
   "outputs": [],
   "source": []
  },
  {
   "cell_type": "code",
   "execution_count": 39,
   "id": "c2492eb2-b2fc-4b99-9bb6-05e0f5e3dd4f",
   "metadata": {
    "execution": {
     "iopub.execute_input": "2023-08-29T13:53:25.929303Z",
     "iopub.status.busy": "2023-08-29T13:53:25.929303Z",
     "iopub.status.idle": "2023-08-29T13:53:25.936197Z",
     "shell.execute_reply": "2023-08-29T13:53:25.935182Z",
     "shell.execute_reply.started": "2023-08-29T13:53:25.929303Z"
    }
   },
   "outputs": [
    {
     "data": {
      "text/plain": [
       "array([255, 217], dtype=uint8)"
      ]
     },
     "execution_count": 39,
     "metadata": {},
     "output_type": "execute_result"
    }
   ],
   "source": [
    "# end of image\n",
    "\n",
    "alesia[-2:]"
   ]
  }
 ],
 "metadata": {
  "kernelspec": {
   "display_name": "Python 3 (ipykernel)",
   "language": "python",
   "name": "python3"
  },
  "language_info": {
   "codemirror_mode": {
    "name": "ipython",
    "version": 3
   },
   "file_extension": ".py",
   "mimetype": "text/x-python",
   "name": "python",
   "nbconvert_exporter": "python",
   "pygments_lexer": "ipython3",
   "version": "3.13.7"
  }
 },
 "nbformat": 4,
 "nbformat_minor": 5
}
