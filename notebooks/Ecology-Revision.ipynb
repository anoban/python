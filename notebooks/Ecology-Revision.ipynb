{
 "cells": [
  {
   "cell_type": "code",
   "execution_count": 9,
   "id": "53b956dc-bad1-496c-a943-10b861bee0cc",
   "metadata": {
    "execution": {
     "iopub.execute_input": "2023-02-14T11:23:04.490433Z",
     "iopub.status.busy": "2023-02-14T11:23:04.489435Z",
     "iopub.status.idle": "2023-02-14T11:23:11.471359Z",
     "shell.execute_reply": "2023-02-14T11:23:11.471359Z",
     "shell.execute_reply.started": "2023-02-14T11:23:04.490433Z"
    },
    "tags": []
   },
   "outputs": [],
   "source": [
    "import numpy as np"
   ]
  },
  {
   "cell_type": "code",
   "execution_count": 69,
   "id": "a178ab1d-6d63-457b-bd20-3b535b2da666",
   "metadata": {
    "execution": {
     "iopub.execute_input": "2023-02-14T12:34:09.359669Z",
     "iopub.status.busy": "2023-02-14T12:34:09.358669Z",
     "iopub.status.idle": "2023-02-14T12:34:09.368395Z",
     "shell.execute_reply": "2023-02-14T12:34:09.367379Z",
     "shell.execute_reply.started": "2023-02-14T12:34:09.359669Z"
    },
    "tags": []
   },
   "outputs": [],
   "source": [
    "def Question(fclass: np.array, fc_freq: np.array, wquadrat: np.float64, lquadrat: np.float64) -> None:\n",
    "    \n",
    "    \"\"\"\n",
    "    A function that takes in two one dimensional numpy arrays for fc_frequency calsses and fc_frequencies, and two floats for\n",
    "    length & width of quardat (in meters) and:\n",
    "        - prints out the frequency & density of the given species\n",
    "        - prints out the chi squared value\n",
    "        - prints out the v/m value.\n",
    "    \"\"\"\n",
    "    \n",
    "    assert len(fclass) == len(fc_freq), \"Argument arrays must be of equal lengths!.\"\n",
    "    \n",
    "    # area of the quadrat\n",
    "    qarea = wquadrat * lquadrat\n",
    "    \n",
    "    # get the number of quadrats where the spcies was present and divide by the total number of quadrats\n",
    "    _frequency = fc_freq[fclass != 0].sum() / fc_freq.sum() * 100\n",
    "    print(f\"Frequency: {_frequency}%.\")\n",
    "    print()\n",
    "    \n",
    "    # multiply the fc_frequency calss by fc_frequency and get the total of individuals, divide that number by the product of number of quadrats\n",
    "    # and the area of the quadrat\n",
    "    _density = (fclass * fc_freq).sum() / (qarea * fc_freq.sum())\n",
    "    print(f\"Density: {_density} individuals per square meter.\")\n",
    "    print()\n",
    "    \n",
    "    # chi square logic\n",
    "    \n",
    "    # population mean\n",
    "    _mean = (fclass* fc_freq).sum() / fc_freq.sum()\n",
    "    \n",
    "    # probabilities for frequency classes\n",
    "    prob = dict.fromkeys(fclass)\n",
    "    \n",
    "    # P = (e^(-m) * (m^n)) / n!\n",
    "    for fc in prob.keys():\n",
    "        prob[fc] = (np.power(np.e, (-1 * _mean)) * np.power(_mean, fc)) / np.math.factorial(fc)\n",
    "    print(\"Probabilities\")\n",
    "    print(\"----------------------------------------------\")\n",
    "    for fc, _pr in prob.items():\n",
    "        print(f\"Frequency class {fc}: {_pr}.\")\n",
    "    print()\n",
    "    \n",
    "    # total number of quadrats\n",
    "    N = fc_freq.sum()\n",
    "    \n",
    "    # (O - E)^2 / E value dict\n",
    "    # O = P * N\n",
    "    O_Esq_by_E = dict.fromkeys(fclass)\n",
    "    \n",
    "    for key in O_Esq_by_E.keys():\n",
    "        O = fc_freq[key]\n",
    "        E = (N * prob.get(key))\n",
    "        O_Esq_by_E[key] = np.square(O - E) / E\n",
    "    \n",
    "    print(\"(O - E)^2 / E values\")\n",
    "    print(\"----------------------------------------------\")\n",
    "    for fc, val in O_Esq_by_E.items():\n",
    "        print(f\"Frequency class {fc}: {val}.\")\n",
    "    print()\n",
    "    \n",
    "    print(f\"Chi squared value: {sum(O_Esq_by_E.values())}.\")\n",
    "    print()\n",
    "    \n",
    "    # v/m logic\n",
    "    \n",
    "    # variance v = {Sum(x^2) - {(Sum(x))^2 / N} / (N - 1)}\n",
    "    raw_freq = np.repeat(fclass, fc_freq) # x\n",
    "    raw_freq_sq = np.square(raw_freq)  # x^2\n",
    "    variance = (raw_freq_sq.sum() - (np.square(raw_freq.sum()) / N)) / (N - 1)\n",
    "    voverm = variance / _mean\n",
    "    print(f\"v/m value: {voverm}.\")\n",
    "    print()\n",
    "    \n",
    "    # t statistics\n",
    "    \n",
    "    # standard error\n",
    "    se = np.sqrt(2 / (N - 1))\n",
    "    tcalc = (voverm - 1) / se\n",
    "    print(f\"Calculated t value: {tcalc}.\")"
   ]
  },
  {
   "cell_type": "code",
   "execution_count": 70,
   "id": "125dbe61-0948-417b-a255-bbaafb85ba70",
   "metadata": {
    "execution": {
     "iopub.execute_input": "2023-02-14T12:34:09.771065Z",
     "iopub.status.busy": "2023-02-14T12:34:09.771065Z",
     "iopub.status.idle": "2023-02-14T12:34:09.775923Z",
     "shell.execute_reply": "2023-02-14T12:34:09.774917Z",
     "shell.execute_reply.started": "2023-02-14T12:34:09.771065Z"
    },
    "tags": []
   },
   "outputs": [
    {
     "name": "stdout",
     "output_type": "stream",
     "text": [
      "Frequency: 44.0%.\n",
      "\n",
      "Density: 0.24 individuals per square meter.\n",
      "\n",
      "Probabilities\n",
      "----------------------------------------------\n",
      "Frequency class 0: 0.5827482523739896.\n",
      "Frequency class 1: 0.31468405628195445.\n",
      "Frequency class 2: 0.08496469519612769.\n",
      "Frequency class 3: 0.015293645135302986.\n",
      "\n",
      "(O - E)^2 / E values\n",
      "----------------------------------------------\n",
      "Frequency class 0: 0.044400217758063826.\n",
      "Frequency class 1: 0.32628516031602206.\n",
      "Frequency class 2: 0.3667617501580615.\n",
      "Frequency class 3: 0.07241496685877709.\n",
      "\n",
      "Chi squared value: 0.8098620950909244.\n",
      "\n",
      "v/m value: 0.9229024943310657.\n",
      "\n",
      "Calculated t value: -0.3816131834975019.\n"
     ]
    }
   ],
   "source": [
    "Question(fclass = np.arange(0, 4), fc_freq = np.array([28, 18, 3, 1]), lquadrat = 1.5, wquadrat = 1.5)"
   ]
  },
  {
   "cell_type": "code",
   "execution_count": null,
   "id": "9151255b-21c2-4cd8-bf56-69db5dde168c",
   "metadata": {},
   "outputs": [],
   "source": []
  }
 ],
 "metadata": {
  "kernelspec": {
   "display_name": "Python 3 (ipykernel)",
   "language": "python",
   "name": "python3"
  },
  "language_info": {
   "codemirror_mode": {
    "name": "ipython",
    "version": 3
   },
   "file_extension": ".py",
   "mimetype": "text/x-python",
   "name": "python",
   "nbconvert_exporter": "python",
   "pygments_lexer": "ipython3",
   "version": "3.11.2"
  }
 },
 "nbformat": 4,
 "nbformat_minor": 5
}
