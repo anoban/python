{
 "cells": [
  {
   "cell_type": "code",
   "execution_count": 25,
   "id": "bba68e76-7c0a-4fb4-a47f-e8dab4ff63e2",
   "metadata": {
    "execution": {
     "iopub.execute_input": "2024-05-13T14:53:00.695323Z",
     "iopub.status.busy": "2024-05-13T14:53:00.695323Z",
     "iopub.status.idle": "2024-05-13T14:53:00.709099Z",
     "shell.execute_reply": "2024-05-13T14:53:00.708009Z",
     "shell.execute_reply.started": "2024-05-13T14:53:00.695323Z"
    }
   },
   "outputs": [],
   "source": [
    "from bs4 import BeautifulSoup\n",
    "\n",
    "import numpy as np\n",
    "import pandas as pd"
   ]
  },
  {
   "cell_type": "markdown",
   "id": "4ffc7c9e-d9d1-4825-aff4-a440d1fdab8e",
   "metadata": {},
   "source": [
    "## ___Scraping Begomovirus binominal names___\n",
    "-------------------"
   ]
  },
  {
   "cell_type": "code",
   "execution_count": 14,
   "id": "86b98c9e-e05d-470d-aa97-69a641126d6a",
   "metadata": {
    "execution": {
     "iopub.execute_input": "2024-05-13T14:50:21.178776Z",
     "iopub.status.busy": "2024-05-13T14:50:21.178776Z",
     "iopub.status.idle": "2024-05-13T14:50:21.183132Z",
     "shell.execute_reply": "2024-05-13T14:50:21.183132Z",
     "shell.execute_reply.started": "2024-05-13T14:50:21.178776Z"
    }
   },
   "outputs": [],
   "source": [
    "# https://ictv.global/report/chapter/geminiviridae/geminiviridae/begomovirus"
   ]
  },
  {
   "cell_type": "code",
   "execution_count": 33,
   "id": "d83abfa9-b966-416c-b587-b0a21ea35b2c",
   "metadata": {
    "execution": {
     "iopub.execute_input": "2024-05-13T14:58:34.117465Z",
     "iopub.status.busy": "2024-05-13T14:58:34.117465Z",
     "iopub.status.idle": "2024-05-13T14:58:36.663802Z",
     "shell.execute_reply": "2024-05-13T14:58:36.662775Z",
     "shell.execute_reply.started": "2024-05-13T14:58:34.117465Z"
    }
   },
   "outputs": [],
   "source": [
    "with open(r\"./Genus Begomovirus ICTV.htm\", mode = 'r', encoding = \"utf-8\") as fp:\n",
    "    soup = BeautifulSoup(fp.read(), \"html.parser\")"
   ]
  },
  {
   "cell_type": "code",
   "execution_count": 35,
   "id": "a678c798-0273-4bce-a1dd-771578c660a6",
   "metadata": {
    "execution": {
     "iopub.execute_input": "2024-05-13T14:58:45.959504Z",
     "iopub.status.busy": "2024-05-13T14:58:45.959504Z",
     "iopub.status.idle": "2024-05-13T14:58:45.964523Z",
     "shell.execute_reply": "2024-05-13T14:58:45.964523Z",
     "shell.execute_reply.started": "2024-05-13T14:58:45.959504Z"
    }
   },
   "outputs": [],
   "source": [
    "table = soup.find(\"table\", attrs = {\"id\": \"DataTables_Table_0\"})"
   ]
  },
  {
   "cell_type": "code",
   "execution_count": 36,
   "id": "8d9c330d-c283-4161-8f42-814641704bac",
   "metadata": {
    "execution": {
     "iopub.execute_input": "2024-05-13T14:58:46.980515Z",
     "iopub.status.busy": "2024-05-13T14:58:46.980515Z",
     "iopub.status.idle": "2024-05-13T14:58:46.995985Z",
     "shell.execute_reply": "2024-05-13T14:58:46.994977Z",
     "shell.execute_reply.started": "2024-05-13T14:58:46.980515Z"
    }
   },
   "outputs": [
    {
     "data": {
      "text/plain": [
       "[<tr class=\"virus-row odd\">\n",
       " <td class=\"col-exemplar\"><i class=\"fas fa-star\"></i></td>\n",
       " <td class=\"col-subrealm\" style=\"display: none;\"></td>\n",
       " <td class=\"col-kingdom\" style=\"display: none;\"></td>\n",
       " <td class=\"col-subkingdom\" style=\"display: none;\"></td>\n",
       " <td class=\"col-phylum\" style=\"display: none;\"></td>\n",
       " <td class=\"col-subphylum\" style=\"display: none;\"></td>\n",
       " <td class=\"col-order\" style=\"display: none;\"></td>\n",
       " <td class=\"col-suborder\" style=\"display: none;\"></td>\n",
       " <td class=\"col-class_\" style=\"display: none;\"></td>\n",
       " <td class=\"col-subclass\" style=\"display: none;\"></td>\n",
       " <td class=\"col-family\" style=\"display: none;\"></td>\n",
       " <td class=\"col-subfamily\" style=\"display: none;\"></td>\n",
       " <td class=\"col-genus\"><i>Begomovirus</i></td>\n",
       " <td class=\"col-subgenus\" style=\"display: none;\"></td>\n",
       " <td class=\"col-species\"><i>Begomovirus abelmoschusbhubhaneswarense</i></td>\n",
       " <td class=\"col-alternativeNameCSV\">bhendi yellow vein Bhubhaneswar virus</td>\n",
       " <td class=\"col-isolate\">India/Orissa/2003</td>\n",
       " <td class=\"col-accessionNumber\"><a href=\"https://www.ncbi.nlm.nih.gov/nuccore/FJ589571\" target=\"_blank\">DNA-A: FJ589571</a></td>\n",
       " <td class=\"col-availableSequence\">Complete genome</td>\n",
       " <td class=\"col-abbrev\">BYVBhV</td>\n",
       " </tr>,\n",
       " <tr class=\"alt-virus-row even\">\n",
       " <td class=\"col-exemplar\"><i class=\"fas fa-star\"></i></td>\n",
       " <td class=\"col-subrealm\" style=\"display: none;\"></td>\n",
       " <td class=\"col-kingdom\" style=\"display: none;\"></td>\n",
       " <td class=\"col-subkingdom\" style=\"display: none;\"></td>\n",
       " <td class=\"col-phylum\" style=\"display: none;\"></td>\n",
       " <td class=\"col-subphylum\" style=\"display: none;\"></td>\n",
       " <td class=\"col-order\" style=\"display: none;\"></td>\n",
       " <td class=\"col-suborder\" style=\"display: none;\"></td>\n",
       " <td class=\"col-class_\" style=\"display: none;\"></td>\n",
       " <td class=\"col-subclass\" style=\"display: none;\"></td>\n",
       " <td class=\"col-family\" style=\"display: none;\"></td>\n",
       " <td class=\"col-subfamily\" style=\"display: none;\"></td>\n",
       " <td class=\"col-genus\"><i>Begomovirus</i></td>\n",
       " <td class=\"col-subgenus\" style=\"display: none;\"></td>\n",
       " <td class=\"col-species\"><i>Begomovirus abelmoschusdehliense</i></td>\n",
       " <td class=\"col-alternativeNameCSV\">bhendi yellow vein mosaic Delhi virus</td>\n",
       " <td class=\"col-isolate\">IN-OY131-04</td>\n",
       " <td class=\"col-accessionNumber\"><a href=\"https://www.ncbi.nlm.nih.gov/nuccore/FJ515747\" target=\"_blank\">DNA-A: FJ515747</a></td>\n",
       " <td class=\"col-availableSequence\">Complete genome</td>\n",
       " <td class=\"col-abbrev\">BYVMDV</td>\n",
       " </tr>,\n",
       " <tr class=\"virus-row odd\">\n",
       " <td class=\"col-exemplar\"><i class=\"fas fa-star\"></i></td>\n",
       " <td class=\"col-subrealm\" style=\"display: none;\"></td>\n",
       " <td class=\"col-kingdom\" style=\"display: none;\"></td>\n",
       " <td class=\"col-subkingdom\" style=\"display: none;\"></td>\n",
       " <td class=\"col-phylum\" style=\"display: none;\"></td>\n",
       " <td class=\"col-subphylum\" style=\"display: none;\"></td>\n",
       " <td class=\"col-order\" style=\"display: none;\"></td>\n",
       " <td class=\"col-suborder\" style=\"display: none;\"></td>\n",
       " <td class=\"col-class_\" style=\"display: none;\"></td>\n",
       " <td class=\"col-subclass\" style=\"display: none;\"></td>\n",
       " <td class=\"col-family\" style=\"display: none;\"></td>\n",
       " <td class=\"col-subfamily\" style=\"display: none;\"></td>\n",
       " <td class=\"col-genus\"><i>Begomovirus</i></td>\n",
       " <td class=\"col-subgenus\" style=\"display: none;\"></td>\n",
       " <td class=\"col-species\"><i>Begomovirus abelmoschusflavi</i></td>\n",
       " <td class=\"col-alternativeNameCSV\">bhendi yellow vein mosaic virus</td>\n",
       " <td class=\"col-isolate\">India/Madurai/India</td>\n",
       " <td class=\"col-accessionNumber\"><a href=\"https://www.ncbi.nlm.nih.gov/nuccore/AF241479\" target=\"_blank\">DNA-A: AF241479</a></td>\n",
       " <td class=\"col-availableSequence\">Complete genome</td>\n",
       " <td class=\"col-abbrev\">BYVMV/IN</td>\n",
       " </tr>]"
      ]
     },
     "execution_count": 36,
     "metadata": {},
     "output_type": "execute_result"
    }
   ],
   "source": [
    "table.find(\"tbody\").find_all(\"tr\")[:3]"
   ]
  },
  {
   "cell_type": "code",
   "execution_count": 37,
   "id": "f91d66e5-00b6-47e5-b9cc-ed6d16cb9904",
   "metadata": {
    "execution": {
     "iopub.execute_input": "2024-05-13T14:59:04.840071Z",
     "iopub.status.busy": "2024-05-13T14:59:04.839064Z",
     "iopub.status.idle": "2024-05-13T14:59:04.864337Z",
     "shell.execute_reply": "2024-05-13T14:59:04.863323Z",
     "shell.execute_reply.started": "2024-05-13T14:59:04.840071Z"
    }
   },
   "outputs": [],
   "source": [
    "nlines_per_record = np.array([len(row.text.split('\\n')) for row in table.find(\"tbody\").find_all(\"tr\")])"
   ]
  },
  {
   "cell_type": "code",
   "execution_count": 38,
   "id": "ea325b03-6204-49d8-820f-74e0b04b49a5",
   "metadata": {
    "execution": {
     "iopub.execute_input": "2024-05-13T14:59:05.773349Z",
     "iopub.status.busy": "2024-05-13T14:59:05.773349Z",
     "iopub.status.idle": "2024-05-13T14:59:05.786995Z",
     "shell.execute_reply": "2024-05-13T14:59:05.785987Z",
     "shell.execute_reply.started": "2024-05-13T14:59:05.773349Z"
    }
   },
   "outputs": [
    {
     "data": {
      "text/plain": [
       "(629, 629)"
      ]
     },
     "execution_count": 38,
     "metadata": {},
     "output_type": "execute_result"
    }
   ],
   "source": [
    "# there are 629 Begomoviruses!\n",
    "\n",
    "nlines_per_record.size, len(table.find(\"tbody\").find_all(\"tr\"))"
   ]
  },
  {
   "cell_type": "code",
   "execution_count": 39,
   "id": "9b085400-f72b-4b19-9c07-9ccd8add32d4",
   "metadata": {
    "execution": {
     "iopub.execute_input": "2024-05-13T14:59:06.457917Z",
     "iopub.status.busy": "2024-05-13T14:59:06.456917Z",
     "iopub.status.idle": "2024-05-13T14:59:06.463860Z",
     "shell.execute_reply": "2024-05-13T14:59:06.462854Z",
     "shell.execute_reply.started": "2024-05-13T14:59:06.457917Z"
    }
   },
   "outputs": [
    {
     "data": {
      "text/plain": [
       "(array([22]), array([629], dtype=int64))"
      ]
     },
     "execution_count": 39,
     "metadata": {},
     "output_type": "execute_result"
    }
   ],
   "source": [
    "# everything is 22\n",
    "\n",
    "np.unique(nlines_per_record, return_counts = True)"
   ]
  },
  {
   "cell_type": "code",
   "execution_count": 60,
   "id": "1be0db71-85b2-44e1-8024-91dc4d39856b",
   "metadata": {
    "execution": {
     "iopub.execute_input": "2024-05-13T15:08:55.635454Z",
     "iopub.status.busy": "2024-05-13T15:08:55.635454Z",
     "iopub.status.idle": "2024-05-13T15:08:55.640302Z",
     "shell.execute_reply": "2024-05-13T15:08:55.639504Z",
     "shell.execute_reply.started": "2024-05-13T15:08:55.635454Z"
    }
   },
   "outputs": [],
   "source": [
    "data: dict[str, list[str]] = {\n",
    "    \"Species\": [],\n",
    "    \"Name\": [],\n",
    "    \"Isolate\": [],\n",
    "    \"DNA_A\": [],\n",
    "    \"DNA_B\": [],\n",
    "    \"Availability\": [],\n",
    "    \"Abbreviation\": []\n",
    "}"
   ]
  },
  {
   "cell_type": "code",
   "execution_count": 61,
   "id": "f31f5785-ae08-492b-8f03-5f5ed1eee05b",
   "metadata": {
    "execution": {
     "iopub.execute_input": "2024-05-13T15:08:56.656973Z",
     "iopub.status.busy": "2024-05-13T15:08:56.656973Z",
     "iopub.status.idle": "2024-05-13T15:08:56.687082Z",
     "shell.execute_reply": "2024-05-13T15:08:56.686075Z",
     "shell.execute_reply.started": "2024-05-13T15:08:56.656973Z"
    }
   },
   "outputs": [],
   "source": [
    "for trow in table.find(\"tbody\").find_all(\"tr\"):\n",
    "    temp = trow.text.split('\\n')[15:-1]\n",
    "    data[\"Species\"].append(temp[0])\n",
    "    data[\"Name\"].append(temp[1])\n",
    "    data[\"Isolate\"].append(temp[2])\n",
    "    \n",
    "    dna = temp[3] .split(';')\n",
    "    data[\"DNA_A\"].append(dna[0])\n",
    "    if(len(dna) == 2):\n",
    "        data[\"DNA_B\"].append(dna[1])\n",
    "    else:\n",
    "        data[\"DNA_B\"].append(\"\")\n",
    "    \n",
    "    data[\"Availability\"].append(temp[4])\n",
    "    data[\"Abbreviation\"].append(temp[5])"
   ]
  },
  {
   "cell_type": "code",
   "execution_count": null,
   "id": "134a5292-8005-48fe-8fb3-a1ccfc258c8d",
   "metadata": {},
   "outputs": [],
   "source": []
  },
  {
   "cell_type": "code",
   "execution_count": 62,
   "id": "4e9d5c9b-2158-4c8c-95c0-a33de5ab1961",
   "metadata": {
    "execution": {
     "iopub.execute_input": "2024-05-13T15:08:57.865362Z",
     "iopub.status.busy": "2024-05-13T15:08:57.865362Z",
     "iopub.status.idle": "2024-05-13T15:08:57.871639Z",
     "shell.execute_reply": "2024-05-13T15:08:57.871639Z",
     "shell.execute_reply.started": "2024-05-13T15:08:57.865362Z"
    }
   },
   "outputs": [
    {
     "data": {
      "text/plain": [
       "[629, 629, 629, 629, 629, 629, 629]"
      ]
     },
     "execution_count": 62,
     "metadata": {},
     "output_type": "execute_result"
    }
   ],
   "source": [
    "[len(data.get(column)) for column in data.keys()]"
   ]
  },
  {
   "cell_type": "code",
   "execution_count": 64,
   "id": "99d02554-6091-460b-9c35-12c6f29eda58",
   "metadata": {
    "execution": {
     "iopub.execute_input": "2024-05-13T15:09:06.680258Z",
     "iopub.status.busy": "2024-05-13T15:09:06.680258Z",
     "iopub.status.idle": "2024-05-13T15:09:06.687682Z",
     "shell.execute_reply": "2024-05-13T15:09:06.686660Z",
     "shell.execute_reply.started": "2024-05-13T15:09:06.680258Z"
    }
   },
   "outputs": [],
   "source": [
    "df = pd.DataFrame(data)"
   ]
  },
  {
   "cell_type": "code",
   "execution_count": 66,
   "id": "0c6bccaa-eb96-4cc7-871d-6aba0eb735c4",
   "metadata": {
    "execution": {
     "iopub.execute_input": "2024-05-13T15:10:13.587959Z",
     "iopub.status.busy": "2024-05-13T15:10:13.587959Z",
     "iopub.status.idle": "2024-05-13T15:10:13.606793Z",
     "shell.execute_reply": "2024-05-13T15:10:13.606793Z",
     "shell.execute_reply.started": "2024-05-13T15:10:13.587959Z"
    }
   },
   "outputs": [],
   "source": [
    "df.to_csv(r\"./ictv_begomovirus_binominal.csv\", index = False)"
   ]
  },
  {
   "cell_type": "code",
   "execution_count": null,
   "id": "c616c202-11a4-44e6-87d0-c4956f79cd40",
   "metadata": {},
   "outputs": [],
   "source": []
  }
 ],
 "metadata": {
  "kernelspec": {
   "display_name": "Python 3 (ipykernel)",
   "language": "python",
   "name": "python3"
  },
  "language_info": {
   "codemirror_mode": {
    "name": "ipython",
    "version": 3
   },
   "file_extension": ".py",
   "mimetype": "text/x-python",
   "name": "python",
   "nbconvert_exporter": "python",
   "pygments_lexer": "ipython3",
   "version": "3.12.3"
  }
 },
 "nbformat": 4,
 "nbformat_minor": 5
}
