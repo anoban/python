{
 "cells": [
  {
   "cell_type": "code",
   "execution_count": 1,
   "id": "cb0dd2b5-c063-4e72-99c8-56336bddb454",
   "metadata": {
    "execution": {
     "iopub.execute_input": "2024-01-25T10:47:33.512178Z",
     "iopub.status.busy": "2024-01-25T10:47:33.512178Z",
     "iopub.status.idle": "2024-01-25T10:47:38.907322Z",
     "shell.execute_reply": "2024-01-25T10:47:38.907322Z",
     "shell.execute_reply.started": "2024-01-25T10:47:33.512178Z"
    }
   },
   "outputs": [],
   "source": [
    "import numpy as np\n",
    "import pandas as pd\n",
    "import matplotlib.pyplot as plt\n",
    "from sklearn.linear_model import LinearRegression\n",
    "from scipy.io import arff"
   ]
  },
  {
   "cell_type": "markdown",
   "id": "594c597f-21c4-4d28-b51d-527ab11a35fe",
   "metadata": {},
   "source": [
    "# ___Introduction To Generalized Linear Mixed Models (GLMM)___\n",
    "------------------\n",
    "\n",
    "___Practiced using [UCLA material](https://stats.oarc.ucla.edu/other/mult-pkg/introduction-to-generalized-linear-mixed-models/)___"
   ]
  },
  {
   "cell_type": "code",
   "execution_count": 3,
   "id": "76efb7a7-8f1d-464b-89ad-4a74f1b32c68",
   "metadata": {
    "execution": {
     "iopub.execute_input": "2024-01-16T11:55:22.069901Z",
     "iopub.status.busy": "2024-01-16T11:55:22.069901Z",
     "iopub.status.idle": "2024-01-16T11:55:22.083089Z",
     "shell.execute_reply": "2024-01-16T11:55:22.083089Z",
     "shell.execute_reply.started": "2024-01-16T11:55:22.069901Z"
    }
   },
   "outputs": [],
   "source": [
    "# GLMMs are extension to Linear Mixel Models (LMMs) that accomodate variables from different distributions e.g. binary distribution\n",
    "# Or one could think of GLMMs as an extension to GLMs like linear regression that accomodate both fixed and random effects."
   ]
  },
  {
   "cell_type": "code",
   "execution_count": 4,
   "id": "b229a354-4df1-4784-9a60-61faae457324",
   "metadata": {
    "execution": {
     "iopub.execute_input": "2024-01-16T11:55:47.745558Z",
     "iopub.status.busy": "2024-01-16T11:55:47.745558Z",
     "iopub.status.idle": "2024-01-16T11:55:47.754664Z",
     "shell.execute_reply": "2024-01-16T11:55:47.754606Z",
     "shell.execute_reply.started": "2024-01-16T11:55:47.745558Z"
    }
   },
   "outputs": [],
   "source": [
    "# The general form of a model is "
   ]
  },
  {
   "cell_type": "markdown",
   "id": "83beb1f6-405f-4310-8ef2-6058889e6515",
   "metadata": {},
   "source": [
    "# ___$y = \\beta X + uZ + \\varepsilon$___"
   ]
  },
  {
   "cell_type": "code",
   "execution_count": 1,
   "id": "9700fbdd-9885-43f2-9353-42ea89c487c5",
   "metadata": {
    "execution": {
     "iopub.execute_input": "2024-01-18T10:18:57.620502Z",
     "iopub.status.busy": "2024-01-18T10:18:57.620502Z",
     "iopub.status.idle": "2024-01-18T10:18:57.626221Z",
     "shell.execute_reply": "2024-01-18T10:18:57.625565Z",
     "shell.execute_reply.started": "2024-01-18T10:18:57.620502Z"
    }
   },
   "outputs": [],
   "source": [
    "# where y is a N x 1 column vector (the outcome variable). (i.e in layman terms, a one dimensional array with N values)\n",
    "\n",
    "# X is a N x p matrix of p number of predictor variables (i.e a matrix with N rows and p columns)\n",
    "# beta is a p x 1 column vector of fixed effect regression coefficients (of the predictor variables, i.e a one dimensional array of N size)\n",
    "# the highlight here is that betas are FIXED EFFECT REGRESSION COEFFICIENTS, one coefficient for each column in X\n",
    "\n",
    "# Z is a N x q matrix of random effects, random complements to the FIXED EFFECTS X (N rows, q columns)\n",
    "# again, the highlight here is that thse are RANDOM EFFECTS\n",
    "# u is a q x 1 column vector of random effect coefficients, the random complements to the FIXED EFFECT betas.\n",
    "\n",
    "# epsilon is N x 1 column vector of residuals, THE PART OF Y THAT CANNOT BE EXPLAINED BY THE MODEL:"
   ]
  },
  {
   "cell_type": "markdown",
   "id": "2fe1bf1a-f8a5-4a05-b41b-4ebbd75f3618",
   "metadata": {},
   "source": [
    "# ___$y = \\beta X + uZ$___"
   ]
  },
  {
   "cell_type": "code",
   "execution_count": null,
   "id": "ec90637c-2b7a-4cce-b904-cf2d97aba86e",
   "metadata": {},
   "outputs": [],
   "source": [
    "# OR SIMPLY THE ERROR VALUES.\n",
    "\n",
    "# the dimensionality of the equation is as follows;"
   ]
  },
  {
   "cell_type": "markdown",
   "id": "d86a630c-a869-4322-9c1c-c3f0c2f1644e",
   "metadata": {},
   "source": [
    "## ___$\\overbrace{y}^{N \\times 1} = \\overbrace{\\underbrace{\\beta}_{p \\times 1}\\underbrace{Z}_{N \\times p}}^{N \\times 1} + \\overbrace{\\underbrace{u}_{q \\times 1} \\underbrace{Z}_{N \\times q}}^{N \\times 1} + \\overbrace{\\varepsilon}^{N \\times 1}$___"
   ]
  },
  {
   "cell_type": "code",
   "execution_count": null,
   "id": "5c8086c5-aed0-44dc-b7f5-12223e21c662",
   "metadata": {},
   "outputs": [],
   "source": []
  },
  {
   "cell_type": "code",
   "execution_count": 2,
   "id": "9aeaff10-d8f4-4fdf-82e3-2d4a78b4fef3",
   "metadata": {
    "execution": {
     "iopub.execute_input": "2024-01-21T02:01:35.911439Z",
     "iopub.status.busy": "2024-01-21T02:01:35.911439Z",
     "iopub.status.idle": "2024-01-21T02:01:35.915910Z",
     "shell.execute_reply": "2024-01-21T02:01:35.915910Z",
     "shell.execute_reply.started": "2024-01-21T02:01:35.911439Z"
    }
   },
   "outputs": [],
   "source": [
    "# let's comsider a synthesized data of 407 doctors (Q)\n",
    "# not all doctors see the same number of patients, number of patients seen by each doctor could vary between from just 2 to 40. \n",
    "# (this number is denoted as n_{i})\n",
    "# the average number of patients examined by a doctor is 21 (given)\n",
    "\n",
    "# following equation gives the total number of patients seen by all the doctors,"
   ]
  },
  {
   "cell_type": "markdown",
   "id": "a9b6c981-3f5f-46ab-b6d8-c6f599610e71",
   "metadata": {},
   "source": [
    "# ___$$N = \\sum_{i = 0}^{Q}{n_i}$$___"
   ]
  },
  {
   "cell_type": "markdown",
   "id": "c72ff989-a216-4e78-94d8-b89e4889c22d",
   "metadata": {},
   "source": [
    "___According to:___\n",
    "\n",
    "# ___$N = \\sum_{i = 0}^{Q}{n_i}$___"
   ]
  },
  {
   "cell_type": "code",
   "execution_count": 6,
   "id": "6676f34f-bf48-4a52-868a-bfcd255a57e8",
   "metadata": {
    "execution": {
     "iopub.execute_input": "2024-01-24T13:47:36.170257Z",
     "iopub.status.busy": "2024-01-24T13:47:36.170257Z",
     "iopub.status.idle": "2024-01-24T13:47:36.190102Z",
     "shell.execute_reply": "2024-01-24T13:47:36.189087Z",
     "shell.execute_reply.started": "2024-01-24T13:47:36.170257Z"
    }
   },
   "outputs": [
    {
     "data": {
      "text/plain": [
       "8525"
      ]
     },
     "execution_count": 6,
     "metadata": {},
     "output_type": "execute_result"
    }
   ],
   "source": [
    "avpatients = 21  # not accurate\n",
    "ndocs = 407\n",
    "\n",
    "# the total patients examined by 407 doctors were 8525\n",
    "\n",
    "npatients = 8525\n",
    "npatients"
   ]
  },
  {
   "cell_type": "code",
   "execution_count": 8,
   "id": "3a5e7794-09a8-46f2-9862-d98463d3587f",
   "metadata": {
    "execution": {
     "iopub.execute_input": "2024-01-18T12:49:47.649863Z",
     "iopub.status.busy": "2024-01-18T12:49:47.649863Z",
     "iopub.status.idle": "2024-01-18T12:49:47.656682Z",
     "shell.execute_reply": "2024-01-18T12:49:47.656682Z",
     "shell.execute_reply.started": "2024-01-18T12:49:47.649863Z"
    }
   },
   "outputs": [],
   "source": [
    "# Context:\n",
    "\n",
    "# our outcome y, mobility scores is a continuous variable\n",
    "# we have 6 fixed effect predictors (FEP).\n",
    "\n",
    "# FEP0 - age in years\n",
    "# FEP1 - married (0/1)\n",
    "# FEP2 - sex (0 - f/ 1 - m)\n",
    "# FEP3 - RBC count\n",
    "# FEP4 - WBC count\n",
    "# FEI - a fixed effect intercept for every patient\n",
    "\n",
    "# random effect predictors\n",
    "# ...\n",
    "# REI - random intercept for every doctor"
   ]
  },
  {
   "cell_type": "code",
   "execution_count": 3,
   "id": "b46eea03-8fa8-4b49-8b7d-c187f2f4156c",
   "metadata": {
    "execution": {
     "iopub.execute_input": "2024-01-24T13:41:34.922771Z",
     "iopub.status.busy": "2024-01-24T13:41:34.922771Z",
     "iopub.status.idle": "2024-01-24T13:41:34.926941Z",
     "shell.execute_reply": "2024-01-24T13:41:34.926347Z",
     "shell.execute_reply.started": "2024-01-24T13:41:34.922771Z"
    }
   },
   "outputs": [],
   "source": [
    "# for the sake of simplicity let's maintain that all our effect intercepts are fixed except the random effect intercept\n",
    "# the reason for allowing variability in random intercept is that we expect that mobility scores of patients seeing a given doctor may show a \n",
    "# higher degree of correlation compared to mobility scores of two randomly sampled patients.\n",
    "# this is assumed because doctors often specialize in certain areas of medicine that deals with very specific ailments, that often brings patients of \n",
    "# similar nature to their desks\n",
    "# for example the WBC and RBC counts might be concertedly abnormal in patients seeing a blood cancer specialist\n",
    "# so the degree of homogeneity within patients seeing a doctor might be greater than that between two patients seeing two different doctors."
   ]
  },
  {
   "cell_type": "code",
   "execution_count": null,
   "id": "6a1ff5ed-5a72-4409-974e-2c3403b85812",
   "metadata": {},
   "outputs": [],
   "source": []
  },
  {
   "cell_type": "code",
   "execution_count": 4,
   "id": "3583ca41-ed69-4a7e-9dea-bd8e80ea83f5",
   "metadata": {
    "execution": {
     "iopub.execute_input": "2024-01-24T13:42:25.575831Z",
     "iopub.status.busy": "2024-01-24T13:42:25.575831Z",
     "iopub.status.idle": "2024-01-24T13:42:25.584323Z",
     "shell.execute_reply": "2024-01-24T13:42:25.584153Z",
     "shell.execute_reply.started": "2024-01-24T13:42:25.575831Z"
    }
   },
   "outputs": [],
   "source": [
    "# to show this in matrix notation"
   ]
  },
  {
   "cell_type": "markdown",
   "id": "c7ad6cce-bbe3-46e3-a528-e630daa9396d",
   "metadata": {},
   "source": [
    "# $$y = \\beta X + uZ + \\varepsilon$$\n",
    "# $$\\overbrace{y}^{8525 \\times 1} = \\overbrace{\\underbrace{\\beta}_{6 \\times 1} \\underbrace{X}_{8525 \\times 6}}^{8525 \\times 1} + \\overbrace{\\underbrace{u}_{407 \\times 1}~\\underbrace{Z}_{8525 \\times 407}}^{8525 \\times 1} + \\overbrace{\\varepsilon}^{8525 \\times 1}$$"
   ]
  },
  {
   "cell_type": "code",
   "execution_count": 7,
   "id": "efa8c3c0-c92a-44d8-bba9-1df22e60f76d",
   "metadata": {
    "execution": {
     "iopub.execute_input": "2024-01-24T14:04:45.041434Z",
     "iopub.status.busy": "2024-01-24T14:04:45.041434Z",
     "iopub.status.idle": "2024-01-24T14:04:45.056326Z",
     "shell.execute_reply": "2024-01-24T14:04:45.056256Z",
     "shell.execute_reply.started": "2024-01-24T14:04:45.041434Z"
    }
   },
   "outputs": [],
   "source": [
    "# Z is a matrix that encodes which doctor a patient belongs to.\n",
    "# practically like a one hot encoded matrix where every value in a row will be 0 except one 1, registering the doctor.\n",
    "# it's a sparse matrix (a matrix where most values are zeroes)\n",
    "\n",
    "# beta is a vector that includes 6 regression coefficients: 5 for the five fixed effect predictors and one for the fixed effect intercept"
   ]
  },
  {
   "cell_type": "code",
   "execution_count": 2,
   "id": "f21bfbd2-143a-4d78-a91e-a2d553c2fe88",
   "metadata": {
    "execution": {
     "iopub.execute_input": "2024-01-25T01:00:12.179534Z",
     "iopub.status.busy": "2024-01-25T01:00:12.179534Z",
     "iopub.status.idle": "2024-01-25T01:00:12.221314Z",
     "shell.execute_reply": "2024-01-25T01:00:12.221314Z",
     "shell.execute_reply.started": "2024-01-25T01:00:12.179534Z"
    }
   },
   "outputs": [
    {
     "data": {
      "text/plain": [
       "(8525, 407)"
      ]
     },
     "execution_count": 2,
     "metadata": {},
     "output_type": "execute_result"
    }
   ],
   "source": [
    "z = np.zeros(shape = (8525, 407), dtype = np.uint8)\n",
    "z.shape"
   ]
  },
  {
   "cell_type": "code",
   "execution_count": 3,
   "id": "ac7b4117-39b5-4986-b51c-dfdf49948a2f",
   "metadata": {
    "execution": {
     "iopub.execute_input": "2024-01-25T01:00:34.051716Z",
     "iopub.status.busy": "2024-01-25T01:00:34.051716Z",
     "iopub.status.idle": "2024-01-25T01:00:34.166727Z",
     "shell.execute_reply": "2024-01-25T01:00:34.166727Z",
     "shell.execute_reply.started": "2024-01-25T01:00:34.051716Z"
    }
   },
   "outputs": [],
   "source": [
    "pos = np.arange(0, 407)\n",
    "for row in z:\n",
    "    row[np.random.choice(pos)] = 1"
   ]
  },
  {
   "cell_type": "code",
   "execution_count": 4,
   "id": "67d249de-97a0-4329-a369-e87a9c0828cb",
   "metadata": {
    "execution": {
     "iopub.execute_input": "2024-01-25T01:00:35.208974Z",
     "iopub.status.busy": "2024-01-25T01:00:35.208974Z",
     "iopub.status.idle": "2024-01-25T01:00:35.256807Z",
     "shell.execute_reply": "2024-01-25T01:00:35.256807Z",
     "shell.execute_reply.started": "2024-01-25T01:00:35.208974Z"
    }
   },
   "outputs": [
    {
     "data": {
      "text/plain": [
       "array([1, 1, 1, ..., 1, 1, 1], dtype=uint32)"
      ]
     },
     "execution_count": 4,
     "metadata": {},
     "output_type": "execute_result"
    }
   ],
   "source": [
    "z.sum(axis = 1)"
   ]
  },
  {
   "cell_type": "code",
   "execution_count": 5,
   "id": "3a3b3e77-a20d-476c-81bd-b0fbc7b2e82f",
   "metadata": {
    "execution": {
     "iopub.execute_input": "2024-01-25T01:00:35.785392Z",
     "iopub.status.busy": "2024-01-25T01:00:35.785392Z",
     "iopub.status.idle": "2024-01-25T01:00:35.806232Z",
     "shell.execute_reply": "2024-01-25T01:00:35.806232Z",
     "shell.execute_reply.started": "2024-01-25T01:00:35.785392Z"
    }
   },
   "outputs": [
    {
     "data": {
      "text/plain": [
       "array([28, 23, 22, 19, 17, 17, 26, 26, 23, 24, 14, 23, 18, 23, 27, 12, 22,\n",
       "       28, 23, 16, 28, 21, 23, 20, 15, 16, 18, 22, 12, 14, 16, 23, 20, 16,\n",
       "       23, 17, 12, 25, 21, 25, 16, 20, 32, 23, 22, 23, 26, 20, 19, 19, 20,\n",
       "       30, 14, 19, 15, 20, 23, 21, 24, 20, 19, 16, 14, 21, 18, 17, 27, 20,\n",
       "       25, 22, 19, 13, 17, 14, 26, 12, 23, 22, 28, 30, 31, 30, 21, 16, 28,\n",
       "       21, 29, 15, 20, 17, 21, 13, 13, 22, 24, 15, 21, 31, 19, 18, 22, 18,\n",
       "       26, 23, 30, 19, 26, 20, 25, 23, 22, 22, 22, 21, 16, 26, 20, 18, 30,\n",
       "       16, 24, 15, 28, 28, 25, 23, 12, 23, 18, 26, 29, 18, 18, 22, 28, 22,\n",
       "       14, 19, 17, 25, 26, 21, 19, 27, 21, 17, 19, 21, 22, 22, 18, 26, 21,\n",
       "       20, 17, 23, 19, 14, 18, 29, 14, 16, 26, 18, 16, 22, 22, 22, 23, 32,\n",
       "       20, 25, 23, 26, 27, 20, 19, 19, 19, 15, 20, 20, 24, 15, 28, 14, 34,\n",
       "       18, 28, 16, 19, 15, 19, 13, 23, 31, 19, 18,  9, 21, 15, 28, 21, 21,\n",
       "       23, 18, 18, 18, 22, 22, 26, 29, 25, 22, 20, 15, 21, 16, 18, 22, 20,\n",
       "       22, 17, 25, 14, 27, 12, 23, 13, 27, 11, 26, 22, 21, 17, 23, 14, 21,\n",
       "       22, 18, 28, 28, 19, 23, 19, 18, 17, 21, 23, 19, 33, 21, 25, 17, 16,\n",
       "       15, 20, 17, 24, 22, 17, 13, 30, 11, 17, 17, 16, 19, 23, 15, 18, 19,\n",
       "       32, 28, 20, 19, 24, 22, 20, 14, 25, 22, 28, 22, 18, 15, 14, 19, 16,\n",
       "       21, 21, 24, 30, 28, 15, 30, 21, 22, 18, 23, 24, 15, 16, 25, 27, 17,\n",
       "       24, 25, 19, 19, 20, 25, 14, 25, 18, 21, 17, 27, 28, 22, 10, 17, 24,\n",
       "       19, 21, 28, 23, 21, 14, 21, 16, 20, 25, 25, 19, 21, 23, 28, 22, 25,\n",
       "       26, 21, 22, 22, 20, 26, 20, 17, 21, 29, 14, 20, 20, 13, 22, 20, 17,\n",
       "       13, 23, 33, 19, 19, 28, 14, 23, 21, 24, 22, 26, 24, 15, 19, 27, 16,\n",
       "       18, 15, 22, 18, 19, 20, 12, 24, 19, 21, 26, 25, 27, 26, 22, 20, 15,\n",
       "       18, 14, 26, 26, 20, 26, 26, 15, 22, 29, 21, 18, 21, 18, 22, 23],\n",
       "      dtype=uint32)"
      ]
     },
     "execution_count": 5,
     "metadata": {},
     "output_type": "execute_result"
    }
   ],
   "source": [
    "z.sum(axis = 0)"
   ]
  },
  {
   "cell_type": "code",
   "execution_count": 6,
   "id": "cb1712a8-b519-4c76-8a39-bafd367ef237",
   "metadata": {
    "execution": {
     "iopub.execute_input": "2024-01-25T01:00:44.737305Z",
     "iopub.status.busy": "2024-01-25T01:00:44.736289Z",
     "iopub.status.idle": "2024-01-25T01:00:44.988447Z",
     "shell.execute_reply": "2024-01-25T01:00:44.988447Z",
     "shell.execute_reply.started": "2024-01-25T01:00:44.737305Z"
    }
   },
   "outputs": [
    {
     "data": {
      "image/png": "[encoded data removed]",
      "text/plain": [
       "<Figure size 1000x1000 with 1 Axes>"
      ]
     },
     "metadata": {},
     "output_type": "display_data"
    }
   ],
   "source": [
    "# let's examine the first 407 rows only\n",
    "\n",
    "fig, axes = plt.subplots()\n",
    "fig.set_size_inches(10, 10)\n",
    "axes.imshow(z[:407, :], cmap = \"binary\")\n",
    "axes.grid()\n",
    "plt.show()\n",
    "\n",
    "# the sporadic black dots denote 1"
   ]
  },
  {
   "cell_type": "code",
   "execution_count": null,
   "id": "94b232dc-e858-46de-8425-7d0bcaea00d7",
   "metadata": {},
   "outputs": [],
   "source": []
  },
  {
   "cell_type": "code",
   "execution_count": 7,
   "id": "2321fbb2-2347-4010-899b-91099f28378e",
   "metadata": {
    "execution": {
     "iopub.execute_input": "2024-01-25T01:03:10.999483Z",
     "iopub.status.busy": "2024-01-25T01:03:10.999483Z",
     "iopub.status.idle": "2024-01-25T01:03:11.004104Z",
     "shell.execute_reply": "2024-01-25T01:03:11.004104Z",
     "shell.execute_reply.started": "2024-01-25T01:03:10.999483Z"
    }
   },
   "outputs": [],
   "source": [
    "# to put the matrix equation in an easily digestible format;"
   ]
  },
  {
   "cell_type": "markdown",
   "id": "97ff1fec-bbce-4d57-9361-db647062bf00",
   "metadata": {},
   "source": [
    "### $$X = \\begin{bmatrix}\n",
    "age & married & sex & RBC & WBC & intercept \\\\\n",
    "34 & 1 & 1 & 4232 & 65 & 1.2 \\\\\n",
    "76 & 0 & 0 & 6534 & 28.75 & 4.3 \\\\\n",
    "\\vdots & \\vdots & \\vdots & \\vdots & \\vdots & \\vdots \\\\\n",
    "17 & 0 & 1 & 6237 & 43.6 & 2 \\\\\n",
    "56 & 1 & 0 & 2891 & 23.34 & 3.08 \\\\\n",
    "\\end{bmatrix}^{1}_{8525}$$\n",
    "\n",
    "### $$Z = \\begin{bmatrix}\n",
    "d0 & d1 & d2 & \\dots & d407 \\\\\n",
    "1 & 0 & 0 & \\dots & 0 \\\\\n",
    "0 & 0 & 0 & \\dots & 0 \\\\\n",
    "0 & 1 & 0 & \\dots & 0 \\\\\n",
    "0 & 0 & 0 & \\dots & 1 \\\\\n",
    "\\end{bmatrix}^{1}_{8525}$$"
   ]
  },
  {
   "cell_type": "code",
   "execution_count": null,
   "id": "3885b048-cc0f-498e-b612-e69d0cff0184",
   "metadata": {},
   "outputs": [],
   "source": []
  },
  {
   "cell_type": "code",
   "execution_count": null,
   "id": "0cafbe55-bbb9-4d07-9ac6-a46ee756c0e1",
   "metadata": {},
   "outputs": [],
   "source": []
  },
  {
   "cell_type": "code",
   "execution_count": null,
   "id": "13cb1bbb-b1f3-447c-adab-bce0ff6cac2c",
   "metadata": {},
   "outputs": [],
   "source": []
  },
  {
   "cell_type": "code",
   "execution_count": null,
   "id": "c79d8ab2-ea49-4d49-9b95-e3098645f2fa",
   "metadata": {},
   "outputs": [],
   "source": []
  },
  {
   "cell_type": "code",
   "execution_count": null,
   "id": "e6207e2a-9aa1-43ab-83a0-2934a53a4d7f",
   "metadata": {},
   "outputs": [],
   "source": []
  },
  {
   "cell_type": "code",
   "execution_count": null,
   "id": "ba249a3d-4416-4b40-a02c-319e76dc32d0",
   "metadata": {},
   "outputs": [],
   "source": []
  },
  {
   "cell_type": "code",
   "execution_count": null,
   "id": "a3a0afef-b406-4135-88cc-63c825ecd017",
   "metadata": {},
   "outputs": [],
   "source": []
  },
  {
   "cell_type": "code",
   "execution_count": null,
   "id": "c81826ca-316c-463c-9bc5-e1d20b6614ee",
   "metadata": {},
   "outputs": [],
   "source": []
  },
  {
   "cell_type": "code",
   "execution_count": null,
   "id": "1e52b80d-8623-4263-8735-159de3ac53ec",
   "metadata": {},
   "outputs": [],
   "source": []
  },
  {
   "cell_type": "code",
   "execution_count": null,
   "id": "a832d84a-f049-4106-a621-c07c06764763",
   "metadata": {},
   "outputs": [],
   "source": []
  },
  {
   "cell_type": "code",
   "execution_count": null,
   "id": "4f653686-92a3-4bfd-9aa4-7d871b799606",
   "metadata": {},
   "outputs": [],
   "source": []
  },
  {
   "cell_type": "code",
   "execution_count": 9,
   "id": "9cd1b1bf-985c-4e12-b0f8-95eef7e5ced4",
   "metadata": {
    "execution": {
     "iopub.execute_input": "2024-01-18T14:59:12.251196Z",
     "iopub.status.busy": "2024-01-18T14:59:12.251196Z",
     "iopub.status.idle": "2024-01-18T14:59:12.267117Z",
     "shell.execute_reply": "2024-01-18T14:59:12.266110Z",
     "shell.execute_reply.started": "2024-01-18T14:59:12.251196Z"
    }
   },
   "outputs": [],
   "source": [
    "# The dataset contains 9358 instances of hourly averaged responses from an array of 5 metal oxide chemical sensors embedded in an\n",
    "# Air Quality Chemical Multisensor Device. The device was located on the field in a significantly polluted area, at road level, within an Italian city.\n",
    "# Data were recorded from March 2004 to February 2005 (one year) representing the longest freely available recordings of on field deployed air quality\n",
    "# chemical sensor devices responses. Ground Truth hourly averaged concentrations for CO, Non Metanic Hydrocarbons, Benzene, Total Nitrogen Oxides (NOx)\n",
    "# and Nitrogen Dioxide (NO2)  and were provided by a co-located reference certified analyzer. Evidences of cross-sensitivities as well as both concept \n",
    "# and sensor drifts are present as described in De Vito et al., Sens. And Act. B, Vol. 129,2,2008 (citation required) eventually affecting sensors \n",
    "# concentration estimation capabilities. Missing values are tagged with -200 value.\n",
    "\n",
    "# This dataset can be used exclusively for research purposes. Commercial purposes are fully excluded."
   ]
  },
  {
   "cell_type": "code",
   "execution_count": 22,
   "id": "8473c04a-18ed-4caf-9117-eddac09045f8",
   "metadata": {
    "execution": {
     "iopub.execute_input": "2024-01-21T02:31:00.502083Z",
     "iopub.status.busy": "2024-01-21T02:31:00.502083Z",
     "iopub.status.idle": "2024-01-21T02:31:00.525431Z",
     "shell.execute_reply": "2024-01-21T02:31:00.524388Z",
     "shell.execute_reply.started": "2024-01-21T02:31:00.502083Z"
    }
   },
   "outputs": [],
   "source": [
    "aqual = pd.read_csv(r\"./AirQualityUCI.csv\", sep = ';', parse_dates = True)"
   ]
  },
  {
   "cell_type": "code",
   "execution_count": 23,
   "id": "1e36186f-03a9-4f4e-98eb-19ccc6bfea5b",
   "metadata": {
    "execution": {
     "iopub.execute_input": "2024-01-21T02:31:00.996946Z",
     "iopub.status.busy": "2024-01-21T02:31:00.996946Z",
     "iopub.status.idle": "2024-01-21T02:31:01.006035Z",
     "shell.execute_reply": "2024-01-21T02:31:01.006035Z",
     "shell.execute_reply.started": "2024-01-21T02:31:00.996946Z"
    }
   },
   "outputs": [
    {
     "data": {
      "text/plain": [
       "0       10/03/2004 18.00.00\n",
       "1       10/03/2004 19.00.00\n",
       "2       10/03/2004 20.00.00\n",
       "3       10/03/2004 21.00.00\n",
       "4       10/03/2004 22.00.00\n",
       "               ...         \n",
       "9352    04/04/2005 10.00.00\n",
       "9353    04/04/2005 11.00.00\n",
       "9354    04/04/2005 12.00.00\n",
       "9355    04/04/2005 13.00.00\n",
       "9356    04/04/2005 14.00.00\n",
       "Length: 9357, dtype: object"
      ]
     },
     "execution_count": 23,
     "metadata": {},
     "output_type": "execute_result"
    }
   ],
   "source": [
    "aqual.Date + ' ' + aqual.Time"
   ]
  },
  {
   "cell_type": "code",
   "execution_count": 24,
   "id": "4b58e6e3-20b3-4abd-b3b4-824b35d95d01",
   "metadata": {
    "execution": {
     "iopub.execute_input": "2024-01-21T02:31:01.355067Z",
     "iopub.status.busy": "2024-01-21T02:31:01.355067Z",
     "iopub.status.idle": "2024-01-21T02:31:01.389790Z",
     "shell.execute_reply": "2024-01-21T02:31:01.389270Z",
     "shell.execute_reply.started": "2024-01-21T02:31:01.355067Z"
    }
   },
   "outputs": [
    {
     "data": {
      "text/plain": [
       "0      2004-03-10 18:00:00\n",
       "1      2004-03-10 19:00:00\n",
       "2      2004-03-10 20:00:00\n",
       "3      2004-03-10 21:00:00\n",
       "4      2004-03-10 22:00:00\n",
       "               ...        \n",
       "9352   2005-04-04 10:00:00\n",
       "9353   2005-04-04 11:00:00\n",
       "9354   2005-04-04 12:00:00\n",
       "9355   2005-04-04 13:00:00\n",
       "9356   2005-04-04 14:00:00\n",
       "Length: 9357, dtype: datetime64[ns]"
      ]
     },
     "execution_count": 24,
     "metadata": {},
     "output_type": "execute_result"
    }
   ],
   "source": [
    "pd.to_datetime(aqual.Date + ' ' + aqual.Time, format = \"%d/%m/%Y %H.%M.%S\", dayfirst = True)"
   ]
  },
  {
   "cell_type": "code",
   "execution_count": 25,
   "id": "b8015c9d-1b77-4563-9234-e8fe5f8e8594",
   "metadata": {
    "execution": {
     "iopub.execute_input": "2024-01-21T02:31:01.843876Z",
     "iopub.status.busy": "2024-01-21T02:31:01.843876Z",
     "iopub.status.idle": "2024-01-21T02:31:01.875720Z",
     "shell.execute_reply": "2024-01-21T02:31:01.874625Z",
     "shell.execute_reply.started": "2024-01-21T02:31:01.843876Z"
    }
   },
   "outputs": [],
   "source": [
    "aqual.Time = pd.to_datetime(aqual.Date + ' ' + aqual.Time, format = \"%d/%m/%Y %H.%M.%S\", dayfirst = True)\n",
    "aqual.drop(\"Date\", axis = 1, inplace = True)"
   ]
  },
  {
   "cell_type": "code",
   "execution_count": 28,
   "id": "aa295212-0aa2-4e0d-8928-19e3d18cde23",
   "metadata": {
    "execution": {
     "iopub.execute_input": "2024-01-21T02:31:11.387520Z",
     "iopub.status.busy": "2024-01-21T02:31:11.387520Z",
     "iopub.status.idle": "2024-01-21T02:31:11.396795Z",
     "shell.execute_reply": "2024-01-21T02:31:11.396684Z",
     "shell.execute_reply.started": "2024-01-21T02:31:11.387520Z"
    }
   },
   "outputs": [
    {
     "data": {
      "text/plain": [
       "0      2004-03-10 18:00:00\n",
       "1      2004-03-10 19:00:00\n",
       "2      2004-03-10 20:00:00\n",
       "3      2004-03-10 21:00:00\n",
       "4      2004-03-10 22:00:00\n",
       "               ...        \n",
       "9352   2005-04-04 10:00:00\n",
       "9353   2005-04-04 11:00:00\n",
       "9354   2005-04-04 12:00:00\n",
       "9355   2005-04-04 13:00:00\n",
       "9356   2005-04-04 14:00:00\n",
       "Name: Time, Length: 9357, dtype: datetime64[ns]"
      ]
     },
     "execution_count": 28,
     "metadata": {},
     "output_type": "execute_result"
    }
   ],
   "source": [
    "aqual.Time"
   ]
  },
  {
   "cell_type": "code",
   "execution_count": null,
   "id": "fe97eb14-132f-4407-9f76-84887428588d",
   "metadata": {},
   "outputs": [],
   "source": []
  }
 ],
 "metadata": {
  "kernelspec": {
   "display_name": "Python 3 (ipykernel)",
   "language": "python",
   "name": "python3"
  },
  "language_info": {
   "codemirror_mode": {
    "name": "ipython",
    "version": 3
   },
   "file_extension": ".py",
   "mimetype": "text/x-python",
   "name": "python",
   "nbconvert_exporter": "python",
   "pygments_lexer": "ipython3",
   "version": "3.11.7"
  }
 },
 "nbformat": 4,
 "nbformat_minor": 5
}
