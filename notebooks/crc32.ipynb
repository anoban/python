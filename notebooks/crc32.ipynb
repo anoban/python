{
 "cells": [
  {
   "cell_type": "code",
   "execution_count": 1,
   "id": "8adcd821-6d34-44be-b8ea-a13cbe4ea7ee",
   "metadata": {
    "execution": {
     "iopub.execute_input": "2024-02-21T23:56:12.937192Z",
     "iopub.status.busy": "2024-02-21T23:56:12.937192Z",
     "iopub.status.idle": "2024-02-21T23:56:12.954113Z",
     "shell.execute_reply": "2024-02-21T23:56:12.954113Z",
     "shell.execute_reply.started": "2024-02-21T23:56:12.937192Z"
    }
   },
   "outputs": [],
   "source": [
    "from binascii import crc32"
   ]
  },
  {
   "cell_type": "code",
   "execution_count": 2,
   "id": "0ba54958-2734-4c3b-b4ec-da1c2fcb911d",
   "metadata": {
    "execution": {
     "iopub.execute_input": "2024-02-21T23:56:15.904591Z",
     "iopub.status.busy": "2024-02-21T23:56:15.904591Z",
     "iopub.status.idle": "2024-02-21T23:56:15.954260Z",
     "shell.execute_reply": "2024-02-21T23:56:15.954260Z",
     "shell.execute_reply.started": "2024-02-21T23:56:15.904591Z"
    }
   },
   "outputs": [],
   "source": [
    "with open(r\"./png_simpsons_76695.png\", mode = \"rb\") as fp:\n",
    "    contents = fp.read()"
   ]
  },
  {
   "cell_type": "code",
   "execution_count": 3,
   "id": "321cc4bf-79d1-4951-920e-84c972b64222",
   "metadata": {
    "execution": {
     "iopub.execute_input": "2024-02-21T23:56:16.595245Z",
     "iopub.status.busy": "2024-02-21T23:56:16.584727Z",
     "iopub.status.idle": "2024-02-21T23:56:16.600418Z",
     "shell.execute_reply": "2024-02-21T23:56:16.600418Z",
     "shell.execute_reply.started": "2024-02-21T23:56:16.595245Z"
    }
   },
   "outputs": [
    {
     "data": {
      "text/plain": [
       "263586"
      ]
     },
     "execution_count": 3,
     "metadata": {},
     "output_type": "execute_result"
    }
   ],
   "source": [
    "len(contents)"
   ]
  },
  {
   "cell_type": "code",
   "execution_count": 4,
   "id": "c4a17bb4-b738-4194-b0dc-f165c6e3afaf",
   "metadata": {
    "execution": {
     "iopub.execute_input": "2024-02-21T23:56:17.276884Z",
     "iopub.status.busy": "2024-02-21T23:56:17.276884Z",
     "iopub.status.idle": "2024-02-21T23:56:17.287882Z",
     "shell.execute_reply": "2024-02-21T23:56:17.287225Z",
     "shell.execute_reply.started": "2024-02-21T23:56:17.276884Z"
    }
   },
   "outputs": [
    {
     "name": "stdout",
     "output_type": "stream",
     "text": [
      "b'\\x89PNG\\r\\n\\x1a\\n'\n"
     ]
    }
   ],
   "source": [
    "print(contents[:8])"
   ]
  },
  {
   "cell_type": "code",
   "execution_count": 5,
   "id": "653843c6-62e4-46c5-bb18-ceb4bd8f6c5f",
   "metadata": {
    "execution": {
     "iopub.execute_input": "2024-02-21T23:56:18.473779Z",
     "iopub.status.busy": "2024-02-21T23:56:18.473779Z",
     "iopub.status.idle": "2024-02-21T23:56:18.482365Z",
     "shell.execute_reply": "2024-02-21T23:56:18.482365Z",
     "shell.execute_reply.started": "2024-02-21T23:56:18.473779Z"
    }
   },
   "outputs": [
    {
     "data": {
      "text/plain": [
       "13"
      ]
     },
     "execution_count": 5,
     "metadata": {},
     "output_type": "execute_result"
    }
   ],
   "source": [
    "int.from_bytes(contents[8:12], byteorder = \"big\")"
   ]
  },
  {
   "cell_type": "code",
   "execution_count": 35,
   "id": "8f8c93df-7924-4b1a-8247-ab162e286779",
   "metadata": {
    "execution": {
     "iopub.execute_input": "2024-02-21T12:24:44.803099Z",
     "iopub.status.busy": "2024-02-21T12:24:44.803099Z",
     "iopub.status.idle": "2024-02-21T12:24:44.821419Z",
     "shell.execute_reply": "2024-02-21T12:24:44.820907Z",
     "shell.execute_reply.started": "2024-02-21T12:24:44.803099Z"
    }
   },
   "outputs": [
    {
     "data": {
      "text/plain": [
       "'IHDR'"
      ]
     },
     "execution_count": 35,
     "metadata": {},
     "output_type": "execute_result"
    }
   ],
   "source": [
    "contents[12:16].decode()"
   ]
  },
  {
   "cell_type": "code",
   "execution_count": 28,
   "id": "ee6d0110-3f36-4a92-952d-2b5bbcf78867",
   "metadata": {
    "execution": {
     "iopub.execute_input": "2024-02-21T12:21:23.870399Z",
     "iopub.status.busy": "2024-02-21T12:21:23.870399Z",
     "iopub.status.idle": "2024-02-21T12:21:23.882594Z",
     "shell.execute_reply": "2024-02-21T12:21:23.881916Z",
     "shell.execute_reply.started": "2024-02-21T12:21:23.870399Z"
    }
   },
   "outputs": [
    {
     "data": {
      "text/plain": [
       "b'\\x00\\x00\\x05\\xad\\x00\\x00\\x06\\x8d\\x08\\x06\\x00\\x00\\x00'"
      ]
     },
     "execution_count": 28,
     "metadata": {},
     "output_type": "execute_result"
    }
   ],
   "source": [
    "contents[16:29]"
   ]
  },
  {
   "cell_type": "code",
   "execution_count": 32,
   "id": "5dae8a9c-e401-4d21-a358-29d571a57248",
   "metadata": {
    "execution": {
     "iopub.execute_input": "2024-02-21T12:22:46.324276Z",
     "iopub.status.busy": "2024-02-21T12:22:46.324276Z",
     "iopub.status.idle": "2024-02-21T12:22:46.333970Z",
     "shell.execute_reply": "2024-02-21T12:22:46.333456Z",
     "shell.execute_reply.started": "2024-02-21T12:22:46.324276Z"
    }
   },
   "outputs": [
    {
     "data": {
      "text/plain": [
       "4133506432"
      ]
     },
     "execution_count": 32,
     "metadata": {},
     "output_type": "execute_result"
    }
   ],
   "source": [
    "crc32(contents[16:29])"
   ]
  },
  {
   "cell_type": "code",
   "execution_count": 36,
   "id": "2f56d864-760d-457b-bb29-f31568c85d10",
   "metadata": {
    "execution": {
     "iopub.execute_input": "2024-02-21T12:25:46.536671Z",
     "iopub.status.busy": "2024-02-21T12:25:46.536671Z",
     "iopub.status.idle": "2024-02-21T12:25:46.541718Z",
     "shell.execute_reply": "2024-02-21T12:25:46.541205Z",
     "shell.execute_reply.started": "2024-02-21T12:25:46.536671Z"
    }
   },
   "outputs": [
    {
     "data": {
      "text/plain": [
       "3615777549"
      ]
     },
     "execution_count": 36,
     "metadata": {},
     "output_type": "execute_result"
    }
   ],
   "source": [
    "int.from_bytes(contents[29:33])"
   ]
  },
  {
   "cell_type": "code",
   "execution_count": 40,
   "id": "2a53c510-1f43-4088-9ae6-738b36295908",
   "metadata": {
    "execution": {
     "iopub.execute_input": "2024-02-21T12:26:11.979211Z",
     "iopub.status.busy": "2024-02-21T12:26:11.979211Z",
     "iopub.status.idle": "2024-02-21T12:26:11.987515Z",
     "shell.execute_reply": "2024-02-21T12:26:11.987219Z",
     "shell.execute_reply.started": "2024-02-21T12:26:11.979211Z"
    }
   },
   "outputs": [
    {
     "data": {
      "text/plain": [
       "2983461467"
      ]
     },
     "execution_count": 40,
     "metadata": {},
     "output_type": "execute_result"
    }
   ],
   "source": [
    "crc32(\"hello-world\".encode())"
   ]
  },
  {
   "cell_type": "code",
   "execution_count": null,
   "id": "03ac7ff5-8ef9-4e9b-9b20-effdd7b5f481",
   "metadata": {},
   "outputs": [],
   "source": []
  }
 ],
 "metadata": {
  "kernelspec": {
   "display_name": "Python 3 (ipykernel)",
   "language": "python",
   "name": "python3"
  },
  "language_info": {
   "codemirror_mode": {
    "name": "ipython",
    "version": 3
   },
   "file_extension": ".py",
   "mimetype": "text/x-python",
   "name": "python",
   "nbconvert_exporter": "python",
   "pygments_lexer": "ipython3",
   "version": "3.13.2"
  }
 },
 "nbformat": 4,
 "nbformat_minor": 5
}
