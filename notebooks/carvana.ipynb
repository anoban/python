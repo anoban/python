{
 "cells": [
  {
   "cell_type": "code",
   "execution_count": null,
   "id": "c52e387c-8dac-4ced-8c6e-457d266f20de",
   "metadata": {},
   "outputs": [],
   "source": [
    "import os\n",
    "import numpy as np\n",
    "np.random.seed(2025-7-23)\n",
    "import torch"
   ]
  },
  {
   "cell_type": "code",
   "execution_count": 12,
   "id": "00619b88-a6a3-4e8c-b89f-20f63208154e",
   "metadata": {},
   "outputs": [],
   "source": [
    "cars = np.unique([_.split('_')[0] for _ in os.listdir(r\"D:/carvana/\")]) # harvest the base names of the cars without the augmentation suffixes\n",
    "images = np.array(os.listdir(r\"D:/carvana/\"))"
   ]
  },
  {
   "cell_type": "code",
   "execution_count": 13,
   "id": "aadf03e2-8279-4797-8248-3e44afcccd72",
   "metadata": {},
   "outputs": [
    {
     "data": {
      "text/plain": [
       "(100064, 6254)"
      ]
     },
     "execution_count": 13,
     "metadata": {},
     "output_type": "execute_result"
    }
   ],
   "source": [
    "images.size, cars.size"
   ]
  },
  {
   "cell_type": "code",
   "execution_count": 14,
   "id": "f36ea61f-3459-49ac-9ae7-f90e57cd1c78",
   "metadata": {},
   "outputs": [],
   "source": [
    "# pick 100 random cars\n",
    "chosen = np.random.choice(cars, size=100, replace=False)"
   ]
  },
  {
   "cell_type": "code",
   "execution_count": 15,
   "id": "bbf892c0-81ff-4d7c-b356-0d08ae4cbf98",
   "metadata": {},
   "outputs": [],
   "source": [
    "# move them to a new folder\n",
    "chosen_images = np.array([fname for car in chosen for fname in images if fname.startswith(car)])"
   ]
  },
  {
   "cell_type": "code",
   "execution_count": 17,
   "id": "a7874ef4-1d11-46de-b1b1-a0a0e4c44d40",
   "metadata": {},
   "outputs": [],
   "source": [
    "# os.mkdir(r\"D:/python/carvana\")"
   ]
  },
  {
   "cell_type": "code",
   "execution_count": 18,
   "id": "fe910172-29ed-4118-bff7-c7e56590c1cb",
   "metadata": {},
   "outputs": [],
   "source": [
    "for file in chosen_images:\n",
    "    os.rename(src=f\"D:/carvana/{file}\", dst=f\"D:/python/carvana/{file}\")"
   ]
  },
  {
   "cell_type": "code",
   "execution_count": null,
   "id": "0ea59fa8-6fb1-4a1c-b2d5-80c2fd496e59",
   "metadata": {},
   "outputs": [],
   "source": []
  }
 ],
 "metadata": {
  "kernelspec": {
   "display_name": "Python 3 (ipykernel)",
   "language": "python",
   "name": "python3"
  },
  "language_info": {
   "codemirror_mode": {
    "name": "ipython",
    "version": 3
   },
   "file_extension": ".py",
   "mimetype": "text/x-python",
   "name": "python",
   "nbconvert_exporter": "python",
   "pygments_lexer": "ipython3",
   "version": "3.13.5"
  }
 },
 "nbformat": 4,
 "nbformat_minor": 5
}
