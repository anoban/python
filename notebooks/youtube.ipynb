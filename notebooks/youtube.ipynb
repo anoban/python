{
 "cells": [
  {
   "cell_type": "code",
   "execution_count": 13,
   "id": "d033c564-2547-45b7-8ff8-62b5b72a4e16",
   "metadata": {},
   "outputs": [],
   "source": [
    "import os\n",
    "import re"
   ]
  },
  {
   "cell_type": "code",
   "execution_count": 19,
   "id": "a611f78b-8514-4b47-aaae-b7489d5ff4e6",
   "metadata": {},
   "outputs": [],
   "source": [
    "fnames = os.listdir(r\"E:/English/Everyday American English/\")"
   ]
  },
  {
   "cell_type": "code",
   "execution_count": 20,
   "id": "4fcec762-28aa-4f6f-af81-4fd1684a4e7f",
   "metadata": {},
   "outputs": [
    {
     "data": {
      "text/plain": [
       "['4_words_for_pain_in_English_Improve_your_vocabulary_Learn_American_English_pain_hurt_ache_sore.mp3',\n",
       " '6_Phrasal_Verbs_pass_on_it_vs._pass_it_on_tie_up_vs._tie_down_cut_back_on_vs._cut_down_on.mp3',\n",
       " 'AMERICAN_ACCENT_TRAINING_American_Pronunciation.mp3',\n",
       " 'AMERICAN_ACCENT_TRAINING_American_Pronunciation_-_CION_-AU_AVOID_COMMON_PRONUNCIATION_MISTAKES.mp3',\n",
       " 'AMERICAN_ACCENT_TRAINING_American_Pronunciation_AVOID_COMMON_PRONUNCIATION_MISTAKES.mp3',\n",
       " 'AMERICAN_ACCENT_TRAINING_American_Pronunciation_conscious_unconscious_consciousness.mp3',\n",
       " 'AMERICAN_EXPRESSIONS_-_CUT_IT_CLOSE_THROUGH_THE_WRINGER_PHRASAL_VERB_-_WRING_IT_OUT_AMERICAN_ENGLISH.mp3',\n",
       " 'AMERICAN_IDIOMS_CRUSH_VS_CRUNCH_LEVEL_UP_YOUR_ENGLISH_AMERICAN_EXPRESSIONS_YOU_NEED_TO_KNOW.mp3',\n",
       " 'American_Pronunciation_Avoid_Mistakes_with_Confusing_Vocabulary_DEAD_DEATH_DEBT_AMERICAN_ENGLISH.mp3',\n",
       " 'American_Pronunciation_Avoid_Mistakes_with_Confusing_Vocabulary_FRENCH_PRONUNCIATION_IN_ENGLISH.mp3',\n",
       " 'American_Pronunciation_Avoid_Mistakes_with_Confusing_Vocabulary_IMPORTANT_VOCABULARY.mp3',\n",
       " 'CLEANING_SUPPLIES_ENGLISH_VOCABULARY_EVERYDAY_ITEMS_IN_ENGLISH.mp3',\n",
       " 'Common_English_Expression_-_NO_RHYME_OR_REASON_American_English_Real-life_American_Pronunciation.mp3',\n",
       " 'Common_English_Expression_-DRAW_A_BLANK_BLANKING_American_English_Real-life_American_Pronunciation.mp3',\n",
       " 'Common_English_Expressions_American_English_Real-life_American_Pronunciation.mp3',\n",
       " 'Common_English_Expressions_HERE_S_THE_KICKER_TO_HIGH_HEAVEN_TAKE_A_GANDER_RUN_OF_THE_MILL.mp3',\n",
       " 'Common_English_Expressions_ON_A_ROLL_BIGGER_FISH_TO_FRY_ALL_EARS_GOTTA_HAND_IT_TO_HIM_BOGUS.mp3',\n",
       " 'Common_English_Expressions_Throw_a_fit_Pitch_a_fit_a_tantrum_by_the_skin_of_your_teeth.mp3',\n",
       " 'COMMON_MISTAKES_-_THE_POLICE_IS_VS._ARE_THE_NEWS_IS_VS._ARE_IN_THE_DRIVEWAY_VS._ON_THE_DRIVEWAY.mp3',\n",
       " 'Confusing_Prepositions_on_a_mountain_vs._in_the_mountains_vs._on_the_mountain_on_vs._in_a_mountain.mp3',\n",
       " 'CONFUSING_VOCABULARY_AND_PRONUNCIATION_CUSTOM_COSTUME_HOARSE_HORSE_MARRY_MERRY_MARY.mp3',\n",
       " 'CONFUSING_VOCABULARY_PATH_TRAIL_PATHWAY_HOW_TO_USE_GO_ON_VS._GO_TO_VS._GO_DO_IT_ON_A_PATH.mp3',\n",
       " 'CONFUSING_VOCABULARY_SWALLOW_SHALLOW_HOLLOW_SWOLLEN_INTERACTIVE_ENGLISH_AMERICAN_ENGLISH.mp3',\n",
       " 'Don_t_Mispronounce_These_Words_American_English_Real-life_American_Pronunciation.mp3',\n",
       " 'EASY_ENGLISH_Comprehensible_input_LEARN_ENGLISH_NATURALLY_SLOW_ENGLISH_ENGLISH_VLOG.mp3',\n",
       " 'English_Idiom_-_IT_GREW_ON_ME_Interactive_English.mp3',\n",
       " 'English_Idiom_-_TAKE_FOR_GRANTED_Interactive_English.mp3',\n",
       " 'ENGLISH_VOCABULARY_INTERACTIVE_ENGLISH_ENGLISH_LESSON_AMERICAN_ENGLISH_ADVANCED_VOCABULARY.mp3',\n",
       " 'ENGLISH_VOCABULARY_RIGGED_VS._RIGID_VS._FAKE_INTERACTIVE_ENGLISH_ENGLISH_LESSON_AMERICAN_ENGLISH.mp3',\n",
       " 'GARDENING_TOOLS_ENGLISH_VOCABULARY_EVERYDAY_ITEMS_IN_ENGLISH.mp3',\n",
       " 'GOOD_WITH_vs._GOOD_AT_ENGLISH_VOCABULARY_INTERACTIVE_ENGLISH.mp3',\n",
       " 'Household_Vocabulary_Real-life_American_English_cushion_vs._pillow_ladle_vs._spoon_and_hardware.mp3',\n",
       " 'How_to_Pronounce_A_BOTTLE_OF_WATER_American_Pronunciation.mp3',\n",
       " 'How_to_Pronounce_NT_SILENT_T_American_Pronunciation.mp3',\n",
       " 'How_to_Pronounce_T_between_Vowels_American_Pronunciation_When_T_is_Pronounced_like_T_or_D.mp3',\n",
       " 'How_to_Use_AM_IS_and_ARE_Learn_Professions_in_English_Describing_people_in_English.mp3',\n",
       " 'How_to_use_TIRED_correctly_PREPOSITIONS_IN_ENGLISH_USING_A_GERUND_USING_THE_INFINITIVE.mp3',\n",
       " 'Important_American_Expression_Cut_Out_For_Learn_Common_Expressions_in_English_American_English.mp3',\n",
       " 'Important_American_Expression_Learn_Common_Expressions_in_English_Common_American_Expressions.mp3',\n",
       " 'Important_American_Vocabulary_Learn_Common_Expressions_in_English_Common_American_Expressions.mp3',\n",
       " 'Important_Phrasal_Verb_BARGE_IN_VS._BARGE_IN_ON_AMERICAN_PRONUNCIATION_AMERICAN_ENGLISH.mp3',\n",
       " 'Important_Phrasal_Verbs_AMERICAN_ENGLISH_REAL-LIFE_AMERICAN_ENGLISH_soak_up_soak_in_turn_down.mp3',\n",
       " 'Important_Phrasal_Verbs_AMERICAN_ENGLISH_stick_vs._stuck_stick_out_stick_in_stick_with_stick_to.mp3',\n",
       " 'Important_Phrasal_Verbs_AMERICAN_PRONUNCIATION_AMERICAN_ENGLISH_REAL-LIFE_AMERICAN_ENGLISH.mp3',\n",
       " 'Important_Prepositions_AMERICAN_ENGLISH_REAL-LIFE_AMERICAN_ENGLISH_AT_IN_ON_MAD_AT_VS._MAD_WITH.mp3',\n",
       " 'Important_Prepositions_AMERICAN_ENGLISH_REAL-LIFE_AMERICAN_ENGLISH_on_a_diet_off_a_diet.mp3',\n",
       " 'IMPORTANT_VOCABULARY_-_COLD-BLOODED_NEAR-SIGHTED_RIGHT-HANDED_LIGHT-HEADED_AMERICAN_ENGLISH.mp3',\n",
       " 'Important_Vocabulary_American_Pronunciation_Household_Items_American_Accent_Real-Life_Vocabulary.mp3',\n",
       " 'Important_Vocabulary_American_Pronunciation_Vocabulary_about_Cars_Real_Life_Vocabulary.mp3',\n",
       " 'Important_Vocabulary_American_Pronunciation_Vocabulary_about_Gardening_Real_Life_Vocabulary.mp3',\n",
       " 'IMPORTANT_VOCABULARY_AND_EXPRESSIONS_YOU_NEED_TO_KNOW_FOLKS_STATUS_QUO_SPRINKLES_SPRINKLED.mp3',\n",
       " 'IMPORTANT_VOCABULARY_AND_EXPRESSIONS_YOU_NEED_TO_KNOW_GO_ON_VS._GO_TO.mp3',\n",
       " 'IMPORTANT_VOCABULARY_AND_EXPRESSIONS_YOU_NEED_TO_KNOW_RUN_OF_THE_MILL_HINDSIGHT_HINDSIGHT_IS_20_20.mp3',\n",
       " 'IMPORTANT_VOCABULARY_CONFUSING_VOCABULARY_SLIP_SLIPPERY_SLICK_SLIDE_SLIPPED_ON_SLIDE_SLID_ON.mp3',\n",
       " 'IMPORTANT_VOCABULARY_YOU_NEED_TO_KNOW_7_meanings_of_cast_PRACTICE_REAL-LIFE_AMERICAN_ENGLISH.mp3',\n",
       " 'IMPORTANT_VOCABULARY_YOU_NEED_TO_KNOW_American_Pronunciation_Avoid_Mistakes_Confusing_Vocabulary.mp3',\n",
       " 'IMPORTANT_VOCABULARY_YOU_NEED_TO_KNOW_AVOID_COMMON_MISTAKES_WITH_THE_FIRST_CONDITIONAL_AS_LONG_AS.mp3',\n",
       " 'IMPORTANT_VOCABULARY_YOU_NEED_TO_KNOW_AVOID_USING_BAD_WORDS_IN_ENGLISH_ALTERNATIVES_TO_CUSS_WORDS.mp3',\n",
       " 'IMPORTANT_VOCABULARY_YOU_NEED_TO_KNOW_awkward_soulmate_mate_mating_mating_season_classmate.mp3',\n",
       " 'IMPORTANT_VOCABULARY_YOU_NEED_TO_KNOW_COMMON_AMERICAN_VOCABULARY_-_BINGE_ON_VS._ON_A_BINGE.mp3',\n",
       " 'IMPORTANT_VOCABULARY_YOU_NEED_TO_KNOW_COMMON_AMERICAN_VOCABULARY_-_DYE_BLEACH_ASSEMBLE_ASSEMBLY.mp3',\n",
       " 'IMPORTANT_VOCABULARY_YOU_NEED_TO_KNOW_COMMON_AMERICAN_VOCABULARY_COOKING_SOUP_IN_THE_KITCHEN.mp3',\n",
       " 'IMPORTANT_VOCABULARY_YOU_NEED_TO_KNOW_COMMON_AMERICAN_VOCABULARY_KINK_SPOOL_PERMIT_VS._PERMISSION.mp3',\n",
       " 'IMPORTANT_VOCABULARY_YOU_NEED_TO_KNOW_COMMON_AMERICAN_VOCABULARY_soil_dirt_pottery_gardening.mp3',\n",
       " 'IMPORTANT_VOCABULARY_YOU_NEED_TO_KNOW_COMMON_AMERICAN_VOCABULARY_UPLOAD_VS._DOWNLOAD_UNLOADED.mp3',\n",
       " 'IMPORTANT_VOCABULARY_YOU_NEED_TO_KNOW_COMMON_PRONUCIATION_MISTAKES_GUARANTEE_GUARD_GUESS_GUILTY.mp3',\n",
       " 'IMPORTANT_VOCABULARY_YOU_NEED_TO_KNOW_Confusing_Vocabulary_CRASH_INTO_WRECK_INTO_RUN_INTO_BUMP_INTO.mp3',\n",
       " 'IMPORTANT_VOCABULARY_YOU_NEED_TO_KNOW_Confusing_Vocabulary_gory_gore_gruesome_grisly_grizzly.mp3',\n",
       " 'IMPORTANT_VOCABULARY_YOU_NEED_TO_KNOW_Confusing_Vocabulary_SHOW_UP_VS._MAKE_IT_TO_VS._ARRIVE.mp3',\n",
       " 'IMPORTANT_VOCABULARY_YOU_NEED_TO_KNOW_Confusing_Vocabulary_wind_up_wound_up_wind_down_wounded.mp3',\n",
       " 'IMPORTANT_VOCABULARY_YOU_NEED_TO_KNOW_wince_grimace_cringe_conscience_conscious_conscientious.mp3',\n",
       " 'KITCHEN_UTENSILS_ENGLISH_VOCABULARY_EVERYDAY_ITEMS_IN_ENGLISH.mp3',\n",
       " 'LEARN_ENGLISH_NATURALLY_Comprehensible_Input_Nursery_Vocabulary_Easy_English.mp3',\n",
       " 'Learn_English_Phrasal_Verbs_pick_out_pick_up_pick_EVERYDAY_AMERICAN_ENGLISH.mp3',\n",
       " 'Learn_English_Phrasal_Verbs_swing_by_stop_by_drop_by_EVERYDAY_AMERICAN_ENGLISH.mp3',\n",
       " 'Learn_English_Phrasal_Verbs_tear_up_tore_up_tear_up_teared_up_fold_up_EVERYDAY_AMERICAN_ENGLISH.mp3',\n",
       " 'Learn_English_the_EASY_way_Comprehensible_Input_LEARN_ENGLISH_NATURALLY_at_the_concert.mp3',\n",
       " 'Learn_English_the_EASY_way_Comprehensible_input_LEARN_ENGLISH_NATURALLY_at_the_craft_store.mp3',\n",
       " 'Learn_English_the_EASY_way_Comprehensible_Input_LEARN_ENGLISH_NATURALLY_Hunting_Vocabulary.mp3',\n",
       " 'Learn_English_the_EASY_way_Comprehensible_Input_LEARN_ENGLISH_NATURALLY_While_Exploring_a_Farm.mp3',\n",
       " 'Learn_English_the_EASY_way_Comprehensible_input_LEARN_ENGLISH_NATURALLY_while_exploring_the_beach.mp3',\n",
       " 'Learn_English_the_EASY_way_Comprehensible_input_LEARN_ENGLISH_NATURALLY_while_exploring_the_city.mp3',\n",
       " 'Learn_English_the_EASY_way_Comprehensible_input_LEARN_ENGLISH_NATURALLY_while_exploring_the_hotel.mp3',\n",
       " 'Learn_English_the_EASY_way_Comprehensible_input_LEARN_ENGLISH_NATURALLY_while_playing_sports.mp3',\n",
       " 'Learn_English_the_EASY_way_Comprehensible_Input_LEARN_ENGLISH_NATURALLY_While_Shopping_at_IKEA.mp3',\n",
       " 'Learn_English_the_EASY_way_Comprehensible_Input_LEARN_ENGLISH_NATURALLY_While_Shopping_for_Clothes.mp3',\n",
       " 'Learn_English_the_EASY_way_Comprehensible_Input_LEARN_ENGLISH_NATURALLY_While_Shopping_for_Fruit.mp3',\n",
       " 'Learn_English_the_EASY_way_Comprehensible_Input_LEARN_ENGLISH_NATURALLY_while_walking_the_dog.mp3',\n",
       " 'LEVEL_UP_YOUR_ENGLISH_IMPORTANT_AMERICAN_EXPRESSIONS_YOU_NEED_TO_KNOW_A_PIECE_OF_WORK_IN_THE_LURCH.mp3',\n",
       " 'Level_up_your_English_with_Important_Phrasal_Verbs_AMERICAN_ENGLISH_bale_vs._bail.mp3',\n",
       " 'Master_prepositions_-_in_on_at_When_to_use_prepositions_-_in_on_at_American_English_Pronunciation.mp3',\n",
       " 'MASTER_THE_PRONUNCIATION_OF_THE_DARK_L_VS._THE_LIGHT_L_REAL-LIFE_AMERICAN_ENGLISH_AMERICAN.mp3',\n",
       " 'MASTER_THE_PRONUNCIATION_OF_THE_LETTER_T_REAL-LIFE_AMERICAN_ENGLISH_AMERICAN_PRONUNCIATION.mp3',\n",
       " 'NATURAL_ENGLISH_Comprehensible_Input_Car_Vocabulary_Real-life_English.mp3',\n",
       " 'NOUNS_that_are_used_in_the_PLURAL_FORM_ONLY_ENGLISH_GRAMMAR_AMERICAN_PRONUNCIATION.mp3',\n",
       " 'Phrasal_Verb_-_BRING_UP_Conversational_English_Practice_Speaking_English.mp3',\n",
       " 'Phrasal_Verb_-_PUT_UP_Conversational_English_Practice_Speaking_English.mp3',\n",
       " 'Phrasal_Verbs_American_English_CHURN_UP_CHURN_OUT_THAW_OUT_PASS_OUT_KNOCK_OUT.mp3',\n",
       " 'Phrasal_Verbs_American_English_CLEAN_UP_SHAKE_UP_HOOK_UP_FILL_UP_COOPED_UP_CHARGE_UP.mp3',\n",
       " 'Phrasal_Verbs_American_English_RUB_OFF_SPRUCE_UP_DRY_UP_FRY_OFF_HANG_UP_HANG_AROUND_HANG_OUT.mp3',\n",
       " 'REAL-_LIFE_AMERICAN_ENGLISH_AMERICAN_ACCENT_TRAINING.mp3',\n",
       " 'REAL-LIFE_AMERICAN_ENGLISH_at_the_playground_Comprehensible_input_EASY_English_SLOW_English.mp3',\n",
       " 'REAL-LIFE_AMERICAN_ENGLISH_Comprehensible_input_BICYCLE_VOCABULARY_American_Accent_Training.mp3',\n",
       " 'REAL-LIFE_AMERICAN_ENGLISH_Comprehensible_input_CITY_VOCABULARY_American_Accent_Training.mp3',\n",
       " 'REAL-LIFE_AMERICAN_VOCABULARY_Comprehensible_Input_LEARN_ENGLISH_NATURALLY_EASY_ENGLISH.mp3',\n",
       " 'Relationship_Vocabulary_Phrasal_Verbs_Married_Split_up_Divorced_Separated_Cheating_on_etc....mp3',\n",
       " 'TAYLOR_SWIFT_WAS_SLURRING_HER_SPEECH_A_SLUR_SLURRED_SLURRING_A_RACIAL_SLUR_SLURRED_SPEECH.mp3',\n",
       " 'TOOLS_ENGLISH_VOCABULARY_INTERACTIVE_ENGLISH_ENGLISH_LESSON_EVERYDAY_ITEMS_IN_ENGLISH.mp3',\n",
       " 'VOCABULARY_YOU_NEED_TO_KNOW_Confusing_Vocabulary_desert_dessert_blur_blurry_aboard_board.mp3',\n",
       " 'VOCABULARY_YOU_NEED_TO_KNOW_Confusing_Vocabulary_hoarse_vs._horse_exorbitant_harrowing.mp3',\n",
       " 'VOCABULARY_YOU_NEED_TO_KNOW_farther_further_farther_north_PRACTICE_REAL-LIFE_AMERICAN_ENGLISH.mp3',\n",
       " 'VOCABULARY_YOU_NEED_TO_KNOW_PREACH_VS._LECTURE_PREACH_TO_VS_PREACH_AT_LECTURE_TO_A_SERMON.mp3',\n",
       " 'VOCABULARY_YOU_NEED_TO_KNOW_shred_shredded_shredder_grate_grated_grater_savage_salvage.mp3',\n",
       " 'VOCABULARY_YOU_NEED_TO_KNOW_Vocabulary_PEACH_FUZZ_STUBBLE_5_O_CLOCK_SHADOW_CHAPSTICK_CHOPSTICKS.mp3']"
      ]
     },
     "execution_count": 20,
     "metadata": {},
     "output_type": "execute_result"
    }
   ],
   "source": [
    "fnames"
   ]
  },
  {
   "cell_type": "code",
   "execution_count": 15,
   "id": "5f9aa559-078f-4875-b98c-8fa775e74456",
   "metadata": {},
   "outputs": [],
   "source": [
    "NEGATIVES = re.compile(r\"o[es]+n t\", flags=re.IGNORECASE)"
   ]
  },
  {
   "cell_type": "code",
   "execution_count": null,
   "id": "52c0e053-8fc3-4e55-ab61-f1128445499b",
   "metadata": {},
   "outputs": [],
   "source": []
  },
  {
   "cell_type": "raw",
   "id": "83887257-687a-4833-8bd6-2bad76fcae75",
   "metadata": {},
   "source": [
    "for file in os.listdir(r\"E:/English/Everyday American English/\"):\n",
    "    os.rename(src=f\"E:/English/Everyday American English/{file}\", \n",
    "              dst=f\"E:/English/Everyday American English/{file.replace('_', ' ').replace(\"...\", \", \").title()}\")"
   ]
  },
  {
   "cell_type": "raw",
   "id": "24ca49d3-5bd8-4b80-930c-332112f2b246",
   "metadata": {},
   "source": [
    "for file in os.listdir(r\"E:/English/Accent's Way English with Hadar/\"):\n",
    "    os.rename(src=f\"E:/English/Accent's Way English with Hadar/{file}\", \n",
    "              dst=f\"E:/English/Accent's Way English with Hadar/{file.replace('_', ' ').replace(\"...\", \", \").title()}\")"
   ]
  },
  {
   "cell_type": "code",
   "execution_count": null,
   "id": "7c674240-00ce-4e79-88d3-5fea65d7368a",
   "metadata": {},
   "outputs": [],
   "source": []
  },
  {
   "cell_type": "code",
   "execution_count": null,
   "id": "8ed185af-db1b-4b00-a36f-77a46ac18ca6",
   "metadata": {},
   "outputs": [],
   "source": []
  }
 ],
 "metadata": {
  "kernelspec": {
   "display_name": "Python 3 (ipykernel)",
   "language": "python",
   "name": "python3"
  },
  "language_info": {
   "codemirror_mode": {
    "name": "ipython",
    "version": 3
   },
   "file_extension": ".py",
   "mimetype": "text/x-python",
   "name": "python",
   "nbconvert_exporter": "python",
   "pygments_lexer": "ipython3",
   "version": "3.13.5"
  }
 },
 "nbformat": 4,
 "nbformat_minor": 5
}
