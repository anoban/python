{
 "cells": [
  {
   "cell_type": "code",
   "execution_count": 1,
   "id": "9901060a-afac-4e94-8251-376b74ba3d06",
   "metadata": {
    "execution": {
     "iopub.execute_input": "2023-10-04T11:46:33.909369Z",
     "iopub.status.busy": "2023-10-04T11:46:33.909369Z",
     "iopub.status.idle": "2023-10-04T11:46:35.439950Z",
     "shell.execute_reply": "2023-10-04T11:46:35.439950Z",
     "shell.execute_reply.started": "2023-10-04T11:46:33.909369Z"
    }
   },
   "outputs": [],
   "source": [
    "import os\n",
    "import pandas as pd\n",
    "import re\n",
    "from bs4 import BeautifulSoup\n",
    "from urllib import request\n",
    "from selenium import webdriver\n",
    "from selenium.webdriver.common.by import By\n",
    "from selenium.webdriver.support.wait import WebDriverWait\n",
    "from selenium.webdriver.support import expected_conditions as EC\n",
    "import typing\n",
    "import time"
   ]
  },
  {
   "cell_type": "code",
   "execution_count": 26,
   "id": "b7340566-0f7e-4ae5-a14e-196812275693",
   "metadata": {
    "execution": {
     "iopub.execute_input": "2023-09-26T12:00:19.403475Z",
     "iopub.status.busy": "2023-09-26T12:00:19.403475Z",
     "iopub.status.idle": "2023-09-26T12:00:19.410354Z",
     "shell.execute_reply": "2023-09-26T12:00:19.410354Z",
     "shell.execute_reply.started": "2023-09-26T12:00:19.403475Z"
    }
   },
   "outputs": [
    {
     "data": {
      "text/plain": [
       "['NC_003861.html',\n",
       " 'OK362288.html',\n",
       " 'OK377341.html',\n",
       " 'OK377342.html',\n",
       " 'OK377343.html',\n",
       " 'OK424595.html']"
      ]
     },
     "execution_count": 26,
     "metadata": {},
     "output_type": "execute_result"
    }
   ],
   "source": [
    "os.listdir(\"./data/BLAST/\")"
   ]
  },
  {
   "cell_type": "code",
   "execution_count": 21,
   "id": "e03e57e5-3f32-4188-ac19-40a0d872768d",
   "metadata": {
    "execution": {
     "iopub.execute_input": "2023-09-26T11:57:31.111314Z",
     "iopub.status.busy": "2023-09-26T11:57:31.111314Z",
     "iopub.status.idle": "2023-09-26T11:57:32.494497Z",
     "shell.execute_reply": "2023-09-26T11:57:32.494497Z",
     "shell.execute_reply.started": "2023-09-26T11:57:31.111314Z"
    }
   },
   "outputs": [],
   "source": [
    "contents = {}\n",
    "\n",
    "for file in os.listdir(\"./data/BLAST/\"):\n",
    "    with open(\"./data/BLAST/\" + file, 'r') as fp:\n",
    "        contents[file.replace(\".html\", \"\")] = BeautifulSoup(fp.read(), \"html.parser\")"
   ]
  },
  {
   "cell_type": "code",
   "execution_count": 33,
   "id": "1ee8d353-f80d-4352-ad01-c2c6d11a50eb",
   "metadata": {
    "execution": {
     "iopub.execute_input": "2023-09-26T12:03:26.821876Z",
     "iopub.status.busy": "2023-09-26T12:03:26.821876Z",
     "iopub.status.idle": "2023-09-26T12:03:26.837556Z",
     "shell.execute_reply": "2023-09-26T12:03:26.837556Z",
     "shell.execute_reply.started": "2023-09-26T12:03:26.821876Z"
    }
   },
   "outputs": [],
   "source": [
    "contents[\"NC_003861\"].find(\"table\", attrs = {\"id\": \"dscTable\"});"
   ]
  },
  {
   "cell_type": "code",
   "execution_count": 34,
   "id": "5a4936b2-9870-47bd-b6c7-e18ef5311b43",
   "metadata": {
    "execution": {
     "iopub.execute_input": "2023-09-26T12:04:04.852456Z",
     "iopub.status.busy": "2023-09-26T12:04:04.836989Z",
     "iopub.status.idle": "2023-09-26T12:04:04.858393Z",
     "shell.execute_reply": "2023-09-26T12:04:04.858393Z",
     "shell.execute_reply.started": "2023-09-26T12:04:04.852456Z"
    }
   },
   "outputs": [
    {
     "data": {
      "text/plain": [
       "'\\n\\n<tr id=\"dtr_61657622\" ind=\"7\" class=\"odd dflLnk\">\\n<td class=\"l c0\"><span class=\"ind\">7</span><input type=\"checkbox\" id=\"chk_7\" class=\"cb\" name=\"getSeqGi\" value=\"61657622\" onclick=\"configDescrLinks(event,this)\"><label for=\"chk_7\" onclick=\"checkShiftKey(event,this)\"><span class=\"accsb\">Select seq AJ890224.1</span></label></td>\\n<td class=\"ellipsis c2\"><span><a title=\"Go to alignment for Sri Lankan cassava mosaic virus ac1 gene, ac2 gene, ac3 gene, ac4 gene, av1 gene and av2 gene, isolate Kerala 15, complete virus segment\" class=\"deflnDesc\" hsp=\"1\" len=\"2761\" ind=\"7\" accs=\"AJ890224.1\" seqfsta=\"gi|61657622\" gi=\"61657622\" seqid=\"61657622\" id=\"deflnDesc_7\" onclick=\"DisplayAlignFromDescription(this);\" href=\"#alnHdr_61657622\">Sri Lankan cassava mosaic virus ac1 gene, ac2 gene, ac3 gene, ac4 gene, av1 gene and av2 gene, isolate Kerala 15, complete virus segment</a></span></td>\\n<td class=\"ellipsis c3\"><span><a href=\"https://www.ncbi.nlm.nih.gov/Taxonomy/Browser/wwwtax.cgi?id=161378\" class=\"sciName\" title=\"Taxonomy for Sri Lankan cassava mosaic virus\" target=\"lnk<@rid@>\">Sri Lankan cassava mosaic virus</a></span></td>\\n<td class=\"ellipsis c4 ui-ncbigrid-column-hidden\"><span><a href=\"https://www.ncbi.nlm.nih.gov/Taxonomy/Browser/wwwtax.cgi?id=161378\" class=\"cmnName\" title=\"Taxonomy for NA\">NA</a></span></td>\\n<td class=\"c5 ui-ncbigrid-column-hidden\"><a href=\"https://www.ncbi.nlm.nih.gov/Taxonomy/Browser/wwwtax.cgi?id=161378\" class=\"txid\" title=\"Taxonomy for taxid 161378\">161378</a></td>\\n<td class=\"c6\">4102</td>\\n<td class=\"c7\">4102</td>\\n<td class=\"c8\">100%</td>\\n<td class=\"c9\">0.0</td>\\n<td class=\"c10\">93.55%</td>\\n<td class=\"c11 acclen\">2756</td>\\n<td class=\"c12 l lim\">\\n<a href=\"https://www.ncbi.nlm.nih.gov/nucleotide/AJ890224.1?report=genbank&amp;log$=nucltop&amp;blast_rank=7&amp;RID=H5G050J9016\" class=\"dflSeq\" target=\"lnkH5G050J9016\" title=\"Show report for AJ890224.1\">AJ890224.1</a>\\n</td>\\n</tr>\\n\\n'"
      ]
     },
     "execution_count": 34,
     "metadata": {},
     "output_type": "execute_result"
    }
   ],
   "source": [
    "# a typical table record\n",
    "\n",
    "\"\"\"\n",
    "\n",
    "<tr id=\"dtr_61657622\" ind=\"7\" class=\"odd dflLnk\">\n",
    "<td class=\"l c0\"><span class=\"ind\">7</span><input type=\"checkbox\" id=\"chk_7\" class=\"cb\" name=\"getSeqGi\" value=\"61657622\" onclick=\"configDescrLinks(event,this)\"><label for=\"chk_7\" onclick=\"checkShiftKey(event,this)\"><span class=\"accsb\">Select seq AJ890224.1</span></label></td>\n",
    "# Need this!\n",
    "<td class=\"ellipsis c2\"><span><a title=\"Go to alignment for Sri Lankan cassava mosaic virus ac1 gene, ac2 gene, ac3 gene, ac4 gene, av1 gene and av2 gene, isolate Kerala 15, complete virus segment\" class=\"deflnDesc\" hsp=\"1\" len=\"2761\" ind=\"7\" accs=\"AJ890224.1\" seqfsta=\"gi|61657622\" gi=\"61657622\" seqid=\"61657622\" id=\"deflnDesc_7\" onclick=\"DisplayAlignFromDescription(this);\" href=\"#alnHdr_61657622\">Sri Lankan cassava mosaic virus ac1 gene, ac2 gene, ac3 gene, ac4 gene, av1 gene and av2 gene, isolate Kerala 15, complete virus segment</a></span></td>\n",
    "<td class=\"ellipsis c3\"><span><a href=\"https://www.ncbi.nlm.nih.gov/Taxonomy/Browser/wwwtax.cgi?id=161378\" class=\"sciName\" title=\"Taxonomy for Sri Lankan cassava mosaic virus\" target=\"lnk<@rid@>\">Sri Lankan cassava mosaic virus</a></span></td>\n",
    "<td class=\"ellipsis c4 ui-ncbigrid-column-hidden\"><span><a href=\"https://www.ncbi.nlm.nih.gov/Taxonomy/Browser/wwwtax.cgi?id=161378\" class=\"cmnName\" title=\"Taxonomy for NA\">NA</a></span></td>\n",
    "<td class=\"c5 ui-ncbigrid-column-hidden\"><a href=\"https://www.ncbi.nlm.nih.gov/Taxonomy/Browser/wwwtax.cgi?id=161378\" class=\"txid\" title=\"Taxonomy for taxid 161378\">161378</a></td>\n",
    "<td class=\"c6\">4102</td>\n",
    "<td class=\"c7\">4102</td>\n",
    "<td class=\"c8\">100%</td>\n",
    "<td class=\"c9\">0.0</td>\n",
    "# Need this! (Percentage identity)\n",
    "<td class=\"c10\">93.55%</td>\n",
    "# Need this!\n",
    "<td class=\"c11 acclen\">2756</td>\n",
    "<td class=\"c12 l lim\">\n",
    "# Need this! (Link and the accession number)\n",
    "<a href=\"https://www.ncbi.nlm.nih.gov/nucleotide/AJ890224.1?report=genbank&amp;log$=nucltop&amp;blast_rank=7&amp;RID=H5G050J9016\" class=\"dflSeq\" target=\"lnkH5G050J9016\" title=\"Show report for AJ890224.1\">AJ890224.1</a>\n",
    "</td>\n",
    "</tr>\n",
    "\n",
    "\"\"\""
   ]
  },
  {
   "cell_type": "code",
   "execution_count": 48,
   "id": "a8a3189b-dfa3-4f3c-9970-9cda19fa492c",
   "metadata": {
    "execution": {
     "iopub.execute_input": "2023-09-26T12:17:57.929711Z",
     "iopub.status.busy": "2023-09-26T12:17:57.929711Z",
     "iopub.status.idle": "2023-09-26T12:17:57.955228Z",
     "shell.execute_reply": "2023-09-26T12:17:57.955228Z",
     "shell.execute_reply.started": "2023-09-26T12:17:57.929711Z"
    }
   },
   "outputs": [
    {
     "data": {
      "text/plain": [
       "<tr class=\"odd dflLnk\" id=\"dtr_20806048\" ind=\"1\">\n",
       "<td class=\"l c0\"><span class=\"ind\">1</span><input class=\"cb\" id=\"chk_1\" name=\"getSeqGi\" onclick=\"configDescrLinks(event,this)\" type=\"checkbox\" value=\"20806048\"/><label for=\"chk_1\" onclick=\"checkShiftKey(event,this)\"><span class=\"accsb\">Select seq NC_003861.1</span></label></td>\n",
       "<td class=\"ellipsis c2\"><span><a accs=\"NC_003861.1\" class=\"deflnDesc\" gi=\"20806048\" href=\"#alnHdr_20806048\" hsp=\"1\" id=\"deflnDesc_1\" ind=\"1\" len=\"2755\" onclick=\"DisplayAlignFromDescription(this);\" seqfsta=\"gi|20806048\" seqid=\"20806048\" stat=\"disp\" title=\"Go to alignment for Sri Lankan cassava mosaic virus-[Colombo] DNA-A, complete genome, isolate SLCMV-Col &gt;emb|AJ314737.1| Sri Lankan cassava mosaic virus-[Colombo] DNA-A, complete genome, isolate SLCMV-Col\">Sri Lankan cassava mosaic virus-[Colombo] DNA-A, complete genome, isolate SLCMV-Col</a></span></td>\n",
       "<td class=\"ellipsis c3\"><span><a class=\"sciName\" href=\"https://www.ncbi.nlm.nih.gov/Taxonomy/Browser/wwwtax.cgi?id=223328\" target=\"lnk&lt;@rid@&gt;\" title=\"Taxonomy for Sri Lankan cassava mosaic virus-[Colombo]\">Sri Lankan cassava mosaic virus-[Colombo]</a></span></td>\n",
       "<td class=\"ellipsis c4 ui-ncbigrid-column-hidden\"><span><a class=\"cmnName\" href=\"https://www.ncbi.nlm.nih.gov/Taxonomy/Browser/wwwtax.cgi?id=223328\" title=\"Taxonomy for NA\">NA</a></span></td>\n",
       "<td class=\"c5 ui-ncbigrid-column-hidden\"><a class=\"txid\" href=\"https://www.ncbi.nlm.nih.gov/Taxonomy/Browser/wwwtax.cgi?id=223328\" title=\"Taxonomy for taxid 223328\">223328</a></td>\n",
       "<td class=\"c6\">5088</td>\n",
       "<td class=\"c7\">5088</td>\n",
       "<td class=\"c8\">100%</td>\n",
       "<td class=\"c9\">0.0</td>\n",
       "<td class=\"c10\">100.00%</td>\n",
       "<td class=\"c11 acclen\">2755</td>\n",
       "<td class=\"c12 l lim\">\n",
       "<a class=\"dflSeq\" href=\"https://www.ncbi.nlm.nih.gov/nucleotide/NC_003861.1?report=genbank&amp;log$=nucltop&amp;blast_rank=1&amp;RID=H5G050J9016\" target=\"lnkH5G050J9016\" title=\"Show report for NC_003861.1\">NC_003861.1</a>\n",
       "</td>\n",
       "</tr>"
      ]
     },
     "execution_count": 48,
     "metadata": {},
     "output_type": "execute_result"
    }
   ],
   "source": [
    "res_table = contents[\"NC_003861\"].find(\"table\", attrs = {\"id\": \"dscTable\"})\n",
    "trows = res_table.find_all(\"tr\", attrs = {\"class\": [\"odd dflLnk\", \"even dflLnk\"]})\n",
    "\n",
    "trows[0]"
   ]
  },
  {
   "cell_type": "code",
   "execution_count": 57,
   "id": "e24a8e14-eac9-454b-b5b7-b672fd4238ac",
   "metadata": {
    "execution": {
     "iopub.execute_input": "2023-09-26T12:23:00.555906Z",
     "iopub.status.busy": "2023-09-26T12:23:00.555906Z",
     "iopub.status.idle": "2023-09-26T12:23:00.562698Z",
     "shell.execute_reply": "2023-09-26T12:23:00.562698Z",
     "shell.execute_reply.started": "2023-09-26T12:23:00.555906Z"
    }
   },
   "outputs": [
    {
     "data": {
      "text/plain": [
       "'https://www.ncbi.nlm.nih.gov/nucleotide/NC_003861.1?report=genbank&log$=nucltop&blast_rank=1&RID=H5G050J9016'"
      ]
     },
     "execution_count": 57,
     "metadata": {},
     "output_type": "execute_result"
    }
   ],
   "source": [
    "# Design the logic to extract the needed details from each table row.\n",
    "\n",
    "# Extract the name\n",
    "trows[0].find(\"a\", attrs = {\"class\": \"deflnDesc\"}).text\n",
    "\n",
    "# Extract the percentage identity and sequence length\n",
    "trows[0].find_all(\"td\", attrs = {\"class\": [\"c10\", \"c11 acclen\"]})\n",
    "\n",
    "# Extract the accession id \n",
    "trows[0].find(\"a\", attrs = {\"class\": \"dflSeq\"}).text\n",
    "\n",
    "# Extract the genbank link\n",
    "trows[0].find(\"a\", attrs = {\"class\": \"dflSeq\"}).get(\"href\")"
   ]
  },
  {
   "cell_type": "code",
   "execution_count": 71,
   "id": "8b985ed1-b350-4a08-9ab0-9da3ca39ae8d",
   "metadata": {
    "execution": {
     "iopub.execute_input": "2023-09-26T12:38:58.750243Z",
     "iopub.status.busy": "2023-09-26T12:38:58.750243Z",
     "iopub.status.idle": "2023-09-26T12:38:58.764146Z",
     "shell.execute_reply": "2023-09-26T12:38:58.764146Z",
     "shell.execute_reply.started": "2023-09-26T12:38:58.750243Z"
    }
   },
   "outputs": [],
   "source": [
    "def parse_blast_report(file_path: str) -> dict[str: list[str]]:\n",
    "\n",
    "    \"\"\"\n",
    "    \n",
    "    \"\"\"\n",
    "    \n",
    "    assert (file_path.endswith(\".html\") or file_path.endswith(\".htm\")), \"Only HTML files are supported!\"\n",
    "    with open(file_path, 'r') as fp:\n",
    "        soup = BeautifulSoup(fp.read(), \"html.parser\")\n",
    "\n",
    "    table = soup.find(\"table\", attrs = {\"id\": \"dscTable\"})\n",
    "    assert table, \"There isn't a <table> tag with id=\\\"dscTable\\\" in the HTML file!\"\n",
    "\n",
    "    trows = res_table.find_all(\"tr\", attrs = {\"class\": [\"odd dflLnk\", \"even dflLnk\"]})\n",
    "    assert trows, \"There isn't a <tr> tag with class=\\\"odd dflLnk\\\" or class=\\\"even dflLnk\\\" in the HTML file!\"\n",
    "\n",
    "    result = {\n",
    "        \"Name\": [],\n",
    "        \"PercntIdentity\": [],\n",
    "        \"SeqLength\": [],\n",
    "        \"Accession\": [],\n",
    "        \"GenBankLink\": []\n",
    "    }\n",
    "\n",
    "    for trow in trows:\n",
    "        # Extract the name\n",
    "        result[\"Name\"].append(trow.find(\"a\", attrs = {\"class\": \"deflnDesc\"}).text)\n",
    "\n",
    "        # Extract the percentage identity and sequence length\n",
    "        prcntident_and_len = trow.find_all(\"td\", attrs = {\"class\": [\"c10\", \"c11 acclen\"]})\n",
    "        result[\"PercntIdentity\"].append(prcntident_and_len[0].text)\n",
    "        result[\"SeqLength\"].append(prcntident_and_len[1].text)\n",
    "        \n",
    "        # Extract the accession id \n",
    "        result[\"Accession\"].append(trow.find(\"a\", attrs = {\"class\": \"dflSeq\"}).text)\n",
    "        \n",
    "        # Extract the genbank link\n",
    "        result[\"GenBankLink\"].append(trow.find(\"a\", attrs = {\"class\": \"dflSeq\"}).get(\"href\"))\n",
    "\n",
    "    return result"
   ]
  },
  {
   "cell_type": "code",
   "execution_count": 83,
   "id": "77d2702a-9733-4e9d-9b77-448382e22da0",
   "metadata": {
    "execution": {
     "iopub.execute_input": "2023-09-26T12:43:43.439776Z",
     "iopub.status.busy": "2023-09-26T12:43:43.439776Z",
     "iopub.status.idle": "2023-09-26T12:43:44.967597Z",
     "shell.execute_reply": "2023-09-26T12:43:44.967597Z",
     "shell.execute_reply.started": "2023-09-26T12:43:43.439776Z"
    }
   },
   "outputs": [],
   "source": [
    "df = pd.DataFrame()\n",
    "\n",
    "root = \"./data/BLAST/\"\n",
    "\n",
    "for file in os.listdir(root):\n",
    "    temp = pd.DataFrame(parse_blast_report(root + file))\n",
    "    df = pd.concat([df, temp], axis = 0)"
   ]
  },
  {
   "cell_type": "code",
   "execution_count": 85,
   "id": "eee44f6a-afef-4baf-a63e-095f1505e3e3",
   "metadata": {
    "execution": {
     "iopub.execute_input": "2023-09-26T12:43:54.491068Z",
     "iopub.status.busy": "2023-09-26T12:43:54.491068Z",
     "iopub.status.idle": "2023-09-26T12:43:54.508598Z",
     "shell.execute_reply": "2023-09-26T12:43:54.508079Z",
     "shell.execute_reply.started": "2023-09-26T12:43:54.491068Z"
    }
   },
   "outputs": [
    {
     "data": {
      "text/plain": [
       "(600, 5)"
      ]
     },
     "execution_count": 85,
     "metadata": {},
     "output_type": "execute_result"
    }
   ],
   "source": [
    "df.shape"
   ]
  },
  {
   "cell_type": "code",
   "execution_count": 88,
   "id": "1bc88b84-bb05-402d-980f-961a0f584304",
   "metadata": {
    "execution": {
     "iopub.execute_input": "2023-09-26T12:45:37.407598Z",
     "iopub.status.busy": "2023-09-26T12:45:37.407598Z",
     "iopub.status.idle": "2023-09-26T12:45:37.427550Z",
     "shell.execute_reply": "2023-09-26T12:45:37.427550Z",
     "shell.execute_reply.started": "2023-09-26T12:45:37.407598Z"
    }
   },
   "outputs": [
    {
     "data": {
      "text/plain": [
       "(100, 5)"
      ]
     },
     "execution_count": 88,
     "metadata": {},
     "output_type": "execute_result"
    }
   ],
   "source": [
    "# Well, if that isn't disappointing\n",
    "\n",
    "df.drop_duplicates().shape"
   ]
  },
  {
   "cell_type": "code",
   "execution_count": 90,
   "id": "1d35c170-e1ed-4382-9774-75df80a9fd02",
   "metadata": {
    "execution": {
     "iopub.execute_input": "2023-09-26T12:46:32.788102Z",
     "iopub.status.busy": "2023-09-26T12:46:32.788102Z",
     "iopub.status.idle": "2023-09-26T12:46:32.843740Z",
     "shell.execute_reply": "2023-09-26T12:46:32.843740Z",
     "shell.execute_reply.started": "2023-09-26T12:46:32.788102Z"
    }
   },
   "outputs": [],
   "source": [
    "df.to_csv(\"./data/BLAST/results.csv\", sep = ',', index = None)"
   ]
  },
  {
   "cell_type": "code",
   "execution_count": null,
   "id": "5fe43786-f55b-40db-a78a-7b5baaa302f5",
   "metadata": {},
   "outputs": [],
   "source": []
  },
  {
   "cell_type": "code",
   "execution_count": null,
   "id": "315efa6a-a4f5-4da4-8d26-52afd484fdab",
   "metadata": {},
   "outputs": [],
   "source": []
  },
  {
   "cell_type": "code",
   "execution_count": 3,
   "id": "56cd874a-4266-4317-8fd8-e3f6f082fb79",
   "metadata": {
    "execution": {
     "iopub.execute_input": "2023-09-30T07:44:19.504808Z",
     "iopub.status.busy": "2023-09-30T07:44:19.504808Z",
     "iopub.status.idle": "2023-09-30T07:44:19.563466Z",
     "shell.execute_reply": "2023-09-30T07:44:19.563466Z",
     "shell.execute_reply.started": "2023-09-30T07:44:19.504808Z"
    }
   },
   "outputs": [
    {
     "data": {
      "text/plain": [
       "(100, 6)"
      ]
     },
     "execution_count": 3,
     "metadata": {},
     "output_type": "execute_result"
    }
   ],
   "source": [
    "# BLAST results\n",
    "\n",
    "blast = pd.read_csv(\"./data/BLAST/results.csv\")\n",
    "blast.shape"
   ]
  },
  {
   "cell_type": "code",
   "execution_count": 3,
   "id": "8e2c1a28-9356-499b-ad4a-8f9428f68ff6",
   "metadata": {
    "execution": {
     "iopub.execute_input": "2023-09-30T03:41:17.017671Z",
     "iopub.status.busy": "2023-09-30T03:41:17.017671Z",
     "iopub.status.idle": "2023-09-30T03:41:17.066410Z",
     "shell.execute_reply": "2023-09-30T03:41:17.066410Z",
     "shell.execute_reply.started": "2023-09-30T03:41:17.017671Z"
    }
   },
   "outputs": [
    {
     "data": {
      "text/plain": [
       "0     NC_003861.1\n",
       "1      KP455484.1\n",
       "2      OM857615.1\n",
       "3      AJ890226.1\n",
       "4      KU550961.1\n",
       "         ...     \n",
       "95     MW816856.1\n",
       "96     JN135236.3\n",
       "97     MW816855.1\n",
       "98    NC_038956.1\n",
       "99     OK236813.1\n",
       "Name: Accession, Length: 100, dtype: object"
      ]
     },
     "execution_count": 3,
     "metadata": {},
     "output_type": "execute_result"
    }
   ],
   "source": [
    "# FASTA query format => https://www.ncbi.nlm.nih.gov/nuccore/NC_003861.1?report=fasta\n",
    "\n",
    "blast.Accession"
   ]
  },
  {
   "cell_type": "code",
   "execution_count": 35,
   "id": "710c146b-fee9-4ce7-8e85-00d3a1a88b3e",
   "metadata": {
    "execution": {
     "iopub.execute_input": "2023-09-27T02:24:41.450890Z",
     "iopub.status.busy": "2023-09-27T02:24:41.450890Z",
     "iopub.status.idle": "2023-09-27T02:24:41.467379Z",
     "shell.execute_reply": "2023-09-27T02:24:41.466366Z",
     "shell.execute_reply.started": "2023-09-27T02:24:41.450890Z"
    }
   },
   "outputs": [
    {
     "data": {
      "text/plain": [
       "['blastseqs',\n",
       " 'NC_003861.html',\n",
       " 'OK362288.html',\n",
       " 'OK377341.html',\n",
       " 'OK377342.html',\n",
       " 'OK377343.html',\n",
       " 'OK424595.html',\n",
       " 'results.csv']"
      ]
     },
     "execution_count": 35,
     "metadata": {},
     "output_type": "execute_result"
    }
   ],
   "source": [
    "os.listdir(\"./data/BLAST/\")"
   ]
  },
  {
   "cell_type": "code",
   "execution_count": 21,
   "id": "2d36a03e-f469-4bbc-88e7-6d1b43753141",
   "metadata": {
    "execution": {
     "iopub.execute_input": "2023-09-27T01:51:46.976886Z",
     "iopub.status.busy": "2023-09-27T01:51:46.976886Z",
     "iopub.status.idle": "2023-09-27T01:51:46.979995Z",
     "shell.execute_reply": "2023-09-27T01:51:46.979995Z",
     "shell.execute_reply.started": "2023-09-27T01:51:46.976886Z"
    }
   },
   "outputs": [],
   "source": [
    "URL_TEMPLATE: str = \"https://www.ncbi.nlm.nih.gov/nuccore/{}?report=fasta\""
   ]
  },
  {
   "cell_type": "code",
   "execution_count": 6,
   "id": "6b6c2bea-10a1-4a9b-8e81-b00f7b50f1ae",
   "metadata": {
    "execution": {
     "iopub.execute_input": "2023-09-30T03:42:05.935709Z",
     "iopub.status.busy": "2023-09-30T03:42:05.935709Z",
     "iopub.status.idle": "2023-09-30T03:42:08.009412Z",
     "shell.execute_reply": "2023-09-30T03:42:08.009412Z",
     "shell.execute_reply.started": "2023-09-30T03:42:05.935709Z"
    }
   },
   "outputs": [],
   "source": [
    "# Yes, Edge!\n",
    "\n",
    "service = webdriver.EdgeService()\n",
    "options = webdriver.EdgeOptions()\n",
    "options.add_argument(\"--headless\")\n",
    "\n",
    "wdriver = webdriver.Edge(options, service)"
   ]
  },
  {
   "cell_type": "code",
   "execution_count": 4,
   "id": "285817f3-a756-45a1-8b4d-18fff848b8dd",
   "metadata": {
    "execution": {
     "iopub.execute_input": "2023-09-30T07:44:27.647449Z",
     "iopub.status.busy": "2023-09-30T07:44:27.647449Z",
     "iopub.status.idle": "2023-09-30T07:44:27.778560Z",
     "shell.execute_reply": "2023-09-30T07:44:27.778560Z",
     "shell.execute_reply.started": "2023-09-30T07:44:27.647449Z"
    }
   },
   "outputs": [
    {
     "ename": "NoSuchWindowException",
     "evalue": "Message: no such window: target window already closed\nfrom unknown error: web view not found\n  (Session info: MicrosoftEdge=117.0.2045.43)\nStacktrace:\n\tGetHandleVerifier [0x00007FF62C5299A2+63682]\n\tMicrosoft::Applications::Events::ILogConfiguration::operator* [0x00007FF62C4B18F2+267714]\n\t(No symbol) [0x00007FF62C26AC0E]\n\t(No symbol) [0x00007FF62C2428C7]\n\t(No symbol) [0x00007FF62C2E0B9F]\n\t(No symbol) [0x00007FF62C2F63E8]\n\t(No symbol) [0x00007FF62C2DC623]\n\t(No symbol) [0x00007FF62C2ADA7A]\n\t(No symbol) [0x00007FF62C2ACD6B]\n\t(No symbol) [0x00007FF62C2AE204]\n\tMicrosoft::Applications::Events::EventProperty::to_string [0x00007FF62C6F6779+1233737]\n\t(No symbol) [0x00007FF62C32B274]\n\tMicrosoft::Applications::Events::EventProperty::~EventProperty [0x00007FF62C3F329A+33498]\n\tMicrosoft::Applications::Events::EventProperty::~EventProperty [0x00007FF62C3EBDD9+3609]\n\tMicrosoft::Applications::Events::EventProperty::to_string [0x00007FF62C6F5514+1229028]\n\tMicrosoft::Applications::Events::ILogConfiguration::operator* [0x00007FF62C4BBA98+309096]\n\tMicrosoft::Applications::Events::ILogConfiguration::operator* [0x00007FF62C4B6774+287812]\n\tMicrosoft::Applications::Events::ILogConfiguration::operator* [0x00007FF62C4B68A2+288114]\n\tMicrosoft::Applications::Events::ILogConfiguration::operator* [0x00007FF62C4A9FA1+236657]\n\tBaseThreadInitThunk [0x00007FFB8814257D+29]\n\tRtlUserThreadStart [0x00007FFB8934AA68+40]\n",
     "output_type": "error",
     "traceback": [
      "\u001b[1;31m---------------------------------------------------------------------------\u001b[0m",
      "\u001b[1;31mNoSuchWindowException\u001b[0m                     Traceback (most recent call last)",
      "Cell \u001b[1;32mIn[4], line 6\u001b[0m\n\u001b[0;32m      2\u001b[0m URL_TEMPLATE \u001b[38;5;241m=\u001b[39m \u001b[38;5;124m\"\u001b[39m\u001b[38;5;124mhttps://www.ncbi.nlm.nih.gov/nuccore/\u001b[39m\u001b[38;5;132;01m{}\u001b[39;00m\u001b[38;5;124m?report=fasta\u001b[39m\u001b[38;5;124m\"\u001b[39m\n\u001b[0;32m      4\u001b[0m \u001b[38;5;28;01mfor\u001b[39;00m accession \u001b[38;5;129;01min\u001b[39;00m blast\u001b[38;5;241m.\u001b[39mAccession:\n\u001b[1;32m----> 6\u001b[0m     \u001b[43mwdriver\u001b[49m\u001b[38;5;241;43m.\u001b[39;49m\u001b[43mget\u001b[49m\u001b[43m(\u001b[49m\u001b[43mURL_TEMPLATE\u001b[49m\u001b[38;5;241;43m.\u001b[39;49m\u001b[43mformat\u001b[49m\u001b[43m(\u001b[49m\u001b[43maccession\u001b[49m\u001b[43m)\u001b[49m\u001b[43m)\u001b[49m\n\u001b[0;32m      8\u001b[0m     \u001b[38;5;66;03m# Wait until the <div id=\"viewercontent1\" class=\"seq gbff\" ....> tag is loaded.\u001b[39;00m\n\u001b[0;32m      9\u001b[0m     \u001b[38;5;66;03m# 10 seconds wait\u001b[39;00m\n\u001b[0;32m     10\u001b[0m     time\u001b[38;5;241m.\u001b[39msleep(\u001b[38;5;241m5\u001b[39m)\n",
      "File \u001b[1;32mC:\\Program Files\\Python311\\Lib\\site-packages\\selenium\\webdriver\\remote\\webdriver.py:353\u001b[0m, in \u001b[0;36mWebDriver.get\u001b[1;34m(self, url)\u001b[0m\n\u001b[0;32m    351\u001b[0m \u001b[38;5;28;01mdef\u001b[39;00m \u001b[38;5;21mget\u001b[39m(\u001b[38;5;28mself\u001b[39m, url: \u001b[38;5;28mstr\u001b[39m) \u001b[38;5;241m-\u001b[39m\u001b[38;5;241m>\u001b[39m \u001b[38;5;28;01mNone\u001b[39;00m:\n\u001b[0;32m    352\u001b[0m \u001b[38;5;250m    \u001b[39m\u001b[38;5;124;03m\"\"\"Loads a web page in the current browser session.\"\"\"\u001b[39;00m\n\u001b[1;32m--> 353\u001b[0m     \u001b[38;5;28;43mself\u001b[39;49m\u001b[38;5;241;43m.\u001b[39;49m\u001b[43mexecute\u001b[49m\u001b[43m(\u001b[49m\u001b[43mCommand\u001b[49m\u001b[38;5;241;43m.\u001b[39;49m\u001b[43mGET\u001b[49m\u001b[43m,\u001b[49m\u001b[43m \u001b[49m\u001b[43m{\u001b[49m\u001b[38;5;124;43m\"\u001b[39;49m\u001b[38;5;124;43murl\u001b[39;49m\u001b[38;5;124;43m\"\u001b[39;49m\u001b[43m:\u001b[49m\u001b[43m \u001b[49m\u001b[43murl\u001b[49m\u001b[43m}\u001b[49m\u001b[43m)\u001b[49m\n",
      "File \u001b[1;32mC:\\Program Files\\Python311\\Lib\\site-packages\\selenium\\webdriver\\remote\\webdriver.py:344\u001b[0m, in \u001b[0;36mWebDriver.execute\u001b[1;34m(self, driver_command, params)\u001b[0m\n\u001b[0;32m    342\u001b[0m response \u001b[38;5;241m=\u001b[39m \u001b[38;5;28mself\u001b[39m\u001b[38;5;241m.\u001b[39mcommand_executor\u001b[38;5;241m.\u001b[39mexecute(driver_command, params)\n\u001b[0;32m    343\u001b[0m \u001b[38;5;28;01mif\u001b[39;00m response:\n\u001b[1;32m--> 344\u001b[0m     \u001b[38;5;28;43mself\u001b[39;49m\u001b[38;5;241;43m.\u001b[39;49m\u001b[43merror_handler\u001b[49m\u001b[38;5;241;43m.\u001b[39;49m\u001b[43mcheck_response\u001b[49m\u001b[43m(\u001b[49m\u001b[43mresponse\u001b[49m\u001b[43m)\u001b[49m\n\u001b[0;32m    345\u001b[0m     response[\u001b[38;5;124m\"\u001b[39m\u001b[38;5;124mvalue\u001b[39m\u001b[38;5;124m\"\u001b[39m] \u001b[38;5;241m=\u001b[39m \u001b[38;5;28mself\u001b[39m\u001b[38;5;241m.\u001b[39m_unwrap_value(response\u001b[38;5;241m.\u001b[39mget(\u001b[38;5;124m\"\u001b[39m\u001b[38;5;124mvalue\u001b[39m\u001b[38;5;124m\"\u001b[39m, \u001b[38;5;28;01mNone\u001b[39;00m))\n\u001b[0;32m    346\u001b[0m     \u001b[38;5;28;01mreturn\u001b[39;00m response\n",
      "File \u001b[1;32mC:\\Program Files\\Python311\\Lib\\site-packages\\selenium\\webdriver\\remote\\errorhandler.py:229\u001b[0m, in \u001b[0;36mErrorHandler.check_response\u001b[1;34m(self, response)\u001b[0m\n\u001b[0;32m    227\u001b[0m         alert_text \u001b[38;5;241m=\u001b[39m value[\u001b[38;5;124m\"\u001b[39m\u001b[38;5;124malert\u001b[39m\u001b[38;5;124m\"\u001b[39m]\u001b[38;5;241m.\u001b[39mget(\u001b[38;5;124m\"\u001b[39m\u001b[38;5;124mtext\u001b[39m\u001b[38;5;124m\"\u001b[39m)\n\u001b[0;32m    228\u001b[0m     \u001b[38;5;28;01mraise\u001b[39;00m exception_class(message, screen, stacktrace, alert_text)  \u001b[38;5;66;03m# type: ignore[call-arg]  # mypy is not smart enough here\u001b[39;00m\n\u001b[1;32m--> 229\u001b[0m \u001b[38;5;28;01mraise\u001b[39;00m exception_class(message, screen, stacktrace)\n",
      "\u001b[1;31mNoSuchWindowException\u001b[0m: Message: no such window: target window already closed\nfrom unknown error: web view not found\n  (Session info: MicrosoftEdge=117.0.2045.43)\nStacktrace:\n\tGetHandleVerifier [0x00007FF62C5299A2+63682]\n\tMicrosoft::Applications::Events::ILogConfiguration::operator* [0x00007FF62C4B18F2+267714]\n\t(No symbol) [0x00007FF62C26AC0E]\n\t(No symbol) [0x00007FF62C2428C7]\n\t(No symbol) [0x00007FF62C2E0B9F]\n\t(No symbol) [0x00007FF62C2F63E8]\n\t(No symbol) [0x00007FF62C2DC623]\n\t(No symbol) [0x00007FF62C2ADA7A]\n\t(No symbol) [0x00007FF62C2ACD6B]\n\t(No symbol) [0x00007FF62C2AE204]\n\tMicrosoft::Applications::Events::EventProperty::to_string [0x00007FF62C6F6779+1233737]\n\t(No symbol) [0x00007FF62C32B274]\n\tMicrosoft::Applications::Events::EventProperty::~EventProperty [0x00007FF62C3F329A+33498]\n\tMicrosoft::Applications::Events::EventProperty::~EventProperty [0x00007FF62C3EBDD9+3609]\n\tMicrosoft::Applications::Events::EventProperty::to_string [0x00007FF62C6F5514+1229028]\n\tMicrosoft::Applications::Events::ILogConfiguration::operator* [0x00007FF62C4BBA98+309096]\n\tMicrosoft::Applications::Events::ILogConfiguration::operator* [0x00007FF62C4B6774+287812]\n\tMicrosoft::Applications::Events::ILogConfiguration::operator* [0x00007FF62C4B68A2+288114]\n\tMicrosoft::Applications::Events::ILogConfiguration::operator* [0x00007FF62C4A9FA1+236657]\n\tBaseThreadInitThunk [0x00007FFB8814257D+29]\n\tRtlUserThreadStart [0x00007FFB8934AA68+40]\n"
     ]
    }
   ],
   "source": [
    "WRITE_PATH_TEMPLATE = \"./data/BLAST/blastseqs/{}.fasta\"\n",
    "URL_TEMPLATE = \"https://www.ncbi.nlm.nih.gov/nuccore/{}?report=fasta\"\n",
    "\n",
    "for accession in blast.Accession:\n",
    "    \n",
    "    wdriver.get(URL_TEMPLATE.format(accession))\n",
    "    \n",
    "    # Wait until the <div id=\"viewercontent1\" class=\"seq gbff\" ....> tag is loaded.\n",
    "    # 10 seconds wait\n",
    "    time.sleep(5)\n",
    "    # _ = WebDriverWait(wdriver, 20).until(EC.presence_of_element_located((By.CLASS_NAME, \"seq gbff\")))\n",
    "    \n",
    "    response = wdriver.page_source\n",
    "    assert response     # Make sure it's not empty.\n",
    "\n",
    "    soup = BeautifulSoup(response, \"html.parser\")\n",
    "    div = soup.find(\"div\", attrs = {\"class\": \"seq gbff\", \"id\": \"viewercontent1\"})\n",
    "    \n",
    "    fasta = div.find(\"pre\").text\n",
    "\n",
    "    # remove the trailing digits after the period in file names.\n",
    "    with open(WRITE_PATH_TEMPLATE.format(accession.split('.')[0]), 'w') as fp:\n",
    "        fp.write(fasta)\n",
    "\n",
    "wdriver.quit()"
   ]
  },
  {
   "cell_type": "code",
   "execution_count": null,
   "id": "8b6dd0be-aff0-4b31-9cd2-119c89120495",
   "metadata": {},
   "outputs": [],
   "source": []
  },
  {
   "cell_type": "code",
   "execution_count": 30,
   "id": "81ed4913-07a5-450b-91d4-994cb410e7ea",
   "metadata": {
    "execution": {
     "iopub.execute_input": "2023-09-30T04:02:49.691140Z",
     "iopub.status.busy": "2023-09-30T04:02:49.691140Z",
     "iopub.status.idle": "2023-09-30T04:02:49.700981Z",
     "shell.execute_reply": "2023-09-30T04:02:49.700981Z",
     "shell.execute_reply.started": "2023-09-30T04:02:49.691140Z"
    }
   },
   "outputs": [
    {
     "data": {
      "text/plain": [
       "'KP455484.1'"
      ]
     },
     "execution_count": 30,
     "metadata": {},
     "output_type": "execute_result"
    }
   ],
   "source": [
    "blast.Accession[1]"
   ]
  },
  {
   "cell_type": "code",
   "execution_count": 6,
   "id": "f45d93b5-95de-4cd6-9ced-79b96bd7e5af",
   "metadata": {
    "execution": {
     "iopub.execute_input": "2023-09-30T07:48:09.005950Z",
     "iopub.status.busy": "2023-09-30T07:48:09.005950Z",
     "iopub.status.idle": "2023-09-30T08:01:10.548848Z",
     "shell.execute_reply": "2023-09-30T08:01:10.547834Z",
     "shell.execute_reply.started": "2023-09-30T07:48:09.005950Z"
    }
   },
   "outputs": [
    {
     "name": "stdout",
     "output_type": "stream",
     "text": [
      " 0 NC_003861.1 Success!\n",
      " 1 KP455484.1 Success!\n",
      " 2 OM857615.1 Success!\n",
      " 3 AJ890226.1 Success!\n",
      " 4 KU550961.1 Success!\n",
      " 5 AJ890225.1 Success!\n",
      " 6 AJ890224.1 Success!\n",
      " 7 KR611577.1 Success!\n",
      " 8 OM715155.1 Success!\n",
      " 9 OM715161.1 Success!\n",
      "10 OK571385.1 Success!\n",
      "11 AJ579307.1 Success!\n",
      "12 AJ607394.1 Success!\n",
      "13 KT861468.1 Success!\n",
      "14 OM715160.1 Success!\n",
      "15 MZ605403.1 Success!\n",
      "16 MZ605401.1 Success!\n",
      "17 MT671423.1 Success!\n",
      "18 MT671419.1 Success!\n",
      "19 MT671417.1 Success!\n",
      "20 MN026159.1 Success!\n",
      "21 LC382268.1 Success!\n",
      "22 MW854732.1 Success!\n",
      "23 LC485944.1 Success!\n",
      "24 LC485942.1 Success!\n",
      "25 KC424490.1 Success!\n",
      "26 MT671415.1 Success!\n",
      "27 OM857621.1 Success!\n",
      "28 LC586845.1 Success!\n",
      "29 MT017511.1 Success!\n",
      "30 MN544647.1 Success!\n",
      "31 ON455005.1 Success!\n",
      "32 MT671421.1 Success!\n",
      "33 MN577577.1 Success!\n",
      "34 MN577575.1 Success!\n",
      "35 MN026160.1 Success!\n",
      "36 LC312131.1 Success!\n",
      "37 OQ745820.1 Success!\n",
      "38 LC382266.1 Success!\n",
      "39 OM715156.1 Success!\n",
      "40 KF898349.1 Success!\n",
      "41 MT671413.1 Success!\n",
      "42 MN688216.1 Success!\n",
      "43 MT671409.1 Success!\n",
      "44 OM802161.1 Success!\n",
      "45 LC633986.1 Success!\n",
      "46 LC633985.1 Success!\n",
      "47 MN577576.1 Success!\n",
      "48 MH891840.1 Success!\n",
      "49 LC382269.1 Success!\n",
      "50 ON455001.1 Success!\n",
      "51 OM715154.1 Success!\n",
      "52 AJ890229.1 Success!\n",
      "53 MN577578.1 Success!\n",
      "54 MN954656.1 Success!\n",
      "55 MT671411.1 Success!\n",
      "56 MT946533.1 Success!\n",
      "57 MN577579.1 Success!\n",
      "58 MN688214.1 Success!\n",
      "59 ON455003.1 Success!\n",
      "60 OK377341.1 Success!\n",
      "61 AJ890228.1 Success!\n",
      "62 AJ890227.1 Success!\n",
      "63 KR611579.1 Success!\n",
      "64 OQ117044.1 Success!\n",
      "65 LC633987.1 Success!\n",
      "66 MK404225.1 Success!\n",
      "67 OK377343.1 Success!\n",
      "68 OP748389.1 Success!\n",
      "69 KP455486.1 Success!\n",
      "70 OK362288.1 Success!\n",
      "71 OK377342.1 Success!\n",
      "72 OK424595.1 Success!\n",
      "73 OR052509.1 Success!\n",
      "74 AJ314739.1 Success!\n",
      "75 AY730035.2 Success!\n",
      "76 NC_001932.1 Success!\n",
      "77 Z24758.1 Success!\n",
      "78 KU308385.1 Success!\n",
      "79 KU550960.1 Success!\n",
      "80 NC_038962.1 Success!\n",
      "81 JX518289.1 Success!\n",
      "82 GQ924760.1 Success!\n",
      "83 AJ575819.1 Success!\n",
      "84 JN692494.1 Success!\n",
      "85 NC_038449.1 Success!\n",
      "86 NC_025725.1 Success!\n",
      "87 KM189819.1 Success!\n",
      "88 KM189818.1 Success!\n",
      " 1 KM023146.1 Failed\n",
      "90 NC_024491.1 Success!\n",
      "91 LK054801.1 Success!\n",
      "92 MK158209.1 Success!\n",
      "93 OK236815.1 Success!\n",
      "94 LN717037.1 Success!\n",
      "95 MW816856.1 Success!\n",
      "96 JN135236.3 Success!\n",
      "97 MW816855.1 Success!\n",
      "98 NC_038956.1 Success!\n",
      "99 OK236813.1 Success!\n"
     ]
    }
   ],
   "source": [
    "service = webdriver.EdgeService()\n",
    "options = webdriver.EdgeOptions()\n",
    "wdriver = webdriver.Edge(options, service)\n",
    "\n",
    "meta_info = []\n",
    "\n",
    "TEMPLATE_URL = \"https://www.ncbi.nlm.nih.gov/nuccore/{}\"\n",
    "\n",
    "for i, accession in enumerate(blast.Accession):\n",
    "    \n",
    "    wdriver.get(TEMPLATE_URL.format(accession))\n",
    "    time.sleep(5)\n",
    "\n",
    "    soup = BeautifulSoup(wdriver.page_source, \"html.parser\")\n",
    "    location = soup.find(\"span\", attrs = {\"class\": \"feature\", \"id\": f\"feature_{accession}_source_0\"})\n",
    "    # DO NOT CALL THE .text METHOD HERE! IF IT'S NONE, ERROR WILL NOT BE HANDLED!\n",
    "    \n",
    "    if location:\n",
    "        # INVOKING THE .text HERE, INTENTIONALLY!\n",
    "        meta_info.append(location.text.replace('\\n', '').replace(' ', '').split('/'))\n",
    "        print(f\"{i:2} {accession} Success!\")\n",
    "    else:\n",
    "        print(f\"{1:2} {accession} Failed\")\n",
    "    \n",
    "    \n",
    "wdriver.quit()    "
   ]
  },
  {
   "cell_type": "code",
   "execution_count": 7,
   "id": "2a9fdacf-d591-43f7-a386-1d067a27cc13",
   "metadata": {
    "execution": {
     "iopub.execute_input": "2023-09-30T03:42:14.691178Z",
     "iopub.status.busy": "2023-09-30T03:42:14.675518Z",
     "iopub.status.idle": "2023-09-30T03:42:23.251603Z",
     "shell.execute_reply": "2023-09-30T03:42:23.250595Z",
     "shell.execute_reply.started": "2023-09-30T03:42:14.691178Z"
    }
   },
   "outputs": [],
   "source": []
  },
  {
   "cell_type": "code",
   "execution_count": 16,
   "id": "a70201fd-95d1-4200-ac5a-25d4f067032c",
   "metadata": {
    "execution": {
     "iopub.execute_input": "2023-09-30T08:08:00.031576Z",
     "iopub.status.busy": "2023-09-30T08:08:00.031576Z",
     "iopub.status.idle": "2023-09-30T08:08:00.052134Z",
     "shell.execute_reply": "2023-09-30T08:08:00.052134Z",
     "shell.execute_reply.started": "2023-09-30T08:08:00.031576Z"
    }
   },
   "outputs": [],
   "source": [
    "with open(\"./data/BLAST/metainfo.csv\", mode = 'w') as fp:\n",
    "    for i, info in enumerate(meta_info, start = 1):\n",
    "        fp.writelines(f\"{i}, \" + \", \".join(info) + '\\n')"
   ]
  },
  {
   "cell_type": "code",
   "execution_count": 12,
   "id": "ef3f95e3-fb67-441a-8ef4-3f4fb97a02e2",
   "metadata": {
    "execution": {
     "iopub.execute_input": "2023-09-30T08:05:05.045076Z",
     "iopub.status.busy": "2023-09-30T08:05:05.045076Z",
     "iopub.status.idle": "2023-09-30T08:05:05.064729Z",
     "shell.execute_reply": "2023-09-30T08:05:05.064729Z",
     "shell.execute_reply.started": "2023-09-30T08:05:05.045076Z"
    }
   },
   "outputs": [
    {
     "data": {
      "text/plain": [
       "'source1..2755, organism=\"SriLankancassavamosaicvirus-[Colombo]\", mol_type=\"genomicDNA\", isolate=\"SLCMV-Col\", db_xref=\"taxon:223328\", segment=\"DNAA\", clone=\"pSL1\", lab_host=\"Nicotianabenthamiana\", country=\"SriLanka:Columbo\"'"
      ]
     },
     "execution_count": 12,
     "metadata": {},
     "output_type": "execute_result"
    }
   ],
   "source": [
    "\", \".join(meta_info[0])"
   ]
  },
  {
   "cell_type": "code",
   "execution_count": null,
   "id": "f1221901-1ad4-4b7d-9ac9-99f03e63ca2d",
   "metadata": {},
   "outputs": [],
   "source": []
  },
  {
   "cell_type": "code",
   "execution_count": null,
   "id": "575b1971-aeef-4635-a620-7f18b06b71ed",
   "metadata": {},
   "outputs": [],
   "source": []
  },
  {
   "cell_type": "code",
   "execution_count": 6,
   "id": "d07598ed-9192-4839-adcf-02203a2e058e",
   "metadata": {
    "execution": {
     "iopub.execute_input": "2023-10-04T11:47:37.807727Z",
     "iopub.status.busy": "2023-10-04T11:47:37.807727Z",
     "iopub.status.idle": "2023-10-04T11:47:37.849447Z",
     "shell.execute_reply": "2023-10-04T11:47:37.849447Z",
     "shell.execute_reply.started": "2023-10-04T11:47:37.807727Z"
    }
   },
   "outputs": [],
   "source": [
    "blast = pd.read_csv(\"./data/BLAST/metainfo.csv\", header = None)"
   ]
  },
  {
   "cell_type": "code",
   "execution_count": 7,
   "id": "90dd59ba-9263-46c6-a184-6e54cc912a4d",
   "metadata": {
    "execution": {
     "iopub.execute_input": "2023-10-04T11:47:38.365768Z",
     "iopub.status.busy": "2023-10-04T11:47:38.365768Z",
     "iopub.status.idle": "2023-10-04T11:47:38.377502Z",
     "shell.execute_reply": "2023-10-04T11:47:38.377502Z",
     "shell.execute_reply.started": "2023-10-04T11:47:38.365768Z"
    }
   },
   "outputs": [
    {
     "data": {
      "text/html": [
       "<div>\n",
       "<style scoped>\n",
       "    .dataframe tbody tr th:only-of-type {\n",
       "        vertical-align: middle;\n",
       "    }\n",
       "\n",
       "    .dataframe tbody tr th {\n",
       "        vertical-align: top;\n",
       "    }\n",
       "\n",
       "    .dataframe thead th {\n",
       "        text-align: right;\n",
       "    }\n",
       "</style>\n",
       "<table border=\"1\" class=\"dataframe\">\n",
       "  <thead>\n",
       "    <tr style=\"text-align: right;\">\n",
       "      <th></th>\n",
       "      <th>0</th>\n",
       "      <th>1</th>\n",
       "      <th>2</th>\n",
       "      <th>3</th>\n",
       "      <th>4</th>\n",
       "      <th>5</th>\n",
       "      <th>6</th>\n",
       "      <th>7</th>\n",
       "      <th>8</th>\n",
       "      <th>9</th>\n",
       "      <th>10</th>\n",
       "      <th>11</th>\n",
       "      <th>12</th>\n",
       "      <th>13</th>\n",
       "      <th>14</th>\n",
       "      <th>15</th>\n",
       "    </tr>\n",
       "  </thead>\n",
       "  <tbody>\n",
       "    <tr>\n",
       "      <th>0</th>\n",
       "      <td>1</td>\n",
       "      <td>source1..2755</td>\n",
       "      <td>organism=\"SriLankancassavamosaicvirus-[Colombo]\"</td>\n",
       "      <td>mol_type=\"genomicDNA\"</td>\n",
       "      <td>isolate=\"SLCMV-Col\"</td>\n",
       "      <td>db_xref=\"taxon:223328\"</td>\n",
       "      <td>segment=\"DNAA\"</td>\n",
       "      <td>clone=\"pSL1\"</td>\n",
       "      <td>lab_host=\"Nicotianabenthamiana\"</td>\n",
       "      <td>country=\"SriLanka:Columbo\"</td>\n",
       "      <td>NaN</td>\n",
       "      <td>NaN</td>\n",
       "      <td>NaN</td>\n",
       "      <td>NaN</td>\n",
       "      <td>NaN</td>\n",
       "      <td>NaN</td>\n",
       "    </tr>\n",
       "    <tr>\n",
       "      <th>1</th>\n",
       "      <td>2</td>\n",
       "      <td>source1..2758</td>\n",
       "      <td>organism=\"SriLankancassavamosaicvirus\"</td>\n",
       "      <td>mol_type=\"genomicDNA\"</td>\n",
       "      <td>isolate=\"Attur2\"</td>\n",
       "      <td>host=\"cassava;cultivar:H226\"</td>\n",
       "      <td>db_xref=\"taxon:161378\"</td>\n",
       "      <td>segment=\"DNAA\"</td>\n",
       "      <td>country=\"India\"</td>\n",
       "      <td>collection_date=\"19-Jan-2009\"</td>\n",
       "      <td>NaN</td>\n",
       "      <td>NaN</td>\n",
       "      <td>NaN</td>\n",
       "      <td>NaN</td>\n",
       "      <td>NaN</td>\n",
       "      <td>NaN</td>\n",
       "    </tr>\n",
       "    <tr>\n",
       "      <th>2</th>\n",
       "      <td>3</td>\n",
       "      <td>source1..2757</td>\n",
       "      <td>organism=\"SriLankancassavamosaicvirus\"</td>\n",
       "      <td>mol_type=\"genomicDNA\"</td>\n",
       "      <td>isolate=\"DSMZPV-0424\"</td>\n",
       "      <td>host=\"Manihotesculenta\"</td>\n",
       "      <td>db_xref=\"taxon:161378\"</td>\n",
       "      <td>segment=\"DNA-A\"</td>\n",
       "      <td>lab_host=\"Nicotianabenthamiana\"</td>\n",
       "      <td>country=\"India:Kerala\"</td>\n",
       "      <td>NaN</td>\n",
       "      <td>NaN</td>\n",
       "      <td>NaN</td>\n",
       "      <td>NaN</td>\n",
       "      <td>NaN</td>\n",
       "      <td>NaN</td>\n",
       "    </tr>\n",
       "    <tr>\n",
       "      <th>3</th>\n",
       "      <td>4</td>\n",
       "      <td>source1..2757</td>\n",
       "      <td>organism=\"SriLankancassavamosaicvirus-India[I...</td>\n",
       "      <td>mol_type=\"genomicDNA\"</td>\n",
       "      <td>isolate=\"KeralaC4\"</td>\n",
       "      <td>isolation_source=\"Manihotesculenta\"</td>\n",
       "      <td>db_xref=\"taxon:454143\"</td>\n",
       "      <td>segment=\"DNAA-like\"</td>\n",
       "      <td>country=\"India:Kerala</td>\n",
       "      <td>Pulikkal</td>\n",
       "      <td>Malappuram\"</td>\n",
       "      <td>NaN</td>\n",
       "      <td>NaN</td>\n",
       "      <td>NaN</td>\n",
       "      <td>NaN</td>\n",
       "      <td>NaN</td>\n",
       "    </tr>\n",
       "    <tr>\n",
       "      <th>4</th>\n",
       "      <td>5</td>\n",
       "      <td>source1..2757</td>\n",
       "      <td>organism=\"SriLankancassavamosaicvirus\"</td>\n",
       "      <td>mol_type=\"genomicDNA\"</td>\n",
       "      <td>strain=\"Erode:2011\"</td>\n",
       "      <td>host=\"Manihotesculenta\"</td>\n",
       "      <td>db_xref=\"taxon:161378\"</td>\n",
       "      <td>segment=\"DNA-A\"</td>\n",
       "      <td>country=\"India:Erode\"</td>\n",
       "      <td>altitude=\"183m\"</td>\n",
       "      <td>collection_date=\"29-Sep-2011\"</td>\n",
       "      <td>collected_by=\"AkhileshKumarKushawahaandIndran...</td>\n",
       "      <td>NaN</td>\n",
       "      <td>NaN</td>\n",
       "      <td>NaN</td>\n",
       "      <td>NaN</td>\n",
       "    </tr>\n",
       "  </tbody>\n",
       "</table>\n",
       "</div>"
      ],
      "text/plain": [
       "   0               1                                                  2   \\\n",
       "0   1   source1..2755   organism=\"SriLankancassavamosaicvirus-[Colombo]\"   \n",
       "1   2   source1..2758             organism=\"SriLankancassavamosaicvirus\"   \n",
       "2   3   source1..2757             organism=\"SriLankancassavamosaicvirus\"   \n",
       "3   4   source1..2757   organism=\"SriLankancassavamosaicvirus-India[I...   \n",
       "4   5   source1..2757             organism=\"SriLankancassavamosaicvirus\"   \n",
       "\n",
       "                       3                       4   \\\n",
       "0   mol_type=\"genomicDNA\"     isolate=\"SLCMV-Col\"   \n",
       "1   mol_type=\"genomicDNA\"        isolate=\"Attur2\"   \n",
       "2   mol_type=\"genomicDNA\"   isolate=\"DSMZPV-0424\"   \n",
       "3   mol_type=\"genomicDNA\"      isolate=\"KeralaC4\"   \n",
       "4   mol_type=\"genomicDNA\"     strain=\"Erode:2011\"   \n",
       "\n",
       "                                     5                        6   \\\n",
       "0                db_xref=\"taxon:223328\"           segment=\"DNAA\"   \n",
       "1          host=\"cassava;cultivar:H226\"   db_xref=\"taxon:161378\"   \n",
       "2               host=\"Manihotesculenta\"   db_xref=\"taxon:161378\"   \n",
       "3   isolation_source=\"Manihotesculenta\"   db_xref=\"taxon:454143\"   \n",
       "4               host=\"Manihotesculenta\"   db_xref=\"taxon:161378\"   \n",
       "\n",
       "                     7                                 8   \\\n",
       "0          clone=\"pSL1\"   lab_host=\"Nicotianabenthamiana\"   \n",
       "1        segment=\"DNAA\"                   country=\"India\"   \n",
       "2       segment=\"DNA-A\"   lab_host=\"Nicotianabenthamiana\"   \n",
       "3   segment=\"DNAA-like\"             country=\"India:Kerala   \n",
       "4       segment=\"DNA-A\"             country=\"India:Erode\"   \n",
       "\n",
       "                               9                               10  \\\n",
       "0      country=\"SriLanka:Columbo\"                             NaN   \n",
       "1   collection_date=\"19-Jan-2009\"                             NaN   \n",
       "2          country=\"India:Kerala\"                             NaN   \n",
       "3                        Pulikkal                     Malappuram\"   \n",
       "4                 altitude=\"183m\"   collection_date=\"29-Sep-2011\"   \n",
       "\n",
       "                                                  11   12   13   14   15  \n",
       "0                                                NaN  NaN  NaN  NaN  NaN  \n",
       "1                                                NaN  NaN  NaN  NaN  NaN  \n",
       "2                                                NaN  NaN  NaN  NaN  NaN  \n",
       "3                                                NaN  NaN  NaN  NaN  NaN  \n",
       "4   collected_by=\"AkhileshKumarKushawahaandIndran...  NaN  NaN  NaN  NaN  "
      ]
     },
     "execution_count": 7,
     "metadata": {},
     "output_type": "execute_result"
    }
   ],
   "source": [
    "blast.head()"
   ]
  },
  {
   "cell_type": "code",
   "execution_count": 16,
   "id": "a73f79f3-8f73-4b89-b3ae-ff265c856e4f",
   "metadata": {
    "execution": {
     "iopub.execute_input": "2023-10-04T11:48:40.088539Z",
     "iopub.status.busy": "2023-10-04T11:48:40.088539Z",
     "iopub.status.idle": "2023-10-04T11:48:40.097347Z",
     "shell.execute_reply": "2023-10-04T11:48:40.097347Z",
     "shell.execute_reply.started": "2023-10-04T11:48:40.088539Z"
    }
   },
   "outputs": [
    {
     "data": {
      "text/plain": [
       "0         [ isolate, \"SLCMV-Col\"]\n",
       "1            [ isolate, \"Attur2\"]\n",
       "2       [ isolate, \"DSMZPV-0424\"]\n",
       "3          [ isolate, \"KeralaC4\"]\n",
       "4         [ strain, \"Erode:2011\"]\n",
       "                 ...             \n",
       "94              [ isolate, \"CR2\"]\n",
       "95     [ isolate, \"Katarniaghat\"]\n",
       "96              [ isolate, \"CR1\"]\n",
       "97    [ isolate, \"Katerniaghat2\"]\n",
       "98              [ serovar, \"EK-\"]\n",
       "Name: 4, Length: 99, dtype: object"
      ]
     },
     "execution_count": 16,
     "metadata": {},
     "output_type": "execute_result"
    }
   ],
   "source": [
    "blast[4].str.split('=')"
   ]
  }
 ],
 "metadata": {
  "kernelspec": {
   "display_name": "Python 3 (ipykernel)",
   "language": "python",
   "name": "python3"
  },
  "language_info": {
   "codemirror_mode": {
    "name": "ipython",
    "version": 3
   },
   "file_extension": ".py",
   "mimetype": "text/x-python",
   "name": "python",
   "nbconvert_exporter": "python",
   "pygments_lexer": "ipython3",
   "version": "3.11.6"
  }
 },
 "nbformat": 4,
 "nbformat_minor": 5
}
