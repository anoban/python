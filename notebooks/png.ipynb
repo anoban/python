{
 "cells": [
  {
   "cell_type": "code",
   "execution_count": 1,
   "id": "79b9cb52-82cf-44c9-b477-2cebff56f3bb",
   "metadata": {
    "execution": {
     "iopub.execute_input": "2023-10-20T14:55:09.235455Z",
     "iopub.status.busy": "2023-10-20T14:55:09.235455Z",
     "iopub.status.idle": "2023-10-20T14:55:09.650492Z",
     "shell.execute_reply": "2023-10-20T14:55:09.650492Z",
     "shell.execute_reply.started": "2023-10-20T14:55:09.235455Z"
    }
   },
   "outputs": [],
   "source": [
    "import numpy as np"
   ]
  },
  {
   "cell_type": "code",
   "execution_count": 3,
   "id": "467ef6a1-7fa5-4b7f-8b20-61417bd79aa9",
   "metadata": {
    "execution": {
     "iopub.execute_input": "2023-10-20T14:56:00.778169Z",
     "iopub.status.busy": "2023-10-20T14:56:00.778169Z",
     "iopub.status.idle": "2023-10-20T14:56:00.784794Z",
     "shell.execute_reply": "2023-10-20T14:56:00.784794Z",
     "shell.execute_reply.started": "2023-10-20T14:56:00.778169Z"
    }
   },
   "outputs": [],
   "source": [
    "with open(\"./png_simpsons_76695.png\", mode = \"rb\") as fp:\n",
    "    png = np.fromfile(fp, dtype = np.uint8)"
   ]
  },
  {
   "cell_type": "code",
   "execution_count": 5,
   "id": "ca1f5fc0-e666-418b-8f02-ebe1c30b2145",
   "metadata": {
    "execution": {
     "iopub.execute_input": "2023-10-20T14:56:14.656066Z",
     "iopub.status.busy": "2023-10-20T14:56:14.656066Z",
     "iopub.status.idle": "2023-10-20T14:56:14.674142Z",
     "shell.execute_reply": "2023-10-20T14:56:14.673620Z",
     "shell.execute_reply.started": "2023-10-20T14:56:14.656066Z"
    }
   },
   "outputs": [
    {
     "data": {
      "text/plain": [
       "(0, 255)"
      ]
     },
     "execution_count": 5,
     "metadata": {},
     "output_type": "execute_result"
    }
   ],
   "source": [
    "png.min(), png.max()"
   ]
  },
  {
   "cell_type": "code",
   "execution_count": 14,
   "id": "e67ca97d-bff7-483a-8929-3c6b39326a1d",
   "metadata": {
    "execution": {
     "iopub.execute_input": "2023-10-20T14:57:47.636127Z",
     "iopub.status.busy": "2023-10-20T14:57:47.636127Z",
     "iopub.status.idle": "2023-10-20T14:57:47.655553Z",
     "shell.execute_reply": "2023-10-20T14:57:47.655553Z",
     "shell.execute_reply.started": "2023-10-20T14:57:47.636127Z"
    }
   },
   "outputs": [
    {
     "data": {
      "text/plain": [
       "bytearray(b'IHDR')"
      ]
     },
     "execution_count": 14,
     "metadata": {},
     "output_type": "execute_result"
    }
   ],
   "source": [
    "bytearray(\"IHDR\", encoding = \"ascii\")"
   ]
  },
  {
   "cell_type": "code",
   "execution_count": 16,
   "id": "e1f9e993-57dc-4861-9967-810a7d53a593",
   "metadata": {
    "execution": {
     "iopub.execute_input": "2023-10-20T14:57:56.767407Z",
     "iopub.status.busy": "2023-10-20T14:57:56.767407Z",
     "iopub.status.idle": "2023-10-20T14:57:56.774550Z",
     "shell.execute_reply": "2023-10-20T14:57:56.774427Z",
     "shell.execute_reply.started": "2023-10-20T14:57:56.767407Z"
    }
   },
   "outputs": [
    {
     "data": {
      "text/plain": [
       "bytearray(b'IDAT')"
      ]
     },
     "execution_count": 16,
     "metadata": {},
     "output_type": "execute_result"
    }
   ],
   "source": [
    "bytearray(\"IDAT\", encoding = \"ascii\")"
   ]
  },
  {
   "cell_type": "code",
   "execution_count": 23,
   "id": "44a9cfb0-f2b7-4027-8187-1ff6dd413872",
   "metadata": {
    "execution": {
     "iopub.execute_input": "2023-10-20T15:01:14.760267Z",
     "iopub.status.busy": "2023-10-20T15:01:14.760267Z",
     "iopub.status.idle": "2023-10-20T15:01:14.765601Z",
     "shell.execute_reply": "2023-10-20T15:01:14.765601Z",
     "shell.execute_reply.started": "2023-10-20T15:01:14.760267Z"
    }
   },
   "outputs": [
    {
     "data": {
      "text/plain": [
       "array([73, 68, 65, 84], dtype=uint8)"
      ]
     },
     "execution_count": 23,
     "metadata": {},
     "output_type": "execute_result"
    }
   ],
   "source": [
    "idat = np.array(bytearray(\"IDAT\", encoding = \"ascii\"))\n",
    "idat"
   ]
  },
  {
   "cell_type": "code",
   "execution_count": 28,
   "id": "82e5ed18-c3f6-46f7-864e-0785687b6e04",
   "metadata": {
    "execution": {
     "iopub.execute_input": "2023-10-20T15:04:33.881039Z",
     "iopub.status.busy": "2023-10-20T15:04:33.881039Z",
     "iopub.status.idle": "2023-10-20T15:04:34.087156Z",
     "shell.execute_reply": "2023-10-20T15:04:34.087156Z",
     "shell.execute_reply.started": "2023-10-20T15:04:33.881039Z"
    }
   },
   "outputs": [],
   "source": [
    "idat_offsets = []\n",
    "\n",
    "for i in range(png.size - 4):\n",
    "    if all(png[i: i + 4] == idat):\n",
    "        idat_offsets.append(i)"
   ]
  },
  {
   "cell_type": "code",
   "execution_count": 29,
   "id": "036fd125-a833-46f1-ae01-93e778077ef4",
   "metadata": {
    "execution": {
     "iopub.execute_input": "2023-10-20T15:04:38.259015Z",
     "iopub.status.busy": "2023-10-20T15:04:38.259015Z",
     "iopub.status.idle": "2023-10-20T15:04:38.263553Z",
     "shell.execute_reply": "2023-10-20T15:04:38.263553Z",
     "shell.execute_reply.started": "2023-10-20T15:04:38.259015Z"
    }
   },
   "outputs": [
    {
     "data": {
      "text/plain": [
       "[37]"
      ]
     },
     "execution_count": 29,
     "metadata": {},
     "output_type": "execute_result"
    }
   ],
   "source": [
    "idat_offsets"
   ]
  }
 ],
 "metadata": {
  "kernelspec": {
   "display_name": "Python 3 (ipykernel)",
   "language": "python",
   "name": "python3"
  },
  "language_info": {
   "codemirror_mode": {
    "name": "ipython",
    "version": 3
   },
   "file_extension": ".py",
   "mimetype": "text/x-python",
   "name": "python",
   "nbconvert_exporter": "python",
   "pygments_lexer": "ipython3",
   "version": "3.11.7"
  }
 },
 "nbformat": 4,
 "nbformat_minor": 5
}
