{
 "cells": [
  {
   "cell_type": "code",
   "execution_count": 31,
   "id": "ff61adea-193d-4346-a418-4859b32461ac",
   "metadata": {
    "execution": {
     "iopub.execute_input": "2023-03-11T01:05:25.689615Z",
     "iopub.status.busy": "2023-03-11T01:05:25.688615Z",
     "iopub.status.idle": "2023-03-11T01:05:25.693840Z",
     "shell.execute_reply": "2023-03-11T01:05:25.692829Z",
     "shell.execute_reply.started": "2023-03-11T01:05:25.689615Z"
    },
    "tags": []
   },
   "outputs": [],
   "source": [
    "import re\n",
    "import typing\n",
    "from urllib import (request, error)\n",
    "import threading\n",
    "import ctypes\n",
    "from bs4 import BeautifulSoup"
   ]
  },
  {
   "cell_type": "code",
   "execution_count": 19,
   "id": "ddf8d805-0391-4f9b-8299-5af8b56b0ef5",
   "metadata": {
    "execution": {
     "iopub.execute_input": "2023-03-11T00:37:43.165035Z",
     "iopub.status.busy": "2023-03-11T00:37:43.164099Z",
     "iopub.status.idle": "2023-03-11T00:37:43.169722Z",
     "shell.execute_reply": "2023-03-11T00:37:43.168716Z",
     "shell.execute_reply.started": "2023-03-11T00:37:43.165035Z"
    },
    "tags": []
   },
   "outputs": [],
   "source": [
    "def fetch_llvm_releases_github_page() -> str:\n",
    "    \n",
    "    \"\"\"\n",
    "    \n",
    "    Returns the HTML page at https://github.com/llvm/llvm-project/releases as a string object.\n",
    "    \n",
    "    \"\"\"\n",
    "    \n",
    "    page: str = \"\"\n",
    "    LLVM_RELEASE_PAGE = r\"https://github.com/llvm/llvm-project/releases\"\n",
    "    req = request.Request(url = LLVM_RELEASE_PAGE, method = \"GET\", headers = {\n",
    "        \"User-Agent\": \"Mozilla/5.0 (Windows NT 10.0; Win64; x64; rv:109.0) Gecko/20100101 Firefox/110.0\",\n",
    "        \"Connection\": \"close\"\n",
    "    })\n",
    "    try:\n",
    "        with request.urlopen(req) as response:\n",
    "            page = str(response.read())\n",
    "    except error.HTTPError as err:\n",
    "        raise error.HTTPError(err.__dict__) \n",
    "    return page"
   ]
  },
  {
   "cell_type": "code",
   "execution_count": 20,
   "id": "06832dad-c7e5-4791-a6e6-ceb010dc6551",
   "metadata": {
    "execution": {
     "iopub.execute_input": "2023-03-11T00:37:43.916869Z",
     "iopub.status.busy": "2023-03-11T00:37:43.916869Z",
     "iopub.status.idle": "2023-03-11T00:37:45.390904Z",
     "shell.execute_reply": "2023-03-11T00:37:45.389796Z",
     "shell.execute_reply.started": "2023-03-11T00:37:43.916869Z"
    },
    "tags": []
   },
   "outputs": [],
   "source": [
    "# okay\n",
    "\n",
    "page = fetch_llvm_releases_github_page();"
   ]
  },
  {
   "cell_type": "code",
   "execution_count": 21,
   "id": "90d53645-d988-4e1d-b2d4-17c08d123d4f",
   "metadata": {
    "execution": {
     "iopub.execute_input": "2023-03-11T00:37:48.117057Z",
     "iopub.status.busy": "2023-03-11T00:37:48.117057Z",
     "iopub.status.idle": "2023-03-11T00:37:48.123311Z",
     "shell.execute_reply": "2023-03-11T00:37:48.122295Z",
     "shell.execute_reply.started": "2023-03-11T00:37:48.117057Z"
    },
    "tags": []
   },
   "outputs": [],
   "source": [
    "def extract_llvm_release_versions_and_links(html_document: str) -> typing.Dict[str, str]:\n",
    "    \n",
    "    \"\"\"\n",
    "    \n",
    "    html_document: str\n",
    "    returns dict[version: str, uri: str]\n",
    "    \n",
    "    Takes the LLVM releases GitHub HTML page as a string, parses the page to extract released LLVM versions and their cognate\n",
    "    download URIs and returns them paired in a dictionary.\n",
    "    Requires BeautifulSoup for parsing the HTML document.\n",
    "    \n",
    "    Note that this function is delicate and prone to breaks as it depends on very intricate structural details of the HTML ducument.\n",
    "    Any small changes in the structure of the HTML ducument could potentially break the parsing logic. (If GitHub decides to change their page \n",
    "    structures)\n",
    "    \n",
    "    \"\"\"\n",
    "    \n",
    "    if not isinstance(html_document, str):\n",
    "        raise TypeError(\"Incompatible types. Argument must be of string <class 'str'> type.\")\n",
    "        \n",
    "    links: typing.Dict[str, str] = dict()\n",
    "    \n",
    "    soup = BeautifulSoup(html_document, \"html.parser\")\n",
    "    \n",
    "    for section in soup.find_all(\"section\"):\n",
    "        version = section.find(\"h2\", attrs = {\"class\": \"sr-only\"}).text\n",
    "        include_fragment = section.find(\"include-fragment\", attrs = {\"loading\": \"lazy\"})\n",
    "        \n",
    "        if include_fragment:\n",
    "            links[version] = include_fragment.get(\"src\")\n",
    "            \n",
    "        else:\n",
    "            lazy_load = section.find(\"include-fragment\", attrs = {\"class\": \"js-truncated-assets-fragment\"})\n",
    "            links[version] = lazy_load.get(\"data-deferred-src\")\n",
    "    return links"
   ]
  },
  {
   "cell_type": "code",
   "execution_count": 22,
   "id": "1fb8c5f7-82b9-4eb2-ab1c-91c7495b8588",
   "metadata": {
    "execution": {
     "iopub.execute_input": "2023-03-11T00:37:48.613245Z",
     "iopub.status.busy": "2023-03-11T00:37:48.613245Z",
     "iopub.status.idle": "2023-03-11T00:37:48.779356Z",
     "shell.execute_reply": "2023-03-11T00:37:48.779356Z",
     "shell.execute_reply.started": "2023-03-11T00:37:48.613245Z"
    },
    "tags": []
   },
   "outputs": [
    {
     "data": {
      "text/plain": [
       "{'LLVM 16.0.0-rc3': 'https://github.com/llvm/llvm-project/releases/expanded_assets/llvmorg-16.0.0-rc3',\n",
       " 'LLVM 16.0.0-rc2': 'https://github.com/llvm/llvm-project/releases/expanded_assets/llvmorg-16.0.0-rc2',\n",
       " 'LLVM 16.0.0-rc1': 'https://github.com/llvm/llvm-project/releases/expanded_assets/llvmorg-16.0.0-rc1',\n",
       " 'LLVM 15.0.7': 'https://github.com/llvm/llvm-project/releases/expanded_assets/llvmorg-15.0.7',\n",
       " 'LLVM 15.0.6': 'https://github.com/llvm/llvm-project/releases/expanded_assets/llvmorg-15.0.6',\n",
       " 'LLVM 15.0.5': 'https://github.com/llvm/llvm-project/releases/expanded_assets/llvmorg-15.0.5',\n",
       " 'LLVM 15.0.4': 'https://github.com/llvm/llvm-project/releases/expanded_assets/llvmorg-15.0.4',\n",
       " 'LLVM 15.0.3': 'https://github.com/llvm/llvm-project/releases/expanded_assets/llvmorg-15.0.3',\n",
       " 'LLVM 15.0.2': 'https://github.com/llvm/llvm-project/releases/expanded_assets/llvmorg-15.0.2',\n",
       " 'LLVM 15.0.1': 'https://github.com/llvm/llvm-project/releases/expanded_assets/llvmorg-15.0.1'}"
      ]
     },
     "execution_count": 22,
     "metadata": {},
     "output_type": "execute_result"
    }
   ],
   "source": [
    "extract_llvm_release_versions_and_links(page)"
   ]
  },
  {
   "cell_type": "code",
   "execution_count": 23,
   "id": "ea5d61ec-8004-484b-a1aa-06eb566831bd",
   "metadata": {
    "execution": {
     "iopub.execute_input": "2023-03-11T00:37:49.292810Z",
     "iopub.status.busy": "2023-03-11T00:37:49.292810Z",
     "iopub.status.idle": "2023-03-11T00:37:49.297194Z",
     "shell.execute_reply": "2023-03-11T00:37:49.297194Z",
     "shell.execute_reply.started": "2023-03-11T00:37:49.292810Z"
    },
    "tags": []
   },
   "outputs": [],
   "source": [
    "# a new fetch and extract function that takes just one url\n",
    "\n",
    "def extract_LLVM_win64_download_uri(link: str) -> str:\n",
    "    BASE_URL = \"https://github.com\"\n",
    "    win64 = re.compile(r\"/llvm/llvm-project/releases/download/[\\d\\w\\-\\.\\/]*win64.exe\")\n",
    "    \n",
    "    req_custom = request.Request(url = link, method = \"GET\", headers = {\n",
    "            \"User-Agent\": \"Mozilla/5.0 (Windows NT 10.0; Win64; x64; rv:109.0) Gecko/20100101 Firefox/110.0\",\n",
    "            \"Connection\": \"close\"\n",
    "        })\n",
    "    \n",
    "    with request.urlopen(req_custom) as response:\n",
    "        try:\n",
    "            resp_body = str(response.read().decode(\"utf8\"))\n",
    "            download_link = re.findall(win64, resp_body)\n",
    "            if download_link:\n",
    "                return BASE_URL + download_link[0]\n",
    "            else:\n",
    "                return None\n",
    "        except error.HTTPError as err:\n",
    "            print(err.__dict__())"
   ]
  },
  {
   "cell_type": "code",
   "execution_count": 24,
   "id": "e82d71e5-14c6-465a-9fbe-62e633162519",
   "metadata": {
    "execution": {
     "iopub.execute_input": "2023-03-11T00:37:49.781584Z",
     "iopub.status.busy": "2023-03-11T00:37:49.781584Z",
     "iopub.status.idle": "2023-03-11T00:37:50.777473Z",
     "shell.execute_reply": "2023-03-11T00:37:50.775447Z",
     "shell.execute_reply.started": "2023-03-11T00:37:49.781584Z"
    },
    "tags": []
   },
   "outputs": [
    {
     "data": {
      "text/plain": [
       "'https://github.com/llvm/llvm-project/releases/download/llvmorg-15.0.1/LLVM-15.0.1-win64.exe'"
      ]
     },
     "execution_count": 24,
     "metadata": {},
     "output_type": "execute_result"
    }
   ],
   "source": [
    "extract_LLVM_win64_download_uri('https://github.com/llvm/llvm-project/releases/expanded_assets/llvmorg-15.0.1')"
   ]
  },
  {
   "cell_type": "code",
   "execution_count": 25,
   "id": "28d2ad30-3c1c-450f-ba4b-6e29a9bb2943",
   "metadata": {
    "execution": {
     "iopub.execute_input": "2023-03-11T00:37:51.150406Z",
     "iopub.status.busy": "2023-03-11T00:37:51.149413Z",
     "iopub.status.idle": "2023-03-11T00:37:51.224431Z",
     "shell.execute_reply": "2023-03-11T00:37:51.224431Z",
     "shell.execute_reply.started": "2023-03-11T00:37:51.150406Z"
    },
    "tags": []
   },
   "outputs": [
    {
     "data": {
      "text/plain": [
       "{'LLVM 16.0.0-rc3': 'https://github.com/llvm/llvm-project/releases/expanded_assets/llvmorg-16.0.0-rc3',\n",
       " 'LLVM 16.0.0-rc2': 'https://github.com/llvm/llvm-project/releases/expanded_assets/llvmorg-16.0.0-rc2',\n",
       " 'LLVM 16.0.0-rc1': 'https://github.com/llvm/llvm-project/releases/expanded_assets/llvmorg-16.0.0-rc1',\n",
       " 'LLVM 15.0.7': 'https://github.com/llvm/llvm-project/releases/expanded_assets/llvmorg-15.0.7',\n",
       " 'LLVM 15.0.6': 'https://github.com/llvm/llvm-project/releases/expanded_assets/llvmorg-15.0.6',\n",
       " 'LLVM 15.0.5': 'https://github.com/llvm/llvm-project/releases/expanded_assets/llvmorg-15.0.5',\n",
       " 'LLVM 15.0.4': 'https://github.com/llvm/llvm-project/releases/expanded_assets/llvmorg-15.0.4',\n",
       " 'LLVM 15.0.3': 'https://github.com/llvm/llvm-project/releases/expanded_assets/llvmorg-15.0.3',\n",
       " 'LLVM 15.0.2': 'https://github.com/llvm/llvm-project/releases/expanded_assets/llvmorg-15.0.2',\n",
       " 'LLVM 15.0.1': 'https://github.com/llvm/llvm-project/releases/expanded_assets/llvmorg-15.0.1'}"
      ]
     },
     "execution_count": 25,
     "metadata": {},
     "output_type": "execute_result"
    }
   ],
   "source": [
    "page_links = extract_llvm_release_versions_and_links(page)\n",
    "page_links"
   ]
  },
  {
   "cell_type": "code",
   "execution_count": 26,
   "id": "af624d34-72d2-41f0-b477-2350dde48bd9",
   "metadata": {
    "execution": {
     "iopub.execute_input": "2023-03-11T00:37:52.461031Z",
     "iopub.status.busy": "2023-03-11T00:37:52.460032Z",
     "iopub.status.idle": "2023-03-11T00:37:52.466976Z",
     "shell.execute_reply": "2023-03-11T00:37:52.466976Z",
     "shell.execute_reply.started": "2023-03-11T00:37:52.461031Z"
    },
    "tags": []
   },
   "outputs": [],
   "source": [
    "class Win64FetcherThread(threading.Thread):\n",
    "    \n",
    "    \"\"\"\n",
    "    \n",
    "    A class that extends the threading.Thread class.\n",
    "    Upon instantiation, requires a \n",
    "    link: str - URI to the web page of a specific LLVM release version.\n",
    "    regex: typing.Pattern[str] - a compiled regex pattern to match the download URI of the downloadable win64 executable.\n",
    "    \n",
    "    the .run() method (invoked implicitly when calling thread.start()) sends a HHTP GET request to the specicifed URI,\n",
    "    receives, parses the response body to extract the download URI.\n",
    "    This URI is stored in the .result attribute.\n",
    "    If a specfic LLVM release hasn't provided a downloadable win64 executable, the .result attribute will be None.\n",
    "    \n",
    "    \"\"\"\n",
    "    \n",
    "    \n",
    "    def __init__(self, link: str, regex: typing.Pattern[str]) -> None:\n",
    "        \n",
    "        \"\"\"\n",
    "        \n",
    "        link: str - URI to the web page of a specific LLVM release version.\n",
    "        regex: typing.Pattern[str] - a compiled regex pattern to match the download URI of the downloadable win64 executable.\n",
    "        Having to compile the regex at every instantiation of this class would likely lead to performance losses.\n",
    "        So, this function takes a pre-compiled regex object on initialization. (One pre-compiled regex object can be passed to instantiation\n",
    "        of multiple objects, if the pattern to be matched is same for all tasks, thus removing a significant overhead.)\n",
    "        \n",
    "        \"\"\"\n",
    "        \n",
    "        threading.Thread.__init__(self)\n",
    "        self.link: str = link\n",
    "        self.result: str = None\n",
    "        self.BASE_URL: str = \"https://github.com\"\n",
    "        self.pattern: typing.Pattern[str] = regex \n",
    "        \n",
    "    \n",
    "    def run(self) -> str:\n",
    "\n",
    "        \"\"\"\n",
    "        \n",
    "        The method that gets called when thread.start() is invoked.\n",
    "        \n",
    "        \"\"\"\n",
    "        \n",
    "        req_custom = request.Request(url = self.link, method = \"GET\", headers = {\n",
    "                \"User-Agent\": \"Mozilla/5.0 (Windows NT 10.0; Win64; x64; rv:109.0) Gecko/20100101 Firefox/110.0\",\n",
    "                \"Connection\": \"close\"\n",
    "            })\n",
    "\n",
    "        with request.urlopen(req_custom) as response:\n",
    "            try:\n",
    "                resp_body = str(response.read().decode(\"utf8\"))\n",
    "                download_link = re.findall(self.pattern, resp_body)\n",
    "                if download_link:\n",
    "                    self.result = self.BASE_URL + download_link[0]\n",
    "                else:\n",
    "                    self.result = None\n",
    "            except error.HTTPError as err:\n",
    "                print(err.__dict__())"
   ]
  },
  {
   "cell_type": "code",
   "execution_count": 27,
   "id": "79726e47-d52a-44bb-995d-223fac2b228c",
   "metadata": {
    "execution": {
     "iopub.execute_input": "2023-03-11T00:37:53.196274Z",
     "iopub.status.busy": "2023-03-11T00:37:53.196274Z",
     "iopub.status.idle": "2023-03-11T00:37:53.201060Z",
     "shell.execute_reply": "2023-03-11T00:37:53.201060Z",
     "shell.execute_reply.started": "2023-03-11T00:37:53.196274Z"
    },
    "tags": []
   },
   "outputs": [],
   "source": [
    "def run_threads(page_links: typing.Dict[str, str]) -> typing.Dict[str, str]:\n",
    "    \n",
    "    \"\"\"\n",
    "    \n",
    "    page_links: typing.Dict[str, str] - a dictionary with LLVM release versions as keys and LLVM release page URIs as values.\n",
    "    returns: typing.Dict[str, str] - a dictionary with LLVM release versions as keys and win64 LLVM downloadable .exe URIs as values.\n",
    "    \n",
    "    A function that runs a set of Win64FetcherThreads in parallel.\n",
    "    Spawns a new OS thread with every URI of the LLVM download page.\n",
    "    Once the spawned threads finish their tasks, joins them with the main thread. (Current thread)\n",
    "    \n",
    "    \"\"\"    \n",
    "    \n",
    "    regex = re.compile(r\"/llvm/llvm-project/releases/download/[\\d\\w\\-\\.\\/]*win64.exe\")\n",
    "    win64_downloads = dict.fromkeys(page_links.keys())\n",
    "    \n",
    "    threads = [Win64FetcherThread(link = uri, regex = regex) for uri in page_links.values()]\n",
    "    \n",
    "    for thread in threads:\n",
    "        thread.start()\n",
    "        \n",
    "    for thread in threads:\n",
    "        thread.join()\n",
    "    \n",
    "    for (i, release) in enumerate(win64_downloads.keys()):\n",
    "        win64_downloads[release] = threads[i].result\n",
    "    \n",
    "    return win64_downloads"
   ]
  },
  {
   "cell_type": "code",
   "execution_count": 28,
   "id": "d2e695c3-9742-43fb-b6bf-f713c6d36370",
   "metadata": {
    "execution": {
     "iopub.execute_input": "2023-03-11T00:37:54.325877Z",
     "iopub.status.busy": "2023-03-11T00:37:54.324877Z",
     "iopub.status.idle": "2023-03-11T00:37:55.313601Z",
     "shell.execute_reply": "2023-03-11T00:37:55.312662Z",
     "shell.execute_reply.started": "2023-03-11T00:37:54.324877Z"
    },
    "tags": []
   },
   "outputs": [
    {
     "name": "stdout",
     "output_type": "stream",
     "text": [
      "982 ms ± 0 ns per loop (mean ± std. dev. of 1 run, 1 loop each)\n"
     ]
    }
   ],
   "source": [
    "%%timeit -n 1 -r 1\n",
    "\n",
    "execute(page_links)"
   ]
  },
  {
   "cell_type": "code",
   "execution_count": 29,
   "id": "a650ee8b-160e-4aba-9ad7-f74d51e51c73",
   "metadata": {
    "execution": {
     "iopub.execute_input": "2023-03-11T00:37:55.317600Z",
     "iopub.status.busy": "2023-03-11T00:37:55.316607Z",
     "iopub.status.idle": "2023-03-11T00:37:56.340837Z",
     "shell.execute_reply": "2023-03-11T00:37:56.339815Z",
     "shell.execute_reply.started": "2023-03-11T00:37:55.317600Z"
    },
    "tags": []
   },
   "outputs": [
    {
     "data": {
      "text/plain": [
       "{'LLVM 16.0.0-rc3': 'https://github.com/llvm/llvm-project/releases/download/llvmorg-16.0.0-rc3/LLVM-16.0.0-rc3-win64.exe',\n",
       " 'LLVM 16.0.0-rc2': 'https://github.com/llvm/llvm-project/releases/download/llvmorg-16.0.0-rc2/LLVM-16.0.0-rc2-win64.exe',\n",
       " 'LLVM 16.0.0-rc1': None,\n",
       " 'LLVM 15.0.7': 'https://github.com/llvm/llvm-project/releases/download/llvmorg-15.0.7/LLVM-15.0.7-win64.exe',\n",
       " 'LLVM 15.0.6': 'https://github.com/llvm/llvm-project/releases/download/llvmorg-15.0.6/LLVM-15.0.6-win64.exe',\n",
       " 'LLVM 15.0.5': 'https://github.com/llvm/llvm-project/releases/download/llvmorg-15.0.5/LLVM-15.0.5-win64.exe',\n",
       " 'LLVM 15.0.4': 'https://github.com/llvm/llvm-project/releases/download/llvmorg-15.0.4/LLVM-15.0.4-win64.exe',\n",
       " 'LLVM 15.0.3': 'https://github.com/llvm/llvm-project/releases/download/llvmorg-15.0.3/LLVM-15.0.3-win64.exe',\n",
       " 'LLVM 15.0.2': 'https://github.com/llvm/llvm-project/releases/download/llvmorg-15.0.2/LLVM-15.0.2-win64.exe',\n",
       " 'LLVM 15.0.1': 'https://github.com/llvm/llvm-project/releases/download/llvmorg-15.0.1/LLVM-15.0.1-win64.exe'}"
      ]
     },
     "execution_count": 29,
     "metadata": {},
     "output_type": "execute_result"
    }
   ],
   "source": [
    "execute(page_links)"
   ]
  },
  {
   "cell_type": "code",
   "execution_count": 75,
   "id": "cd23c898-d084-49ec-af42-b49566d09466",
   "metadata": {
    "execution": {
     "iopub.execute_input": "2023-03-10T13:14:27.147550Z",
     "iopub.status.busy": "2023-03-10T13:14:27.146554Z",
     "iopub.status.idle": "2023-03-10T13:14:27.153008Z",
     "shell.execute_reply": "2023-03-10T13:14:27.152001Z",
     "shell.execute_reply.started": "2023-03-10T13:14:27.146554Z"
    },
    "tags": []
   },
   "outputs": [
    {
     "data": {
      "text/plain": [
       "8.660714285714285"
      ]
     },
     "execution_count": 75,
     "metadata": {},
     "output_type": "execute_result"
    }
   ],
   "source": [
    "9.7 / 1.12"
   ]
  },
  {
   "cell_type": "code",
   "execution_count": null,
   "id": "2e472c55-8062-496c-8603-cbf0cde72ed4",
   "metadata": {
    "tags": []
   },
   "outputs": [],
   "source": []
  },
  {
   "cell_type": "code",
   "execution_count": 75,
   "id": "db9ddf2f-ccb0-4c51-b366-69b05af2a2cd",
   "metadata": {
    "execution": {
     "iopub.execute_input": "2023-03-11T01:39:55.761065Z",
     "iopub.status.busy": "2023-03-11T01:39:55.759984Z",
     "iopub.status.idle": "2023-03-11T01:39:55.768456Z",
     "shell.execute_reply": "2023-03-11T01:39:55.767447Z",
     "shell.execute_reply.started": "2023-03-11T01:39:55.761065Z"
    },
    "tags": []
   },
   "outputs": [],
   "source": [
    "def activate_virtual_terminal_escapes_win32() -> None:\n",
    "    \n",
    "    \"\"\"\n",
    "    \n",
    "    \"\"\"\n",
    "    STD_OUTPUT_HANDLE = ctypes.wintypes.DWORD(-11)\n",
    "    INVALID_HANDLE_VALUE = ctypes.wintypes.HANDLE(-1)\n",
    "    ENABLE_VIRTUAL_TERMINAL_PROCESSING = ctypes.wintypes.DWORD(0x0004)\n",
    "    \n",
    "    GetStdHandle = ctypes.windll.kernel32.GetStdHandle\n",
    "    GetStdHandle.argtypes = [ctypes.wintypes.DWORD]\n",
    "    GetStdHandle.restype = ctypes.wintypes.HANDLE\n",
    "    \n",
    "    GetConsoleMode = ctypes.windll.kernel32.GetConsoleMode\n",
    "    GetConsoleMode.argtypes = [ctypes.wintypes.HANDLE, ctypes.wintypes.LPDWORD]\n",
    "    GetConsoleMode.restype = ctypes.wintypes.BOOL\n",
    "    \n",
    "    SetConsoleMode = ctypes.windll.kernel32.SetConsoleMode\n",
    "    SetConsoleMode.argtypes = [ctypes.wintypes.HANDLE, ctypes.wintypes.DWORD]\n",
    "    SetConsoleMode.restype = ctypes.wintypes.BOOL\n",
    "    \n",
    "    \n",
    "    std_out: ctypes.wintypes.HANDLE = GetStdHandle(STD_OUTPUT_HANDLE)\n",
    "    \n",
    "    dwMode = ctypes.wintypes.DWORD(0)\n",
    "    GetConsoleMode(std_out, ctypes.byref(dwMode))\n",
    "    dwMode.value |= ENABLE_VIRTUAL_TERMINAL_PROCESSING.value\n",
    "    \n",
    "    \n",
    "    SetConsoleMode(std_out, dwMode)\n",
    "    \n",
    "    # print(\"\\x1b[33mLLVM 1502.78: \\x1b[32m A dummy link.\\r\\n\\x1b[0m\")\n",
    "    # print(\"This text has returned to default colors using SGR.0 explicitly.\\r\\n\")\n",
    "    "
   ]
  },
  {
   "cell_type": "code",
   "execution_count": 76,
   "id": "54ab0f22-6768-4784-b974-fa00df20c03e",
   "metadata": {
    "execution": {
     "iopub.execute_input": "2023-03-11T01:39:59.904867Z",
     "iopub.status.busy": "2023-03-11T01:39:59.904867Z",
     "iopub.status.idle": "2023-03-11T01:39:59.908338Z",
     "shell.execute_reply": "2023-03-11T01:39:59.908338Z",
     "shell.execute_reply.started": "2023-03-11T01:39:59.904867Z"
    },
    "tags": []
   },
   "outputs": [],
   "source": [
    "activate_virtual_terminal_escapes_win32()"
   ]
  },
  {
   "cell_type": "code",
   "execution_count": 77,
   "id": "1f3f9c8c-f0b4-4ce4-83da-54c1f0fac25c",
   "metadata": {
    "execution": {
     "iopub.execute_input": "2023-03-11T01:40:04.167490Z",
     "iopub.status.busy": "2023-03-11T01:40:04.166492Z",
     "iopub.status.idle": "2023-03-11T01:40:04.171873Z",
     "shell.execute_reply": "2023-03-11T01:40:04.170868Z",
     "shell.execute_reply.started": "2023-03-11T01:40:04.167490Z"
    },
    "tags": []
   },
   "outputs": [],
   "source": [
    "def print_results(results: typing.Dict[str, str]) -> None:\n",
    "    \n",
    "    \"\"\"\n",
    "    \n",
    "    \"\"\"\n",
    "    \n",
    "    activate_virtual_terminal_escapes_win32()\n",
    "    for (release, link) in results.items():\n",
    "        print(f\"\\x1b[33m{release}: \\x1b[32m{link}\")\n",
    "    print(\"\\x1b[0m\")"
   ]
  },
  {
   "cell_type": "code",
   "execution_count": 65,
   "id": "12e0199c-31c5-4f68-98bc-ab9eabc436e9",
   "metadata": {
    "execution": {
     "iopub.execute_input": "2023-03-11T01:38:29.810194Z",
     "iopub.status.busy": "2023-03-11T01:38:29.810194Z",
     "iopub.status.idle": "2023-03-11T01:38:30.816174Z",
     "shell.execute_reply": "2023-03-11T01:38:30.814154Z",
     "shell.execute_reply.started": "2023-03-11T01:38:29.810194Z"
    },
    "tags": []
   },
   "outputs": [],
   "source": [
    "res = execute(page_links)"
   ]
  },
  {
   "cell_type": "code",
   "execution_count": 78,
   "id": "51e74914-360d-4fc2-a9dc-81d665053feb",
   "metadata": {
    "execution": {
     "iopub.execute_input": "2023-03-11T01:40:05.200612Z",
     "iopub.status.busy": "2023-03-11T01:40:05.200612Z",
     "iopub.status.idle": "2023-03-11T01:40:05.204355Z",
     "shell.execute_reply": "2023-03-11T01:40:05.204355Z",
     "shell.execute_reply.started": "2023-03-11T01:40:05.200612Z"
    },
    "tags": []
   },
   "outputs": [
    {
     "name": "stdout",
     "output_type": "stream",
     "text": [
      "\u001b[33mLLVM 16.0.0-rc3: \u001b[32mhttps://github.com/llvm/llvm-project/releases/download/llvmorg-16.0.0-rc3/LLVM-16.0.0-rc3-win64.exe\n",
      "\u001b[33mLLVM 16.0.0-rc2: \u001b[32mhttps://github.com/llvm/llvm-project/releases/download/llvmorg-16.0.0-rc2/LLVM-16.0.0-rc2-win64.exe\n",
      "\u001b[33mLLVM 16.0.0-rc1: \u001b[32mNone\n",
      "\u001b[33mLLVM 15.0.7: \u001b[32mhttps://github.com/llvm/llvm-project/releases/download/llvmorg-15.0.7/LLVM-15.0.7-win64.exe\n",
      "\u001b[33mLLVM 15.0.6: \u001b[32mhttps://github.com/llvm/llvm-project/releases/download/llvmorg-15.0.6/LLVM-15.0.6-win64.exe\n",
      "\u001b[33mLLVM 15.0.5: \u001b[32mhttps://github.com/llvm/llvm-project/releases/download/llvmorg-15.0.5/LLVM-15.0.5-win64.exe\n",
      "\u001b[33mLLVM 15.0.4: \u001b[32mhttps://github.com/llvm/llvm-project/releases/download/llvmorg-15.0.4/LLVM-15.0.4-win64.exe\n",
      "\u001b[33mLLVM 15.0.3: \u001b[32mhttps://github.com/llvm/llvm-project/releases/download/llvmorg-15.0.3/LLVM-15.0.3-win64.exe\n",
      "\u001b[33mLLVM 15.0.2: \u001b[32mhttps://github.com/llvm/llvm-project/releases/download/llvmorg-15.0.2/LLVM-15.0.2-win64.exe\n",
      "\u001b[33mLLVM 15.0.1: \u001b[32mhttps://github.com/llvm/llvm-project/releases/download/llvmorg-15.0.1/LLVM-15.0.1-win64.exe\n",
      "\u001b[0m\n"
     ]
    }
   ],
   "source": [
    "print_results(res)"
   ]
  },
  {
   "cell_type": "code",
   "execution_count": null,
   "id": "a4222cfe-1234-417c-b228-8c2620b63942",
   "metadata": {},
   "outputs": [],
   "source": []
  }
 ],
 "metadata": {
  "kernelspec": {
   "display_name": "Python 3 (ipykernel)",
   "language": "python",
   "name": "python3"
  },
  "language_info": {
   "codemirror_mode": {
    "name": "ipython",
    "version": 3
   },
   "file_extension": ".py",
   "mimetype": "text/x-python",
   "name": "python",
   "nbconvert_exporter": "python",
   "pygments_lexer": "ipython3",
   "version": "3.11.2"
  }
 },
 "nbformat": 4,
 "nbformat_minor": 5
}
