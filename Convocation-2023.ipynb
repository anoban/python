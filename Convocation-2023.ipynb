{
 "cells": [
  {
   "cell_type": "code",
   "execution_count": 49,
   "id": "0c156c3d-c14d-4a92-8272-a001d6ecb7bb",
   "metadata": {
    "execution": {
     "iopub.execute_input": "2023-07-01T05:22:56.681972Z",
     "iopub.status.busy": "2023-07-01T05:22:56.680972Z",
     "iopub.status.idle": "2023-07-01T05:22:56.684836Z",
     "shell.execute_reply": "2023-07-01T05:22:56.684836Z",
     "shell.execute_reply.started": "2023-07-01T05:22:56.681972Z"
    }
   },
   "outputs": [],
   "source": [
    "from bs4 import BeautifulSoup\n",
    "from urllib import request\n",
    "import re\n",
    "import pandas as pd\n",
    "import numpy as np"
   ]
  },
  {
   "cell_type": "code",
   "execution_count": 2,
   "id": "2dba33bd-ac40-4c88-b0a8-8b7066917dc4",
   "metadata": {
    "execution": {
     "iopub.execute_input": "2023-07-01T05:07:23.904682Z",
     "iopub.status.busy": "2023-07-01T05:07:23.900683Z",
     "iopub.status.idle": "2023-07-01T05:07:25.047033Z",
     "shell.execute_reply": "2023-07-01T05:07:25.045485Z",
     "shell.execute_reply.started": "2023-07-01T05:07:23.904682Z"
    }
   },
   "outputs": [],
   "source": [
    "with request.urlopen(url = \"https://www.jfn.ac.lk/37th-general-convocation-list-of-graduands/\") as opener:\n",
    "    html = opener.read()"
   ]
  },
  {
   "cell_type": "code",
   "execution_count": 4,
   "id": "4f8d0de0-b07f-4268-82a6-ad55542cbaf5",
   "metadata": {
    "execution": {
     "iopub.execute_input": "2023-07-01T05:07:58.481865Z",
     "iopub.status.busy": "2023-07-01T05:07:58.481865Z",
     "iopub.status.idle": "2023-07-01T05:07:58.864549Z",
     "shell.execute_reply": "2023-07-01T05:07:58.863622Z",
     "shell.execute_reply.started": "2023-07-01T05:07:58.481865Z"
    }
   },
   "outputs": [],
   "source": [
    "soup = BeautifulSoup(html, \"html.parser\")"
   ]
  },
  {
   "cell_type": "code",
   "execution_count": 7,
   "id": "50f9e5e2-a233-43cb-bf13-fe90cc6f19fe",
   "metadata": {
    "execution": {
     "iopub.execute_input": "2023-07-01T05:09:05.689618Z",
     "iopub.status.busy": "2023-07-01T05:09:05.685625Z",
     "iopub.status.idle": "2023-07-01T05:09:05.695401Z",
     "shell.execute_reply": "2023-07-01T05:09:05.694888Z",
     "shell.execute_reply.started": "2023-07-01T05:09:05.689618Z"
    }
   },
   "outputs": [],
   "source": [
    "graduants = soup.find(name = \"table\")"
   ]
  },
  {
   "cell_type": "code",
   "execution_count": 9,
   "id": "5df5c2c1-5902-46fa-a8ca-dfba15f4f7f5",
   "metadata": {
    "execution": {
     "iopub.execute_input": "2023-07-01T05:10:21.777945Z",
     "iopub.status.busy": "2023-07-01T05:10:21.777945Z",
     "iopub.status.idle": "2023-07-01T05:10:21.781634Z",
     "shell.execute_reply": "2023-07-01T05:10:21.781232Z",
     "shell.execute_reply.started": "2023-07-01T05:10:21.777945Z"
    }
   },
   "outputs": [],
   "source": [
    "# column names \n",
    "# Registration Number, Full Name, Degree"
   ]
  },
  {
   "cell_type": "code",
   "execution_count": 12,
   "id": "67bacf42-03e6-46c1-96f7-ad37408733b4",
   "metadata": {
    "execution": {
     "iopub.execute_input": "2023-07-01T05:11:41.665829Z",
     "iopub.status.busy": "2023-07-01T05:11:41.665829Z",
     "iopub.status.idle": "2023-07-01T05:11:41.677058Z",
     "shell.execute_reply": "2023-07-01T05:11:41.677058Z",
     "shell.execute_reply.started": "2023-07-01T05:11:41.665829Z"
    }
   },
   "outputs": [
    {
     "data": {
      "text/plain": [
       "10225"
      ]
     },
     "execution_count": 12,
     "metadata": {},
     "output_type": "execute_result"
    }
   ],
   "source": [
    "len(graduants.find_all(\"td\"))"
   ]
  },
  {
   "cell_type": "code",
   "execution_count": 17,
   "id": "3eb7321b-a228-45dc-81cb-3b6c89f2221f",
   "metadata": {
    "execution": {
     "iopub.execute_input": "2023-07-01T05:13:53.872174Z",
     "iopub.status.busy": "2023-07-01T05:13:53.872174Z",
     "iopub.status.idle": "2023-07-01T05:13:53.884131Z",
     "shell.execute_reply": "2023-07-01T05:13:53.884131Z",
     "shell.execute_reply.started": "2023-07-01T05:13:53.872174Z"
    }
   },
   "outputs": [],
   "source": [
    "table_data = graduants.find_all(\"td\")"
   ]
  },
  {
   "cell_type": "code",
   "execution_count": 32,
   "id": "77bf3fa8-5072-4c53-8747-5e181d5c5d85",
   "metadata": {
    "execution": {
     "iopub.execute_input": "2023-07-01T05:16:21.303671Z",
     "iopub.status.busy": "2023-07-01T05:16:21.303671Z",
     "iopub.status.idle": "2023-07-01T05:16:21.310595Z",
     "shell.execute_reply": "2023-07-01T05:16:21.310595Z",
     "shell.execute_reply.started": "2023-07-01T05:16:21.303671Z"
    }
   },
   "outputs": [
    {
     "data": {
      "text/plain": [
       "[<td class=\"column-1\">1</td>,\n",
       " <td class=\"column-2\">FGS/PhD/MC/Mgt(Mkg)/2015-18(Tr)/02</td>,\n",
       " <td class=\"column-3\">Mrs.Dilogini Sangarathas</td>,\n",
       " <td class=\"column-4\">Doctor of Philosophy (PhD)</td>,\n",
       " <td class=\"column-5\"></td>,\n",
       " <td class=\"column-1\">2</td>,\n",
       " <td class=\"column-2\">FGS/PhD/DS/Ec/2014/01</td>,\n",
       " <td class=\"column-3\">Mr.Rajan Thavaseelan</td>,\n",
       " <td class=\"column-4\">Doctor of Philosophy (PhD)</td>,\n",
       " <td class=\"column-5\"></td>]"
      ]
     },
     "execution_count": 32,
     "metadata": {},
     "output_type": "execute_result"
    }
   ],
   "source": [
    "table_data[:10]"
   ]
  },
  {
   "cell_type": "code",
   "execution_count": 34,
   "id": "20da0920-510b-4f70-b6d8-3d07b5cad2f7",
   "metadata": {
    "execution": {
     "iopub.execute_input": "2023-07-01T05:16:56.284967Z",
     "iopub.status.busy": "2023-07-01T05:16:56.284967Z",
     "iopub.status.idle": "2023-07-01T05:16:56.583559Z",
     "shell.execute_reply": "2023-07-01T05:16:56.583559Z",
     "shell.execute_reply.started": "2023-07-01T05:16:56.284967Z"
    }
   },
   "outputs": [],
   "source": [
    "reg_no = [td.text for td in table_data if \"column-2\" in td.__repr__()]\n",
    "names = [td.text for td in table_data if \"column-3\" in td.__repr__()]\n",
    "degrees = [td.text for td in table_data if \"column-4\" in td.__repr__()]"
   ]
  },
  {
   "cell_type": "code",
   "execution_count": 36,
   "id": "b7576250-252b-4c1f-8fa7-61489d00c25d",
   "metadata": {
    "execution": {
     "iopub.execute_input": "2023-07-01T05:17:15.009522Z",
     "iopub.status.busy": "2023-07-01T05:17:15.009522Z",
     "iopub.status.idle": "2023-07-01T05:17:15.016273Z",
     "shell.execute_reply": "2023-07-01T05:17:15.016273Z",
     "shell.execute_reply.started": "2023-07-01T05:17:15.009522Z"
    }
   },
   "outputs": [
    {
     "data": {
      "text/plain": [
       "(2045, 2045, 2045)"
      ]
     },
     "execution_count": 36,
     "metadata": {},
     "output_type": "execute_result"
    }
   ],
   "source": [
    "# Woo hoo motherfuckers!\n",
    "\n",
    "len(degrees), len(names), len(reg_no)"
   ]
  },
  {
   "cell_type": "code",
   "execution_count": 40,
   "id": "3d5d13ed-b6c1-4769-81da-b33d6984511c",
   "metadata": {
    "execution": {
     "iopub.execute_input": "2023-07-01T05:19:04.203315Z",
     "iopub.status.busy": "2023-07-01T05:19:04.199807Z",
     "iopub.status.idle": "2023-07-01T05:19:04.207659Z",
     "shell.execute_reply": "2023-07-01T05:19:04.207659Z",
     "shell.execute_reply.started": "2023-07-01T05:19:04.203315Z"
    }
   },
   "outputs": [],
   "source": [
    "data = pd.DataFrame({\"RegistrationNumber\": reg_no, \"Name\": names, \"Degree\": degrees})"
   ]
  },
  {
   "cell_type": "code",
   "execution_count": 42,
   "id": "d11a9672-bc90-4a70-b60f-7859e3b8a26a",
   "metadata": {
    "execution": {
     "iopub.execute_input": "2023-07-01T05:19:13.327275Z",
     "iopub.status.busy": "2023-07-01T05:19:13.327275Z",
     "iopub.status.idle": "2023-07-01T05:19:13.336943Z",
     "shell.execute_reply": "2023-07-01T05:19:13.336877Z",
     "shell.execute_reply.started": "2023-07-01T05:19:13.327275Z"
    }
   },
   "outputs": [
    {
     "data": {
      "text/plain": [
       "Index                   132\n",
       "RegistrationNumber    16360\n",
       "Name                  16360\n",
       "Degree                16360\n",
       "dtype: int64"
      ]
     },
     "execution_count": 42,
     "metadata": {},
     "output_type": "execute_result"
    }
   ],
   "source": [
    "data.memory_usage()"
   ]
  },
  {
   "cell_type": "code",
   "execution_count": 43,
   "id": "e1067e4b-0b9e-4e7f-8290-0e003b6f5136",
   "metadata": {
    "execution": {
     "iopub.execute_input": "2023-07-01T05:20:03.959967Z",
     "iopub.status.busy": "2023-07-01T05:20:03.959967Z",
     "iopub.status.idle": "2023-07-01T05:20:04.017908Z",
     "shell.execute_reply": "2023-07-01T05:20:04.017908Z",
     "shell.execute_reply.started": "2023-07-01T05:20:03.959967Z"
    }
   },
   "outputs": [],
   "source": [
    "data.to_csv(\"./gradutes-UoJ-2023.csv\", index = False)"
   ]
  },
  {
   "cell_type": "code",
   "execution_count": 51,
   "id": "e6e688a9-2353-4bd5-90af-69cc7129ff4b",
   "metadata": {
    "execution": {
     "iopub.execute_input": "2023-07-01T05:23:13.412979Z",
     "iopub.status.busy": "2023-07-01T05:23:13.412979Z",
     "iopub.status.idle": "2023-07-01T05:23:13.420219Z",
     "shell.execute_reply": "2023-07-01T05:23:13.420219Z",
     "shell.execute_reply.started": "2023-07-01T05:23:13.412979Z"
    }
   },
   "outputs": [
    {
     "data": {
      "text/plain": [
       "0                           Mrs.Dilogini Sangarathas\n",
       "1                               Mr.Rajan Thavaseelan\n",
       "2                                Mrs.Shajini Majuran\n",
       "3                           Miss. Rajendran Nirthika\n",
       "4                     Mr.Thiruchelvam Selvamanoharan\n",
       "                            ...                     \n",
       "2040    Ms.Pathirajawasam Kudahitige Supun Sanjeewa \n",
       "2041                       Mr.Raheem Mohamed Farhan \n",
       "2042                      Mr.Ehfaar Mohamed Minhaaj \n",
       "2043          Mr.Gamaralalage Chamika Thilan Kumara \n",
       "2044                       Mr.Mohamed Thamby Hazeem \n",
       "Name: Name, Length: 2045, dtype: object"
      ]
     },
     "execution_count": 51,
     "metadata": {},
     "output_type": "execute_result"
    }
   ],
   "source": [
    "data.Name"
   ]
  },
  {
   "cell_type": "code",
   "execution_count": 53,
   "id": "097d8f68-e3c1-4684-9b9d-06958891d14c",
   "metadata": {
    "execution": {
     "iopub.execute_input": "2023-07-01T05:23:25.241970Z",
     "iopub.status.busy": "2023-07-01T05:23:25.240935Z",
     "iopub.status.idle": "2023-07-01T05:23:25.247153Z",
     "shell.execute_reply": "2023-07-01T05:23:25.247153Z",
     "shell.execute_reply.started": "2023-07-01T05:23:25.240935Z"
    }
   },
   "outputs": [
    {
     "data": {
      "text/plain": [
       "(array([571], dtype=int64),)"
      ]
     },
     "execution_count": 53,
     "metadata": {},
     "output_type": "execute_result"
    }
   ],
   "source": [
    "np.where(data.Name == \"Mr.Karunananthan Anoban\")"
   ]
  },
  {
   "cell_type": "code",
   "execution_count": 54,
   "id": "f87e022a-da8d-46ed-a9c5-856577e96920",
   "metadata": {
    "execution": {
     "iopub.execute_input": "2023-07-01T05:23:56.063220Z",
     "iopub.status.busy": "2023-07-01T05:23:56.063220Z",
     "iopub.status.idle": "2023-07-01T05:23:56.070941Z",
     "shell.execute_reply": "2023-07-01T05:23:56.070941Z",
     "shell.execute_reply.started": "2023-07-01T05:23:56.063220Z"
    }
   },
   "outputs": [
    {
     "data": {
      "text/plain": [
       "RegistrationNumber                     2016/SB/117\n",
       "Name                       Mr.Karunananthan Anoban\n",
       "Degree                 Bachelor of Science Honours\n",
       "Name: 571, dtype: object"
      ]
     },
     "execution_count": 54,
     "metadata": {},
     "output_type": "execute_result"
    }
   ],
   "source": [
    "data.iloc[571, :]"
   ]
  }
 ],
 "metadata": {
  "kernelspec": {
   "display_name": "Python 3 (ipykernel)",
   "language": "python",
   "name": "python3"
  },
  "language_info": {
   "codemirror_mode": {
    "name": "ipython",
    "version": 3
   },
   "file_extension": ".py",
   "mimetype": "text/x-python",
   "name": "python",
   "nbconvert_exporter": "python",
   "pygments_lexer": "ipython3",
   "version": "3.11.4"
  }
 },
 "nbformat": 4,
 "nbformat_minor": 5
}
