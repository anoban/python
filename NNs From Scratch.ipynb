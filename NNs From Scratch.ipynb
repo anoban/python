{
 "cells": [
  {
   "cell_type": "code",
   "execution_count": 88,
   "id": "ed17e619-38d0-41b4-83fd-728712a0471d",
   "metadata": {
    "execution": {
     "iopub.execute_input": "2024-01-21T14:32:26.549507Z",
     "iopub.status.busy": "2024-01-21T14:32:26.549507Z",
     "iopub.status.idle": "2024-01-21T14:32:26.558921Z",
     "shell.execute_reply": "2024-01-21T14:32:26.558921Z",
     "shell.execute_reply.started": "2024-01-21T14:32:26.549507Z"
    }
   },
   "outputs": [],
   "source": [
    "# tutorial following https://www.youtube.com/watch?v=w8yWXqWQYmU\n",
    "# using both MNIST and Fashion-MNIST datasets"
   ]
  },
  {
   "cell_type": "code",
   "execution_count": 25,
   "id": "21511f93-594b-4e8b-82ff-ef4c44c3dee5",
   "metadata": {
    "execution": {
     "iopub.execute_input": "2024-01-21T21:04:21.227164Z",
     "iopub.status.busy": "2024-01-21T21:04:21.227164Z",
     "iopub.status.idle": "2024-01-21T21:04:22.802320Z",
     "shell.execute_reply": "2024-01-21T21:04:22.802320Z",
     "shell.execute_reply.started": "2024-01-21T21:04:21.227164Z"
    }
   },
   "outputs": [],
   "source": [
    "import numpy as np\n",
    "from numpy.typing import NDArray\n",
    "np.random.seed(2024 - 1 - 21)\n",
    "import pandas as pd\n",
    "from numba import jit, njit\n",
    "import matplotlib.pyplot as plt\n",
    "import os\n",
    "import gc"
   ]
  },
  {
   "cell_type": "markdown",
   "id": "2ed9fefd-b0d8-4a7c-a68e-781d12886508",
   "metadata": {},
   "source": [
    "# ***Digit classification using MNIST***\n",
    "-------------------"
   ]
  },
  {
   "cell_type": "markdown",
   "id": "855df566-2245-4dde-9e4d-d17821972ead",
   "metadata": {},
   "source": [
    "![MNIST](./MNIST/MnistExamplesModified.png)"
   ]
  },
  {
   "cell_type": "code",
   "execution_count": 87,
   "id": "243e1f9a-497f-4f3b-8046-42e3b04f39b5",
   "metadata": {
    "execution": {
     "iopub.execute_input": "2024-01-21T21:42:28.618588Z",
     "iopub.status.busy": "2024-01-21T21:42:28.618588Z",
     "iopub.status.idle": "2024-01-21T21:42:28.624937Z",
     "shell.execute_reply": "2024-01-21T21:42:28.624420Z",
     "shell.execute_reply.started": "2024-01-21T21:42:28.618588Z"
    }
   },
   "outputs": [
    {
     "data": {
      "text/plain": [
       "784"
      ]
     },
     "execution_count": 87,
     "metadata": {},
     "output_type": "execute_result"
    }
   ],
   "source": [
    "# each image is a black and white 28 x 28 pixels array of 8 bit unsigned integers (8 bit pixel depth)\n",
    "# pixel values range from 0 (white) to 255 (black)\n",
    "\n",
    "# pixels per image\n",
    "PPIMAGE: int = 28 * 28\n",
    "PPIMAGE"
   ]
  },
  {
   "cell_type": "code",
   "execution_count": 98,
   "id": "07e7d11a-56e5-47e8-a1d0-571a0ffbcd3e",
   "metadata": {
    "execution": {
     "iopub.execute_input": "2024-01-21T15:08:10.353418Z",
     "iopub.status.busy": "2024-01-21T15:08:10.353418Z",
     "iopub.status.idle": "2024-01-21T15:08:10.364405Z",
     "shell.execute_reply": "2024-01-21T15:08:10.364341Z",
     "shell.execute_reply.started": "2024-01-21T15:08:10.353418Z"
    }
   },
   "outputs": [],
   "source": [
    "# we could visualize the images as a matrix with N rows for each image with PPIMAGE number of columns\n",
    "# when we transpose this we get a matrix where each column is made of PPIMAGE pixels from each image and \n",
    "# each row represents nth pixel from every image"
   ]
  },
  {
   "cell_type": "markdown",
   "id": "909eb262-40dc-4259-924b-6bbaf10cde71",
   "metadata": {},
   "source": [
    "$$\\begin{bmatrix}\n",
    "X_{0} \\dots X_{784} \\\\\n",
    "X_{785} \\dots X_{1568} \\\\\n",
    "\\dots \\\\\n",
    "\\dots \\\\\n",
    "\\dots \\\\\n",
    "\\dots \\\\\n",
    "X_{N - 784} \\dots X_{N}\\\\\n",
    "\\end{bmatrix}_T = \n",
    "\\begin{bmatrix}\n",
    "X_{0} & X_{785} & \\dots & X_{N - 784}\\\\\n",
    "\\vdots & \\vdots & \\vdots & \\vdots \\\\\n",
    "X_{784} & X_{1568} & \\dots & X_{N}\\\\\n",
    "\\end{bmatrix}\n",
    "$$"
   ]
  },
  {
   "cell_type": "code",
   "execution_count": 11,
   "id": "41d0ba24-e940-499b-a23e-2e92276e95c5",
   "metadata": {
    "execution": {
     "iopub.execute_input": "2024-01-21T21:00:16.199973Z",
     "iopub.status.busy": "2024-01-21T21:00:16.199973Z",
     "iopub.status.idle": "2024-01-21T21:00:16.212007Z",
     "shell.execute_reply": "2024-01-21T21:00:16.211493Z",
     "shell.execute_reply.started": "2024-01-21T21:00:16.199973Z"
    }
   },
   "outputs": [
    {
     "data": {
      "text/plain": [
       "['MnistExamplesModified.png',\n",
       " 't10k-images.idx3-ubyte',\n",
       " 't10k-labels.idx1-ubyte',\n",
       " 'train-images.idx3-ubyte',\n",
       " 'train-labels.idx1-ubyte']"
      ]
     },
     "execution_count": 11,
     "metadata": {},
     "output_type": "execute_result"
    }
   ],
   "source": [
    "os.listdir(r\"./MNIST/\")"
   ]
  },
  {
   "cell_type": "code",
   "execution_count": 5,
   "id": "6daae00f-c127-4325-bd32-2b9d3725619a",
   "metadata": {
    "execution": {
     "iopub.execute_input": "2024-01-21T20:50:03.432042Z",
     "iopub.status.busy": "2024-01-21T20:50:03.432042Z",
     "iopub.status.idle": "2024-01-21T20:50:03.436955Z",
     "shell.execute_reply": "2024-01-21T20:50:03.436776Z",
     "shell.execute_reply.started": "2024-01-21T20:50:03.432042Z"
    }
   },
   "outputs": [],
   "source": [
    "# our predictions will be the digit class (0..9)!\n",
    "# we'll start with a simple neural network with just 3 layers.\n",
    "\n",
    "# one input layer with 784 nodes (0th layer)\n",
    "# one hidden layer with 10 nodes (1st layer)\n",
    "# and an output layer with 10 nodes (2nd layer)"
   ]
  },
  {
   "cell_type": "code",
   "execution_count": 6,
   "id": "c43f2501-c380-4f7f-9b53-084f39e56c61",
   "metadata": {
    "execution": {
     "iopub.execute_input": "2024-01-21T20:50:03.934213Z",
     "iopub.status.busy": "2024-01-21T20:50:03.934213Z",
     "iopub.status.idle": "2024-01-21T20:50:03.941974Z",
     "shell.execute_reply": "2024-01-21T20:50:03.940959Z",
     "shell.execute_reply.started": "2024-01-21T20:50:03.934213Z"
    }
   },
   "outputs": [],
   "source": [
    "# the input layer does not really have any parameters.\n",
    "# it's just the inputs.\n",
    "# every node in the input layer corresponds to each of the pixel in the image, hence 784 nodes.\n",
    "# similarly, the output layer corresponds to each of the 10 digits that could be recognized, hence 10 nodes."
   ]
  },
  {
   "cell_type": "code",
   "execution_count": null,
   "id": "923e1d1f-068c-40a7-bb95-8221a186415b",
   "metadata": {},
   "outputs": [],
   "source": []
  },
  {
   "cell_type": "code",
   "execution_count": 8,
   "id": "2f25e2b6-48f5-47ab-80f1-b3600411e15f",
   "metadata": {
    "execution": {
     "iopub.execute_input": "2024-01-21T20:51:07.803666Z",
     "iopub.status.busy": "2024-01-21T20:51:07.803666Z",
     "iopub.status.idle": "2024-01-21T20:51:07.807655Z",
     "shell.execute_reply": "2024-01-21T20:51:07.807655Z",
     "shell.execute_reply.started": "2024-01-21T20:51:07.803666Z"
    }
   },
   "outputs": [],
   "source": [
    "# there's three parts to training a neural network\n",
    "\n",
    "# 1) forward propagation\n",
    "# 2) back propagation\n",
    "# 3) "
   ]
  },
  {
   "cell_type": "code",
   "execution_count": 16,
   "id": "16c7bc01-9599-4214-be27-b798ff9e20f7",
   "metadata": {
    "execution": {
     "iopub.execute_input": "2024-01-21T21:01:39.514416Z",
     "iopub.status.busy": "2024-01-21T21:01:39.514416Z",
     "iopub.status.idle": "2024-01-21T21:01:39.654072Z",
     "shell.execute_reply": "2024-01-21T21:01:39.654072Z",
     "shell.execute_reply.started": "2024-01-21T21:01:39.514416Z"
    }
   },
   "outputs": [],
   "source": [
    "mnist: list[NDArray[np.uint8]] = []\n",
    "\n",
    "for file in os.listdir(r\"./MNIST/\")[1:]:\n",
    "    with open(f\"./MNIST/{file}\", \"rb\") as fp:\n",
    "        mnist.append(np.fromfile(fp, dtype = np.uint8))"
   ]
  },
  {
   "cell_type": "code",
   "execution_count": 18,
   "id": "03a237ae-e004-46b2-873c-e49e638e53ff",
   "metadata": {
    "execution": {
     "iopub.execute_input": "2024-01-21T21:02:30.289919Z",
     "iopub.status.busy": "2024-01-21T21:02:30.289919Z",
     "iopub.status.idle": "2024-01-21T21:02:30.293949Z",
     "shell.execute_reply": "2024-01-21T21:02:30.293949Z",
     "shell.execute_reply.started": "2024-01-21T21:02:30.289919Z"
    }
   },
   "outputs": [],
   "source": [
    "test_x, test_y, train_x, train_y = mnist"
   ]
  },
  {
   "cell_type": "code",
   "execution_count": 22,
   "id": "ed1965ce-a6ef-452a-ac23-cb9f4090fd5e",
   "metadata": {
    "execution": {
     "iopub.execute_input": "2024-01-21T21:02:49.949126Z",
     "iopub.status.busy": "2024-01-21T21:02:49.949126Z",
     "iopub.status.idle": "2024-01-21T21:02:49.959038Z",
     "shell.execute_reply": "2024-01-21T21:02:49.959038Z",
     "shell.execute_reply.started": "2024-01-21T21:02:49.949126Z"
    }
   },
   "outputs": [
    {
     "data": {
      "text/plain": [
       "47040016"
      ]
     },
     "execution_count": 22,
     "metadata": {},
     "output_type": "execute_result"
    }
   ],
   "source": [
    "train_x.size"
   ]
  },
  {
   "cell_type": "code",
   "execution_count": 37,
   "id": "a533802a-36a5-49b1-bf17-c7f3e790006b",
   "metadata": {
    "execution": {
     "iopub.execute_input": "2024-01-21T21:16:49.204104Z",
     "iopub.status.busy": "2024-01-21T21:16:49.204104Z",
     "iopub.status.idle": "2024-01-21T21:16:49.224052Z",
     "shell.execute_reply": "2024-01-21T21:16:49.224052Z",
     "shell.execute_reply.started": "2024-01-21T21:16:49.204104Z"
    }
   },
   "outputs": [
    {
     "data": {
      "text/plain": [
       "array([  0, 234,  96,   0], dtype=uint8)"
      ]
     },
     "execution_count": 37,
     "metadata": {},
     "output_type": "execute_result"
    }
   ],
   "source": [
    "# the binary image data is in the following format\n",
    "# [offset] [type]          [value]          [description]\n",
    "# 0000     32 bit integer  0x00000803(2051) magic number\n",
    "# 0004     32 bit integer  10000            number of images\n",
    "# 0008     32 bit integer  28               number of rows\n",
    "# 0012     32 bit integer  28               number of columns\n",
    "# 0016     unsigned byte   ??               pixel\n",
    "# 0017     unsigned byte   ??               pixel\n",
    "\n",
    "train_x[5:9]"
   ]
  },
  {
   "cell_type": "code",
   "execution_count": 40,
   "id": "b5928c5d-265a-4c53-bacc-2787f44f00aa",
   "metadata": {
    "execution": {
     "iopub.execute_input": "2024-01-21T21:18:20.212923Z",
     "iopub.status.busy": "2024-01-21T21:18:20.212923Z",
     "iopub.status.idle": "2024-01-21T21:18:20.231300Z",
     "shell.execute_reply": "2024-01-21T21:18:20.231244Z",
     "shell.execute_reply.started": "2024-01-21T21:18:20.212923Z"
    }
   },
   "outputs": [
    {
     "data": {
      "text/plain": [
       "2051"
      ]
     },
     "execution_count": 40,
     "metadata": {},
     "output_type": "execute_result"
    }
   ],
   "source": [
    "int.from_bytes(train_x[0:4], byteorder = \"big\")"
   ]
  },
  {
   "cell_type": "code",
   "execution_count": 88,
   "id": "c2c3efe5-23f2-4a42-9d00-5140d6f585ed",
   "metadata": {
    "execution": {
     "iopub.execute_input": "2024-01-21T21:44:21.048269Z",
     "iopub.status.busy": "2024-01-21T21:44:21.048269Z",
     "iopub.status.idle": "2024-01-21T21:44:21.055498Z",
     "shell.execute_reply": "2024-01-21T21:44:21.055498Z",
     "shell.execute_reply.started": "2024-01-21T21:44:21.048269Z"
    }
   },
   "outputs": [
    {
     "data": {
      "text/plain": [
       "60000"
      ]
     },
     "execution_count": 88,
     "metadata": {},
     "output_type": "execute_result"
    }
   ],
   "source": [
    "# we have 60,000 images\n",
    "\n",
    "NIMAGES: int = int.from_bytes(train_x[4:8], byteorder = \"big\")\n",
    "NIMAGES"
   ]
  },
  {
   "cell_type": "code",
   "execution_count": 43,
   "id": "737beac8-7e94-447d-8852-fab7bc919348",
   "metadata": {
    "execution": {
     "iopub.execute_input": "2024-01-21T21:19:10.267874Z",
     "iopub.status.busy": "2024-01-21T21:19:10.267874Z",
     "iopub.status.idle": "2024-01-21T21:19:10.289268Z",
     "shell.execute_reply": "2024-01-21T21:19:10.289268Z",
     "shell.execute_reply.started": "2024-01-21T21:19:10.267874Z"
    }
   },
   "outputs": [
    {
     "data": {
      "text/plain": [
       "28"
      ]
     },
     "execution_count": 43,
     "metadata": {},
     "output_type": "execute_result"
    }
   ],
   "source": [
    "int.from_bytes(train_x[9:12], byteorder = \"big\")"
   ]
  },
  {
   "cell_type": "code",
   "execution_count": 44,
   "id": "c5e2a9a2-7361-430c-baab-85fce71a4a2b",
   "metadata": {
    "execution": {
     "iopub.execute_input": "2024-01-21T21:19:23.444909Z",
     "iopub.status.busy": "2024-01-21T21:19:23.444909Z",
     "iopub.status.idle": "2024-01-21T21:19:23.457873Z",
     "shell.execute_reply": "2024-01-21T21:19:23.456857Z",
     "shell.execute_reply.started": "2024-01-21T21:19:23.444909Z"
    }
   },
   "outputs": [
    {
     "data": {
      "text/plain": [
       "28"
      ]
     },
     "execution_count": 44,
     "metadata": {},
     "output_type": "execute_result"
    }
   ],
   "source": [
    "int.from_bytes(train_x[12:16], byteorder = \"big\")"
   ]
  },
  {
   "cell_type": "code",
   "execution_count": 55,
   "id": "141eba13-aa40-4d89-9ab7-988ee459cbcd",
   "metadata": {
    "execution": {
     "iopub.execute_input": "2024-01-21T21:23:44.973956Z",
     "iopub.status.busy": "2024-01-21T21:23:44.973956Z",
     "iopub.status.idle": "2024-01-21T21:23:45.050626Z",
     "shell.execute_reply": "2024-01-21T21:23:45.050626Z",
     "shell.execute_reply.started": "2024-01-21T21:23:44.973956Z"
    }
   },
   "outputs": [],
   "source": [
    "images = np.array([a.reshape(28, 28) for a in train_x[16:].reshape(60_000, PPIMAGE)])"
   ]
  },
  {
   "cell_type": "code",
   "execution_count": 56,
   "id": "784198c5-6f50-412a-b8ff-a67cc5251079",
   "metadata": {
    "execution": {
     "iopub.execute_input": "2024-01-21T21:23:49.831276Z",
     "iopub.status.busy": "2024-01-21T21:23:49.831276Z",
     "iopub.status.idle": "2024-01-21T21:23:49.839900Z",
     "shell.execute_reply": "2024-01-21T21:23:49.839900Z",
     "shell.execute_reply.started": "2024-01-21T21:23:49.831276Z"
    }
   },
   "outputs": [
    {
     "data": {
      "text/plain": [
       "(60000, 28, 28)"
      ]
     },
     "execution_count": 56,
     "metadata": {},
     "output_type": "execute_result"
    }
   ],
   "source": [
    "images.shape"
   ]
  },
  {
   "cell_type": "code",
   "execution_count": 79,
   "id": "50269874-5f96-48c3-afcd-ac8fddf746fc",
   "metadata": {
    "execution": {
     "iopub.execute_input": "2024-01-21T21:34:59.042330Z",
     "iopub.status.busy": "2024-01-21T21:34:59.042330Z",
     "iopub.status.idle": "2024-01-21T21:34:59.308603Z",
     "shell.execute_reply": "2024-01-21T21:34:59.308603Z",
     "shell.execute_reply.started": "2024-01-21T21:34:59.042330Z"
    }
   },
   "outputs": [
    {
     "data": {
      "image/png": "[encoded data removed]",
      "text/plain": [
       "<Figure size 2000x400 with 15 Axes>"
      ]
     },
     "metadata": {},
     "output_type": "display_data"
    }
   ],
   "source": [
    "# we're good to go :)\n",
    "\n",
    "fig, axes = plt.subplots(nrows = 1, ncols = 15)\n",
    "fig.set_size_inches(20, 4)\n",
    "for ax, idx in zip(axes, np.random.choice(np.arange(0, 60_000), size = 15, replace = False)):\n",
    "    ax.imshow(images[idx], cmap = \"binary\")\n",
    "    ax.set_xticks([])\n",
    "    ax.set_yticks([])\n",
    "plt.show()"
   ]
  },
  {
   "cell_type": "code",
   "execution_count": null,
   "id": "3ed49f5e-aee5-4e9e-adba-5cfb677b31fb",
   "metadata": {},
   "outputs": [],
   "source": [
    "# labels are organized as such\n",
    "\n",
    "# [offset] [type]          [value]          [description]\n",
    "# 0000     32 bit integer  0x00000801(2049) magic number (MSB first)\n",
    "# 0004     32 bit integer  10000            number of items\n",
    "# 0008     unsigned byte   ??               label\n",
    "# 0009     unsigned byte   ??               label\n",
    "# ........\n",
    "# xxxx     unsigned byte   ??               label\n",
    "\n",
    "# The labels values are 0 to 9. "
   ]
  },
  {
   "cell_type": "code",
   "execution_count": 83,
   "id": "07327347-d4cb-4025-a95c-607d2a318cc8",
   "metadata": {
    "execution": {
     "iopub.execute_input": "2024-01-21T21:40:56.465784Z",
     "iopub.status.busy": "2024-01-21T21:40:56.465784Z",
     "iopub.status.idle": "2024-01-21T21:40:56.481023Z",
     "shell.execute_reply": "2024-01-21T21:40:56.481023Z",
     "shell.execute_reply.started": "2024-01-21T21:40:56.465784Z"
    }
   },
   "outputs": [
    {
     "data": {
      "text/plain": [
       "(array([0, 1, 2, 3, 4, 5, 6, 7, 8, 9], dtype=uint8),\n",
       " array([5923, 6742, 5958, 6131, 5842, 5421, 5918, 6265, 5851, 5949],\n",
       "       dtype=int64))"
      ]
     },
     "execution_count": 83,
     "metadata": {},
     "output_type": "execute_result"
    }
   ],
   "source": [
    "# there we go :)\n",
    "\n",
    "np.unique(train_y[8:], return_counts = True)"
   ]
  },
  {
   "cell_type": "code",
   "execution_count": 86,
   "id": "56f45b80-a23a-4326-9968-a4e5b270b97d",
   "metadata": {
    "execution": {
     "iopub.execute_input": "2024-01-21T21:41:58.139414Z",
     "iopub.status.busy": "2024-01-21T21:41:58.139414Z",
     "iopub.status.idle": "2024-01-21T21:41:58.151954Z",
     "shell.execute_reply": "2024-01-21T21:41:58.151443Z",
     "shell.execute_reply.started": "2024-01-21T21:41:58.139414Z"
    }
   },
   "outputs": [
    {
     "data": {
      "text/plain": [
       "9"
      ]
     },
     "execution_count": 86,
     "metadata": {},
     "output_type": "execute_result"
    }
   ],
   "source": [
    "# oopsies\n",
    "\n",
    "int.from_bytes(b'\\t')"
   ]
  },
  {
   "cell_type": "code",
   "execution_count": 103,
   "id": "7d080bfc-8a5b-486d-8a75-5f5da2f7a2aa",
   "metadata": {
    "execution": {
     "iopub.execute_input": "2024-01-21T21:50:32.685213Z",
     "iopub.status.busy": "2024-01-21T21:50:32.685213Z",
     "iopub.status.idle": "2024-01-21T21:50:32.690210Z",
     "shell.execute_reply": "2024-01-21T21:50:32.689338Z",
     "shell.execute_reply.started": "2024-01-21T21:50:32.685213Z"
    }
   },
   "outputs": [],
   "source": [
    "# let's get rid of the preceding unnecessary bytes\n",
    "\n",
    "train_y = train_y[8:]"
   ]
  },
  {
   "cell_type": "code",
   "execution_count": null,
   "id": "d17dcfbb-6ae3-4d88-8310-1f380a37f13c",
   "metadata": {},
   "outputs": [],
   "source": []
  },
  {
   "cell_type": "code",
   "execution_count": 99,
   "id": "aa1a4161-f340-45a3-bd31-a14208fa9a37",
   "metadata": {
    "execution": {
     "iopub.execute_input": "2024-01-21T21:46:21.206133Z",
     "iopub.status.busy": "2024-01-21T21:46:21.206133Z",
     "iopub.status.idle": "2024-01-21T21:46:21.222103Z",
     "shell.execute_reply": "2024-01-21T21:46:21.222103Z",
     "shell.execute_reply.started": "2024-01-21T21:46:21.206133Z"
    }
   },
   "outputs": [
    {
     "data": {
      "text/plain": [
       "(60000, 784)"
      ]
     },
     "execution_count": 99,
     "metadata": {},
     "output_type": "execute_result"
    }
   ],
   "source": [
    "train_x = train_x[16:].reshape(NIMAGES, PPIMAGE)\n",
    "train_x.shape"
   ]
  },
  {
   "cell_type": "code",
   "execution_count": 100,
   "id": "d43c4873-a08c-4cb4-ac4d-1eee773caf6c",
   "metadata": {
    "execution": {
     "iopub.execute_input": "2024-01-21T21:47:53.962044Z",
     "iopub.status.busy": "2024-01-21T21:47:53.962044Z",
     "iopub.status.idle": "2024-01-21T21:47:53.969096Z",
     "shell.execute_reply": "2024-01-21T21:47:53.968509Z",
     "shell.execute_reply.started": "2024-01-21T21:47:53.962044Z"
    }
   },
   "outputs": [
    {
     "data": {
      "text/plain": [
       "array([[0, 0, 0, ..., 0, 0, 0],\n",
       "       [0, 0, 0, ..., 0, 0, 0],\n",
       "       [0, 0, 0, ..., 0, 0, 0],\n",
       "       ...,\n",
       "       [0, 0, 0, ..., 0, 0, 0],\n",
       "       [0, 0, 0, ..., 0, 0, 0],\n",
       "       [0, 0, 0, ..., 0, 0, 0]], dtype=uint8)"
      ]
     },
     "execution_count": 100,
     "metadata": {},
     "output_type": "execute_result"
    }
   ],
   "source": [
    "# we have 60,000 rows, each with pixels on 784 columns\n",
    "# now we want to transpose this such that the pixels in each image forms a column and we end up with a 784 x 60,000 matrix\n",
    "\n",
    "train_x.T"
   ]
  },
  {
   "cell_type": "code",
   "execution_count": null,
   "id": "d3c967ce-0c9f-475e-b778-d3167aeea815",
   "metadata": {},
   "outputs": [],
   "source": []
  },
  {
   "cell_type": "code",
   "execution_count": null,
   "id": "e0913be4-ed9a-458b-941b-28260a93c49e",
   "metadata": {},
   "outputs": [],
   "source": []
  },
  {
   "cell_type": "code",
   "execution_count": null,
   "id": "45ef3a22-6857-46aa-9d48-b930dc34ec2b",
   "metadata": {},
   "outputs": [],
   "source": [
    "# @njit(parallel = True, fastmath = True)\n",
    "\n",
    "class NNetwork():\n",
    "    self.__init__()"
   ]
  },
  {
   "cell_type": "code",
   "execution_count": null,
   "id": "0916dd58-dc07-401e-a4eb-826b4bbd1757",
   "metadata": {},
   "outputs": [],
   "source": []
  },
  {
   "cell_type": "code",
   "execution_count": null,
   "id": "d0bb29dd-0868-49f5-ba29-794684ac3465",
   "metadata": {},
   "outputs": [],
   "source": []
  },
  {
   "cell_type": "code",
   "execution_count": null,
   "id": "b53c8169-46fc-4ce5-bac4-d89f921b5314",
   "metadata": {},
   "outputs": [],
   "source": []
  },
  {
   "cell_type": "markdown",
   "id": "0e8b9a16-a35b-427f-8967-7b47212b998c",
   "metadata": {},
   "source": [
    "# ***Fashion MNIST***\n",
    "-------------------"
   ]
  },
  {
   "cell_type": "markdown",
   "id": "24c34f0d-ebf8-4aa5-9152-d55ea009f3af",
   "metadata": {},
   "source": [
    "![FASHION-MNIST](./Fashion-MNIST/fashion-mnist-sprite.png)"
   ]
  },
  {
   "cell_type": "code",
   "execution_count": 103,
   "id": "4bb55636-34fe-47d9-a1a0-6802a8676f85",
   "metadata": {
    "execution": {
     "iopub.execute_input": "2024-01-21T15:17:25.796237Z",
     "iopub.status.busy": "2024-01-21T15:17:25.796237Z",
     "iopub.status.idle": "2024-01-21T15:17:25.804925Z",
     "shell.execute_reply": "2024-01-21T15:17:25.804412Z",
     "shell.execute_reply.started": "2024-01-21T15:17:25.796237Z"
    }
   },
   "outputs": [
    {
     "data": {
      "text/plain": [
       "['fashion-mnist-sprite.png',\n",
       " 't10k-images-idx3-ubyte',\n",
       " 't10k-labels-idx1-ubyte',\n",
       " 'train-images-idx3-ubyte',\n",
       " 'train-labels-idx1-ubyte']"
      ]
     },
     "execution_count": 103,
     "metadata": {},
     "output_type": "execute_result"
    }
   ],
   "source": [
    "# there are 4 pieces of data\n",
    "# a training images set, training labels, test set of images and test labels\n",
    "\n",
    "os.listdir(r\"./Fashion-MNIST/\")"
   ]
  },
  {
   "cell_type": "code",
   "execution_count": 28,
   "id": "c923f7bf-1681-4d01-ad7c-43559e248d1f",
   "metadata": {
    "execution": {
     "iopub.execute_input": "2024-01-21T14:11:10.339346Z",
     "iopub.status.busy": "2024-01-21T14:11:10.323856Z",
     "iopub.status.idle": "2024-01-21T14:11:10.341955Z",
     "shell.execute_reply": "2024-01-21T14:11:10.341955Z",
     "shell.execute_reply.started": "2024-01-21T14:11:10.339346Z"
    }
   },
   "outputs": [],
   "source": [
    "# the datasets are binary files containing images as a string of 28 x 28 pixels"
   ]
  },
  {
   "cell_type": "code",
   "execution_count": 80,
   "id": "769fcb57-8fda-4642-a935-99acba0635a4",
   "metadata": {
    "execution": {
     "iopub.execute_input": "2024-01-21T21:36:50.937959Z",
     "iopub.status.busy": "2024-01-21T21:36:50.937959Z",
     "iopub.status.idle": "2024-01-21T21:36:51.074547Z",
     "shell.execute_reply": "2024-01-21T21:36:51.074547Z",
     "shell.execute_reply.started": "2024-01-21T21:36:50.937959Z"
    }
   },
   "outputs": [],
   "source": [
    "# the files prefixed with t10k contain the test data for 10,000 items (images and labels)\n",
    "# each image is a 28 x 28 pixel greyscale image \n",
    "# and there are 10 different labels\n",
    "\n",
    "fmnist: list[NDArray[np.uint8]] = []\n",
    "\n",
    "for file in os.listdir(r\"./Fashion-MNIST/\")[1:]:\n",
    "    with open(f\"./Fashion-MNIST/{file}\", \"rb\") as fp:\n",
    "        fmnist.append(np.fromfile(fp, dtype = np.uint8))"
   ]
  },
  {
   "cell_type": "code",
   "execution_count": null,
   "id": "dc98c961-b1f6-4259-8604-e4372b85438e",
   "metadata": {},
   "outputs": [],
   "source": []
  },
  {
   "cell_type": "code",
   "execution_count": null,
   "id": "6f2221c1-e977-4b87-9397-79b4f07a921b",
   "metadata": {},
   "outputs": [],
   "source": []
  },
  {
   "cell_type": "code",
   "execution_count": 32,
   "id": "d766c9c2-e711-44dd-9197-db59724b3ccf",
   "metadata": {
    "execution": {
     "iopub.execute_input": "2024-01-21T14:11:13.083353Z",
     "iopub.status.busy": "2024-01-21T14:11:13.083353Z",
     "iopub.status.idle": "2024-01-21T14:11:13.094673Z",
     "shell.execute_reply": "2024-01-21T14:11:13.094019Z",
     "shell.execute_reply.started": "2024-01-21T14:11:13.083353Z"
    }
   },
   "outputs": [
    {
     "data": {
      "text/plain": [
       "47040000"
      ]
     },
     "execution_count": 32,
     "metadata": {},
     "output_type": "execute_result"
    }
   ],
   "source": [
    "# so it turns out we just have pixel values in 8 bits\n",
    "# the training dataset contains 60,000 such images\n",
    "\n",
    "60_000 * 28 * 28"
   ]
  },
  {
   "cell_type": "code",
   "execution_count": 39,
   "id": "a75d9dfe-478b-44c0-8f11-f7d2695b5012",
   "metadata": {
    "execution": {
     "iopub.execute_input": "2024-01-21T14:12:32.991704Z",
     "iopub.status.busy": "2024-01-21T14:12:32.991704Z",
     "iopub.status.idle": "2024-01-21T14:12:33.082081Z",
     "shell.execute_reply": "2024-01-21T14:12:33.082081Z",
     "shell.execute_reply.started": "2024-01-21T14:12:32.991704Z"
    }
   },
   "outputs": [
    {
     "data": {
      "image/png": "[encoded data removed]",
      "text/plain": [
       "<Figure size 640x480 with 1 Axes>"
      ]
     },
     "metadata": {},
     "output_type": "display_data"
    }
   ],
   "source": [
    "# https://matplotlib.org/stable/users/explain/colors/colormaps.html\n",
    "# looks like a shoe \n",
    "\n",
    "plt.imshow(train_x[16:][: 28 * 28].reshape(28, 28), cmap = \"binary\")\n",
    "plt.show()"
   ]
  },
  {
   "cell_type": "code",
   "execution_count": 61,
   "id": "3595f528-3a52-4b77-bbc0-4c1c5462539b",
   "metadata": {
    "execution": {
     "iopub.execute_input": "2024-01-21T14:18:37.131229Z",
     "iopub.status.busy": "2024-01-21T14:18:37.131229Z",
     "iopub.status.idle": "2024-01-21T14:18:37.235425Z",
     "shell.execute_reply": "2024-01-21T14:18:37.235425Z",
     "shell.execute_reply.started": "2024-01-21T14:18:37.131229Z"
    }
   },
   "outputs": [],
   "source": [
    "train_images = np.array(np.hsplit(train_x[16:], 60_000))"
   ]
  },
  {
   "cell_type": "code",
   "execution_count": 62,
   "id": "1754d89a-f05f-40f4-813e-53f82f79a5dc",
   "metadata": {
    "execution": {
     "iopub.execute_input": "2024-01-21T14:18:38.736665Z",
     "iopub.status.busy": "2024-01-21T14:18:38.730033Z",
     "iopub.status.idle": "2024-01-21T14:18:38.742376Z",
     "shell.execute_reply": "2024-01-21T14:18:38.742376Z",
     "shell.execute_reply.started": "2024-01-21T14:18:38.736665Z"
    }
   },
   "outputs": [
    {
     "data": {
      "text/plain": [
       "784"
      ]
     },
     "execution_count": 62,
     "metadata": {},
     "output_type": "execute_result"
    }
   ],
   "source": [
    "28 * 28"
   ]
  },
  {
   "cell_type": "code",
   "execution_count": 81,
   "id": "261c7c5d-18c2-4ed6-a45a-922c2d2536f4",
   "metadata": {
    "execution": {
     "iopub.execute_input": "2024-01-21T14:25:04.006480Z",
     "iopub.status.busy": "2024-01-21T14:25:04.006480Z",
     "iopub.status.idle": "2024-01-21T14:25:04.056762Z",
     "shell.execute_reply": "2024-01-21T14:25:04.056762Z",
     "shell.execute_reply.started": "2024-01-21T14:25:04.006480Z"
    }
   },
   "outputs": [
    {
     "ename": "UnicodeError",
     "evalue": "UTF-16 stream does not start with BOM",
     "output_type": "error",
     "traceback": [
      "\u001b[1;31m---------------------------------------------------------------------------\u001b[0m",
      "\u001b[1;31mUnicodeError\u001b[0m                              Traceback (most recent call last)",
      "Cell \u001b[1;32mIn[81], line 4\u001b[0m\n\u001b[0;32m      1\u001b[0m \u001b[38;5;66;03m# let's see how the train labels look\u001b[39;00m\n\u001b[0;32m      3\u001b[0m \u001b[38;5;28;01mwith\u001b[39;00m \u001b[38;5;28mopen\u001b[39m(\u001b[38;5;124m\"\u001b[39m\u001b[38;5;124m./Fashion-MNIST/train-labels-idx1-ubyte\u001b[39m\u001b[38;5;124m\"\u001b[39m, \u001b[38;5;124m\"\u001b[39m\u001b[38;5;124mr\u001b[39m\u001b[38;5;124m\"\u001b[39m, encoding \u001b[38;5;241m=\u001b[39m \u001b[38;5;124m\"\u001b[39m\u001b[38;5;124mutf-16\u001b[39m\u001b[38;5;124m\"\u001b[39m) \u001b[38;5;28;01mas\u001b[39;00m fp:\n\u001b[1;32m----> 4\u001b[0m     labs \u001b[38;5;241m=\u001b[39m \u001b[43mfp\u001b[49m\u001b[38;5;241;43m.\u001b[39;49m\u001b[43mread\u001b[49m\u001b[43m(\u001b[49m\u001b[43m)\u001b[49m\n",
      "File \u001b[1;32m<frozen codecs>:322\u001b[0m, in \u001b[0;36mdecode\u001b[1;34m(self, input, final)\u001b[0m\n",
      "File \u001b[1;32mC:\\Program Files\\Python311\\Lib\\encodings\\utf_16.py:67\u001b[0m, in \u001b[0;36mIncrementalDecoder._buffer_decode\u001b[1;34m(self, input, errors, final)\u001b[0m\n\u001b[0;32m     65\u001b[0m         \u001b[38;5;28mself\u001b[39m\u001b[38;5;241m.\u001b[39mdecoder \u001b[38;5;241m=\u001b[39m codecs\u001b[38;5;241m.\u001b[39mutf_16_be_decode\n\u001b[0;32m     66\u001b[0m     \u001b[38;5;28;01melif\u001b[39;00m consumed \u001b[38;5;241m>\u001b[39m\u001b[38;5;241m=\u001b[39m \u001b[38;5;241m2\u001b[39m:\n\u001b[1;32m---> 67\u001b[0m         \u001b[38;5;28;01mraise\u001b[39;00m \u001b[38;5;167;01mUnicodeError\u001b[39;00m(\u001b[38;5;124m\"\u001b[39m\u001b[38;5;124mUTF-16 stream does not start with BOM\u001b[39m\u001b[38;5;124m\"\u001b[39m)\n\u001b[0;32m     68\u001b[0m     \u001b[38;5;28;01mreturn\u001b[39;00m (output, consumed)\n\u001b[0;32m     69\u001b[0m \u001b[38;5;28;01mreturn\u001b[39;00m \u001b[38;5;28mself\u001b[39m\u001b[38;5;241m.\u001b[39mdecoder(\u001b[38;5;28minput\u001b[39m, \u001b[38;5;28mself\u001b[39m\u001b[38;5;241m.\u001b[39merrors, final)\n",
      "\u001b[1;31mUnicodeError\u001b[0m: UTF-16 stream does not start with BOM"
     ]
    }
   ],
   "source": [
    "# let's see how the train labels look\n",
    "\n",
    "with open(\"./Fashion-MNIST/train-labels-idx1-ubyte\", \"r\", encoding = \"utf-16\") as fp:\n",
    "    labs = fp.read()"
   ]
  },
  {
   "cell_type": "code",
   "execution_count": 82,
   "id": "b36385f8-38c4-4559-b3df-b682d2385e08",
   "metadata": {
    "execution": {
     "iopub.execute_input": "2024-01-21T14:25:05.096567Z",
     "iopub.status.busy": "2024-01-21T14:25:05.096567Z",
     "iopub.status.idle": "2024-01-21T14:25:05.114944Z",
     "shell.execute_reply": "2024-01-21T14:25:05.114944Z",
     "shell.execute_reply.started": "2024-01-21T14:25:05.096567Z"
    }
   },
   "outputs": [
    {
     "data": {
      "text/plain": [
       "['\\x00\\x00\\x08\\x01\\x00\\x00ê`',\n",
       " '\\x00\\x00\\x03\\x00\\x02\\x07\\x02\\x05\\x05\\x00',\n",
       " '\\x05\\x05\\x07',\n",
       " '\\x01\\x00\\x06\\x04\\x03\\x01\\x04\\x08\\x04\\x03\\x00\\x02\\x04\\x04\\x05\\x03\\x06\\x06\\x00\\x08\\x05\\x02\\x01\\x06\\x06\\x07',\n",
       " '\\x05',\n",
       " '\\x02\\x07\\x03\\x00\\x03\\x03\\x03\\x07\\x02\\x02\\x06\\x06\\x08\\x03\\x03\\x05\\x00\\x05\\x05\\x00\\x02\\x00\\x00\\x04\\x01\\x03\\x01\\x06\\x03\\x01\\x04\\x04\\x06\\x01',\n",
       " '\\x01\\x03\\x05\\x07',\n",
       " '\\x07\\x01\\x07',\n",
       " '',\n",
       " '',\n",
       " '\\x03\\x02',\n",
       " '\\x03\\x06\\x04\\x01\\x01\\x08\\x08\\x00\\x01\\x01\\x06\\x08\\x01',\n",
       " '\\x07\\x08\\x08',\n",
       " '\\x06\\x06\\x03\\x01\\x05\\x04\\x06\\x07\\x05\\x05',\n",
       " '\\x02\\x02\\x02\\x07\\x06\\x04\\x01\\x08\\x07\\x07\\x05\\x04\\x02',\n",
       " '\\x01\\x07\\x04\\x06',\n",
       " '\\x07\\x01\\x08\\x07\\x01\\x02\\x08\\x00',\n",
       " '\\x01\\x08\\x07\\x00\\x05\\x08\\x06\\x07\\x02\\x00\\x08\\x07\\x01\\x06\\x02\\x01',\n",
       " '\\x06\\x00\\x01\\x00\\x05\\x05\\x01\\x07\\x00\\x05\\x08\\x04\\x00\\x04\\x00\\x06\\x06\\x04\\x00\\x00\\x04\\x07\\x03\\x00\\x05\\x08\\x04\\x01\\x01\\x02',\n",
       " '\\x02\\x08\\x05\\x00\\x06\\x03\\x04\\x06\\x00',\n",
       " '\\x01\\x07\\x03\\x08\\x05\\x08\\x03\\x08\\x05\\x02\\x00\\x08\\x07\\x00\\x03\\x05\\x00\\x06\\x05\\x02\\x07\\x05\\x02\\x06\\x08\\x02\\x06\\x08\\x00\\x04\\x04\\x04\\x04\\x04\\x01\\x05\\x06\\x05\\x03\\x03\\x07\\x03\\x03\\x06\\x02\\x08\\x04\\x06\\x05',\n",
       " '\\x03\\x02\\x03\\x02\\x04\\x04\\x08\\x02\\x05\\x03\\x00\\x07\\x02\\x00\\x02\\x05\\x07\\x02\\x03\\x01\\x07\\x06\\x02',\n",
       " '\\x01',\n",
       " '\\x01\\x01\\x08\\x07\\x08\\x04\\x02\\x06\\x06\\x07',\n",
       " '\\x04\\x06\\x01',\n",
       " '\\x05\\x06\\x00\\x05\\x00\\x01\\x06\\x01\\x01\\x06\\x07\\x04\\x04\\x08\\x06\\x04\\x06',\n",
       " '\\x03\\x07\\x05\\x00\\x08\\x03\\x04\\x00\\x03\\x03\\x02\\x00\\x01\\x00\\x03\\x08\\x03',\n",
       " '\\x01',\n",
       " '\\x00\\x04\\x07\\x07\\x08\\x05\\x06\\x05\\x06\\x08\\x02\\x05\\x02\\x03\\x01\\x06\\x00\\x07\\x08\\x07\\x08\\x01',\n",
       " '\\x06\\x04\\x05\\x07\\x01\\x07\\x06\\x06\\x07\\x03\\x05\\x08\\x07\\x03\\x03',\n",
       " '\\x00\\x03\\x01\\x06\\x04\\x07\\x00\\x05\\x01\\x05\\x04\\x04\\x05',\n",
       " '\\x01\\x00\\x05\\x08\\x03\\x04\\x04\\x02\\x04\\x02\\x05\\x06\\x07\\x02\\x02\\x05\\x03\\x08\\x08\\x06\\x08\\x04\\x04\\x01\\x00\\x02\\x07\\x01\\x01\\x08\\x08\\x02\\x07',\n",
       " '\\x07\\x04\\x01\\x02\\x00\\x08',\n",
       " '\\x01\\x04',\n",
       " '\\x05\\x06\\x07\\x00\\x03\\x02\\x00\\x04\\x01\\x00\\x00\\x08\\x07\\x00\\x02',\n",
       " '',\n",
       " '\\x01\\x03\\x08\\x03\\x01\\x04\\x08\\x05\\x01\\x08\\x02\\x04\\x04',\n",
       " '\\x05\\x05\\x04\\x05\\x06\\x03\\x07\\x04',\n",
       " '\\x05\\x08',\n",
       " '\\x03',\n",
       " '\\x06\\x04\\x07\\x02\\x02\\x06\\x04\\x08\\x03\\x00\\x02\\x08',\n",
       " '\\x00\\x08\\x06\\x03',\n",
       " '\\x01\\x06\\x03\\x02\\x06\\x01\\x00\\x02\\x06\\x02\\x03\\x03',\n",
       " '\\x01\\x07',\n",
       " '\\x01\\x01\\x00\\x01\\x07\\x00\\x08\\x05\\x00\\x06\\x00\\x01\\x06\\x06\\x08\\x07\\x00',\n",
       " '',\n",
       " '',\n",
       " '\\x07\\x04\\x03',\n",
       " '\\x05',\n",
       " '\\x01\\x04\\x01\\x06\\x02\\x02\\x02\\x07\\x07\\x06\\x03\\x07\\x05\\x08\\x06\\x04\\x08\\x04\\x07\\x08\\x06\\x05',\n",
       " '',\n",
       " '\\x00\\x00\\x02\\x04\\x03\\x07',\n",
       " '\\x03\\x01',\n",
       " '\\x02\\x07\\x05\\x05\\x04\\x08\\x02\\x07\\x08\\x01\\x02\\x06\\x06\\x08\\x01',\n",
       " '\\x06\\x00\\x00\\x05',\n",
       " '\\x03\\x03\\x07\\x06\\x01\\x00\\x00\\x06\\x04\\x07\\x05',\n",
       " '\\x07',\n",
       " '\\x03\\x08\\x08\\x04\\x08\\x05\\x04\\x02\\x02\\x07\\x07\\x05\\x08\\x04\\x06',\n",
       " '\\x04\\x03\\x07\\x08\\x07\\x08\\x03\\x07\\x08\\x04\\x07\\x07\\x02\\x02\\x00\\x00\\x00\\x03',\n",
       " '\\x01\\x00',\n",
       " '\\x08\\x04\\x03',\n",
       " '',\n",
       " '',\n",
       " '\\x08\\x08\\x05\\x04\\x05\\x04',\n",
       " '\\x08\\x08\\x00',\n",
       " '\\x02\\x00\\x07\\x03\\x07',\n",
       " '\\x03\\x08\\x04\\x03\\x07\\x08\\x01\\x04\\x00\\x07',\n",
       " '\\x08\\x05\\x05\\x02\\x01\\x03\\x04\\x06\\x07\\x07\\x05',\n",
       " '',\n",
       " '\\x07\\x08\\x02\\x07\\x04\\x07\\x00\\x03\\x05\\x01\\x01\\x05\\x05\\x02\\x08\\x03\\x05',\n",
       " '\\x00\\x07\\x03\\x00\\x00\\x07\\x01',\n",
       " '\\x04\\x08',\n",
       " '\\x01\\x08\\x03\\x04\\x07\\x07\\x07\\x01\\x04\\x00\\x04\\x05\\x08\\x08\\x06\\x05\\x07\\x01\\x00\\x02\\x04',\n",
       " '\\x00',\n",
       " '\\x08\\x06\\x02\\x08\\x01\\x04\\x01\\x01\\x02\\x03\\x03\\x08',\n",
       " '\\x05\\x01\\x06\\x04\\x05',\n",
       " '\\x06\\x02\\x08\\x08\\x07\\x00\\x01\\x06\\x05\\x05\\x06\\x05\\x04\\x06\\x00\\x06\\x01\\x01\\x05\\x07\\x06\\x05\\x04\\x00\\x06\\x00\\x07\\x02\\x08',\n",
       " '\\x01\\x06\\x07\\x01',\n",
       " '\\x08\\x03\\x05\\x07\\x01\\x01',\n",
       " '\\x00\\x06\\x04\\x08\\x00',\n",
       " '\\x05\\x00\\x00\\x01\\x08\\x07\\x06\\x07',\n",
       " '\\x00\\x03\\x00\\x01\\x03\\x08\\x00\\x00\\x01\\x07\\x04\\x07\\x03\\x07\\x00\\x06\\x00\\x02\\x03\\x04\\x05',\n",
       " '\\x05\\x02\\x08\\x07\\x00\\x01\\x04\\x01\\x08\\x03\\x02\\x07\\x05\\x00',\n",
       " '\\x06\\x06',\n",
       " '\\x03\\x01\\x01',\n",
       " '',\n",
       " '\\x03',\n",
       " '\\x07\\x03\\x01',\n",
       " '\\x01\\x06\\x03\\x00\\x04\\x08\\x00\\x06\\x06\\x02',\n",
       " '\\x01',\n",
       " '\\x08\\x03\\x04\\x07\\x02\\x00\\x00\\x08\\x06',\n",
       " '\\x01\\x02\\x05\\x02\\x08\\x05\\x06\\x07\\x00\\x06\\x08\\x07\\x01\\x00\\x03\\x04\\x07\\x05\\x02\\x05\\x01\\x01\\x05\\x07\\x05\\x01\\x04',\n",
       " '\\x06\\x07\\x05\\x07\\x03\\x08\\x02',\n",
       " '\\x04\\x02\\x05\\x05\\x07\\x04\\x02\\x06',\n",
       " '\\x00\\x05\\x03\\x06',\n",
       " '\\x05\\x03\\x06\\x00\\x03\\x05\\x07\\x01\\x02\\x05\\x07\\x08\\x01\\x06\\x03',\n",
       " '\\x07\\x07\\x00\\x04\\x00\\x08\\x07\\x06',\n",
       " '\\x00\\x02\\x07\\x06\\x00\\x04\\x07\\x04\\x01\\x02\\x06\\x07\\x08\\x02\\x05\\x06\\x00\\x02',\n",
       " '\\x08\\x05\\x04\\x05\\x07\\x03\\x03',\n",
       " '\\x08\\x01\\x02\\x02\\x06\\x01\\x00\\x05\\x05',\n",
       " '\\x06\\x08\\x03\\x05\\x00\\x06\\x08\\x01\\x01',\n",
       " '\\x01\\x01\\x04\\x02\\x07\\x01\\x05\\x03\\x04',\n",
       " '\\x07\\x08\\x00\\x04\\x08',\n",
       " '\\x01',\n",
       " '\\x03\\x03\\x03',\n",
       " '\\x00',\n",
       " '\\x01\\x02\\x05\\x04\\x02\\x08\\x03\\x08',\n",
       " '\\x01\\x03\\x02\\x07\\x00\\x04\\x05\\x08',\n",
       " '\\x02',\n",
       " '\\x03\\x03\\x08\\x01\\x07\\x02\\x07\\x02\\x00\\x02\\x00\\x06\\x07\\x05\\x03\\x06',\n",
       " '\\x01\\x02\\x05\\x08\\x00\\x05',\n",
       " '\\x06',\n",
       " '',\n",
       " '\\x04\\x06\\x06\\x03',\n",
       " '\\x08\\x06\\x01\\x00\\x04\\x02\\x06\\x01\\x00\\x00\\x07\\x07\\x02\\x03\\x02\\x00\\x05\\x06\\x04',\n",
       " '\\x03\\x06\\x08\\x08\\x06\\x03\\x08\\x02\\x07\\x02\\x04\\x07',\n",
       " '\\x02\\x03\\x03',\n",
       " '\\x01\\x06\\x03\\x08\\x07\\x02\\x07\\x01\\x04\\x01\\x06\\x02\\x06\\x08\\x01\\x06\\x05',\n",
       " '\\x03\\x07\\x04\\x05\\x05\\x00\\x06\\x03\\x00\\x08\\x04\\x01',\n",
       " '',\n",
       " '\\x07\\x06\\x08\\x01\\x07\\x00\\x00\\x01\\x06',\n",
       " '\\x02\\x04\\x02\\x04\\x02\\x07\\x05\\x03\\x06\\x08\\x04',\n",
       " '\\x07\\x05\\x02\\x08\\x03\\x05\\x01\\x04\\x03\\x07\\x07\\x02\\x01\\x01\\x06\\x08\\x00\\x01\\x07',\n",
       " '\\x02\\x04\\x05\\x07\\x02\\x01\\x07\\x07\\x02\\x02\\x06\\x05\\x00\\x08\\x07\\x08\\x05\\x05\\x07\\x01\\x03\\x05\\x00\\x02\\x02\\x08',\n",
       " '\\x06\\x08\\x05\\x06',\n",
       " '\\x05\\x07\\x07',\n",
       " '\\x04\\x01\\x02\\x02\\x04\\x07\\x08\\x03\\x05\\x06\\x02\\x06\\x00',\n",
       " '',\n",
       " '\\x02',\n",
       " '\\x05\\x02\\x02\\x04\\x02\\x00\\x07\\x06\\x02\\x04\\x05\\x03\\x04\\x04\\x04\\x01\\x02\\x01\\x06\\x08\\x02\\x03\\x05\\x07\\x04\\x03\\x05\\x01\\x06\\x00\\x05\\x03\\x03\\x02\\x04',\n",
       " '\\x01\\x08\\x07\\x05',\n",
       " '\\x04\\x00\\x07\\x00\\x03',\n",
       " '\\x02\\x05\\x00\\x07\\x05\\x00\\x04\\x05\\x05\\x03\\x04\\x08\\x04\\x02\\x04',\n",
       " '\\x01\\x08\\x04\\x00\\x03\\x00\\x04\\x00\\x04',\n",
       " '\\x01\\x08\\x08\\x01',\n",
       " '\\x05\\x04\\x05\\x04',\n",
       " '\\x04\\x06\\x05\\x02\\x06\\x05\\x01\\x07\\x06\\x08\\x03\\x06\\x06\\x04\\x03\\x08\\x02\\x05\\x08\\x03\\x05\\x04\\x01\\x01\\x06\\x03\\x05\\x03',\n",
       " '\\x02\\x02\\x06\\x08\\x06\\x08\\x08\\x03\\x02\\x02\\x08\\x08\\x07\\x04',\n",
       " '\\x02\\x01\\x06\\x02\\x00\\x06\\x07\\x02\\x01\\x04\\x00\\x01\\x03\\x01\\x03\\x08\\x07\\x05\\x02\\x04\\x03\\x05\\x04\\x02\\x00\\x07\\x01\\x08\\x07\\x06',\n",
       " '',\n",
       " '\\x06\\x06\\x00\\x04\\x07\\x04\\x00\\x04\\x05\\x05\\x02\\x05\\x00\\x05\\x04\\x02\\x05\\x03\\x08\\x07\\x06\\x05\\x02\\x07\\x02\\x05',\n",
       " '\\x03\\x07\\x07\\x01\\x03\\x03\\x07\\x02\\x07\\x04\\x05\\x02\\x05\\x05\\x03\\x00\\x03\\x03\\x01\\x04',\n",
       " '\\x05',\n",
       " '\\x08\\x03\\x04\\x06\\x06\\x00\\x07\\x08\\x05\\x07\\x07\\x00',\n",
       " '\\x03\\x01\\x03\\x04\\x08',\n",
       " '\\x05\\x08\\x00\\x05\\x07\\x02\\x03\\x06\\x06\\x03\\x05\\x02\\x01\\x01\\x07\\x01\\x00\\x01\\x07\\x03',\n",
       " '\\x01\\x01\\x03\\x03\\x06\\x01\\x01\\x02\\x00\\x07\\x01',\n",
       " '\\x06\\x06\\x05\\x08\\x08\\x00\\x00\\x08',\n",
       " '',\n",
       " '\\x04',\n",
       " '\\x08\\x02\\x01\\x01\\x00\\x04\\x05\\x07\\x08\\x01\\x03\\x06\\x03\\x02',\n",
       " '\\x00\\x01\\x03\\x08\\x04',\n",
       " '\\x07\\x01',\n",
       " '',\n",
       " '\\x03\\x01\\x03\\x00\\x03\\x06',\n",
       " '',\n",
       " '\\x01\\x01\\x05\\x02\\x01\\x07',\n",
       " '\\x05',\n",
       " '\\x01\\x05',\n",
       " '\\x04\\x08\\x07\\x07\\x00\\x07\\x08',\n",
       " '\\x06\\x02\\x07\\x02\\x00\\x00',\n",
       " '\\x04\\x06\\x02\\x02\\x08\\x02\\x07\\x00\\x03\\x04\\x06\\x00\\x02\\x01\\x02\\x08\\x00\\x07\\x03\\x03\\x08',\n",
       " '\\x08\\x02',\n",
       " '\\x04\\x08\\x06\\x03\\x07\\x00\\x05\\x08\\x01\\x06\\x07\\x08\\x02\\x08\\x01\\x07\\x02\\x00\\x08\\x03',\n",
       " '\\x01',\n",
       " '\\x00\\x02\\x06\\x01\\x08\\x06\\x05\\x00\\x04\\x02\\x02\\x02\\x02\\x03\\x03\\x04\\x01',\n",
       " '\\x05',\n",
       " '\\x04\\x06\\x08',\n",
       " '\\x03\\x01\\x02\\x03',\n",
       " '\\x08\\x01\\x05\\x01\\x08\\x03\\x04\\x01\\x01\\x07\\x04\\x01\\x00\\x00\\x03\\x06',\n",
       " '\\x01\\x06\\x08\\x04\\x07\\x04\\x05\\x03\\x04\\x03\\x07\\x07\\x00\\x06',\n",
       " '\\x07\\x02\\x01\\x03',\n",
       " '\\x01\\x00\\x01\\x08\\x01',\n",
       " '\\x08',\n",
       " '\\x03\\x04\\x01\\x04\\x06',\n",
       " '\\x07\\x02\\x06\\x04\\x01\\x06',\n",
       " '\\x00\\x05\\x04\\x07\\x00\\x06\\x05\\x05\\x07\\x07\\x00',\n",
       " '\\x06',\n",
       " '\\x05\\x08\\x01\\x03\\x06\\x07',\n",
       " '\\x00\\x03\\x05\\x01\\x02\\x01\\x07\\x03\\x06\\x04',\n",
       " '\\x08\\x02\\x01\\x03\\x08\\x03\\x04\\x03\\x04',\n",
       " '\\x05\\x04\\x05\\x03\\x01\\x08\\x07\\x08',\n",
       " '\\x02\\x06\\x04\\x05\\x07\\x05\\x04\\x01\\x05\\x03\\x08\\x02\\x06\\x00\\x05\\x02\\x06\\x05\\x06\\x03\\x05\\x02\\x00\\x05\\x01\\x03\\x02\\x01\\x08',\n",
       " '\\x02\\x00\\x04\\x07\\x03\\x06\\x02\\x00\\x07\\x08\\x06',\n",
       " '\\x02\\x00\\x01\\x02\\x04\\x03\\x07\\x03\\x04\\x08\\x06\\x07\\x05',\n",
       " '\\x02\\x05\\x06\\x00\\x04',\n",
       " '\\x06\\x05',\n",
       " '\\x00',\n",
       " '\\x08\\x00',\n",
       " '\\x05\\x06\\x00\\x02',\n",
       " '\\x04\\x02\\x00\\x02\\x05\\x01\\x08',\n",
       " '\\x00\\x06\\x06\\x02\\x02\\x01',\n",
       " '\\x07\\x07\\x07\\x01\\x07\\x08\\x08\\x08\\x04\\x00\\x01\\x01\\x05\\x02\\x02\\x05\\x00\\x04\\x05\\x05\\x01',\n",
       " '\\x01\\x07\\x02\\x07\\x03\\x00\\x07\\x00',\n",
       " '\\x07\\x05\\x01\\x03\\x05\\x06\\x05\\x04\\x00\\x07\\x08\\x04',\n",
       " '\\x00\\x02\\x03\\x01\\x07\\x04\\x02',\n",
       " '',\n",
       " '\\x03\\x01\\x02\\x07\\x05',\n",
       " '\\x08\\x02\\x00\\x07\\x02\\x06\\x02\\x04\\x06\\x05\\x03\\x06\\x04\\x04\\x07\\x00',\n",
       " '\\x07\\x03\\x02\\x05\\x03\\x03\\x00\\x02\\x06\\x02\\x07\\x08\\x00\\x08\\x01\\x06\\x07\\x03\\x08\\x02\\x08\\x01\\x07\\x04\\x02\\x06\\x01\\x00\\x08\\x01\\x03\\x01\\x06\\x01\\x06\\x06\\x08\\x04\\x08\\x03\\x05\\x01',\n",
       " '\\x03\\x08\\x00\\x05\\x08\\x06\\x01\\x02\\x07\\x01\\x03\\x05\\x08\\x04\\x07\\x01\\x07\\x03\\x08',\n",
       " '\\x04\\x02\\x03\\x08\\x03\\x06\\x08',\n",
       " '\\x06\\x02\\x04\\x02\\x08\\x01\\x06\\x07\\x01\\x08\\x02\\x03\\x00\\x01\\x07\\x05\\x01',\n",
       " '\\x04\\x03\\x01\\x03\\x06',\n",
       " '\\x04\\x06\\x00\\x05\\x01\\x04\\x04',\n",
       " '\\x07\\x04\\x00\\x04\\x03\\x00\\x04\\x08\\x05',\n",
       " '\\x05\\x00\\x03\\x00\\x02\\x00\\x08',\n",
       " '\\x02\\x01\\x03',\n",
       " '\\x04\\x00\\x01\\x05',\n",
       " '\\x02\\x07\\x01\\x02\\x06\\x06\\x04\\x01\\x04\\x06\\x04\\x06\\x02\\x03\\x02\\x08\\x07',\n",
       " '\\x05\\x05\\x07\\x08\\x08\\x03\\x04\\x00\\x01\\x07\\x04\\x03\\x03\\x00\\x06',\n",
       " '\\x02\\x02\\x04\\x07\\x06\\x03\\x08\\x06\\x02\\x01\\x00',\n",
       " '\\x04\\x00\\x06\\x07\\x01\\x01\\x03\\x00\\x01\\x08\\x07\\x06\\x03\\x00\\x05\\x05\\x03\\x03\\x00\\x08\\x04\\x03\\x05\\x05\\x06\\x01\\x04\\x05\\x07\\x02\\x01\\x05\\x05\\x03\\x02\\x00',\n",
       " '\\x05\\x04\\x00',\n",
       " '\\x03\\x04\\x00\\x04\\x03\\x03\\x00\\x02\\x07\\x02\\x01\\x02\\x02\\x06\\x02\\x01\\x01\\x05',\n",
       " '\\x00\\x03\\x04\\x01\\x01\\x07\\x01\\x04\\x07\\x00\\x00',\n",
       " '\\x02\\x03\\x07\\x06\\x08',\n",
       " '\\x00\\x06\\x01\\x02\\x06\\x08\\x07\\x08\\x04\\x08\\x01\\x07\\x03\\x02\\x01\\x00\\x06\\x06\\x03\\x03',\n",
       " '\\x01\\x08\\x08\\x06\\x02',\n",
       " '\\x04\\x05\\x05\\x08\\x01\\x07\\x03\\x07\\x04\\x07\\x08\\x06\\x01\\x00\\x02\\x04\\x04\\x04\\x06\\x08\\x01\\x02\\x01\\x06\\x08\\x01\\x03',\n",
       " '\\x01\\x01\\x03\\x06\\x03\\x07\\x02\\x06',\n",
       " '\\x07\\x04\\x04\\x01\\x00\\x06\\x08\\x07\\x03\\x01\\x06\\x08\\x08\\x03\\x02\\x08\\x07\\x04\\x07\\x05',\n",
       " '\\x07\\x07\\x03\\x00\\x03',\n",
       " '\\x00\\x01\\x08',\n",
       " '\\x01\\x04\\x03\\x01\\x05\\x08\\x03\\x00\\x04',\n",
       " '\\x00\\x06\\x06',\n",
       " '\\x00\\x03\\x05\\x00\\x04\\x03\\x02\\x01\\x00\\x06\\x07\\x00\\x06',\n",
       " '\\x07',\n",
       " '\\x05',\n",
       " '\\x01',\n",
       " '\\x05\\x05\\x02\\x06\\x01\\x02\\x04\\x00\\x05\\x03\\x03',\n",
       " '\\x04\\x02\\x05\\x05\\x01\\x01\\x05\\x05\\x03\\x04\\x03\\x00\\x04\\x06\\x03\\x02\\x07',\n",
       " '\\x07\\x03\\x03\\x03\\x04\\x05\\x00\\x08',\n",
       " '\\x04\\x00\\x08\\x05\\x01\\x02\\x00\\x01\\x00\\x05\\x07\\x01\\x07\\x08\\x07\\x01\\x05\\x07\\x02\\x07\\x01\\x01\\x08\\x00\\x05\\x04\\x05\\x08\\x06\\x04\\x04\\x02\\x05\\x02\\x06\\x08\\x00\\x04\\x03\\x03\\x05\\x04\\x03\\x06\\x00',\n",
       " '\\x08\\x03\\x02\\x03\\x03\\x02\\x07\\x04\\x00\\x01\\x05\\x00\\x08\\x04\\x00\\x05\\x00\\x02\\x08\\x00\\x05\\x06\\x02',\n",
       " '\\x04\\x00\\x01\\x00\\x02\\x02',\n",
       " '\\x01\\x03\\x07\\x06\\x04\\x05',\n",
       " '\\x07\\x04\\x05\\x06\\x02\\x08\\x03\\x03\\x05\\x00\\x05\\x07\\x04\\x07\\x04',\n",
       " '\\x06\\x06\\x06\\x07\\x01\\x00\\x01\\x08\\x00\\x08\\x02\\x07\\x03\\x00\\x03\\x05\\x05\\x02\\x05\\x04\\x05\\x08\\x02\\x03\\x04',\n",
       " '\\x06\\x04\\x05\\x04\\x06\\x05\\x08\\x03\\x03\\x04\\x08\\x04\\x04\\x02\\x08\\x06\\x07\\x07\\x08\\x06\\x05\\x04\\x07\\x07\\x05\\x03\\x01\\x04\\x04\\x08\\x05\\x00\\x03\\x05\\x00',\n",
       " '\\x01\\x04',\n",
       " '',\n",
       " '\\x01\\x05\\x04\\x05',\n",
       " '\\x08\\x03\\x04\\x01\\x08\\x01\\x03\\x07\\x04',\n",
       " '\\x05\\x02\\x05\\x04\\x05',\n",
       " '',\n",
       " '\\x08',\n",
       " '',\n",
       " '\\x01\\x04',\n",
       " '\\x06\\x05\\x02\\x02\\x01\\x08\\x07\\x07\\x04\\x01\\x07\\x07\\x02\\x03\\x05\\x02\\x03\\x05\\x08\\x06\\x07\\x04\\x00\\x04\\x02\\x03\\x02\\x07',\n",
       " '\\x08\\x01\\x05\\x01\\x08\\x00\\x02\\x03\\x05\\x08\\x04\\x06\\x00\\x08\\x03\\x04',\n",
       " '\\x07\\x01\\x07',\n",
       " '\\x08\\x06\\x07\\x04\\x05\\x00',\n",
       " '\\x01\\x02\\x06\\x02\\x00\\x08\\x03\\x02\\x03\\x03\\x07\\x04\\x04\\x02\\x07\\x05\\x05\\x07\\x06\\x01',\n",
       " '\\x04\\x00\\x04\\x07\\x01',\n",
       " '\\x04\\x03\\x06\\x01\\x07\\x02\\x06\\x01\\x04',\n",
       " '\\x00\\x06\\x08\\x02\\x06\\x08\\x06\\x03\\x05\\x06\\x01\\x07\\x05',\n",
       " '\\x03\\x01\\x01',\n",
       " '\\x06\\x07\\x05',\n",
       " '\\x01\\x04\\x02\\x08\\x04\\x05\\x01\\x01\\x01\\x04\\x07\\x02',\n",
       " '',\n",
       " '\\x07\\x01',\n",
       " '\\x04\\x03\\x00\\x08\\x01\\x00\\x08\\x06\\x01\\x02\\x08\\x03\\x04\\x05\\x00\\x06\\x04\\x08\\x05\\x00\\x06\\x04\\x04\\x06\\x03\\x03\\x06\\x01\\x05',\n",
       " '\\x03',\n",
       " '\\x04\\x08',\n",
       " '\\x03\\x06\\x00\\x03\\x02\\x02\\x01\\x05\\x08\\x07\\x08\\x05',\n",
       " '\\x00',\n",
       " '\\x04\\x03\\x00\\x05',\n",
       " '\\x06\\x03\\x01\\x07\\x03\\x00\\x02\\x03\\x03\\x06',\n",
       " '\\x00\\x08\\x08\\x08\\x08\\x01\\x03\\x07\\x07\\x08\\x07\\x02\\x07\\x00\\x04\\x06\\x06\\x03\\x08\\x05\\x01\\x08\\x01\\x08\\x02',\n",
       " '\\x04\\x02\\x04\\x06\\x01\\x05\\x07\\x08',\n",
       " '\\x08\\x00\\x05\\x01\\x06\\x01\\x03\\x08\\x04\\x03',\n",
       " '\\x05\\x06\\x05\\x01\\x00\\x07\\x06\\x02\\x03\\x06',\n",
       " '\\x04\\x03',\n",
       " '\\x05\\x03\\x03\\x04\\x07\\x07\\x06\\x07\\x02\\x07\\x03\\x02\\x03\\x00\\x00',\n",
       " '\\x07',\n",
       " '\\x08',\n",
       " '\\x06\\x08\\x07\\x04\\x06',\n",
       " '\\x03',\n",
       " '\\x06\\x03\\x01\\x06',\n",
       " '',\n",
       " '\\x03',\n",
       " '\\x06\\x02',\n",
       " '\\x05\\x04\\x04\\x03\\x06\\x06\\x07\\x03\\x03\\x03\\x07\\x07\\x06\\x06\\x05\\x08\\x01\\x00\\x02\\x01\\x05\\x05\\x04\\x05\\x07\\x08\\x01\\x04\\x04\\x00\\x02\\x06',\n",
       " '\\x03\\x01\\x06\\x06\\x07\\x00',\n",
       " '\\x04',\n",
       " '\\x06\\x07\\x06\\x07\\x07\\x02\\x07',\n",
       " '\\x05\\x02\\x05\\x00\\x02\\x02\\x03\\x05\\x04\\x03\\x03\\x01\\x06',\n",
       " '\\x05\\x03\\x04\\x07\\x07\\x03\\x06\\x02\\x04\\x07\\x05\\x01\\x06\\x04\\x04\\x03\\x00\\x04\\x06\\x04\\x06\\x02\\x00\\x04\\x08',\n",
       " '\\x07\\x01\\x04\\x06\\x05\\x06\\x04\\x02\\x05\\x07\\x02\\x03\\x00\\x03\\x00\\x02\\x06\\x02\\x03\\x03',\n",
       " '\\x01',\n",
       " '\\x08',\n",
       " '\\x01\\x01\\x00\\x08\\x06\\x06',\n",
       " '\\x06\\x01',\n",
       " '\\x04\\x00\\x06\\x08\\x06\\x05\\x01\\x05\\x07\\x05\\x08\\x00\\x08\\x05\\x02',\n",
       " '\\x05\\x06\\x03\\x02',\n",
       " '\\x02\\x08\\x06\\x03\\x01\\x00\\x02',\n",
       " '\\x03\\x05\\x05\\x07\\x04\\x02\\x03\\x03\\x03\\x05',\n",
       " '\\x04\\x06\\x05\\x07\\x04\\x06\\x04\\x05\\x01\\x07\\x02\\x05\\x01\\x04\\x06',\n",
       " '\\x02\\x01\\x00\\x06\\x06\\x07',\n",
       " '\\x01',\n",
       " '\\x00\\x05\\x00\\x03\\x08\\x04\\x04\\x07\\x08\\x03\\x07\\x01\\x01\\x05\\x01\\x02\\x00\\x08\\x01\\x03\\x07\\x04\\x00\\x01\\x00\\x03\\x02\\x03\\x00\\x06\\x00\\x00\\x08\\x08',\n",
       " '\\x01\\x07\\x01\\x00\\x06\\x05\\x00\\x00\\x02',\n",
       " '\\x03\\x04\\x05',\n",
       " '\\x02\\x03\\x05\\x01\\x08\\x01\\x08\\x04\\x02\\x01',\n",
       " '\\x08\\x01\\x05\\x02\\x05\\x02',\n",
       " '\\x05\\x04\\x03\\x07\\x02\\x03',\n",
       " '\\x07\\x07\\x02\\x01\\x01\\x05\\x00\\x05\\x00\\x08\\x06\\x01\\x07\\x07\\x01\\x00\\x05',\n",
       " '\\x02\\x08\\x04\\x02\\x02\\x04\\x07\\x01\\x04\\x05\\x08\\x02\\x05',\n",
       " '\\x00\\x00\\x05\\x06',\n",
       " '\\x01\\x05',\n",
       " '\\x04\\x04',\n",
       " '',\n",
       " '\\x02\\x02\\x04\\x01\\x06\\x04\\x07\\x03\\x02\\x06\\x07\\x03\\x07\\x07\\x02',\n",
       " '\\x04\\x01\\x03\\x08\\x04\\x07\\x04',\n",
       " '\\x08\\x06\\x08\\x07\\x04',\n",
       " '\\x03\\x00',\n",
       " '\\x03\\x03\\x07\\x06\\x05\\x06\\x00\\x07\\x03\\x02\\x08\\x05\\x07\\x01\\x07\\x02\\x05\\x07\\x01\\x02\\x00\\x01\\x00\\x03\\x01\\x04\\x06\\x02\\x00\\x03\\x03\\x05\\x05',\n",
       " '\\x00\\x06\\x08\\x03\\x00\\x06\\x07\\x06\\x06\\x00\\x01\\x05',\n",
       " '\\x01\\x07\\x07\\x02\\x04\\x06\\x01\\x03\\x06\\x02\\x01\\x04',\n",
       " '\\x06\\x05\\x05\\x03',\n",
       " '\\x06\\x02\\x02\\x06',\n",
       " '',\n",
       " '\\x06\\x02\\x08\\x05\\x05',\n",
       " '\\x04\\x02\\x08\\x01\\x07\\x03\\x07\\x08\\x01\\x07\\x03',\n",
       " '\\x02\\x04',\n",
       " '\\x04\\x01\\x06\\x06\\x01\\x05',\n",
       " '\\x06\\x05\\x05\\x08\\x04\\x05',\n",
       " '\\x00\\x01\\x06\\x05\\x01\\x01\\x03\\x03\\x02\\x04\\x08\\x03\\x07\\x04\\x08\\x08',\n",
       " '\\x04\\x05',\n",
       " '\\x00\\x00',\n",
       " '\\x08\\x01\\x07\\x06\\x01\\x00\\x04\\x03\\x06\\x07\\x04\\x04\\x00\\x01\\x08\\x08\\x01\\x00',\n",
       " '\\x08\\x07\\x07\\x06\\x07',\n",
       " '\\x05\\x01\\x03\\x06\\x06\\x00\\x08\\x07\\x06\\x04\\x03\\x05\\x03\\x06\\x05\\x01\\x01\\x02\\x06\\x07\\x00\\x02\\x00\\x02\\x04\\x03\\x00\\x04',\n",
       " '\\x01\\x08\\x07\\x05\\x05\\x08\\x02\\x04\\x02\\x02\\x05\\x07\\x01\\x04\\x02\\x08\\x06\\x01\\x01\\x06\\x05\\x01\\x02\\x00\\x05\\x07\\x01',\n",
       " '\\x08\\x03',\n",
       " '\\x06\\x03\\x02\\x00\\x05',\n",
       " '\\x02\\x05\\x01\\x01\\x05\\x06\\x06\\x03\\x02\\x06',\n",
       " '\\x08\\x07\\x00\\x04\\x07\\x08\\x01\\x03',\n",
       " '\\x06\\x00\\x06\\x03\\x08',\n",
       " '\\x04\\x07\\x06\\x05',\n",
       " '\\x03\\x02\\x08\\x06\\x06\\x08\\x06\\x08\\x07\\x04',\n",
       " '\\x04\\x01\\x08',\n",
       " '\\x03\\x04\\x08\\x02\\x03\\x00\\x07\\x00\\x01\\x07\\x01\\x03\\x03',\n",
       " '\\x07\\x06\\x07',\n",
       " '',\n",
       " '\\x02\\x00\\x05\\x03',\n",
       " '\\x03\\x05\\x08\\x06\\x03\\x07\\x06\\x03\\x01',\n",
       " '\\x00\\x07\\x02\\x02',\n",
       " '\\x01\\x08',\n",
       " '\\x01\\x03\\x02\\x02',\n",
       " '\\x00\\x03\\x08\\x07\\x01\\x07\\x02\\x02',\n",
       " '\\x01\\x05\\x08\\x00\\x02\\x02\\x08\\x03\\x06\\x06\\x05\\x01\\x06\\x00\\x03\\x08',\n",
       " '\\x08',\n",
       " '\\x03',\n",
       " '\\x02\\x00\\x08\\x05\\x08\\x04\\x00\\x03\\x07\\x05\\x04\\x00\\x06\\x07\\x01\\x07\\x02',\n",
       " '\\x00\\x01\\x05\\x07\\x00\\x03\\x02',\n",
       " '\\x03\\x07\\x02\\x08\\x04\\x05\\x01\\x02\\x06\\x04\\x01\\x01\\x08\\x06\\x07\\x07',\n",
       " '\\x06\\x07\\x01\\x04\\x06\\x04\\x04\\x00',\n",
       " '\\x08\\x02\\x01\\x03\\x02',\n",
       " '\\x06\\x08\\x02\\x08\\x03\\x01\\x06\\x04\\x04\\x03\\x02\\x02\\x07\\x01\\x07\\x06\\x01\\x00\\x04\\x07\\x00\\x08\\x01',\n",
       " '\\x04\\x02\\x06\\x05\\x02',\n",
       " '\\x03',\n",
       " '',\n",
       " '\\x08\\x04\\x07\\x05\\x00\\x07\\x06',\n",
       " '\\x08\\x06',\n",
       " '\\x00\\x06\\x01',\n",
       " '\\x06\\x07\\x06\\x07',\n",
       " '\\x02\\x06\\x00\\x06\\x06\\x03\\x04\\x04\\x04\\x07\\x04\\x08\\x05\\x07\\x00\\x04\\x07\\x08\\x02',\n",
       " '\\x05\\x00\\x05',\n",
       " '\\x01\\x03\\x00\\x08',\n",
       " '\\x05\\x04\\x01\\x02\\x00\\x07\\x01\\x03',\n",
       " '\\x07',\n",
       " '\\x01\\x02\\x04\\x03\\x06\\x04\\x02\\x08\\x01\\x05\\x05\\x02\\x05\\x02\\x04\\x07\\x05\\x02\\x00\\x03\\x07',\n",
       " '\\x05\\x01\\x00\\x08\\x02\\x05\\x04\\x04\\x07\\x01\\x06\\x07\\x04\\x06\\x01\\x02\\x06\\x05\\x07\\x03\\x01\\x02\\x03\\x01\\x03\\x08\\x00\\x05\\x00\\x08\\x00\\x01\\x06\\x08\\x02\\x02\\x04',\n",
       " '',\n",
       " '\\x04\\x06\\x02\\x02\\x05\\x00',\n",
       " '\\x00\\x06',\n",
       " '\\x04\\x02',\n",
       " '\\x00\\x08\\x07\\x03\\x07\\x08\\x05\\x02',\n",
       " '\\x06\\x00\\x03\\x08',\n",
       " '\\x08\\x02\\x07\\x04\\x08\\x06\\x02',\n",
       " '\\x01\\x04\\x00\\x01\\x02\\x05\\x05\\x04\\x02\\x04\\x01\\x05\\x03',\n",
       " '\\x07\\x04\\x02\\x06\\x04\\x06',\n",
       " '\\x07\\x03\\x03\\x08',\n",
       " '\\x00\\x08\\x04',\n",
       " '\\x07\\x05\\x03\\x08\\x03\\x06\\x07\\x07\\x07\\x02\\x00\\x01\\x05\\x00\\x02\\x08\\x04\\x07',\n",
       " '\\x08\\x08\\x07\\x02\\x03\\x07\\x01',\n",
       " '\\x08\\x03\\x07\\x06\\x08\\x08\\x08\\x02',\n",
       " '\\x01\\x02\\x05\\x02\\x04\\x02\\x01\\x01\\x08\\x00\\x00\\x04\\x07',\n",
       " '\\x03\\x03\\x06\\x05\\x07\\x00\\x06\\x06\\x01\\x01\\x08\\x02\\x03\\x02\\x01\\x02\\x04\\x07\\x06\\x04\\x03\\x01\\x01\\x06\\x04\\x08\\x08\\x05\\x03\\x01\\x01\\x03\\x08\\x02\\x00\\x02\\x01\\x00\\x04\\x07\\x08\\x01\\x00\\x02\\x03\\x02\\x00\\x05\\x02\\x01\\x03\\x07',\n",
       " '\\x00\\x02\\x03\\x06\\x08\\x04\\x02\\x03\\x01\\x04\\x08\\x05\\x07\\x01\\x01\\x02\\x06\\x01\\x01\\x01\\x06\\x04\\x06\\x06\\x06\\x02\\x00\\x03\\x02\\x06\\x00\\x01\\x03\\x04\\x03\\x05',\n",
       " '\\x07\\x07\\x05\\x08\\x08\\x00\\x02\\x00\\x05\\x00\\x03\\x03\\x07\\x06\\x01\\x02\\x01',\n",
       " '\\x05\\x02',\n",
       " '\\x00\\x05\\x03\\x08\\x08\\x05\\x04\\x06\\x04\\x05\\x01\\x00\\x00\\x06\\x05\\x01\\x01',\n",
       " '\\x01\\x01\\x08\\x04\\x03\\x03\\x01\\x02\\x05\\x01',\n",
       " '\\x02\\x07',\n",
       " '\\x00\\x07\\x05\\x06\\x04\\x03\\x05\\x08\\x02\\x07',\n",
       " '\\x06\\x04\\x03\\x04\\x06\\x06\\x03\\x02\\x06\\x02\\x06\\x06',\n",
       " '\\x08\\x04\\x06',\n",
       " '\\x01\\x03\\x07\\x05\\x01\\x08\\x06\\x01\\x00\\x01\\x07\\x06\\x00\\x01',\n",
       " '\\x03\\x01\\x00\\x08\\x03\\x03\\x00\\x08',\n",
       " '\\x02\\x01\\x01\\x02\\x08\\x02\\x05',\n",
       " '\\x08\\x05\\x05\\x04\\x08\\x07\\x06\\x08\\x01\\x07\\x01\\x04\\x02\\x00\\x05\\x04\\x05\\x04\\x05\\x04\\x03\\x01\\x06\\x06\\x08\\x07\\x05\\x03\\x01\\x00\\x08\\x01\\x08\\x07\\x01',\n",
       " '\\x01',\n",
       " '\\x01\\x07\\x07\\x03\\x03\\x01\\x03\\x00\\x03\\x08\\x07\\x07\\x07\\x05\\x01\\x00\\x07',\n",
       " '\\x03\\x00\\x05\\x06\\x07\\x05\\x00\\x03\\x08\\x08\\x00\\x08\\x05',\n",
       " '\\x07\\x05\\x03',\n",
       " '\\x07\\x02',\n",
       " '\\x03\\x06\\x01\\x04\\x05\\x07\\x05\\x01\\x06\\x06\\x01',\n",
       " '\\x01\\x03\\x01\\x08\\x03\\x04\\x07\\x02\\x02\\x04\\x06\\x01\\x07\\x07\\x08\\x06\\x00\\x08\\x06\\x07\\x05',\n",
       " '\\x07\\x08\\x03\\x01',\n",
       " '\\x03\\x04\\x08\\x08\\x03\\x05\\x05\\x08\\x04\\x04\\x07\\x05\\x08\\x05\\x03\\x07\\x05\\x07\\x05\\x08\\x06',\n",
       " '\\x00\\x01',\n",
       " '\\x02\\x07\\x08\\x02\\x07\\x01\\x06\\x06\\x03\\x01\\x05\\x00\\x06\\x00\\x01\\x02\\x08\\x06\\x07\\x06\\x04\\x00',\n",
       " '\\x04\\x07\\x00\\x02\\x00\\x08\\x01\\x02\\x02\\x03\\x04\\x04\\x05',\n",
       " '\\x01\\x06\\x04\\x04\\x04\\x03\\x05\\x06\\x08\\x07\\x08\\x00\\x01',\n",
       " '\\x04\\x04\\x01\\x01\\x05',\n",
       " '\\x08\\x05\\x04\\x07\\x00\\x01\\x07\\x08\\x02\\x04\\x04',\n",
       " '\\x05\\x00\\x01\\x05',\n",
       " '\\x02\\x02\\x01\\x06\\x02\\x04\\x02\\x06\\x02\\x07\\x05\\x07\\x05\\x01\\x01\\x05\\x05',\n",
       " '\\x01',\n",
       " '\\x02\\x08',\n",
       " '\\x02\\x05\\x03\\x08\\x04\\x05\\x02\\x02\\x08\\x07\\x03\\x06\\x00\\x02\\x01\\x00',\n",
       " '\\x02\\x04\\x07\\x00\\x06\\x06\\x03\\x05\\x08\\x01\\x06\\x06\\x05\\x00\\x04\\x04\\x04',\n",
       " '\\x01\\x07',\n",
       " '\\x08\\x01\\x01\\x06\\x07\\x06\\x08\\x02',\n",
       " '\\x03\\x05\\x07\\x06',\n",
       " '\\x01\\x00\\x08\\x03\\x01\\x02\\x07\\x05\\x04',\n",
       " '\\x04',\n",
       " '\\x08\\x02\\x08',\n",
       " '\\x07\\x07\\x00\\x05\\x06\\x02\\x04',\n",
       " '\\x05\\x08\\x00\\x00\\x00\\x02\\x01',\n",
       " '\\x08\\x07\\x02',\n",
       " '\\x06\\x01\\x05\\x03\\x04',\n",
       " '\\x06\\x02\\x05\\x00\\x08\\x04\\x05\\x08\\x07\\x04\\x02\\x02\\x06\\x08\\x04',\n",
       " '\\x04\\x02\\x06\\x01\\x00\\x01\\x01',\n",
       " '\\x00\\x08\\x06\\x01\\x07\\x07\\x01\\x03\\x08',\n",
       " '\\x03',\n",
       " '\\x05\\x03',\n",
       " '\\x02\\x03\\x02\\x05\\x05',\n",
       " '\\x04\\x02\\x06\\x08\\x05\\x07\\x00\\x02\\x07\\x05\\x05\\x04\\x00\\x02\\x03\\x06\\x04\\x02\\x04\\x06\\x08\\x05',\n",
       " '\\x08\\x06\\x02',\n",
       " '\\x07\\x03\\x06\\x07\\x02\\x03\\x01\\x06\\x08',\n",
       " '\\x02\\x02\\x07\\x04',\n",
       " '\\x02\\x00\\x03\\x02\\x08\\x05\\x06\\x02\\x00\\x02\\x04\\x05\\x05\\x03\\x04\\x06\\x00\\x07\\x02\\x04\\x00\\x07\\x02\\x04\\x06\\x08\\x06',\n",
       " '\\x08\\x08\\x08\\x02',\n",
       " '\\x02\\x03',\n",
       " '\\x04',\n",
       " '\\x05\\x08\\x06\\x08',\n",
       " '\\x01\\x03\\x08\\x05\\x04\\x08\\x01\\x08',\n",
       " '\\x06\\x00\\x04\\x00\\x01\\x01\\x07\\x02\\x07\\x05\\x01\\x04\\x03\\x02\\x05\\x00',\n",
       " '',\n",
       " '\\x07',\n",
       " '\\x04\\x05\\x03\\x07\\x01\\x04\\x02\\x04\\x07\\x07\\x08\\x04\\x00\\x03\\x01',\n",
       " '\\x05\\x05\\x00\\x06\\x02\\x07\\x00',\n",
       " '\\x04\\x07\\x04\\x03\\x08\\x08\\x07\\x05\\x04\\x08\\x07\\x06\\x02\\x05\\x05\\x05\\x01\\x05',\n",
       " '\\x07\\x01',\n",
       " '\\x01\\x02\\x00',\n",
       " '\\x07\\x08\\x06',\n",
       " '\\x01\\x02\\x03\\x08\\x00\\x08\\x08\\x06\\x05\\x07\\x07\\x04\\x01\\x08\\x08\\x01\\x07\\x00\\x03\\x03\\x03\\x06\\x03\\x02\\x04\\x01',\n",
       " '',\n",
       " '\\x01\\x03\\x05\\x00\\x02\\x07\\x02\\x03\\x07\\x01\\x02',\n",
       " '\\x02\\x01\\x04\\x03',\n",
       " '\\x06\\x01\\x01',\n",
       " '',\n",
       " '',\n",
       " '\\x04\\x01\\x01\\x03',\n",
       " '\\x08\\x01\\x05\\x02\\x02\\x02\\x08\\x00\\x00\\x01\\x08\\x00\\x00\\x07\\x01\\x05\\x08\\x04\\x00\\x08\\x02\\x05\\x00\\x06\\x01\\x03\\x06\\x04\\x05\\x06\\x00\\x00\\x08\\x03\\x05\\x07\\x04\\x06',\n",
       " '\\x00',\n",
       " '\\x08\\x06\\x08\\x01\\x00\\x03\\x02\\x07\\x08\\x07\\x00\\x07\\x01\\x03\\x08',\n",
       " '\\x03\\x01\\x02\\x03\\x08\\x05\\x02\\x05\\x04\\x03\\x03',\n",
       " '\\x06\\x00\\x02\\x04',\n",
       " '\\x03\\x05',\n",
       " '\\x06\\x01\\x08\\x01\\x05\\x08\\x07\\x04\\x02\\x02\\x07',\n",
       " '\\x06\\x01\\x04\\x05\\x00\\x01\\x02\\x01\\x04\\x01\\x02\\x06\\x08',\n",
       " '\\x06\\x01\\x06\\x08\\x03\\x03',\n",
       " '\\x08\\x00\\x03\\x01\\x06\\x08\\x02\\x03\\x04\\x05\\x06',\n",
       " '\\x06\\x00\\x03\\x08\\x07\\x07\\x03',\n",
       " '',\n",
       " '\\x05\\x01\\x08\\x04\\x02',\n",
       " '\\x03\\x03\\x05\\x03\\x06\\x05\\x08\\x00\\x00\\x07\\x08\\x00\\x02\\x02\\x05\\x05\\x07',\n",
       " '\\x04\\x08\\x03\\x02',\n",
       " '\\x03\\x08\\x00\\x04\\x07\\x08\\x00',\n",
       " '\\x04\\x05\\x07',\n",
       " '\\x03\\x04\\x00\\x06\\x03\\x01\\x02',\n",
       " '\\x00',\n",
       " '\\x01\\x05\\x07\\x04\\x06\\x07\\x05\\x00\\x08\\x01\\x04\\x04\\x03\\x00\\x08\\x05\\x00\\x01\\x05\\x07\\x01\\x07\\x07\\x04\\x00\\x02\\x01\\x06',\n",
       " '\\x00',\n",
       " '\\x08\\x07\\x02\\x00\\x05\\x04\\x06\\x06\\x01\\x03\\x05',\n",
       " '\\x04\\x07',\n",
       " '\\x07\\x08\\x06\\x01\\x01\\x03\\x02\\x02\\x03\\x08\\x08\\x01\\x04',\n",
       " '\\x03\\x03\\x08',\n",
       " '\\x07\\x03\\x04\\x06',\n",
       " '\\x04\\x07',\n",
       " '\\x02\\x01\\x04\\x06\\x05\\x00\\x03\\x08\\x06\\x01',\n",
       " '\\x02\\x01\\x01\\x05',\n",
       " '\\x08\\x06',\n",
       " '\\x00\\x00\\x04',\n",
       " '\\x04\\x01\\x06',\n",
       " '\\x05\\x03\\x08\\x00\\x05\\x02\\x00\\x05\\x01\\x07\\x03\\x06\\x02\\x02',\n",
       " '',\n",
       " '\\x05\\x00\\x07\\x04',\n",
       " '\\x06\\x05\\x07\\x03\\x01\\x01\\x08\\x01\\x01\\x02\\x02',\n",
       " '\\x01\\x02\\x08',\n",
       " '\\x06\\x01',\n",
       " '\\x06\\x07\\x06\\x05\\x08\\x03\\x04\\x00\\x07',\n",
       " '',\n",
       " '',\n",
       " '\\x04\\x04\\x03\\x04\\x00\\x01\\x08\\x06\\x03\\x06\\x04\\x03\\x02\\x08\\x07\\x03\\x04\\x07\\x01\\x03\\x04\\x02\\x00\\x08\\x05\\x05',\n",
       " '\\x01\\x05\\x03\\x05',\n",
       " '\\x00\\x03',\n",
       " '\\x06\\x04\\x02',\n",
       " '\\x00\\x08\\x03\\x03\\x02\\x02\\x00\\x08\\x03\\x06\\x06\\x01',\n",
       " '\\x01\\x00\\x03\\x01\\x07\\x08',\n",
       " '\\x05\\x04\\x05\\x06\\x03\\x00\\x07',\n",
       " '\\x08\\x00\\x03\\x02\\x06\\x02\\x05\\x08\\x02\\x03',\n",
       " '\\x05\\x02\\x08\\x01\\x03\\x07\\x01\\x07\\x05\\x05\\x00\\x01\\x05\\x01\\x08\\x00\\x02\\x07\\x01\\x07\\x08\\x03\\x04\\x01\\x03\\x08\\x02\\x02\\x05\\x01\\x00',\n",
       " '\\x02\\x08\\x06\\x00\\x03\\x03',\n",
       " '\\x06\\x05\\x03\\x07\\x03\\x08',\n",
       " '\\x02',\n",
       " '\\x04\\x08\\x05\\x06\\x02\\x00\\x00\\x02\\x06\\x00\\x07\\x05\\x06\\x08\\x06\\x06\\x03\\x03\\x02\\x02\\x06\\x02\\x06',\n",
       " '\\x03\\x05\\x02\\x04\\x08\\x02\\x01\\x01\\x08\\x06\\x05\\x06',\n",
       " '',\n",
       " '\\x06\\x04\\x03\\x01\\x03\\x00\\x06',\n",
       " '\\x00\\x03\\x05',\n",
       " '\\x02\\x07\\x07\\x02\\x08\\x03\\x01\\x06\\x01\\x08\\x01\\x03\\x02\\x04\\x00\\x07',\n",
       " '\\x03\\x00\\x08\\x00\\x04\\x01\\x05\\x02\\x08\\x08\\x05\\x03\\x04\\x03\\x05\\x02\\x02\\x08\\x01',\n",
       " '\\x06\\x07\\x01\\x06',\n",
       " '\\x07\\x07\\x04\\x06\\x05\\x06\\x02\\x05\\x05\\x08\\x07\\x00\\x01',\n",
       " '\\x07\\x05\\x08',\n",
       " '',\n",
       " '\\x04\\x06\\x06\\x05\\x00\\x08',\n",
       " '\\x04\\x04\\x03\\x05\\x00\\x04',\n",
       " '\\x04\\x08\\x03\\x08\\x07\\x06\\x02',\n",
       " '\\x00\\x00\\x03\\x00\\x08\\x04\\x05\\x00\\x01',\n",
       " '\\x03\\x07\\x03',\n",
       " '\\x01\\x03\\x04\\x07\\x04\\x06\\x08',\n",
       " '\\x08\\x07\\x04\\x00\\x06\\x07\\x07\\x04\\x02\\x08\\x02\\x00\\x04\\x03\\x06\\x07\\x05\\x07\\x07\\x05\\x01\\x02\\x00\\x07\\x02',\n",
       " '\\x04\\x02\\x05\\x04',\n",
       " '\\x06\\x06\\x00\\x04\\x06\\x06\\x02',\n",
       " '',\n",
       " '',\n",
       " '\\x03\\x00\\x03\\x04\\x04\\x05\\x05\\x05\\x07\\x08\\x07\\x03\\x03\\x07\\x08\\x07\\x03\\x07\\x04\\x06\\x01\\x07',\n",
       " '\\x01\\x02\\x00\\x02\\x04\\x01\\x00\\x00\\x04\\x02',\n",
       " '\\x02\\x05\\x02\\x00\\x08\\x08\\x00\\x08\\x01\\x02\\x02\\x03\\x00',\n",
       " '\\x06\\x05',\n",
       " '\\x08\\x03\\x03\\x04\\x05\\x02\\x05\\x01',\n",
       " '\\x05\\x04\\x02\\x05',\n",
       " '\\x02\\x04\\x03\\x01\\x00\\x04\\x04\\x00\\x00\\x00\\x03\\x06\\x01\\x07\\x02\\x01\\x06\\x08\\x01\\x00\\x02\\x05\\x06\\x06\\x02\\x04\\x05\\x04',\n",
       " '\\x03\\x02',\n",
       " '\\x06\\x04',\n",
       " '\\x03\\x05\\x02',\n",
       " '\\x02\\x00\\x08\\x07\\x05\\x07\\x03\\x00\\x05\\x01\\x06\\x05\\x00\\x06',\n",
       " '\\x03\\x03\\x02\\x01',\n",
       " '\\x07\\x06',\n",
       " '\\x08\\x07\\x00\\x03\\x00\\x08\\x03\\x04\\x06\\x05\\x00',\n",
       " '\\x04\\x07\\x02\\x04',\n",
       " '\\x06\\x00\\x03\\x05\\x02\\x00',\n",
       " '\\x01\\x00\\x05\\x02',\n",
       " '\\x03\\x00\\x02\\x08\\x08\\x07\\x00\\x06\\x02\\x02\\x00\\x03\\x04\\x05\\x02\\x04\\x07\\x04',\n",
       " '\\x08\\x05\\x06\\x02\\x02\\x04\\x07\\x01\\x00\\x01\\x00\\x08\\x04\\x08\\x03\\x02\\x01\\x07',\n",
       " '\\x07\\x07\\x06\\x01\\x04\\x08\\x06\\x07\\x04\\x03\\x06\\x03\\x00\\x08\\x07\\x03\\x03',\n",
       " '\\x08\\x05\\x03\\x01\\x01\\x00\\x00\\x04\\x08',\n",
       " '\\x00\\x03\\x01\\x04\\x02\\x08\\x01\\x04\\x05',\n",
       " '\\x01\\x00\\x07\\x00\\x06\\x03\\x07\\x07\\x04\\x08\\x03\\x07\\x06\\x02\\x08\\x05\\x03',\n",
       " '\\x06\\x05\\x03\\x05\\x07\\x08\\x04\\x00\\x03\\x08\\x01',\n",
       " '\\x06\\x05',\n",
       " '\\x02\\x07\\x04\\x01\\x07\\x06\\x01',\n",
       " '',\n",
       " '\\x07\\x08\\x00\\x01\\x03',\n",
       " '\\x06\\x03\\x03\\x01\\x08\\x07\\x02\\x08\\x05\\x00\\x04\\x08\\x07\\x05\\x06\\x05\\x04\\x08\\x06\\x08\\x00\\x08\\x06\\x08',\n",
       " '\\x07',\n",
       " '\\x02\\x05\\x01',\n",
       " '\\x06\\x01\\x01\\x07\\x08\\x06\\x08\\x07\\x08\\x03\\x06\\x07\\x03\\x02',\n",
       " '',\n",
       " '\\x07\\x07\\x01\\x03\\x01\\x05\\x01\\x00\\x02\\x04\\x05\\x05\\x07\\x06\\x05\\x02\\x05\\x02\\x08\\x01\\x03\\x07\\x07\\x08\\x06',\n",
       " '\\x05\\x05\\x00\\x06\\x06\\x01\\x02\\x03\\x07\\x05\\x01\\x06\\x07\\x07\\x03\\x02\\x05\\x02\\x08\\x08\\x01\\x00\\x00\\x08\\x06\\x03\\x04\\x07\\x01',\n",
       " '\\x05\\x06\\x07\\x06\\x02\\x02\\x02\\x07\\x08',\n",
       " '\\x07\\x01\\x01\\x01\\x04\\x00\\x07\\x00\\x07\\x05',\n",
       " '\\x06\\x00',\n",
       " '\\x04\\x02\\x00\\x04\\x06\\x02\\x07\\x04\\x00\\x07\\x00\\x07\\x04\\x06\\x05\\x08\\x00\\x05\\x03',\n",
       " '\\x04\\x07\\x04\\x00\\x04\\x07\\x03\\x01\\x08\\x06\\x02\\x05\\x06\\x03\\x03\\x02\\x05\\x04\\x02\\x00\\x04\\x08\\x08\\x07\\x06\\x08\\x05\\x07\\x04\\x03\\x00\\x07',\n",
       " '\\x04\\x05\\x06\\x06\\x00\\x03\\x08\\x06\\x05\\x04\\x06\\x08\\x07\\x01\\x00\\x00\\x06\\x07\\x02\\x01\\x04\\x03\\x07',\n",
       " '\\x00\\x01\\x05\\x02\\x05\\x03\\x03\\x05\\x05\\x00\\x01\\x07',\n",
       " '\\x07\\x05\\x02\\x01\\x06\\x01\\x01\\x04\\x06',\n",
       " '\\x06\\x06\\x02\\x00\\x08\\x04\\x03\\x02\\x02',\n",
       " '\\x03\\x07\\x07\\x07\\x08\\x01\\x03',\n",
       " '\\x06\\x04',\n",
       " '',\n",
       " '\\x07\\x05\\x07\\x05\\x06',\n",
       " '\\x00\\x02\\x03\\x08',\n",
       " '\\x03\\x03\\x00\\x02\\x02\\x05\\x03\\x02\\x04\\x03\\x03\\x04\\x07\\x05',\n",
       " '\\x04\\x05\\x07\\x00\\x08\\x03\\x00\\x01',\n",
       " '\\x03\\x08\\x00\\x02',\n",
       " '\\x05\\x05',\n",
       " '\\x08\\x01\\x04\\x07\\x01\\x05\\x03',\n",
       " '\\x06\\x01\\x03\\x02\\x03\\x04\\x00\\x07\\x05\\x02\\x00\\x03\\x08\\x08\\x01\\x03\\x04\\x06\\x04\\x01\\x08\\x03',\n",
       " '\\x06\\x08\\x00\\x05\\x04\\x02\\x08\\x07\\x01\\x05\\x07\\x08\\x05\\x01\\x05\\x06\\x00\\x04\\x07\\x03\\x05\\x08',\n",
       " '\\x02\\x02\\x05\\x08\\x04',\n",
       " '\\x03\\x06\\x02\\x06\\x00\\x03\\x07\\x02\\x04\\x03\\x02\\x00\\x08\\x01\\x08\\x02\\x01\\x01\\x04\\x04\\x06\\x04\\x07\\x02\\x01\\x04',\n",
       " '\\x08\\x02\\x08\\x00\\x00',\n",
       " '\\x05\\x00\\x05\\x08\\x06\\x07\\x00\\x08\\x06\\x04\\x04\\x06\\x05\\x05\\x08\\x07\\x03\\x01\\x07\\x05\\x00\\x02\\x01\\x03\\x04\\x01\\x05',\n",
       " '\\x06',\n",
       " '\\x01\\x01\\x04\\x05\\x05\\x03\\x03\\x01\\x01',\n",
       " '',\n",
       " '\\x03\\x01',\n",
       " '\\x03\\x04\\x04\\x01',\n",
       " '\\x03\\x01\\x00\\x08\\x06\\x06',\n",
       " '\\x08\\x01\\x02\\x03\\x02\\x00\\x04\\x06\\x05\\x02\\x02\\x04\\x06\\x00\\x06\\x01\\x08\\x03',\n",
       " '\\x03\\x08\\x03\\x02\\x06\\x05',\n",
       " '\\x01',\n",
       " '\\x03\\x00\\x04\\x08\\x01\\x06\\x00\\x01\\x00\\x03\\x02\\x06\\x04\\x06\\x05\\x08\\x02\\x03\\x06\\x04\\x07\\x07\\x08\\x08\\x08\\x01\\x03',\n",
       " '\\x05\\x00\\x01\\x03\\x01\\x06\\x02\\x08\\x07\\x02',\n",
       " '\\x08\\x08\\x08',\n",
       " '\\x06\\x08',\n",
       " '\\x01\\x04\\x08\\x06\\x05\\x06\\x03',\n",
       " '\\x08\\x01\\x03\\x04\\x07\\x03\\x07\\x01\\x06\\x03\\x03\\x08\\x05\\x08\\x01\\x05\\x07\\x04\\x02\\x06\\x02\\x01\\x00',\n",
       " '\\x02',\n",
       " '\\x02\\x08\\x04',\n",
       " '\\x08',\n",
       " '\\x03\\x07\\x00',\n",
       " '\\x02\\x01\\x02\\x07\\x07\\x06\\x08\\x01\\x00',\n",
       " '\\x07\\x05\\x01\\x07\\x08\\x03\\x06\\x05\\x01\\x00\\x03\\x00\\x03\\x01\\x00\\x02\\x01\\x02\\x01\\x01\\x02',\n",
       " '\\x08\\x01\\x01\\x00\\x06\\x03\\x04\\x03\\x00\\x05\\x05\\x01\\x06\\x05\\x01\\x08\\x06\\x05\\x00\\x06\\x06\\x08\\x06\\x07\\x00\\x08\\x02',\n",
       " '\\x03\\x07\\x03\\x04\\x02\\x05\\x07\\x06\\x02\\x01\\x07\\x01\\x00\\x03\\x08\\x04\\x01\\x00\\x05\\x06',\n",
       " '\\x04\\x05\\x05\\x00\\x04\\x00\\x01\\x03\\x03\\x01\\x03\\x04',\n",
       " '\\x04\\x05\\x03\\x08\\x08\\x04\\x02\\x02\\x08\\x04\\x02\\x08\\x05\\x07\\x06\\x08\\x02',\n",
       " '\\x07\\x02\\x06\\x03\\x02\\x00\\x05\\x05\\x01\\x04\\x08\\x00\\x06\\x07\\x02\\x07\\x03\\x01\\x01\\x00\\x04\\x04\\x02\\x06\\x03\\x08\\x03\\x06\\x03\\x03\\x00\\x00\\x00\\x03\\x05\\x07\\x02\\x00\\x08\\x01\\x07',\n",
       " '\\x02\\x00\\x02\\x05\\x01\\x01\\x04\\x03\\x07\\x01\\x07\\x07\\x05\\x07\\x03',\n",
       " '\\x03\\x07',\n",
       " '\\x07\\x07\\x04\\x00\\x08\\x08\\x01\\x01\\x08\\x04\\x02\\x02\\x07\\x01\\x02\\x06\\x07\\x02\\x08\\x04\\x04\\x00\\x04\\x03\\x03',\n",
       " '\\x00\\x08\\x02\\x03\\x08\\x03\\x07\\x00\\x07\\x03\\x00\\x06\\x06',\n",
       " '',\n",
       " '\\x02\\x06\\x05\\x03\\x06\\x07\\x01',\n",
       " '\\x08\\x00\\x08\\x06\\x08\\x07\\x00\\x02\\x01\\x00\\x05\\x00\\x04\\x06\\x08\\x02\\x07\\x02',\n",
       " '\\x07',\n",
       " '\\x00\\x08\\x05\\x03\\x06\\x06\\x05\\x00\\x05\\x00\\x06\\x00',\n",
       " '\\x06\\x01\\x01\\x03\\x02\\x03\\x04\\x07\\x02\\x08\\x03\\x00\\x02\\x03\\x06\\x05\\x06',\n",
       " '',\n",
       " '\\x05\\x07\\x03\\x04\\x00\\x03\\x01\\x06\\x08\\x02\\x03\\x08',\n",
       " '',\n",
       " '\\x08\\x05\\x04\\x05\\x03\\x00\\x07\\x05\\x02\\x03\\x06\\x08\\x01\\x08\\x00\\x06\\x06\\x00\\x06\\x02\\x03\\x08\\x08\\x07\\x06\\x02\\x00\\x04',\n",
       " '',\n",
       " '\\x02\\x05\\x00\\x08\\x04\\x04\\x06\\x02\\x02\\x05\\x06\\x01\\x04\\x03\\x07\\x01\\x00\\x07\\x01',\n",
       " '\\x03\\x05\\x06\\x08\\x07',\n",
       " '\\x08\\x03\\x05\\x02\\x05\\x05\\x02',\n",
       " '\\x01\\x01',\n",
       " '\\x07\\x03\\x05\\x06\\x00',\n",
       " '\\x02\\x00\\x05\\x05\\x02\\x08\\x06\\x03\\x03\\x08\\x03\\x08\\x04\\x07\\x07\\x00\\x08\\x02\\x04',\n",
       " '\\x01\\x01\\x02\\x01\\x05\\x05\\x06\\x07\\x07\\x03\\x04\\x04\\x08\\x08\\x00\\x08\\x08\\x07\\x08',\n",
       " '\\x04\\x01\\x04\\x00',\n",
       " '\\x00\\x03\\x00\\x03\\x04\\x05\\x01\\x07\\x05\\x05\\x03',\n",
       " '\\x01\\x05\\x01\\x03\\x04\\x05\\x00\\x04\\x04\\x00\\x02\\x04\\x02\\x05\\x01\\x08\\x00\\x06\\x04\\x05\\x01\\x07\\x01\\x07',\n",
       " '\\x04',\n",
       " '\\x00\\x01\\x04\\x08\\x01',\n",
       " '\\x04\\x02\\x06\\x06\\x00\\x02\\x06',\n",
       " '\\x07\\x07',\n",
       " '\\x04\\x08\\x06\\x05\\x08',\n",
       " '\\x05',\n",
       " '\\x06\\x00\\x03\\x05\\x01\\x06\\x01\\x02\\x02\\x07\\x07\\x03\\x04\\x05',\n",
       " '\\x00\\x02\\x06\\x04\\x06\\x02',\n",
       " '\\x00\\x05\\x02\\x00\\x06\\x04\\x01',\n",
       " '\\x01\\x07\\x06\\x05\\x02\\x01\\x06\\x01\\x07',\n",
       " '\\x00\\x02\\x05\\x05\\x08\\x08\\x03',\n",
       " '\\x00\\x01\\x02\\x08\\x07\\x01',\n",
       " '\\x01\\x07\\x03\\x08',\n",
       " '\\x07\\x05',\n",
       " '\\x06\\x06\\x03\\x03',\n",
       " '\\x06\\x05',\n",
       " '\\x02\\x04\\x03\\x08\\x06\\x08',\n",
       " '\\x08\\x00\\x02\\x08',\n",
       " '\\x06\\x02\\x04\\x03\\x02',\n",
       " '\\x05\\x00',\n",
       " '\\x02\\x05\\x00\\x00\\x01\\x05\\x03\\x00\\x07\\x04',\n",
       " '\\x06\\x03\\x03\\x00',\n",
       " '\\x00\\x00\\x01',\n",
       " '\\x04\\x00\\x05\\x00\\x03\\x03',\n",
       " '\\x00\\x08\\x03\\x06\\x06\\x02',\n",
       " '\\x02\\x02\\x04\\x07\\x07\\x04',\n",
       " '\\x05\\x05\\x04\\x05\\x03\\x06\\x01\\x05\\x04\\x05\\x06\\x02\\x02\\x06',\n",
       " '\\x05\\x00\\x01\\x07',\n",
       " '\\x07\\x02\\x06\\x04\\x05',\n",
       " '\\x01',\n",
       " '\\x03\\x08\\x05\\x02\\x04',\n",
       " '\\x03\\x04',\n",
       " '\\x00',\n",
       " '\\x01\\x05\\x03\\x08\\x08\\x01\\x06\\x07',\n",
       " '\\x05\\x04\\x03\\x00\\x07\\x00\\x07\\x01\\x08\\x01\\x00',\n",
       " '\\x08\\x05\\x02',\n",
       " '\\x07\\x00\\x01\\x02\\x04',\n",
       " '\\x04',\n",
       " '\\x05\\x05\\x01\\x05\\x04\\x02\\x02\\x01\\x07\\x02\\x07\\x03\\x03\\x08',\n",
       " '',\n",
       " '\\x07\\x06\\x06\\x08\\x07\\x05\\x00\\x06\\x04\\x02\\x01',\n",
       " '\\x07\\x04\\x08\\x02\\x05\\x07',\n",
       " '\\x06\\x05\\x02\\x02\\x03\\x04\\x04\\x01\\x05',\n",
       " '\\x02\\x02\\x01\\x07\\x00\\x04\\x07\\x02\\x05\\x03\\x06\\x04\\x05\\x02\\x08',\n",
       " '\\x01\\x02\\x01\\x02\\x05\\x08\\x02\\x05\\x03\\x08\\x05',\n",
       " '\\x07\\x01\\x00\\x08\\x08\\x06\\x01\\x01\\x04',\n",
       " '\\x01\\x03\\x05\\x05\\x04\\x05\\x07\\x06\\x04\\x06\\x05',\n",
       " '\\x02\\x06\\x03\\x04\\x06\\x06\\x01\\x08\\x03\\x03',\n",
       " '\\x03',\n",
       " '\\x01\\x07\\x04\\x05\\x06\\x00',\n",
       " '\\x01\\x01\\x02\\x02\\x01\\x07\\x08\\x03\\x08\\x03\\x03\\x00\\x06',\n",
       " '\\x08\\x06\\x01\\x07\\x02\\x08\\x03\\x08\\x01\\x05\\x00\\x06\\x05\\x06\\x01\\x07\\x05\\x08\\x08',\n",
       " '\\x07\\x07',\n",
       " '\\x05',\n",
       " '\\x04\\x05\\x03',\n",
       " '\\x00\\x05\\x08\\x01\\x00\\x08\\x06\\x07\\x05\\x00\\x04\\x00',\n",
       " '\\x00\\x06\\x06\\x04\\x01\\x06\\x01\\x05\\x00\\x04\\x04\\x02\\x02\\x05\\x05',\n",
       " '\\x03\\x04\\x04\\x07\\x04\\x02\\x07\\x07\\x01\\x08\\x07\\x06\\x04\\x03\\x01\\x07\\x06\\x02\\x02\\x04\\x01\\x05\\x07\\x01\\x03\\x06\\x01\\x07\\x01\\x03\\x07\\x00\\x03\\x07\\x00\\x07\\x05\\x01',\n",
       " '\\x01\\x01\\x00\\x07\\x08\\x05',\n",
       " '',\n",
       " '\\x04\\x00\\x04\\x07\\x08\\x08\\x08\\x01\\x06\\x00\\x06\\x07\\x01\\x04\\x07\\x07\\x08\\x06',\n",
       " '\\x01\\x06\\x02\\x03\\x03\\x01',\n",
       " '\\x06\\x02\\x03\\x01\\x05\\x02\\x05',\n",
       " '\\x06\\x03',\n",
       " '\\x05\\x05\\x00\\x03\\x07\\x02\\x07\\x06\\x05\\x06',\n",
       " '\\x00\\x07\\x01',\n",
       " '\\x00\\x00\\x02\\x02\\x07',\n",
       " '\\x01\\x01\\x03',\n",
       " '\\x07\\x05\\x03\\x06\\x06\\x02\\x00\\x08\\x02\\x07\\x07\\x03\\x08\\x01\\x08\\x05',\n",
       " '',\n",
       " '\\x02\\x01\\x03\\x03\\x05\\x06',\n",
       " '\\x01\\x06\\x04',\n",
       " '\\x04\\x03\\x04',\n",
       " '\\x07\\x00\\x01\\x00\\x04\\x08',\n",
       " '\\x08\\x05\\x06\\x01\\x04\\x03\\x07\\x01\\x07\\x06\\x07\\x06\\x06\\x08\\x03\\x07\\x08\\x08',\n",
       " '\\x02\\x00\\x00\\x00\\x00\\x08\\x07\\x00',\n",
       " '\\x06\\x06\\x06\\x06\\x06\\x05',\n",
       " '\\x07\\x07\\x06\\x01\\x01\\x02\\x00\\x08\\x07\\x00\\x05\\x04\\x08\\x05\\x02',\n",
       " '\\x08\\x06\\x03\\x06\\x05\\x05\\x07\\x08\\x08\\x03\\x04\\x03\\x00\\x02\\x08\\x08\\x02\\x07\\x01\\x04\\x07\\x01\\x01\\x05',\n",
       " '\\x06\\x07\\x03\\x01\\x06\\x08\\x00\\x07\\x00\\x06\\x00',\n",
       " '\\x06\\x07\\x07\\x03\\x04',\n",
       " '\\x04',\n",
       " '\\x04\\x00\\x06\\x02\\x01\\x02\\x05\\x02\\x07\\x06\\x02\\x05',\n",
       " '\\x08\\x00\\x00\\x04\\x07\\x00\\x02\\x06\\x01\\x02\\x03\\x00\\x05\\x08\\x05\\x00\\x03\\x06\\x00',\n",
       " '\\x06\\x06\\x01\\x02\\x08\\x08\\x07\\x05\\x05\\x07\\x07\\x07\\x00\\x00\\x03\\x08\\x04\\x05\\x02\\x05\\x07\\x07\\x05\\x07',\n",
       " '\\x03\\x00\\x07\\x00\\x05\\x08\\x02\\x05\\x05\\x04\\x00\\x06\\x06\\x08\\x02\\x06\\x07\\x03\\x02\\x07',\n",
       " '\\x08\\x03\\x01\\x06\\x07\\x04\\x00\\x08\\x04',\n",
       " '\\x02\\x08\\x06\\x06\\x08',\n",
       " '\\x08\\x03\\x02\\x07\\x00\\x03\\x00\\x01\\x08\\x02',\n",
       " '\\x02\\x00\\x06\\x05\\x06\\x03',\n",
       " '\\x07\\x06\\x00\\x07\\x05\\x06\\x04\\x00',\n",
       " '\\x06\\x03\\x05\\x06\\x03\\x05\\x00\\x05\\x04\\x02',\n",
       " '\\x07\\x02\\x01\\x06\\x07\\x03\\x03',\n",
       " '\\x00\\x06\\x01\\x06\\x08\\x02\\x06\\x06\\x04\\x02\\x00\\x02\\x04\\x07\\x06\\x04\\x06\\x01\\x05\\x04\\x07\\x01\\x01\\x02\\x02\\x03\\x03\\x08\\x00\\x08\\x03\\x05\\x04\\x07\\x00\\x01\\x05\\x05\\x03',\n",
       " '\\x03\\x00\\x01\\x02\\x03\\x01\\x08\\x04\\x03\\x00\\x02\\x08',\n",
       " '\\x08\\x06\\x01\\x06\\x03\\x05\\x06\\x05\\x07\\x07',\n",
       " '\\x01\\x02\\x07\\x02\\x00\\x01\\x01\\x02\\x01\\x05\\x06\\x01\\x07',\n",
       " '\\x08\\x04',\n",
       " '\\x01',\n",
       " '\\x00',\n",
       " '\\x07\\x03\\x02',\n",
       " '\\x02\\x07\\x03\\x06\\x05\\x04\\x01\\x06\\x00\\x06\\x03\\x02\\x04\\x08\\x01\\x04\\x04\\x02\\x02\\x02\\x06\\x04\\x08\\x07\\x04\\x05\\x02\\x08\\x02\\x00',\n",
       " '\\x01\\x02\\x03\\x05\\x01\\x00\\x01\\x02',\n",
       " '\\x06\\x08\\x03\\x04\\x08\\x06\\x00\\x05\\x07\\x03\\x07\\x06\\x03\\x05\\x08\\x01',\n",
       " '\\x03\\x03\\x06\\x08\\x07\\x00\\x01\\x02\\x02\\x08\\x05\\x05\\x02\\x04\\x04\\x08\\x01\\x02',\n",
       " '',\n",
       " '\\x02\\x06\\x04\\x06\\x01',\n",
       " '\\x03\\x07\\x02\\x01\\x01\\x00\\x05\\x08\\x07\\x02\\x04',\n",
       " '\\x00\\x00\\x00\\x06\\x06\\x08\\x00\\x03\\x06\\x06\\x03\\x02\\x05\\x06\\x08',\n",
       " '\\x00\\x03\\x02\\x02\\x03\\x07\\x01\\x05\\x01\\x05\\x05\\x04\\x04\\x02',\n",
       " '',\n",
       " '\\x04\\x07\\x08\\x07\\x06\\x04\\x08',\n",
       " '\\x00\\x08\\x07\\x05',\n",
       " '\\x06\\x05\\x02\\x06\\x06\\x07\\x00\\x01\\x00\\x02\\x00\\x02\\x07',\n",
       " '\\x04\\x04\\x06\\x08\\x04\\x04\\x07\\x02\\x00\\x05\\x03\\x02\\x07\\x01\\x05\\x03\\x01\\x04\\x06',\n",
       " '\\x06\\x00\\x02',\n",
       " '\\x06\\x08\\x08',\n",
       " '\\x08\\x05\\x03\\x01\\x03',\n",
       " '\\x01\\x00',\n",
       " '\\x08\\x08\\x04\\x07',\n",
       " '\\x06\\x08',\n",
       " '\\x06\\x08\\x07\\x04\\x02\\x06\\x02\\x01\\x01\\x04\\x03',\n",
       " '\\x05\\x08',\n",
       " '\\x08\\x05\\x06',\n",
       " '\\x01\\x07\\x00\\x07\\x01\\x03\\x03\\x03\\x07\\x07',\n",
       " '\\x00\\x06\\x05\\x00\\x08\\x05\\x04\\x08\\x04\\x06\\x04\\x02\\x05\\x05\\x06\\x01',\n",
       " '\\x06\\x04\\x05\\x03\\x04\\x04\\x08\\x08\\x07',\n",
       " '\\x05\\x02\\x03\\x02\\x02\\x04\\x03\\x00',\n",
       " '\\x06\\x07\\x03\\x04\\x07\\x01\\x07\\x05\\x08\\x01\\x01\\x00\\x03\\x00\\x08\\x04\\x01\\x08\\x05\\x07\\x03\\x02\\x04\\x04\\x04\\x04\\x07',\n",
       " '\\x03\\x08\\x00\\x07\\x04\\x00\\x07\\x07\\x05\\x06\\x01\\x08\\x02\\x03\\x07\\x04\\x00\\x08\\x06\\x01',\n",
       " '\\x04\\x01\\x05',\n",
       " '\\x01\\x02\\x01\\x06\\x04\\x07\\x05\\x06\\x01\\x01\\x01\\x08\\x03',\n",
       " '\\x02\\x01',\n",
       " '\\x08\\x06\\x08\\x04\\x08\\x02\\x01\\x05\\x00\\x04\\x07\\x02\\x03',\n",
       " '\\x02\\x08\\x01\\x03',\n",
       " '\\x08\\x03\\x07',\n",
       " '\\x07\\x02\\x00\\x08\\x02\\x01\\x06\\x08\\x04\\x02\\x02\\x03\\x04\\x05\\x05\\x04\\x08\\x03\\x03\\x02\\x02\\x07\\x04\\x08\\x06\\x06\\x07\\x02\\x01\\x07\\x01\\x05\\x08\\x01\\x03\\x06\\x06\\x01\\x00\\x03\\x06\\x07',\n",
       " '\\x06\\x07\\x02\\x06\\x05\\x05\\x01\\x08\\x01\\x03\\x03\\x04',\n",
       " '\\x04\\x07\\x01',\n",
       " '\\x04\\x01',\n",
       " '\\x06\\x07\\x06\\x06\\x02\\x01\\x04\\x08\\x07',\n",
       " '',\n",
       " '\\x07\\x05\\x00\\x01\\x00\\x01',\n",
       " '\\x00\\x05\\x06\\x08',\n",
       " '\\x05\\x02',\n",
       " '\\x04\\x05',\n",
       " '\\x05\\x00\\x08\\x00\\x01\\x04\\x00\\x08\\x07\\x05\\x04\\x05\\x08\\x04\\x06\\x08\\x05\\x02\\x03\\x05\\x00\\x06\\x01\\x02\\x00\\x00\\x08\\x05',\n",
       " '\\x07\\x06\\x08\\x07\\x02\\x05\\x07\\x05\\x03\\x01\\x06\\x04\\x05\\x01',\n",
       " '\\x03\\x05',\n",
       " '\\x05\\x04',\n",
       " '\\x03\\x02\\x03\\x06\\x07\\x08\\x06\\x02\\x08\\x08\\x04',\n",
       " '\\x08\\x04\\x06\\x04\\x04\\x03\\x02\\x06\\x03\\x07\\x02',\n",
       " '',\n",
       " '\\x00\\x04\\x04\\x03\\x03\\x06\\x06\\x06\\x01\\x07\\x06\\x06\\x03\\x06\\x03\\x03',\n",
       " '\\x03\\x05\\x06\\x07\\x00\\x03\\x07\\x08\\x03\\x00\\x00\\x03\\x08\\x00\\x05\\x05\\x00',\n",
       " '\\x05\\x08',\n",
       " '\\x04',\n",
       " '\\x00\\x08\\x02\\x01\\x03\\x01\\x01\\x06\\x00\\x08\\x08\\x01\\x08',\n",
       " '',\n",
       " '\\x04\\x06\\x01\\x00\\x06\\x08\\x04\\x02\\x04\\x08',\n",
       " '\\x06\\x03\\x08',\n",
       " '\\x05\\x07\\x03\\x01\\x00\\x00\\x05\\x05\\x00\\x07\\x04\\x07\\x03\\x06\\x07',\n",
       " '\\x08\\x08\\x07',\n",
       " '',\n",
       " '\\x07\\x03',\n",
       " '\\x03\\x05',\n",
       " '\\x06',\n",
       " '\\x01\\x05\\x06\\x06\\x02\\x03\\x01\\x00\\x04\\x03',\n",
       " '\\x05\\x00\\x04\\x05\\x06\\x08\\x02\\x08',\n",
       " '\\x05\\x06\\x05\\x01\\x02\\x04\\x07\\x02\\x07\\x00\\x04\\x04',\n",
       " '\\x01\\x06\\x02\\x04\\x04\\x04\\x02',\n",
       " '\\x04\\x05\\x04\\x02\\x05\\x03\\x01\\x02\\x05\\x02\\x04\\x08\\x07\\x08\\x06\\x05\\x03\\x05\\x07\\x08\\x07\\x06\\x06\\x05\\x05\\x00\\x02\\x00\\x07\\x08\\x07\\x07\\x05\\x06\\x00\\x07\\x07',\n",
       " '\\x03\\x06',\n",
       " '\\x02\\x05\\x08',\n",
       " '\\x06\\x07\\x00\\x07\\x01\\x02\\x02\\x03\\x08\\x06\\x04\\x06\\x00\\x03\\x05\\x05',\n",
       " '\\x08\\x06\\x07\\x02\\x05\\x02\\x02\\x04\\x00',\n",
       " '\\x02\\x07\\x03\\x00\\x02\\x06\\x04\\x05',\n",
       " '\\x06\\x06\\x03\\x08\\x04\\x07\\x04\\x04\\x00\\x08\\x03',\n",
       " '\\x00',\n",
       " '\\x04\\x06\\x07',\n",
       " '\\x04\\x02\\x02\\x07\\x00\\x08',\n",
       " '\\x03\\x02\\x08\\x08\\x02\\x00',\n",
       " '\\x02\\x06\\x04\\x01\\x04\\x05\\x04\\x03\\x03\\x07',\n",
       " '\\x05\\x03\\x00\\x01\\x06\\x08\\x02\\x08\\x06\\x05',\n",
       " '\\x04\\x07\\x08\\x03',\n",
       " '\\x06\\x07\\x01\\x08\\x00\\x01\\x02\\x03\\x01\\x02\\x04\\x05\\x06',\n",
       " '\\x04\\x04\\x07\\x06',\n",
       " '\\x08\\x06',\n",
       " '\\x03\\x00\\x02\\x02\\x02\\x07\\x02\\x04\\x03\\x07',\n",
       " '\\x08\\x05\\x04\\x03\\x02\\x08\\x02',\n",
       " '\\x04\\x03',\n",
       " '\\x08\\x08\\x06\\x02\\x07',\n",
       " '\\x08\\x03\\x01\\x00\\x02\\x08\\x05\\x04\\x04\\x01\\x00',\n",
       " '\\x02\\x06\\x08\\x06\\x05\\x03\\x03\\x00\\x06\\x07\\x08\\x01\\x00',\n",
       " '\\x01\\x02\\x08\\x06\\x03\\x06\\x07\\x06\\x02\\x03\\x08\\x06',\n",
       " '\\x08\\x02',\n",
       " '\\x02\\x08\\x06\\x02\\x06\\x04\\x01\\x05\\x06',\n",
       " '\\x05\\x04\\x02\\x02\\x02\\x00\\x07\\x05\\x02\\x03',\n",
       " '\\x08\\x07',\n",
       " '\\x00\\x00\\x00\\x07\\x08\\x07\\x01\\x03\\x05\\x01\\x06\\x08\\x08',\n",
       " '\\x04\\x06\\x02\\x03',\n",
       " '\\x06\\x05\\x07\\x04\\x01\\x03\\x00\\x01\\x03\\x08\\x00\\x05\\x05\\x08\\x01\\x02\\x07\\x07\\x05',\n",
       " '\\x02\\x07\\x00\\x01\\x08',\n",
       " '\\x06\\x06\\x07\\x01\\x06\\x01\\x07\\x00\\x02\\x04\\x04\\x05\\x04\\x01\\x00\\x05\\x00\\x08\\x07\\x04\\x00\\x03\\x03\\x08\\x00\\x02\\x05\\x07',\n",
       " '\\x01\\x07\\x01\\x03\\x00\\x07\\x08\\x04\\x08\\x03\\x07\\x02\\x08\\x04\\x00\\x04',\n",
       " '\\x08\\x04',\n",
       " '\\x06\\x01\\x00\\x02\\x01\\x04\\x04\\x01\\x03\\x04\\x08',\n",
       " '\\x01',\n",
       " '\\x04\\x07\\x05\\x03\\x08\\x05\\x06\\x05\\x06\\x05\\x00\\x06\\x07\\x08\\x07',\n",
       " '\\x04\\x05\\x03\\x02\\x03\\x07\\x01\\x02\\x02\\x07\\x04\\x08\\x03',\n",
       " '\\x02\\x02\\x04\\x06\\x05\\x04\\x07',\n",
       " '\\x02\\x01\\x00\\x01\\x02\\x03\\x06\\x05\\x04\\x08\\x08\\x08\\x01\\x03\\x01\\x02\\x02\\x04\\x00\\x06\\x07\\x02\\x05\\x03\\x02\\x01',\n",
       " '',\n",
       " '\\x00\\x00\\x04\\x02',\n",
       " '\\x08\\x08\\x03\\x08\\x07\\x01\\x07\\x06\\x05\\x06\\x05',\n",
       " '',\n",
       " '\\x06\\x08\\x01\\x04\\x02\\x07\\x04\\x04\\x01\\x05\\x05\\x03\\x06\\x01\\x08',\n",
       " '\\x01\\x02\\x06\\x00\\x07\\x06\\x04\\x02\\x04\\x08\\x04\\x01\\x08\\x03\\x00\\x03\\x06',\n",
       " '\\x06\\x04\\x04\\x01\\x01\\x06\\x03\\x02\\x04\\x07\\x02\\x01\\x08\\x02\\x04\\x03\\x06\\x04\\x08\\x02\\x00\\x07\\x04\\x06',\n",
       " '\\x07\\x04',\n",
       " '',\n",
       " '\\x03\\x08\\x04\\x07\\x03\\x01',\n",
       " '\\x04\\x00',\n",
       " '\\x04\\x00\\x02\\x00\\x08\\x07\\x00\\x07\\x00\\x06\\x00\\x03\\x06\\x06\\x04\\x06\\x05\\x04\\x06\\x08\\x03\\x01\\x03\\x03\\x05\\x00\\x06\\x00\\x03',\n",
       " '',\n",
       " '\\x08',\n",
       " '\\x01\\x02\\x08\\x07\\x04\\x00\\x05',\n",
       " '\\x03\\x00\\x03\\x06\\x02\\x07\\x01\\x07\\x07\\x07',\n",
       " '\\x00\\x02\\x08\\x04\\x04',\n",
       " '\\x01\\x06\\x02\\x07\\x07\\x07\\x02\\x00\\x00\\x08\\x07\\x03',\n",
       " '\\x04\\x02\\x02\\x05\\x04\\x08\\x03\\x02\\x06\\x07\\x03\\x02\\x07\\x02',\n",
       " '\\x01\\x05\\x06\\x00\\x00\\x03',\n",
       " '\\x03\\x05\\x08\\x04\\x03\\x00\\x00\\x04\\x01\\x04\\x07\\x06',\n",
       " '\\x02\\x02',\n",
       " '\\x05\\x01\\x03\\x07\\x04\\x00\\x06\\x06\\x01\\x05',\n",
       " '\\x02\\x06\\x04\\x05\\x05',\n",
       " '\\x03\\x07\\x05\\x03\\x07\\x00\\x00',\n",
       " '\\x08\\x05\\x03\\x02\\x05\\x08\\x04\\x02\\x07\\x05\\x07\\x08\\x08\\x00\\x05\\x00\\x02\\x05\\x03\\x06\\x01\\x03',\n",
       " '\\x07',\n",
       " '\\x00\\x04\\x07\\x04\\x01\\x05\\x04\\x06\\x04\\x03\\x06\\x04\\x06\\x02\\x03\\x00\\x01\\x00\\x01\\x06\\x05\\x00\\x04\\x01\\x07',\n",
       " '\\x04\\x05\\x08\\x06\\x07\\x03\\x08\\x05\\x04\\x00\\x06\\x07\\x06',\n",
       " '\\x08\\x08\\x05\\x07\\x07\\x08\\x00',\n",
       " '\\x06\\x01\\x00\\x01\\x02\\x01\\x07\\x06\\x05',\n",
       " '\\x06\\x02\\x06\\x06\\x06\\x02\\x05\\x03\\x08\\x04\\x03\\x00',\n",
       " '\\x01\\x02\\x00\\x00\\x04\\x07\\x03\\x04\\x04\\x04',\n",
       " '\\x04\\x06',\n",
       " '\\x02\\x04\\x04\\x07\\x03\\x03\\x01\\x07\\x02',\n",
       " '\\x00\\x05',\n",
       " '\\x06\\x07\\x08\\x00\\x01',\n",
       " '\\x08\\x04',\n",
       " '\\x05\\x05\\x03\\x08',\n",
       " '\\x06',\n",
       " '\\x04\\x01\\x01\\x03\\x07\\x08\\x03',\n",
       " '\\x02\\x02\\x05\\x06\\x05\\x00\\x06\\x04\\x01\\x08\\x00\\x07',\n",
       " '\\x08\\x03\\x02\\x04\\x05\\x00\\x08\\x06\\x04\\x01\\x03\\x07\\x08\\x00\\x07\\x03\\x03\\x06\\x00\\x07\\x01\\x06\\x00\\x04\\x01\\x04\\x01\\x07\\x02\\x02\\x04\\x00\\x07\\x08\\x00\\x01',\n",
       " '\\x05\\x05\\x06\\x04\\x08\\x00\\x02',\n",
       " '\\x05\\x07\\x07\\x04\\x03\\x08\\x03\\x06',\n",
       " '\\x06',\n",
       " '\\x00\\x06',\n",
       " '\\x04\\x00\\x06\\x03\\x05\\x00\\x01\\x03\\x02\\x03\\x08',\n",
       " '\\x07\\x05\\x04\\x06\\x07\\x01\\x08\\x01\\x06',\n",
       " '\\x04\\x05\\x00',\n",
       " '\\x01\\x05\\x04\\x02\\x04\\x02\\x02\\x03\\x01\\x01\\x08\\x05\\x06\\x02',\n",
       " '\\x08\\x05\\x02\\x02\\x06\\x01\\x06\\x03\\x03',\n",
       " '\\x05\\x08\\x07\\x00\\x08\\x08\\x03\\x00',\n",
       " '\\x05\\x01\\x06\\x08\\x06\\x08\\x06',\n",
       " '\\x06\\x01\\x08\\x04\\x02\\x05\\x01\\x02\\x05\\x04\\x02',\n",
       " '',\n",
       " '\\x05\\x07\\x00\\x04\\x00\\x01\\x00\\x02\\x03\\x00\\x06\\x05\\x01\\x05\\x05\\x07',\n",
       " '\\x00\\x08\\x02',\n",
       " '\\x03\\x03',\n",
       " '\\x05\\x03\\x08\\x02\\x01\\x07\\x03\\x03\\x00\\x08',\n",
       " '\\x00\\x07\\x04\\x03\\x07\\x03\\x02\\x08',\n",
       " '\\x03\\x02\\x02\\x05\\x05\\x01\\x07',\n",
       " '\\x01\\x06\\x05\\x04\\x01\\x01\\x03\\x08\\x03',\n",
       " '\\x08\\x06',\n",
       " '\\x07\\x07\\x08\\x04\\x04\\x05\\x00\\x00\\x08\\x02\\x06\\x05\\x03\\x08\\x02\\x00\\x06\\x03\\x00\\x04',\n",
       " '',\n",
       " '\\x00\\x01',\n",
       " '\\x06',\n",
       " '\\x07\\x07',\n",
       " '\\x07\\x00\\x03\\x04\\x06\\x06\\x02\\x08',\n",
       " '\\x00\\x05\\x01\\x03\\x00\\x04\\x04\\x07\\x04\\x05\\x04\\x07\\x04\\x08\\x04\\x01\\x03\\x07\\x08\\x00\\x00\\x03\\x08\\x04\\x05\\x06',\n",
       " '\\x01\\x00\\x07',\n",
       " '\\x06\\x03\\x02\\x03\\x02\\x08\\x06\\x02\\x01\\x06\\x01\\x01\\x02\\x01\\x06',\n",
       " '\\x06\\x01\\x06\\x05\\x08\\x06\\x07\\x03\\x07\\x06\\x00\\x05\\x07\\x01\\x05\\x03',\n",
       " '',\n",
       " '\\x00',\n",
       " '\\x03\\x03',\n",
       " '\\x05\\x06\\x08\\x05\\x07\\x00\\x02\\x03\\x07\\x00\\x02\\x04\\x07\\x08\\x08\\x02\\x05\\x00',\n",
       " '\\x04\\x01\\x04\\x00\\x01\\x04\\x01\\x00\\x08\\x06\\x02\\x03\\x01\\x07',\n",
       " '\\x01\\x00',\n",
       " '\\x00',\n",
       " '\\x02\\x07\\x00\\x05\\x07\\x00\\x04\\x00\\x02\\x06\\x08\\x00\\x05\\x08\\x04\\x04\\x02\\x01\\x07\\x03\\x08\\x01\\x07\\x04\\x04\\x06\\x05\\x04\\x04\\x02\\x05\\x04\\x06\\x07\\x01\\x00\\x00\\x02\\x08\\x02\\x03\\x04',\n",
       " '\\x04\\x08\\x04',\n",
       " '\\x08\\x05\\x03\\x06\\x07\\x07\\x03',\n",
       " '\\x00\\x02\\x02\\x07\\x02',\n",
       " '\\x01\\x03\\x01\\x02\\x00\\x07\\x02\\x03\\x05\\x02\\x05\\x00\\x05\\x08\\x06\\x01\\x05\\x07\\x08\\x07\\x06\\x04\\x03\\x08\\x03\\x04\\x06\\x05\\x07\\x07\\x08\\x06\\x03\\x08\\x05\\x00\\x05\\x02\\x00\\x05\\x07\\x05\\x04',\n",
       " '\\x07\\x00\\x03',\n",
       " '\\x02\\x00\\x07\\x02\\x07\\x02\\x03\\x01\\x06\\x01\\x04',\n",
       " '\\x02\\x02\\x08\\x03\\x06\\x00\\x07\\x08\\x07\\x00\\x08\\x07\\x05\\x06\\x01',\n",
       " '\\x05\\x05\\x07\\x06\\x05\\x02\\x04',\n",
       " '\\x08\\x02\\x03\\x01\\x00\\x06\\x02\\x06\\x02\\x01\\x06\\x05\\x02\\x07\\x00',\n",
       " '\\x05\\x05',\n",
       " '\\x06\\x02',\n",
       " '\\x03\\x07\\x03\\x05\\x08\\x05\\x05\\x05\\x03\\x02\\x05\\x00\\x07\\x01\\x00',\n",
       " '\\x07\\x03\\x00\\x01\\x04\\x04\\x01\\x07\\x07\\x00\\x08\\x06\\x02\\x00\\x07\\x06\\x08\\x08\\x06\\x04\\x00\\x07\\x05\\x04\\x02\\x03\\x02\\x07\\x00\\x03\\x08\\x02\\x02',\n",
       " '',\n",
       " '\\x02\\x03\\x08\\x03\\x04\\x07\\x02\\x02\\x05\\x03\\x02\\x07\\x04\\x08\\x02\\x00\\x04\\x04\\x05',\n",
       " '\\x05\\x05\\x08\\x00',\n",
       " '\\x07\\x04\\x01\\x01\\x02',\n",
       " '\\x03\\x04\\x07\\x07\\x05\\x08\\x04\\x02\\x01\\x01\\x06\\x05\\x08',\n",
       " '\\x06\\x03\\x00\\x07\\x02\\x03\\x04\\x06\\x07\\x04\\x02\\x08\\x07\\x04\\x04\\x06',\n",
       " '\\x01\\x01\\x07\\x06\\x01\\x06\\x03\\x03\\x06\\x01\\x00\\x08',\n",
       " '\\x03\\x07\\x07\\x04',\n",
       " '\\x07\\x03\\x04\\x03\\x04\\x08\\x08',\n",
       " '\\x05\\x04\\x03\\x04\\x01\\x06\\x08\\x02\\x06\\x08\\x08\\x01\\x06\\x00\\x07\\x00\\x06\\x02\\x02\\x08\\x02\\x02\\x06\\x03\\x01',\n",
       " '\\x06',\n",
       " '\\x06\\x08\\x02\\x03\\x05\\x05\\x04\\x07\\x03',\n",
       " '\\x02\\x07\\x00\\x00\\x07\\x04\\x06\\x08',\n",
       " '\\x01\\x04\\x03\\x07\\x07\\x00\\x05',\n",
       " '\\x07\\x05',\n",
       " '',\n",
       " '\\x03\\x01\\x07\\x00\\x02\\x01\\x07\\x06\\x06\\x01\\x06\\x07\\x00\\x03\\x08\\x04\\x08\\x07\\x02\\x03\\x04\\x06\\x08',\n",
       " '\\x03\\x05\\x04\\x01\\x07\\x08\\x00\\x04\\x07\\x07\\x06\\x04\\x02\\x04\\x08\\x00\\x08\\x01\\x00\\x05',\n",
       " '\\x03',\n",
       " '\\x05\\x08\\x05\\x06\\x04\\x05\\x02\\x05\\x08\\x03',\n",
       " '\\x01\\x08\\x03\\x06\\x02\\x06\\x00',\n",
       " '\\x00\\x07\\x08',\n",
       " '\\x00\\x03\\x00\\x07\\x07\\x00\\x01\\x03\\x02\\x03\\x04',\n",
       " '\\x05\\x04\\x08\\x08\\x01',\n",
       " '\\x08\\x00\\x04\\x02\\x04\\x06\\x03\\x06\\x02\\x04',\n",
       " '\\x05\\x01\\x08\\x00\\x03\\x06\\x01\\x03\\x02\\x06\\x02',\n",
       " '\\x07\\x04\\x02\\x02\\x00\\x03\\x02\\x08\\x05\\x04\\x05\\x05\\x06\\x01\\x03\\x08\\x01\\x04\\x03\\x05\\x05\\x06\\x06',\n",
       " '\\x05\\x03\\x01\\x00\\x02\\x08\\x03\\x07\\x01\\x03\\x04\\x06\\x07\\x00\\x02\\x06\\x01\\x03\\x07\\x03\\x01\\x01\\x06\\x00\\x05\\x05\\x01\\x00\\x05\\x05\\x00',\n",
       " '\\x05\\x05\\x07\\x00\\x07\\x01\\x06\\x03\\x03\\x08\\x05\\x00\\x00\\x03\\x08\\x08\\x00\\x03\\x05\\x05\\x00\\x02\\x04\\x02\\x02\\x00\\x04\\x05\\x03',\n",
       " '\\x04\\x01\\x02\\x04\\x07\\x06\\x07\\x02',\n",
       " '\\x03\\x00\\x08\\x01\\x02',\n",
       " '\\x08',\n",
       " '\\x00\\x03\\x06\\x03\\x05',\n",
       " '\\x05\\x08',\n",
       " '\\x03\\x08\\x01\\x04\\x00\\x08\\x02\\x01\\x04\\x05',\n",
       " '\\x03\\x06\\x06\\x06\\x07\\x02\\x08\\x05\\x07\\x02\\x05\\x03\\x08\\x06\\x03\\x02\\x01\\x06\\x02\\x06\\x03\\x03\\x01\\x06\\x04\\x05\\x03\\x06',\n",
       " '\\x05\\x02\\x02\\x00\\x06\\x05\\x06\\x04\\x01\\x07\\x05\\x01\\x06\\x05',\n",
       " '\\x00\\x08\\x03\\x05\\x03\\x05\\x03\\x01\\x03\\x07',\n",
       " '',\n",
       " ...]"
      ]
     },
     "execution_count": 82,
     "metadata": {},
     "output_type": "execute_result"
    }
   ],
   "source": [
    "# labels seem to be binary ASCII values separated by tabs (\\t)\n",
    "\n",
    "labs.split('\\t')"
   ]
  }
 ],
 "metadata": {
  "kernelspec": {
   "display_name": "Python 3 (ipykernel)",
   "language": "python",
   "name": "python3"
  },
  "language_info": {
   "codemirror_mode": {
    "name": "ipython",
    "version": 3
   },
   "file_extension": ".py",
   "mimetype": "text/x-python",
   "name": "python",
   "nbconvert_exporter": "python",
   "pygments_lexer": "ipython3",
   "version": "3.11.7"
  }
 },
 "nbformat": 4,
 "nbformat_minor": 5
}
