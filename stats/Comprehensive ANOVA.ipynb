{
 "cells": [
  {
   "cell_type": "code",
   "execution_count": 1,
   "id": "19feb502-c7d0-4c7c-babe-58990f3a14ff",
   "metadata": {
    "execution": {
     "iopub.execute_input": "2023-08-04T13:10:53.312405Z",
     "iopub.status.busy": "2023-08-04T13:10:53.312405Z",
     "iopub.status.idle": "2023-08-04T13:10:54.916542Z",
     "shell.execute_reply": "2023-08-04T13:10:54.916542Z",
     "shell.execute_reply.started": "2023-08-04T13:10:53.312405Z"
    }
   },
   "outputs": [],
   "source": [
    "import numpy as np\n",
    "import pandas as pd"
   ]
  },
  {
   "cell_type": "code",
   "execution_count": 16,
   "id": "10fd5dbc-a362-4eb4-ab44-51d8247004dd",
   "metadata": {
    "execution": {
     "iopub.execute_input": "2023-08-04T13:15:38.207728Z",
     "iopub.status.busy": "2023-08-04T13:15:38.207728Z",
     "iopub.status.idle": "2023-08-04T13:15:38.342740Z",
     "shell.execute_reply": "2023-08-04T13:15:38.342740Z",
     "shell.execute_reply.started": "2023-08-04T13:15:38.207728Z"
    }
   },
   "outputs": [],
   "source": [
    "data = pd.read_csv(\"./NY-ReportCards.csv\", na_values = 's').dropna(axis = 0)\n",
    "data = data.loc[data.SUBGROUP_NAME != \"All Students\", :]"
   ]
  },
  {
   "cell_type": "code",
   "execution_count": 17,
   "id": "f0af44a4-8090-41c8-b7cb-87a14ee0e956",
   "metadata": {
    "execution": {
     "iopub.execute_input": "2023-08-04T13:15:41.620156Z",
     "iopub.status.busy": "2023-08-04T13:15:41.620156Z",
     "iopub.status.idle": "2023-08-04T13:15:41.629375Z",
     "shell.execute_reply": "2023-08-04T13:15:41.629375Z",
     "shell.execute_reply.started": "2023-08-04T13:15:41.620156Z"
    }
   },
   "outputs": [
    {
     "data": {
      "text/plain": [
       "(59113, 7)"
      ]
     },
     "execution_count": 17,
     "metadata": {},
     "output_type": "execute_result"
    }
   ],
   "source": [
    "data.shape"
   ]
  },
  {
   "cell_type": "code",
   "execution_count": 20,
   "id": "d753e72b-cf02-4efd-b530-5e1e6b734d4c",
   "metadata": {
    "execution": {
     "iopub.execute_input": "2023-08-04T13:16:13.297439Z",
     "iopub.status.busy": "2023-08-04T13:16:13.297439Z",
     "iopub.status.idle": "2023-08-04T13:16:13.302275Z",
     "shell.execute_reply": "2023-08-04T13:16:13.302275Z",
     "shell.execute_reply.started": "2023-08-04T13:16:13.297439Z"
    }
   },
   "outputs": [
    {
     "data": {
      "text/plain": [
       "Index(['ENTITY_NAME', 'YEAR', 'SUBGROUP_NAME', 'ENROLLMENT', 'ABSENT_COUNT',\n",
       "       'ABSENT_RATE', 'SCHOOL_TYPE'],\n",
       "      dtype='object')"
      ]
     },
     "execution_count": 20,
     "metadata": {},
     "output_type": "execute_result"
    }
   ],
   "source": [
    "data.columns"
   ]
  },
  {
   "cell_type": "code",
   "execution_count": 22,
   "id": "b4bd5295-7d21-44ba-bb35-4c25a8da887e",
   "metadata": {
    "execution": {
     "iopub.execute_input": "2023-08-04T13:17:17.706817Z",
     "iopub.status.busy": "2023-08-04T13:17:17.706817Z",
     "iopub.status.idle": "2023-08-04T13:17:17.724885Z",
     "shell.execute_reply": "2023-08-04T13:17:17.724246Z",
     "shell.execute_reply.started": "2023-08-04T13:17:17.706817Z"
    }
   },
   "outputs": [
    {
     "data": {
      "text/html": [
       "<div>\n",
       "<style scoped>\n",
       "    .dataframe tbody tr th:only-of-type {\n",
       "        vertical-align: middle;\n",
       "    }\n",
       "\n",
       "    .dataframe tbody tr th {\n",
       "        vertical-align: top;\n",
       "    }\n",
       "\n",
       "    .dataframe thead th {\n",
       "        text-align: right;\n",
       "    }\n",
       "</style>\n",
       "<table border=\"1\" class=\"dataframe\">\n",
       "  <thead>\n",
       "    <tr style=\"text-align: right;\">\n",
       "      <th></th>\n",
       "      <th></th>\n",
       "      <th>ABSENT_RATE</th>\n",
       "    </tr>\n",
       "    <tr>\n",
       "      <th>SUBGROUP_NAME</th>\n",
       "      <th>YEAR</th>\n",
       "      <th></th>\n",
       "    </tr>\n",
       "  </thead>\n",
       "  <tbody>\n",
       "    <tr>\n",
       "      <th rowspan=\"2\" valign=\"top\">American Indian or Alaska Native</th>\n",
       "      <th>2021</th>\n",
       "      <td>38.422353</td>\n",
       "    </tr>\n",
       "    <tr>\n",
       "      <th>2022</th>\n",
       "      <td>48.421176</td>\n",
       "    </tr>\n",
       "    <tr>\n",
       "      <th rowspan=\"2\" valign=\"top\">Asian or Native Hawaiian/Other Pacific Islander</th>\n",
       "      <th>2021</th>\n",
       "      <td>12.999236</td>\n",
       "    </tr>\n",
       "    <tr>\n",
       "      <th>2022</th>\n",
       "      <td>20.924327</td>\n",
       "    </tr>\n",
       "    <tr>\n",
       "      <th rowspan=\"2\" valign=\"top\">Black or African American</th>\n",
       "      <th>2021</th>\n",
       "      <td>36.356946</td>\n",
       "    </tr>\n",
       "    <tr>\n",
       "      <th>2022</th>\n",
       "      <td>44.312947</td>\n",
       "    </tr>\n",
       "    <tr>\n",
       "      <th rowspan=\"2\" valign=\"top\">Economically Disadvantaged</th>\n",
       "      <th>2021</th>\n",
       "      <td>30.699142</td>\n",
       "    </tr>\n",
       "    <tr>\n",
       "      <th>2022</th>\n",
       "      <td>40.224123</td>\n",
       "    </tr>\n",
       "    <tr>\n",
       "      <th rowspan=\"2\" valign=\"top\">English Language Learner</th>\n",
       "      <th>2021</th>\n",
       "      <td>31.875331</td>\n",
       "    </tr>\n",
       "    <tr>\n",
       "      <th>2022</th>\n",
       "      <td>37.094688</td>\n",
       "    </tr>\n",
       "    <tr>\n",
       "      <th rowspan=\"2\" valign=\"top\">Hispanic or Latino</th>\n",
       "      <th>2021</th>\n",
       "      <td>30.650966</td>\n",
       "    </tr>\n",
       "    <tr>\n",
       "      <th>2022</th>\n",
       "      <td>40.786109</td>\n",
       "    </tr>\n",
       "    <tr>\n",
       "      <th rowspan=\"2\" valign=\"top\">Multiracial</th>\n",
       "      <th>2021</th>\n",
       "      <td>26.333362</td>\n",
       "    </tr>\n",
       "    <tr>\n",
       "      <th>2022</th>\n",
       "      <td>32.348983</td>\n",
       "    </tr>\n",
       "    <tr>\n",
       "      <th rowspan=\"2\" valign=\"top\">Students with Disabilities</th>\n",
       "      <th>2021</th>\n",
       "      <td>30.868506</td>\n",
       "    </tr>\n",
       "    <tr>\n",
       "      <th>2022</th>\n",
       "      <td>40.325484</td>\n",
       "    </tr>\n",
       "    <tr>\n",
       "      <th rowspan=\"2\" valign=\"top\">White</th>\n",
       "      <th>2021</th>\n",
       "      <td>17.001248</td>\n",
       "    </tr>\n",
       "    <tr>\n",
       "      <th>2022</th>\n",
       "      <td>25.307869</td>\n",
       "    </tr>\n",
       "  </tbody>\n",
       "</table>\n",
       "</div>"
      ],
      "text/plain": [
       "                                                      ABSENT_RATE\n",
       "SUBGROUP_NAME                                   YEAR             \n",
       "American Indian or Alaska Native                2021    38.422353\n",
       "                                                2022    48.421176\n",
       "Asian or Native Hawaiian/Other Pacific Islander 2021    12.999236\n",
       "                                                2022    20.924327\n",
       "Black or African American                       2021    36.356946\n",
       "                                                2022    44.312947\n",
       "Economically Disadvantaged                      2021    30.699142\n",
       "                                                2022    40.224123\n",
       "English Language Learner                        2021    31.875331\n",
       "                                                2022    37.094688\n",
       "Hispanic or Latino                              2021    30.650966\n",
       "                                                2022    40.786109\n",
       "Multiracial                                     2021    26.333362\n",
       "                                                2022    32.348983\n",
       "Students with Disabilities                      2021    30.868506\n",
       "                                                2022    40.325484\n",
       "White                                           2021    17.001248\n",
       "                                                2022    25.307869"
      ]
     },
     "execution_count": 22,
     "metadata": {},
     "output_type": "execute_result"
    }
   ],
   "source": [
    "data.groupby([\"SUBGROUP_NAME\", \"YEAR\"]).aggregate({\"ABSENT_RATE\": np.mean})"
   ]
  }
 ],
 "metadata": {
  "kernelspec": {
   "display_name": "Python 3 (ipykernel)",
   "language": "python",
   "name": "python3"
  },
  "language_info": {
   "codemirror_mode": {
    "name": "ipython",
    "version": 3
   },
   "file_extension": ".py",
   "mimetype": "text/x-python",
   "name": "python",
   "nbconvert_exporter": "python",
   "pygments_lexer": "ipython3",
   "version": "3.11.4"
  }
 },
 "nbformat": 4,
 "nbformat_minor": 5
}
