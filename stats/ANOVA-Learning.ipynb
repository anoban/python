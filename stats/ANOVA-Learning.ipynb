{
 "cells": [
  {
   "cell_type": "code",
   "execution_count": 1,
   "id": "48856667-5afd-40a0-adcf-e6741591996f",
   "metadata": {
    "execution": {
     "iopub.execute_input": "2023-07-13T11:48:12.972681Z",
     "iopub.status.busy": "2023-07-13T11:48:12.972681Z",
     "iopub.status.idle": "2023-07-13T11:48:14.255758Z",
     "shell.execute_reply": "2023-07-13T11:48:14.255758Z",
     "shell.execute_reply.started": "2023-07-13T11:48:12.972681Z"
    }
   },
   "outputs": [],
   "source": [
    "import pandas as pd\n",
    "import numpy as np\n",
    "import matplotlib.pyplot as plt\n",
    "from scipy.stats import f"
   ]
  },
  {
   "cell_type": "code",
   "execution_count": 2,
   "id": "a748df37-cfc0-44ed-b37e-d6539a54d1f5",
   "metadata": {
    "execution": {
     "iopub.execute_input": "2023-07-13T11:48:14.754059Z",
     "iopub.status.busy": "2023-07-13T11:48:14.754059Z",
     "iopub.status.idle": "2023-07-13T11:48:14.759405Z",
     "shell.execute_reply": "2023-07-13T11:48:14.758362Z",
     "shell.execute_reply.started": "2023-07-13T11:48:14.754059Z"
    }
   },
   "outputs": [],
   "source": [
    "# Following the turtorial @ https://bioinformatics-core-shared-training.github.io/linear-models-r/anova.html\n",
    "# In Python though!"
   ]
  },
  {
   "cell_type": "code",
   "execution_count": 3,
   "id": "b2c5b260-fda1-41da-af5d-0fa951222da0",
   "metadata": {
    "execution": {
     "iopub.execute_input": "2023-07-13T11:48:15.074198Z",
     "iopub.status.busy": "2023-07-13T11:48:15.074198Z",
     "iopub.status.idle": "2023-07-13T11:48:15.140271Z",
     "shell.execute_reply": "2023-07-13T11:48:15.140271Z",
     "shell.execute_reply.started": "2023-07-13T11:48:15.074198Z"
    }
   },
   "outputs": [],
   "source": [
    "diet = pd.read_csv(\"./anova-diet.csv\", index_col = 0, names = [\"gender\", \"age\", \"height\", \"diet_type\", \"initial_weight\", \"final_weight\"], header = 0)"
   ]
  },
  {
   "cell_type": "code",
   "execution_count": 4,
   "id": "79d83b2b-e39a-47f8-86fe-b361560087c4",
   "metadata": {
    "execution": {
     "iopub.execute_input": "2023-07-13T11:48:15.591907Z",
     "iopub.status.busy": "2023-07-13T11:48:15.591907Z",
     "iopub.status.idle": "2023-07-13T11:48:15.608074Z",
     "shell.execute_reply": "2023-07-13T11:48:15.608074Z",
     "shell.execute_reply.started": "2023-07-13T11:48:15.591907Z"
    }
   },
   "outputs": [
    {
     "data": {
      "text/html": [
       "<div>\n",
       "<style scoped>\n",
       "    .dataframe tbody tr th:only-of-type {\n",
       "        vertical-align: middle;\n",
       "    }\n",
       "\n",
       "    .dataframe tbody tr th {\n",
       "        vertical-align: top;\n",
       "    }\n",
       "\n",
       "    .dataframe thead th {\n",
       "        text-align: right;\n",
       "    }\n",
       "</style>\n",
       "<table border=\"1\" class=\"dataframe\">\n",
       "  <thead>\n",
       "    <tr style=\"text-align: right;\">\n",
       "      <th></th>\n",
       "      <th>gender</th>\n",
       "      <th>age</th>\n",
       "      <th>height</th>\n",
       "      <th>diet_type</th>\n",
       "      <th>initial_weight</th>\n",
       "      <th>final_weight</th>\n",
       "    </tr>\n",
       "  </thead>\n",
       "  <tbody>\n",
       "    <tr>\n",
       "      <th>1</th>\n",
       "      <td>Female</td>\n",
       "      <td>22</td>\n",
       "      <td>159</td>\n",
       "      <td>A</td>\n",
       "      <td>58</td>\n",
       "      <td>54.2</td>\n",
       "    </tr>\n",
       "    <tr>\n",
       "      <th>2</th>\n",
       "      <td>Female</td>\n",
       "      <td>46</td>\n",
       "      <td>192</td>\n",
       "      <td>A</td>\n",
       "      <td>60</td>\n",
       "      <td>54.0</td>\n",
       "    </tr>\n",
       "    <tr>\n",
       "      <th>3</th>\n",
       "      <td>Female</td>\n",
       "      <td>55</td>\n",
       "      <td>170</td>\n",
       "      <td>A</td>\n",
       "      <td>64</td>\n",
       "      <td>63.3</td>\n",
       "    </tr>\n",
       "    <tr>\n",
       "      <th>4</th>\n",
       "      <td>Female</td>\n",
       "      <td>33</td>\n",
       "      <td>171</td>\n",
       "      <td>A</td>\n",
       "      <td>64</td>\n",
       "      <td>61.1</td>\n",
       "    </tr>\n",
       "    <tr>\n",
       "      <th>5</th>\n",
       "      <td>Female</td>\n",
       "      <td>50</td>\n",
       "      <td>170</td>\n",
       "      <td>A</td>\n",
       "      <td>65</td>\n",
       "      <td>62.2</td>\n",
       "    </tr>\n",
       "  </tbody>\n",
       "</table>\n",
       "</div>"
      ],
      "text/plain": [
       "   gender  age  height diet_type  initial_weight  final_weight\n",
       "1  Female   22     159         A              58          54.2\n",
       "2  Female   46     192         A              60          54.0\n",
       "3  Female   55     170         A              64          63.3\n",
       "4  Female   33     171         A              64          61.1\n",
       "5  Female   50     170         A              65          62.2"
      ]
     },
     "execution_count": 4,
     "metadata": {},
     "output_type": "execute_result"
    }
   ],
   "source": [
    "diet.head()"
   ]
  },
  {
   "cell_type": "code",
   "execution_count": 5,
   "id": "de30d315-920f-4c1e-9a74-c7f09e932ae2",
   "metadata": {
    "execution": {
     "iopub.execute_input": "2023-07-13T11:48:16.015281Z",
     "iopub.status.busy": "2023-07-13T11:48:16.015281Z",
     "iopub.status.idle": "2023-07-13T11:48:16.026018Z",
     "shell.execute_reply": "2023-07-13T11:48:16.025006Z",
     "shell.execute_reply.started": "2023-07-13T11:48:16.015281Z"
    }
   },
   "outputs": [
    {
     "data": {
      "text/plain": [
       "(76, 6)"
      ]
     },
     "execution_count": 5,
     "metadata": {},
     "output_type": "execute_result"
    }
   ],
   "source": [
    "diet.shape"
   ]
  },
  {
   "cell_type": "code",
   "execution_count": 6,
   "id": "e23586b8-8642-42e5-8b33-6fb0b78705f2",
   "metadata": {
    "execution": {
     "iopub.execute_input": "2023-07-13T11:48:16.375107Z",
     "iopub.status.busy": "2023-07-13T11:48:16.375107Z",
     "iopub.status.idle": "2023-07-13T11:48:16.381616Z",
     "shell.execute_reply": "2023-07-13T11:48:16.381616Z",
     "shell.execute_reply.started": "2023-07-13T11:48:16.375107Z"
    }
   },
   "outputs": [],
   "source": [
    "# The data set contains information on 76 people who undertook one of three diets (referred to as diet A, B and C).\n",
    "# There is background information such as age, gender, and height. \n",
    "# The aim of the study was to see which diet was best for losing weight."
   ]
  },
  {
   "cell_type": "code",
   "execution_count": 7,
   "id": "8cd67ec4-526f-49d2-8c49-c4fb02506031",
   "metadata": {
    "execution": {
     "iopub.execute_input": "2023-07-13T11:48:16.682210Z",
     "iopub.status.busy": "2023-07-13T11:48:16.682210Z",
     "iopub.status.idle": "2023-07-13T11:48:16.703817Z",
     "shell.execute_reply": "2023-07-13T11:48:16.702727Z",
     "shell.execute_reply.started": "2023-07-13T11:48:16.682210Z"
    }
   },
   "outputs": [
    {
     "data": {
      "text/html": [
       "<div>\n",
       "<style scoped>\n",
       "    .dataframe tbody tr th:only-of-type {\n",
       "        vertical-align: middle;\n",
       "    }\n",
       "\n",
       "    .dataframe tbody tr th {\n",
       "        vertical-align: top;\n",
       "    }\n",
       "\n",
       "    .dataframe thead th {\n",
       "        text-align: right;\n",
       "    }\n",
       "</style>\n",
       "<table border=\"1\" class=\"dataframe\">\n",
       "  <thead>\n",
       "    <tr style=\"text-align: right;\">\n",
       "      <th></th>\n",
       "      <th>gender</th>\n",
       "      <th>age</th>\n",
       "      <th>height</th>\n",
       "      <th>diet_type</th>\n",
       "      <th>initial_weight</th>\n",
       "      <th>final_weight</th>\n",
       "      <th>wloss</th>\n",
       "    </tr>\n",
       "  </thead>\n",
       "  <tbody>\n",
       "    <tr>\n",
       "      <th>1</th>\n",
       "      <td>Female</td>\n",
       "      <td>22</td>\n",
       "      <td>159</td>\n",
       "      <td>A</td>\n",
       "      <td>58</td>\n",
       "      <td>54.2</td>\n",
       "      <td>3.8</td>\n",
       "    </tr>\n",
       "    <tr>\n",
       "      <th>2</th>\n",
       "      <td>Female</td>\n",
       "      <td>46</td>\n",
       "      <td>192</td>\n",
       "      <td>A</td>\n",
       "      <td>60</td>\n",
       "      <td>54.0</td>\n",
       "      <td>6.0</td>\n",
       "    </tr>\n",
       "    <tr>\n",
       "      <th>3</th>\n",
       "      <td>Female</td>\n",
       "      <td>55</td>\n",
       "      <td>170</td>\n",
       "      <td>A</td>\n",
       "      <td>64</td>\n",
       "      <td>63.3</td>\n",
       "      <td>0.7</td>\n",
       "    </tr>\n",
       "    <tr>\n",
       "      <th>4</th>\n",
       "      <td>Female</td>\n",
       "      <td>33</td>\n",
       "      <td>171</td>\n",
       "      <td>A</td>\n",
       "      <td>64</td>\n",
       "      <td>61.1</td>\n",
       "      <td>2.9</td>\n",
       "    </tr>\n",
       "    <tr>\n",
       "      <th>5</th>\n",
       "      <td>Female</td>\n",
       "      <td>50</td>\n",
       "      <td>170</td>\n",
       "      <td>A</td>\n",
       "      <td>65</td>\n",
       "      <td>62.2</td>\n",
       "      <td>2.8</td>\n",
       "    </tr>\n",
       "    <tr>\n",
       "      <th>...</th>\n",
       "      <td>...</td>\n",
       "      <td>...</td>\n",
       "      <td>...</td>\n",
       "      <td>...</td>\n",
       "      <td>...</td>\n",
       "      <td>...</td>\n",
       "      <td>...</td>\n",
       "    </tr>\n",
       "    <tr>\n",
       "      <th>74</th>\n",
       "      <td>Male</td>\n",
       "      <td>35</td>\n",
       "      <td>183</td>\n",
       "      <td>C</td>\n",
       "      <td>83</td>\n",
       "      <td>80.2</td>\n",
       "      <td>2.8</td>\n",
       "    </tr>\n",
       "    <tr>\n",
       "      <th>75</th>\n",
       "      <td>Male</td>\n",
       "      <td>49</td>\n",
       "      <td>177</td>\n",
       "      <td>C</td>\n",
       "      <td>84</td>\n",
       "      <td>79.9</td>\n",
       "      <td>4.1</td>\n",
       "    </tr>\n",
       "    <tr>\n",
       "      <th>76</th>\n",
       "      <td>Male</td>\n",
       "      <td>28</td>\n",
       "      <td>164</td>\n",
       "      <td>C</td>\n",
       "      <td>85</td>\n",
       "      <td>79.7</td>\n",
       "      <td>5.3</td>\n",
       "    </tr>\n",
       "    <tr>\n",
       "      <th>77</th>\n",
       "      <td>Male</td>\n",
       "      <td>40</td>\n",
       "      <td>167</td>\n",
       "      <td>C</td>\n",
       "      <td>87</td>\n",
       "      <td>77.8</td>\n",
       "      <td>9.2</td>\n",
       "    </tr>\n",
       "    <tr>\n",
       "      <th>78</th>\n",
       "      <td>Male</td>\n",
       "      <td>51</td>\n",
       "      <td>175</td>\n",
       "      <td>C</td>\n",
       "      <td>88</td>\n",
       "      <td>81.9</td>\n",
       "      <td>6.1</td>\n",
       "    </tr>\n",
       "  </tbody>\n",
       "</table>\n",
       "<p>76 rows × 7 columns</p>\n",
       "</div>"
      ],
      "text/plain": [
       "    gender  age  height diet_type  initial_weight  final_weight  wloss\n",
       "1   Female   22     159         A              58          54.2    3.8\n",
       "2   Female   46     192         A              60          54.0    6.0\n",
       "3   Female   55     170         A              64          63.3    0.7\n",
       "4   Female   33     171         A              64          61.1    2.9\n",
       "5   Female   50     170         A              65          62.2    2.8\n",
       "..     ...  ...     ...       ...             ...           ...    ...\n",
       "74    Male   35     183         C              83          80.2    2.8\n",
       "75    Male   49     177         C              84          79.9    4.1\n",
       "76    Male   28     164         C              85          79.7    5.3\n",
       "77    Male   40     167         C              87          77.8    9.2\n",
       "78    Male   51     175         C              88          81.9    6.1\n",
       "\n",
       "[76 rows x 7 columns]"
      ]
     },
     "execution_count": 7,
     "metadata": {},
     "output_type": "execute_result"
    }
   ],
   "source": [
    "# Compute the weight loss\n",
    "\n",
    "diet.loc[:, \"wloss\"] = diet.initial_weight - diet.final_weight\n",
    "diet"
   ]
  },
  {
   "cell_type": "code",
   "execution_count": null,
   "id": "3e509d19-0029-490e-a788-a2ebe8457168",
   "metadata": {},
   "outputs": [],
   "source": []
  },
  {
   "cell_type": "code",
   "execution_count": 8,
   "id": "98b6eeed-2e5d-44b8-af58-5c2d35346051",
   "metadata": {
    "execution": {
     "iopub.execute_input": "2023-07-13T11:48:17.302949Z",
     "iopub.status.busy": "2023-07-13T11:48:17.302949Z",
     "iopub.status.idle": "2023-07-13T11:48:17.420217Z",
     "shell.execute_reply": "2023-07-13T11:48:17.420217Z",
     "shell.execute_reply.started": "2023-07-13T11:48:17.302949Z"
    }
   },
   "outputs": [
    {
     "data": {
      "image/png": "[encoded data removed]",
      "text/plain": [
       "<Figure size 640x480 with 1 Axes>"
      ]
     },
     "metadata": {},
     "output_type": "display_data"
    }
   ],
   "source": [
    "fig, axes = plt.subplots()\n",
    "axes.boxplot([diet.wloss[diet.diet_type == 'A'], diet.wloss[diet.diet_type == 'B'], diet.wloss[diet.diet_type == 'C']],\n",
    "            labels = ['A', 'B', 'C'], widths = 0.6)\n",
    "axes.set_xlabel(\"Diet\")\n",
    "axes.set_ylabel(\"Weight loss (kgs)\")\n",
    "plt.show()"
   ]
  },
  {
   "cell_type": "code",
   "execution_count": 9,
   "id": "2e5fc95b-7a9d-498e-98f9-66b420983280",
   "metadata": {
    "execution": {
     "iopub.execute_input": "2023-07-13T11:48:17.820739Z",
     "iopub.status.busy": "2023-07-13T11:48:17.820739Z",
     "iopub.status.idle": "2023-07-13T11:48:17.829259Z",
     "shell.execute_reply": "2023-07-13T11:48:17.829259Z",
     "shell.execute_reply.started": "2023-07-13T11:48:17.820739Z"
    }
   },
   "outputs": [],
   "source": [
    "# variance is given as,"
   ]
  },
  {
   "cell_type": "markdown",
   "id": "d825bc2b-f8d4-411d-a104-a4f5cd9f403d",
   "metadata": {},
   "source": [
    "# ___$v(x) = \\frac{\\sum{(x - \\bar{x})^2}}{n - 1}$___"
   ]
  },
  {
   "cell_type": "code",
   "execution_count": 10,
   "id": "a5cab58e-e2fd-4a10-b06f-3fa4f124cf07",
   "metadata": {
    "execution": {
     "iopub.execute_input": "2023-07-13T11:48:18.370757Z",
     "iopub.status.busy": "2023-07-13T11:48:18.370757Z",
     "iopub.status.idle": "2023-07-13T11:48:18.389667Z",
     "shell.execute_reply": "2023-07-13T11:48:18.389547Z",
     "shell.execute_reply.started": "2023-07-13T11:48:18.370757Z"
    }
   },
   "outputs": [],
   "source": [
    "# The numerator is called the sum of squared differences\n",
    "# Sum of squares total is,"
   ]
  },
  {
   "cell_type": "markdown",
   "id": "d280e3d4-3404-4d47-bc79-362268ffd56f",
   "metadata": {},
   "source": [
    "# ___$SST = \\sum{(x - \\bar{x})^2}$___"
   ]
  },
  {
   "cell_type": "code",
   "execution_count": 11,
   "id": "619a6696-164c-4a0a-b2a5-c78455eb0f10",
   "metadata": {
    "execution": {
     "iopub.execute_input": "2023-07-13T11:48:18.761663Z",
     "iopub.status.busy": "2023-07-13T11:48:18.761663Z",
     "iopub.status.idle": "2023-07-13T11:48:18.771268Z",
     "shell.execute_reply": "2023-07-13T11:48:18.770584Z",
     "shell.execute_reply.started": "2023-07-13T11:48:18.761663Z"
    }
   },
   "outputs": [
    {
     "data": {
      "text/plain": [
       "470.9288157894734"
      ]
     },
     "execution_count": 11,
     "metadata": {},
     "output_type": "execute_result"
    }
   ],
   "source": [
    "# First step in ANOVA is to cumpute the variability in our feature! i.e the numerator of the variance equation.\n",
    "\n",
    "sum((diet.wloss - diet.wloss.mean()) ** 2)"
   ]
  },
  {
   "cell_type": "code",
   "execution_count": 12,
   "id": "8c8e1a7c-825f-48f6-bf42-01c33d1f5f17",
   "metadata": {
    "execution": {
     "iopub.execute_input": "2023-07-13T11:48:18.949523Z",
     "iopub.status.busy": "2023-07-13T11:48:18.949523Z",
     "iopub.status.idle": "2023-07-13T11:48:18.978532Z",
     "shell.execute_reply": "2023-07-13T11:48:18.978532Z",
     "shell.execute_reply.started": "2023-07-13T11:48:18.949523Z"
    }
   },
   "outputs": [
    {
     "data": {
      "text/html": [
       "<div>\n",
       "<style scoped>\n",
       "    .dataframe tbody tr th:only-of-type {\n",
       "        vertical-align: middle;\n",
       "    }\n",
       "\n",
       "    .dataframe tbody tr th {\n",
       "        vertical-align: top;\n",
       "    }\n",
       "\n",
       "    .dataframe thead tr th {\n",
       "        text-align: left;\n",
       "    }\n",
       "\n",
       "    .dataframe thead tr:last-of-type th {\n",
       "        text-align: right;\n",
       "    }\n",
       "</style>\n",
       "<table border=\"1\" class=\"dataframe\">\n",
       "  <thead>\n",
       "    <tr>\n",
       "      <th></th>\n",
       "      <th colspan=\"8\" halign=\"left\">wloss</th>\n",
       "    </tr>\n",
       "    <tr>\n",
       "      <th></th>\n",
       "      <th>count</th>\n",
       "      <th>mean</th>\n",
       "      <th>std</th>\n",
       "      <th>min</th>\n",
       "      <th>25%</th>\n",
       "      <th>50%</th>\n",
       "      <th>75%</th>\n",
       "      <th>max</th>\n",
       "    </tr>\n",
       "    <tr>\n",
       "      <th>diet_type</th>\n",
       "      <th></th>\n",
       "      <th></th>\n",
       "      <th></th>\n",
       "      <th></th>\n",
       "      <th></th>\n",
       "      <th></th>\n",
       "      <th></th>\n",
       "      <th></th>\n",
       "    </tr>\n",
       "  </thead>\n",
       "  <tbody>\n",
       "    <tr>\n",
       "      <th>A</th>\n",
       "      <td>24.0</td>\n",
       "      <td>3.300000</td>\n",
       "      <td>2.240148</td>\n",
       "      <td>-0.6</td>\n",
       "      <td>1.975</td>\n",
       "      <td>3.05</td>\n",
       "      <td>3.95</td>\n",
       "      <td>9.0</td>\n",
       "    </tr>\n",
       "    <tr>\n",
       "      <th>B</th>\n",
       "      <td>25.0</td>\n",
       "      <td>3.268000</td>\n",
       "      <td>2.464535</td>\n",
       "      <td>-2.1</td>\n",
       "      <td>2.000</td>\n",
       "      <td>3.50</td>\n",
       "      <td>4.70</td>\n",
       "      <td>7.9</td>\n",
       "    </tr>\n",
       "    <tr>\n",
       "      <th>C</th>\n",
       "      <td>27.0</td>\n",
       "      <td>5.148148</td>\n",
       "      <td>2.395568</td>\n",
       "      <td>0.5</td>\n",
       "      <td>3.450</td>\n",
       "      <td>5.40</td>\n",
       "      <td>7.00</td>\n",
       "      <td>9.2</td>\n",
       "    </tr>\n",
       "  </tbody>\n",
       "</table>\n",
       "</div>"
      ],
      "text/plain": [
       "          wloss                                                 \n",
       "          count      mean       std  min    25%   50%   75%  max\n",
       "diet_type                                                       \n",
       "A          24.0  3.300000  2.240148 -0.6  1.975  3.05  3.95  9.0\n",
       "B          25.0  3.268000  2.464535 -2.1  2.000  3.50  4.70  7.9\n",
       "C          27.0  5.148148  2.395568  0.5  3.450  5.40  7.00  9.2"
      ]
     },
     "execution_count": 12,
     "metadata": {},
     "output_type": "execute_result"
    }
   ],
   "source": [
    "# Now, we'll consider the categories!\n",
    "\n",
    "diet.loc[:, [\"diet_type\", \"wloss\"]].groupby(\"diet_type\").describe()"
   ]
  },
  {
   "cell_type": "code",
   "execution_count": 13,
   "id": "f707129b-d43d-4f3a-9640-ac841ebda587",
   "metadata": {
    "execution": {
     "iopub.execute_input": "2023-07-13T11:48:19.107043Z",
     "iopub.status.busy": "2023-07-13T11:48:19.107043Z",
     "iopub.status.idle": "2023-07-13T11:48:19.125410Z",
     "shell.execute_reply": "2023-07-13T11:48:19.125410Z",
     "shell.execute_reply.started": "2023-07-13T11:48:19.107043Z"
    }
   },
   "outputs": [],
   "source": [
    "# There are considerable differences between the means of the three diet categories."
   ]
  },
  {
   "cell_type": "code",
   "execution_count": 14,
   "id": "8e53c635-87bf-4375-b1b4-e175267e4daf",
   "metadata": {
    "execution": {
     "iopub.execute_input": "2023-07-13T11:48:19.295144Z",
     "iopub.status.busy": "2023-07-13T11:48:19.295144Z",
     "iopub.status.idle": "2023-07-13T11:48:19.301396Z",
     "shell.execute_reply": "2023-07-13T11:48:19.301396Z",
     "shell.execute_reply.started": "2023-07-13T11:48:19.295144Z"
    }
   },
   "outputs": [],
   "source": [
    "# The question one way ANOVA asks is whether there's a difference between the three diet categories?\n",
    "\n",
    "# one way ANOVA splits the variation in the whole feature (SST) into SST within groups and SST between groups.\n",
    "# For the SST within A category,\n",
    "\n",
    "# Here, we sum the squares of differences between the values in category A and the mean of the values in category A.\n",
    "# That gives the variation within category A!"
   ]
  },
  {
   "cell_type": "markdown",
   "id": "d4a42338-fe24-4e5b-9e9a-89be7cb81600",
   "metadata": {},
   "source": [
    "# ___$SS_w = \\sum{(x_A - \\bar{x}_A)^2}$___"
   ]
  },
  {
   "cell_type": "code",
   "execution_count": 15,
   "id": "81902d52-80a3-4996-8104-6ee90c347208",
   "metadata": {
    "execution": {
     "iopub.execute_input": "2023-07-13T11:48:19.844602Z",
     "iopub.status.busy": "2023-07-13T11:48:19.844602Z",
     "iopub.status.idle": "2023-07-13T11:48:19.869831Z",
     "shell.execute_reply": "2023-07-13T11:48:19.869129Z",
     "shell.execute_reply.started": "2023-07-13T11:48:19.844602Z"
    }
   },
   "outputs": [
    {
     "data": {
      "text/plain": [
       "(115.41999999999989, 145.77440000000007, 149.20740740740726)"
      ]
     },
     "execution_count": 15,
     "metadata": {},
     "output_type": "execute_result"
    }
   ],
   "source": [
    "ssw_a = sum((diet.wloss[diet.diet_type == 'A'] - diet.wloss[diet.diet_type == 'A'].mean()) ** 2)\n",
    "ssw_b = sum((diet.wloss[diet.diet_type == 'B'] - diet.wloss[diet.diet_type == 'B'].mean()) ** 2)\n",
    "ssw_c = sum((diet.wloss[diet.diet_type == 'C'] - diet.wloss[diet.diet_type == 'C'].mean()) ** 2)\n",
    "\n",
    "ssw_a, ssw_b, ssw_c"
   ]
  },
  {
   "cell_type": "code",
   "execution_count": 16,
   "id": "6760d019-d734-436d-a3b7-01f050abf510",
   "metadata": {
    "execution": {
     "iopub.execute_input": "2023-07-13T11:48:20.205558Z",
     "iopub.status.busy": "2023-07-13T11:48:20.205558Z",
     "iopub.status.idle": "2023-07-13T11:48:20.223349Z",
     "shell.execute_reply": "2023-07-13T11:48:20.222211Z",
     "shell.execute_reply.started": "2023-07-13T11:48:20.205558Z"
    }
   },
   "outputs": [],
   "source": [
    "# For the SST between the three categories,\n",
    "# Here we sum the squares of differences between the means of each category and the mean of the feature as a whole, multiplied by the number\n",
    "# of values in that category!.\n",
    "\n",
    "# This gives the variation between the categories."
   ]
  },
  {
   "cell_type": "markdown",
   "id": "943e43dc-69f6-4bbc-813b-50b20c08fd49",
   "metadata": {},
   "source": [
    "# ___$SS_b = \\sum{n_{cat}(\\bar{x}_{cat} - \\hat{x}_{global})^2}$___"
   ]
  },
  {
   "cell_type": "code",
   "execution_count": 17,
   "id": "70ee8aea-5206-4c95-b5ec-413cecb10ec2",
   "metadata": {
    "execution": {
     "iopub.execute_input": "2023-07-13T11:48:20.879875Z",
     "iopub.status.busy": "2023-07-13T11:48:20.879875Z",
     "iopub.status.idle": "2023-07-13T11:48:20.901283Z",
     "shell.execute_reply": "2023-07-13T11:48:20.900115Z",
     "shell.execute_reply.started": "2023-07-13T11:48:20.879875Z"
    }
   },
   "outputs": [
    {
     "data": {
      "text/plain": [
       "(array([24, 25, 27], dtype=int64), array([3.3       , 3.268     , 5.14814815]))"
      ]
     },
     "execution_count": 17,
     "metadata": {},
     "output_type": "execute_result"
    }
   ],
   "source": [
    "glob_mean = diet.wloss.mean()\n",
    "\n",
    "mean_a = diet.wloss[diet.diet_type == 'A'].mean()\n",
    "mean_b = diet.wloss[diet.diet_type == 'B'].mean()\n",
    "mean_c = diet.wloss[diet.diet_type == 'C'].mean()\n",
    "\n",
    "na = sum(diet.diet_type == 'A')\n",
    "nb = sum(diet.diet_type == 'B')\n",
    "nc = sum(diet.diet_type == 'C')\n",
    "\n",
    "ncats = np.array([na, nb, nc], dtype = np.int64)\n",
    "catmeans = np.array([mean_a, mean_b, mean_c], dtype = np.float64)\n",
    "\n",
    "ncats, catmeans"
   ]
  },
  {
   "cell_type": "code",
   "execution_count": 18,
   "id": "6416824b-2b2c-406c-a9de-33b71fdca791",
   "metadata": {
    "execution": {
     "iopub.execute_input": "2023-07-13T11:48:21.225026Z",
     "iopub.status.busy": "2023-07-13T11:48:21.225026Z",
     "iopub.status.idle": "2023-07-13T11:48:21.241089Z",
     "shell.execute_reply": "2023-07-13T11:48:21.241089Z",
     "shell.execute_reply.started": "2023-07-13T11:48:21.225026Z"
    }
   },
   "outputs": [
    {
     "data": {
      "text/plain": [
       "60.527008382066214"
      ]
     },
     "execution_count": 18,
     "metadata": {},
     "output_type": "execute_result"
    }
   ],
   "source": [
    "# Sum of squares of the differences between the means of the categories and the global mean, multiplied by the category sizes.\n",
    "\n",
    "ssq_between = sum(ncats * ((catmeans - glob_mean) ** 2))\n",
    "ssq_between"
   ]
  },
  {
   "cell_type": "code",
   "execution_count": 19,
   "id": "58afeeff-0cd0-4ace-9fae-4e37502e9333",
   "metadata": {
    "execution": {
     "iopub.execute_input": "2023-07-13T11:48:21.632740Z",
     "iopub.status.busy": "2023-07-13T11:48:21.632740Z",
     "iopub.status.idle": "2023-07-13T11:48:21.642644Z",
     "shell.execute_reply": "2023-07-13T11:48:21.641638Z",
     "shell.execute_reply.started": "2023-07-13T11:48:21.632740Z"
    }
   },
   "outputs": [
    {
     "data": {
      "text/plain": [
       "410.4018074074072"
      ]
     },
     "execution_count": 19,
     "metadata": {},
     "output_type": "execute_result"
    }
   ],
   "source": [
    "# Sum of the sum of squares within each of the three categories.\n",
    "\n",
    "ssq_within = ssw_a + ssw_b + ssw_c\n",
    "ssq_within"
   ]
  },
  {
   "cell_type": "code",
   "execution_count": 20,
   "id": "299115c7-97d1-4383-94da-01be9938df1e",
   "metadata": {
    "execution": {
     "iopub.execute_input": "2023-07-13T11:48:21.998615Z",
     "iopub.status.busy": "2023-07-13T11:48:21.998615Z",
     "iopub.status.idle": "2023-07-13T11:48:22.006898Z",
     "shell.execute_reply": "2023-07-13T11:48:22.006898Z",
     "shell.execute_reply.started": "2023-07-13T11:48:21.998615Z"
    }
   },
   "outputs": [],
   "source": [
    "# In our dataset, there's varaition within and between the categories!\n",
    "# Now, are these differences statistically significant?"
   ]
  },
  {
   "cell_type": "code",
   "execution_count": null,
   "id": "bb2efc92-7224-4f3e-bdee-2cb61d21938f",
   "metadata": {},
   "outputs": [],
   "source": []
  },
  {
   "cell_type": "code",
   "execution_count": 21,
   "id": "89714ac5-2dac-440e-ae4a-d558db9f275d",
   "metadata": {
    "execution": {
     "iopub.execute_input": "2023-07-13T11:48:23.000986Z",
     "iopub.status.busy": "2023-07-13T11:48:23.000986Z",
     "iopub.status.idle": "2023-07-13T11:48:23.009671Z",
     "shell.execute_reply": "2023-07-13T11:48:23.008942Z",
     "shell.execute_reply.started": "2023-07-13T11:48:23.000986Z"
    }
   },
   "outputs": [
    {
     "data": {
      "text/plain": [
       "470.9288157894734"
      ]
     },
     "execution_count": 21,
     "metadata": {},
     "output_type": "execute_result"
    }
   ],
   "source": [
    "# Total sum of squared differences is actually equal to the sum of squared differences within the categories + \n",
    "# sum of squared differences between the categories\n",
    "\n",
    "ssq_global = sum((diet.wloss - glob_mean) ** 2)\n",
    "ssq_global"
   ]
  },
  {
   "cell_type": "code",
   "execution_count": 22,
   "id": "0caab5fa-716f-463b-bcf6-4759fd54adcc",
   "metadata": {
    "execution": {
     "iopub.execute_input": "2023-07-13T11:48:23.408948Z",
     "iopub.status.busy": "2023-07-13T11:48:23.408948Z",
     "iopub.status.idle": "2023-07-13T11:48:23.426070Z",
     "shell.execute_reply": "2023-07-13T11:48:23.425025Z",
     "shell.execute_reply.started": "2023-07-13T11:48:23.408948Z"
    }
   },
   "outputs": [
    {
     "data": {
      "text/plain": [
       "470.92881578947345"
      ]
     },
     "execution_count": 22,
     "metadata": {},
     "output_type": "execute_result"
    }
   ],
   "source": [
    "ssq_between + ssq_within"
   ]
  },
  {
   "cell_type": "code",
   "execution_count": 23,
   "id": "b7ad0027-c516-494f-a127-90ad59b968af",
   "metadata": {
    "execution": {
     "iopub.execute_input": "2023-07-13T11:48:23.848387Z",
     "iopub.status.busy": "2023-07-13T11:48:23.848387Z",
     "iopub.status.idle": "2023-07-13T11:48:23.855151Z",
     "shell.execute_reply": "2023-07-13T11:48:23.854099Z",
     "shell.execute_reply.started": "2023-07-13T11:48:23.848387Z"
    }
   },
   "outputs": [],
   "source": [
    "# WOW!\n",
    "# THIS WILL ALWAYS BE TRUE!"
   ]
  },
  {
   "cell_type": "code",
   "execution_count": null,
   "id": "e485bac5-c534-4bc7-8a3b-88e65e30c5e0",
   "metadata": {},
   "outputs": [],
   "source": []
  },
  {
   "cell_type": "markdown",
   "id": "2b5eba6c-a897-463b-90cd-7f315ba7279c",
   "metadata": {},
   "source": [
    "## ___F test___\n",
    "-----------"
   ]
  },
  {
   "cell_type": "code",
   "execution_count": 24,
   "id": "cda0ca49-17ca-48c9-b7a4-91c72a33b729",
   "metadata": {
    "execution": {
     "iopub.execute_input": "2023-07-13T11:48:25.134859Z",
     "iopub.status.busy": "2023-07-13T11:48:25.134859Z",
     "iopub.status.idle": "2023-07-13T11:48:25.143025Z",
     "shell.execute_reply": "2023-07-13T11:48:25.141683Z",
     "shell.execute_reply.started": "2023-07-13T11:48:25.134859Z"
    }
   },
   "outputs": [],
   "source": [
    "# Now we need to decide whether the sum of squared differences between categories is big enough to claim that there indeed is a \n",
    "# statistically significant difference beyween the group means!\n",
    "\n",
    "# This is where the F test comes into the scene."
   ]
  },
  {
   "cell_type": "markdown",
   "id": "b013e8ce-3c3a-46bd-9e5f-3f1c4cc53359",
   "metadata": {},
   "source": [
    "# ___$F = \\frac{MS_b}{MS_w}$___"
   ]
  },
  {
   "cell_type": "code",
   "execution_count": 25,
   "id": "3f8957d5-44f7-4e05-b9e4-d38b1dd7ead8",
   "metadata": {
    "execution": {
     "iopub.execute_input": "2023-07-13T11:48:25.887639Z",
     "iopub.status.busy": "2023-07-13T11:48:25.887639Z",
     "iopub.status.idle": "2023-07-13T11:48:25.904869Z",
     "shell.execute_reply": "2023-07-13T11:48:25.904869Z",
     "shell.execute_reply.started": "2023-07-13T11:48:25.887639Z"
    }
   },
   "outputs": [
    {
     "data": {
      "text/plain": [
       "array([10.01721607, 11.49388428, 39.01590804])"
      ]
     },
     "execution_count": 25,
     "metadata": {},
     "output_type": "execute_result"
    }
   ],
   "source": [
    "# MS_b (the numerator) is the mean of the sum of squared difference between groups.\n",
    "# i.e the mean of; (NOT THE ARITHMETIC MEAN!)\n",
    "\n",
    "ncats * ((catmeans - glob_mean) ** 2)"
   ]
  },
  {
   "cell_type": "code",
   "execution_count": 26,
   "id": "d32aa985-adbb-42dd-8357-46ea89811d92",
   "metadata": {
    "execution": {
     "iopub.execute_input": "2023-07-13T11:48:26.373252Z",
     "iopub.status.busy": "2023-07-13T11:48:26.373252Z",
     "iopub.status.idle": "2023-07-13T11:48:26.386477Z",
     "shell.execute_reply": "2023-07-13T11:48:26.385459Z",
     "shell.execute_reply.started": "2023-07-13T11:48:26.373252Z"
    }
   },
   "outputs": [
    {
     "data": {
      "text/plain": [
       "(115.41999999999989, 145.77440000000007, 149.20740740740726)"
      ]
     },
     "execution_count": 26,
     "metadata": {},
     "output_type": "execute_result"
    }
   ],
   "source": [
    "# MS_w (the denominator) is the mean of the sum of squared differences within groups.\n",
    "# i.e the mean of; (NOT THE ARITHMETIC MEAN!)\n",
    "\n",
    "ssw_a, ssw_b, ssw_c"
   ]
  },
  {
   "cell_type": "code",
   "execution_count": 27,
   "id": "021ba534-e72f-42b1-8ad9-f9e774201a67",
   "metadata": {
    "execution": {
     "iopub.execute_input": "2023-07-13T11:48:26.749514Z",
     "iopub.status.busy": "2023-07-13T11:48:26.749514Z",
     "iopub.status.idle": "2023-07-13T11:48:26.767711Z",
     "shell.execute_reply": "2023-07-13T11:48:26.766505Z",
     "shell.execute_reply.started": "2023-07-13T11:48:26.749514Z"
    }
   },
   "outputs": [],
   "source": [
    "# THESE MEANS ARE COMPUTED BY DIVIDING THE SUM OF SQUARED DIFFERENCES BY THEIR RESPECTIVE DEGREES OF FREEDOM!"
   ]
  },
  {
   "cell_type": "code",
   "execution_count": 28,
   "id": "ab15f2cd-5df2-4fa6-a690-002b4418e322",
   "metadata": {
    "execution": {
     "iopub.execute_input": "2023-07-13T11:48:27.146206Z",
     "iopub.status.busy": "2023-07-13T11:48:27.146206Z",
     "iopub.status.idle": "2023-07-13T11:48:27.150474Z",
     "shell.execute_reply": "2023-07-13T11:48:27.150474Z",
     "shell.execute_reply.started": "2023-07-13T11:48:27.146206Z"
    }
   },
   "outputs": [],
   "source": [
    "# In other words,"
   ]
  },
  {
   "cell_type": "markdown",
   "id": "e1f17393-2e38-4509-9c3a-4decfd7b0468",
   "metadata": {},
   "source": [
    "# ___$F = \\frac{(\\frac{SS_b}{c - 1})}{(\\frac{SS_w}{N - c})}$___"
   ]
  },
  {
   "cell_type": "code",
   "execution_count": 29,
   "id": "4f9b2a25-b72e-4117-ad99-f45162fec6e1",
   "metadata": {
    "execution": {
     "iopub.execute_input": "2023-07-13T11:48:27.894451Z",
     "iopub.status.busy": "2023-07-13T11:48:27.894451Z",
     "iopub.status.idle": "2023-07-13T11:48:27.909438Z",
     "shell.execute_reply": "2023-07-13T11:48:27.908931Z",
     "shell.execute_reply.started": "2023-07-13T11:48:27.894451Z"
    }
   },
   "outputs": [],
   "source": [
    "# Where c is the number of categories.\n",
    "# N is the number of elements in of our feature."
   ]
  },
  {
   "cell_type": "code",
   "execution_count": 30,
   "id": "a6aa927d-74da-4547-b1a3-f9f2b0ed9b65",
   "metadata": {
    "execution": {
     "iopub.execute_input": "2023-07-13T11:48:28.256332Z",
     "iopub.status.busy": "2023-07-13T11:48:28.256332Z",
     "iopub.status.idle": "2023-07-13T11:48:28.274039Z",
     "shell.execute_reply": "2023-07-13T11:48:28.272862Z",
     "shell.execute_reply.started": "2023-07-13T11:48:28.256332Z"
    }
   },
   "outputs": [
    {
     "data": {
      "text/plain": [
       "30.263504191033107"
      ]
     },
     "execution_count": 30,
     "metadata": {},
     "output_type": "execute_result"
    }
   ],
   "source": [
    "(ssq_between / (3 - 1))"
   ]
  },
  {
   "cell_type": "code",
   "execution_count": 31,
   "id": "345ddc5e-0a1d-48ff-8419-b51c7c093dd9",
   "metadata": {
    "execution": {
     "iopub.execute_input": "2023-07-13T11:48:28.679962Z",
     "iopub.status.busy": "2023-07-13T11:48:28.679962Z",
     "iopub.status.idle": "2023-07-13T11:48:28.689312Z",
     "shell.execute_reply": "2023-07-13T11:48:28.689312Z",
     "shell.execute_reply.started": "2023-07-13T11:48:28.679962Z"
    }
   },
   "outputs": [
    {
     "data": {
      "text/plain": [
       "5.621942567224756"
      ]
     },
     "execution_count": 31,
     "metadata": {},
     "output_type": "execute_result"
    }
   ],
   "source": [
    "ssq_within / (diet.wloss.size - 3)"
   ]
  },
  {
   "cell_type": "code",
   "execution_count": 32,
   "id": "72b6a68d-e1d2-4ad6-aae4-e68cb51118c6",
   "metadata": {
    "execution": {
     "iopub.execute_input": "2023-07-13T11:48:29.113621Z",
     "iopub.status.busy": "2023-07-13T11:48:29.113621Z",
     "iopub.status.idle": "2023-07-13T11:48:29.121953Z",
     "shell.execute_reply": "2023-07-13T11:48:29.121316Z",
     "shell.execute_reply.started": "2023-07-13T11:48:29.113621Z"
    }
   },
   "outputs": [
    {
     "data": {
      "text/plain": [
       "5.38310447485993"
      ]
     },
     "execution_count": 32,
     "metadata": {},
     "output_type": "execute_result"
    }
   ],
   "source": [
    "fstat = (ssq_between / (3 - 1)) / (ssq_within / (diet.wloss.size - 3))\n",
    "fstat"
   ]
  },
  {
   "cell_type": "code",
   "execution_count": 33,
   "id": "ccc98c36-dd35-495f-bd74-0c8ec8ccf7b6",
   "metadata": {
    "execution": {
     "iopub.execute_input": "2023-07-13T11:48:29.637386Z",
     "iopub.status.busy": "2023-07-13T11:48:29.637386Z",
     "iopub.status.idle": "2023-07-13T11:48:29.647559Z",
     "shell.execute_reply": "2023-07-13T11:48:29.646552Z",
     "shell.execute_reply.started": "2023-07-13T11:48:29.637386Z"
    }
   },
   "outputs": [],
   "source": [
    "# The higher the deviation between the means of the categories, the larger the F statistic will tend to be!"
   ]
  },
  {
   "cell_type": "code",
   "execution_count": null,
   "id": "802c33d7-c094-4f57-8e5a-c11aaec5c3ec",
   "metadata": {},
   "outputs": [],
   "source": []
  },
  {
   "cell_type": "code",
   "execution_count": 34,
   "id": "9f4597c2-be46-40f3-a80e-35b7e0811f1e",
   "metadata": {
    "execution": {
     "iopub.execute_input": "2023-07-13T11:48:30.549505Z",
     "iopub.status.busy": "2023-07-13T11:48:30.549505Z",
     "iopub.status.idle": "2023-07-13T11:48:30.565629Z",
     "shell.execute_reply": "2023-07-13T11:48:30.565629Z",
     "shell.execute_reply.started": "2023-07-13T11:48:30.549505Z"
    }
   },
   "outputs": [],
   "source": [
    "# EVERYTHING IS CORRECT UNTIL THIS POINT."
   ]
  },
  {
   "cell_type": "markdown",
   "id": "bbcc57a3-9679-4b1f-be17-fed64e23045d",
   "metadata": {},
   "source": [
    "## ___Hypotheses___\n",
    "-----------"
   ]
  },
  {
   "cell_type": "code",
   "execution_count": 35,
   "id": "6a8965b9-29b3-4c0c-8c61-8425e116576e",
   "metadata": {
    "execution": {
     "iopub.execute_input": "2023-07-13T11:48:31.569526Z",
     "iopub.status.busy": "2023-07-13T11:48:31.569526Z",
     "iopub.status.idle": "2023-07-13T11:48:31.575781Z",
     "shell.execute_reply": "2023-07-13T11:48:31.574609Z",
     "shell.execute_reply.started": "2023-07-13T11:48:31.569526Z"
    }
   },
   "outputs": [],
   "source": [
    "# Null hypothesis: "
   ]
  },
  {
   "cell_type": "markdown",
   "id": "45a1e075-d711-4166-988c-ea889d8f1654",
   "metadata": {},
   "source": [
    "# ___$\\mu_A = \\mu_B = \\mu_C$___"
   ]
  },
  {
   "cell_type": "code",
   "execution_count": 36,
   "id": "0938d43d-d74c-4baf-bad5-5af5dc715646",
   "metadata": {
    "execution": {
     "iopub.execute_input": "2023-07-13T11:48:32.384771Z",
     "iopub.status.busy": "2023-07-13T11:48:32.384771Z",
     "iopub.status.idle": "2023-07-13T11:48:32.397720Z",
     "shell.execute_reply": "2023-07-13T11:48:32.397258Z",
     "shell.execute_reply.started": "2023-07-13T11:48:32.384771Z"
    }
   },
   "outputs": [],
   "source": [
    "# The higher the F statistic is, the morelikely we are to reject the Null hypothesis.\n",
    "# Moving to p values,"
   ]
  },
  {
   "cell_type": "code",
   "execution_count": 40,
   "id": "ae0d90ad-ef76-4216-9dcd-bfb549b55629",
   "metadata": {
    "execution": {
     "iopub.execute_input": "2023-07-13T11:49:10.081660Z",
     "iopub.status.busy": "2023-07-13T11:49:10.081660Z",
     "iopub.status.idle": "2023-07-13T11:49:10.104857Z",
     "shell.execute_reply": "2023-07-13T11:49:10.103650Z",
     "shell.execute_reply.started": "2023-07-13T11:49:10.081660Z"
    }
   },
   "outputs": [
    {
     "data": {
      "text/plain": [
       "0.01319170621733945"
      ]
     },
     "execution_count": 40,
     "metadata": {},
     "output_type": "execute_result"
    }
   ],
   "source": [
    "# dfn -> numerator's degrees of freedom.\n",
    "# dfd -> denominator's degrees of freedom.\n",
    "\n",
    "p = 2 * (1 - f.cdf(fstat, dfn = 2, dfd = diet.wloss.size - 3))\n",
    "p"
   ]
  },
  {
   "cell_type": "code",
   "execution_count": null,
   "id": "01808ac0-3ec9-4b91-a59f-bc06903b8efc",
   "metadata": {},
   "outputs": [],
   "source": []
  },
  {
   "cell_type": "code",
   "execution_count": 38,
   "id": "e1a879b7-b49a-4c96-81e5-855ffba51685",
   "metadata": {
    "execution": {
     "iopub.execute_input": "2023-07-13T11:48:37.702125Z",
     "iopub.status.busy": "2023-07-13T11:48:37.702125Z",
     "iopub.status.idle": "2023-07-13T11:48:37.716414Z",
     "shell.execute_reply": "2023-07-13T11:48:37.716414Z",
     "shell.execute_reply.started": "2023-07-13T11:48:37.702125Z"
    }
   },
   "outputs": [
    {
     "data": {
      "text/plain": [
       "73"
      ]
     },
     "execution_count": 38,
     "metadata": {},
     "output_type": "execute_result"
    }
   ],
   "source": [
    "diet.wloss.size - 3"
   ]
  },
  {
   "cell_type": "code",
   "execution_count": null,
   "id": "f9ab8c14-2ac4-4e01-b770-3f7b7efe09a0",
   "metadata": {},
   "outputs": [],
   "source": []
  },
  {
   "cell_type": "markdown",
   "id": "2d75f1ee-237c-44fe-93c6-56f38f86f734",
   "metadata": {},
   "source": [
    "------------------------------\n",
    "------------------------------"
   ]
  }
 ],
 "metadata": {
  "kernelspec": {
   "display_name": "Python 3 (ipykernel)",
   "language": "python",
   "name": "python3"
  },
  "language_info": {
   "codemirror_mode": {
    "name": "ipython",
    "version": 3
   },
   "file_extension": ".py",
   "mimetype": "text/x-python",
   "name": "python",
   "nbconvert_exporter": "python",
   "pygments_lexer": "ipython3",
   "version": "3.11.4"
  }
 },
 "nbformat": 4,
 "nbformat_minor": 5
}
