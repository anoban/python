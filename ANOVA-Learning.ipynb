{
 "cells": [
  {
   "cell_type": "code",
   "execution_count": 1,
   "id": "48856667-5afd-40a0-adcf-e6741591996f",
   "metadata": {
    "execution": {
     "iopub.execute_input": "2023-07-05T13:25:36.194840Z",
     "iopub.status.busy": "2023-07-05T13:25:36.194840Z",
     "iopub.status.idle": "2023-07-05T13:25:38.062594Z",
     "shell.execute_reply": "2023-07-05T13:25:38.062594Z",
     "shell.execute_reply.started": "2023-07-05T13:25:36.194840Z"
    }
   },
   "outputs": [],
   "source": [
    "import pandas as pd\n",
    "import numpy as np\n",
    "import matplotlib.pyplot as plt\n",
    "# from scipy.stats import "
   ]
  },
  {
   "cell_type": "code",
   "execution_count": 2,
   "id": "a748df37-cfc0-44ed-b37e-d6539a54d1f5",
   "metadata": {
    "execution": {
     "iopub.execute_input": "2023-07-05T13:31:52.178567Z",
     "iopub.status.busy": "2023-07-05T13:31:52.178567Z",
     "iopub.status.idle": "2023-07-05T13:31:52.189244Z",
     "shell.execute_reply": "2023-07-05T13:31:52.189244Z",
     "shell.execute_reply.started": "2023-07-05T13:31:52.178567Z"
    }
   },
   "outputs": [],
   "source": [
    "# Following the turtorial @ https://bioinformatics-core-shared-training.github.io/linear-models-r/anova.html\n",
    "# In Python though!"
   ]
  },
  {
   "cell_type": "code",
   "execution_count": 19,
   "id": "b2c5b260-fda1-41da-af5d-0fa951222da0",
   "metadata": {
    "execution": {
     "iopub.execute_input": "2023-07-05T13:37:22.217300Z",
     "iopub.status.busy": "2023-07-05T13:37:22.217300Z",
     "iopub.status.idle": "2023-07-05T13:37:22.228502Z",
     "shell.execute_reply": "2023-07-05T13:37:22.228502Z",
     "shell.execute_reply.started": "2023-07-05T13:37:22.217300Z"
    }
   },
   "outputs": [],
   "source": [
    "diet = pd.read_csv(\"./anova-diet.csv\", index_col = 0, names = [\"gender\", \"age\", \"height\", \"diet_type\", \"initial_weight\", \"final_weight\"], header = 0)"
   ]
  },
  {
   "cell_type": "code",
   "execution_count": 20,
   "id": "79d83b2b-e39a-47f8-86fe-b361560087c4",
   "metadata": {
    "execution": {
     "iopub.execute_input": "2023-07-05T13:37:22.640664Z",
     "iopub.status.busy": "2023-07-05T13:37:22.640664Z",
     "iopub.status.idle": "2023-07-05T13:37:22.655802Z",
     "shell.execute_reply": "2023-07-05T13:37:22.655802Z",
     "shell.execute_reply.started": "2023-07-05T13:37:22.640664Z"
    }
   },
   "outputs": [
    {
     "data": {
      "text/html": [
       "<div>\n",
       "<style scoped>\n",
       "    .dataframe tbody tr th:only-of-type {\n",
       "        vertical-align: middle;\n",
       "    }\n",
       "\n",
       "    .dataframe tbody tr th {\n",
       "        vertical-align: top;\n",
       "    }\n",
       "\n",
       "    .dataframe thead th {\n",
       "        text-align: right;\n",
       "    }\n",
       "</style>\n",
       "<table border=\"1\" class=\"dataframe\">\n",
       "  <thead>\n",
       "    <tr style=\"text-align: right;\">\n",
       "      <th></th>\n",
       "      <th>gender</th>\n",
       "      <th>age</th>\n",
       "      <th>height</th>\n",
       "      <th>diet_type</th>\n",
       "      <th>initial_weight</th>\n",
       "      <th>final_weight</th>\n",
       "    </tr>\n",
       "  </thead>\n",
       "  <tbody>\n",
       "    <tr>\n",
       "      <th>1</th>\n",
       "      <td>Female</td>\n",
       "      <td>22</td>\n",
       "      <td>159</td>\n",
       "      <td>A</td>\n",
       "      <td>58</td>\n",
       "      <td>54.2</td>\n",
       "    </tr>\n",
       "    <tr>\n",
       "      <th>2</th>\n",
       "      <td>Female</td>\n",
       "      <td>46</td>\n",
       "      <td>192</td>\n",
       "      <td>A</td>\n",
       "      <td>60</td>\n",
       "      <td>54.0</td>\n",
       "    </tr>\n",
       "    <tr>\n",
       "      <th>3</th>\n",
       "      <td>Female</td>\n",
       "      <td>55</td>\n",
       "      <td>170</td>\n",
       "      <td>A</td>\n",
       "      <td>64</td>\n",
       "      <td>63.3</td>\n",
       "    </tr>\n",
       "    <tr>\n",
       "      <th>4</th>\n",
       "      <td>Female</td>\n",
       "      <td>33</td>\n",
       "      <td>171</td>\n",
       "      <td>A</td>\n",
       "      <td>64</td>\n",
       "      <td>61.1</td>\n",
       "    </tr>\n",
       "    <tr>\n",
       "      <th>5</th>\n",
       "      <td>Female</td>\n",
       "      <td>50</td>\n",
       "      <td>170</td>\n",
       "      <td>A</td>\n",
       "      <td>65</td>\n",
       "      <td>62.2</td>\n",
       "    </tr>\n",
       "  </tbody>\n",
       "</table>\n",
       "</div>"
      ],
      "text/plain": [
       "   gender  age  height diet_type  initial_weight  final_weight\n",
       "1  Female   22     159         A              58          54.2\n",
       "2  Female   46     192         A              60          54.0\n",
       "3  Female   55     170         A              64          63.3\n",
       "4  Female   33     171         A              64          61.1\n",
       "5  Female   50     170         A              65          62.2"
      ]
     },
     "execution_count": 20,
     "metadata": {},
     "output_type": "execute_result"
    }
   ],
   "source": [
    "diet.head()"
   ]
  },
  {
   "cell_type": "code",
   "execution_count": 21,
   "id": "de30d315-920f-4c1e-9a74-c7f09e932ae2",
   "metadata": {
    "execution": {
     "iopub.execute_input": "2023-07-05T13:37:23.063141Z",
     "iopub.status.busy": "2023-07-05T13:37:23.063141Z",
     "iopub.status.idle": "2023-07-05T13:37:23.073426Z",
     "shell.execute_reply": "2023-07-05T13:37:23.073426Z",
     "shell.execute_reply.started": "2023-07-05T13:37:23.063141Z"
    }
   },
   "outputs": [
    {
     "data": {
      "text/plain": [
       "(76, 6)"
      ]
     },
     "execution_count": 21,
     "metadata": {},
     "output_type": "execute_result"
    }
   ],
   "source": [
    "diet.shape"
   ]
  },
  {
   "cell_type": "code",
   "execution_count": 22,
   "id": "e23586b8-8642-42e5-8b33-6fb0b78705f2",
   "metadata": {
    "execution": {
     "iopub.execute_input": "2023-07-05T13:37:23.392309Z",
     "iopub.status.busy": "2023-07-05T13:37:23.392309Z",
     "iopub.status.idle": "2023-07-05T13:37:23.399116Z",
     "shell.execute_reply": "2023-07-05T13:37:23.399116Z",
     "shell.execute_reply.started": "2023-07-05T13:37:23.392309Z"
    }
   },
   "outputs": [],
   "source": [
    "# The data set contains information on 76 people who undertook one of three diets (referred to as diet A, B and C).\n",
    "# There is background information such as age, gender, and height. \n",
    "# The aim of the study was to see which diet was best for losing weight."
   ]
  },
  {
   "cell_type": "code",
   "execution_count": 23,
   "id": "8cd67ec4-526f-49d2-8c49-c4fb02506031",
   "metadata": {
    "execution": {
     "iopub.execute_input": "2023-07-05T13:37:23.800184Z",
     "iopub.status.busy": "2023-07-05T13:37:23.800184Z",
     "iopub.status.idle": "2023-07-05T13:37:23.821213Z",
     "shell.execute_reply": "2023-07-05T13:37:23.821213Z",
     "shell.execute_reply.started": "2023-07-05T13:37:23.800184Z"
    }
   },
   "outputs": [
    {
     "data": {
      "text/html": [
       "<div>\n",
       "<style scoped>\n",
       "    .dataframe tbody tr th:only-of-type {\n",
       "        vertical-align: middle;\n",
       "    }\n",
       "\n",
       "    .dataframe tbody tr th {\n",
       "        vertical-align: top;\n",
       "    }\n",
       "\n",
       "    .dataframe thead th {\n",
       "        text-align: right;\n",
       "    }\n",
       "</style>\n",
       "<table border=\"1\" class=\"dataframe\">\n",
       "  <thead>\n",
       "    <tr style=\"text-align: right;\">\n",
       "      <th></th>\n",
       "      <th>gender</th>\n",
       "      <th>age</th>\n",
       "      <th>height</th>\n",
       "      <th>diet_type</th>\n",
       "      <th>initial_weight</th>\n",
       "      <th>final_weight</th>\n",
       "      <th>wloss</th>\n",
       "    </tr>\n",
       "  </thead>\n",
       "  <tbody>\n",
       "    <tr>\n",
       "      <th>1</th>\n",
       "      <td>Female</td>\n",
       "      <td>22</td>\n",
       "      <td>159</td>\n",
       "      <td>A</td>\n",
       "      <td>58</td>\n",
       "      <td>54.2</td>\n",
       "      <td>3.8</td>\n",
       "    </tr>\n",
       "    <tr>\n",
       "      <th>2</th>\n",
       "      <td>Female</td>\n",
       "      <td>46</td>\n",
       "      <td>192</td>\n",
       "      <td>A</td>\n",
       "      <td>60</td>\n",
       "      <td>54.0</td>\n",
       "      <td>6.0</td>\n",
       "    </tr>\n",
       "    <tr>\n",
       "      <th>3</th>\n",
       "      <td>Female</td>\n",
       "      <td>55</td>\n",
       "      <td>170</td>\n",
       "      <td>A</td>\n",
       "      <td>64</td>\n",
       "      <td>63.3</td>\n",
       "      <td>0.7</td>\n",
       "    </tr>\n",
       "    <tr>\n",
       "      <th>4</th>\n",
       "      <td>Female</td>\n",
       "      <td>33</td>\n",
       "      <td>171</td>\n",
       "      <td>A</td>\n",
       "      <td>64</td>\n",
       "      <td>61.1</td>\n",
       "      <td>2.9</td>\n",
       "    </tr>\n",
       "    <tr>\n",
       "      <th>5</th>\n",
       "      <td>Female</td>\n",
       "      <td>50</td>\n",
       "      <td>170</td>\n",
       "      <td>A</td>\n",
       "      <td>65</td>\n",
       "      <td>62.2</td>\n",
       "      <td>2.8</td>\n",
       "    </tr>\n",
       "    <tr>\n",
       "      <th>...</th>\n",
       "      <td>...</td>\n",
       "      <td>...</td>\n",
       "      <td>...</td>\n",
       "      <td>...</td>\n",
       "      <td>...</td>\n",
       "      <td>...</td>\n",
       "      <td>...</td>\n",
       "    </tr>\n",
       "    <tr>\n",
       "      <th>74</th>\n",
       "      <td>Male</td>\n",
       "      <td>35</td>\n",
       "      <td>183</td>\n",
       "      <td>C</td>\n",
       "      <td>83</td>\n",
       "      <td>80.2</td>\n",
       "      <td>2.8</td>\n",
       "    </tr>\n",
       "    <tr>\n",
       "      <th>75</th>\n",
       "      <td>Male</td>\n",
       "      <td>49</td>\n",
       "      <td>177</td>\n",
       "      <td>C</td>\n",
       "      <td>84</td>\n",
       "      <td>79.9</td>\n",
       "      <td>4.1</td>\n",
       "    </tr>\n",
       "    <tr>\n",
       "      <th>76</th>\n",
       "      <td>Male</td>\n",
       "      <td>28</td>\n",
       "      <td>164</td>\n",
       "      <td>C</td>\n",
       "      <td>85</td>\n",
       "      <td>79.7</td>\n",
       "      <td>5.3</td>\n",
       "    </tr>\n",
       "    <tr>\n",
       "      <th>77</th>\n",
       "      <td>Male</td>\n",
       "      <td>40</td>\n",
       "      <td>167</td>\n",
       "      <td>C</td>\n",
       "      <td>87</td>\n",
       "      <td>77.8</td>\n",
       "      <td>9.2</td>\n",
       "    </tr>\n",
       "    <tr>\n",
       "      <th>78</th>\n",
       "      <td>Male</td>\n",
       "      <td>51</td>\n",
       "      <td>175</td>\n",
       "      <td>C</td>\n",
       "      <td>88</td>\n",
       "      <td>81.9</td>\n",
       "      <td>6.1</td>\n",
       "    </tr>\n",
       "  </tbody>\n",
       "</table>\n",
       "<p>76 rows × 7 columns</p>\n",
       "</div>"
      ],
      "text/plain": [
       "    gender  age  height diet_type  initial_weight  final_weight  wloss\n",
       "1   Female   22     159         A              58          54.2    3.8\n",
       "2   Female   46     192         A              60          54.0    6.0\n",
       "3   Female   55     170         A              64          63.3    0.7\n",
       "4   Female   33     171         A              64          61.1    2.9\n",
       "5   Female   50     170         A              65          62.2    2.8\n",
       "..     ...  ...     ...       ...             ...           ...    ...\n",
       "74    Male   35     183         C              83          80.2    2.8\n",
       "75    Male   49     177         C              84          79.9    4.1\n",
       "76    Male   28     164         C              85          79.7    5.3\n",
       "77    Male   40     167         C              87          77.8    9.2\n",
       "78    Male   51     175         C              88          81.9    6.1\n",
       "\n",
       "[76 rows x 7 columns]"
      ]
     },
     "execution_count": 23,
     "metadata": {},
     "output_type": "execute_result"
    }
   ],
   "source": [
    "# Compute the weight loss\n",
    "\n",
    "diet.loc[:, \"wloss\"] = diet.initial_weight - diet.final_weight\n",
    "diet"
   ]
  },
  {
   "cell_type": "code",
   "execution_count": null,
   "id": "3e509d19-0029-490e-a788-a2ebe8457168",
   "metadata": {},
   "outputs": [],
   "source": []
  },
  {
   "cell_type": "code",
   "execution_count": 59,
   "id": "98b6eeed-2e5d-44b8-af58-5c2d35346051",
   "metadata": {
    "execution": {
     "iopub.execute_input": "2023-07-05T14:14:23.247707Z",
     "iopub.status.busy": "2023-07-05T14:14:23.247707Z",
     "iopub.status.idle": "2023-07-05T14:14:23.331046Z",
     "shell.execute_reply": "2023-07-05T14:14:23.331046Z",
     "shell.execute_reply.started": "2023-07-05T14:14:23.247707Z"
    }
   },
   "outputs": [
    {
     "data": {
      "image/png": "[encoded data removed]",
      "text/plain": [
       "<Figure size 640x480 with 1 Axes>"
      ]
     },
     "metadata": {},
     "output_type": "display_data"
    }
   ],
   "source": [
    "fig, axes = plt.subplots()\n",
    "axes.boxplot([diet.wloss[diet.diet_type == 'A'], diet.wloss[diet.diet_type == 'B'], diet.wloss[diet.diet_type == 'C']],\n",
    "            labels = ['A', 'B', 'C'], widths = 0.6)\n",
    "axes.set_xlabel(\"Diet\")\n",
    "axes.set_ylabel(\"Weight loss (kgs)\")\n",
    "plt.show()"
   ]
  },
  {
   "cell_type": "code",
   "execution_count": 60,
   "id": "2e5fc95b-7a9d-498e-98f9-66b420983280",
   "metadata": {
    "execution": {
     "iopub.execute_input": "2023-07-05T14:14:24.166063Z",
     "iopub.status.busy": "2023-07-05T14:14:24.165094Z",
     "iopub.status.idle": "2023-07-05T14:14:24.169048Z",
     "shell.execute_reply": "2023-07-05T14:14:24.168990Z",
     "shell.execute_reply.started": "2023-07-05T14:14:24.166063Z"
    }
   },
   "outputs": [],
   "source": [
    "# variance is given as,"
   ]
  },
  {
   "cell_type": "markdown",
   "id": "d825bc2b-f8d4-411d-a104-a4f5cd9f403d",
   "metadata": {},
   "source": [
    "# ___$v(x) = \\frac{\\sum{(x - \\bar{x})^2}}{n - 1}$___"
   ]
  },
  {
   "cell_type": "code",
   "execution_count": 45,
   "id": "a5cab58e-e2fd-4a10-b06f-3fa4f124cf07",
   "metadata": {
    "execution": {
     "iopub.execute_input": "2023-07-05T13:54:12.672490Z",
     "iopub.status.busy": "2023-07-05T13:54:12.672490Z",
     "iopub.status.idle": "2023-07-05T13:54:12.675667Z",
     "shell.execute_reply": "2023-07-05T13:54:12.675667Z",
     "shell.execute_reply.started": "2023-07-05T13:54:12.672490Z"
    }
   },
   "outputs": [],
   "source": [
    "# The numerator is called the sum of squared differences\n",
    "# Sum of squares total is,"
   ]
  },
  {
   "cell_type": "markdown",
   "id": "d280e3d4-3404-4d47-bc79-362268ffd56f",
   "metadata": {},
   "source": [
    "# ___$SST = \\sum{(x - \\bar{x})^2}$___"
   ]
  },
  {
   "cell_type": "code",
   "execution_count": 50,
   "id": "619a6696-164c-4a0a-b2a5-c78455eb0f10",
   "metadata": {
    "execution": {
     "iopub.execute_input": "2023-07-05T13:58:19.746176Z",
     "iopub.status.busy": "2023-07-05T13:58:19.746176Z",
     "iopub.status.idle": "2023-07-05T13:58:19.765338Z",
     "shell.execute_reply": "2023-07-05T13:58:19.764726Z",
     "shell.execute_reply.started": "2023-07-05T13:58:19.746176Z"
    }
   },
   "outputs": [
    {
     "data": {
      "text/plain": [
       "470.9288157894734"
      ]
     },
     "execution_count": 50,
     "metadata": {},
     "output_type": "execute_result"
    }
   ],
   "source": [
    "# First step in ANOVA is to cumpute the variability in our feature! i.e the numerator of the variance equation.\n",
    "\n",
    "sum((diet.wloss - diet.wloss.mean()) ** 2)"
   ]
  },
  {
   "cell_type": "code",
   "execution_count": 51,
   "id": "8c8e1a7c-825f-48f6-bf42-01c33d1f5f17",
   "metadata": {
    "execution": {
     "iopub.execute_input": "2023-07-05T14:00:39.390024Z",
     "iopub.status.busy": "2023-07-05T14:00:39.390024Z",
     "iopub.status.idle": "2023-07-05T14:00:39.420531Z",
     "shell.execute_reply": "2023-07-05T14:00:39.420015Z",
     "shell.execute_reply.started": "2023-07-05T14:00:39.390024Z"
    }
   },
   "outputs": [
    {
     "data": {
      "text/html": [
       "<div>\n",
       "<style scoped>\n",
       "    .dataframe tbody tr th:only-of-type {\n",
       "        vertical-align: middle;\n",
       "    }\n",
       "\n",
       "    .dataframe tbody tr th {\n",
       "        vertical-align: top;\n",
       "    }\n",
       "\n",
       "    .dataframe thead tr th {\n",
       "        text-align: left;\n",
       "    }\n",
       "\n",
       "    .dataframe thead tr:last-of-type th {\n",
       "        text-align: right;\n",
       "    }\n",
       "</style>\n",
       "<table border=\"1\" class=\"dataframe\">\n",
       "  <thead>\n",
       "    <tr>\n",
       "      <th></th>\n",
       "      <th colspan=\"8\" halign=\"left\">wloss</th>\n",
       "    </tr>\n",
       "    <tr>\n",
       "      <th></th>\n",
       "      <th>count</th>\n",
       "      <th>mean</th>\n",
       "      <th>std</th>\n",
       "      <th>min</th>\n",
       "      <th>25%</th>\n",
       "      <th>50%</th>\n",
       "      <th>75%</th>\n",
       "      <th>max</th>\n",
       "    </tr>\n",
       "    <tr>\n",
       "      <th>diet_type</th>\n",
       "      <th></th>\n",
       "      <th></th>\n",
       "      <th></th>\n",
       "      <th></th>\n",
       "      <th></th>\n",
       "      <th></th>\n",
       "      <th></th>\n",
       "      <th></th>\n",
       "    </tr>\n",
       "  </thead>\n",
       "  <tbody>\n",
       "    <tr>\n",
       "      <th>A</th>\n",
       "      <td>24.0</td>\n",
       "      <td>3.300000</td>\n",
       "      <td>2.240148</td>\n",
       "      <td>-0.6</td>\n",
       "      <td>1.975</td>\n",
       "      <td>3.05</td>\n",
       "      <td>3.95</td>\n",
       "      <td>9.0</td>\n",
       "    </tr>\n",
       "    <tr>\n",
       "      <th>B</th>\n",
       "      <td>25.0</td>\n",
       "      <td>3.268000</td>\n",
       "      <td>2.464535</td>\n",
       "      <td>-2.1</td>\n",
       "      <td>2.000</td>\n",
       "      <td>3.50</td>\n",
       "      <td>4.70</td>\n",
       "      <td>7.9</td>\n",
       "    </tr>\n",
       "    <tr>\n",
       "      <th>C</th>\n",
       "      <td>27.0</td>\n",
       "      <td>5.148148</td>\n",
       "      <td>2.395568</td>\n",
       "      <td>0.5</td>\n",
       "      <td>3.450</td>\n",
       "      <td>5.40</td>\n",
       "      <td>7.00</td>\n",
       "      <td>9.2</td>\n",
       "    </tr>\n",
       "  </tbody>\n",
       "</table>\n",
       "</div>"
      ],
      "text/plain": [
       "          wloss                                                 \n",
       "          count      mean       std  min    25%   50%   75%  max\n",
       "diet_type                                                       \n",
       "A          24.0  3.300000  2.240148 -0.6  1.975  3.05  3.95  9.0\n",
       "B          25.0  3.268000  2.464535 -2.1  2.000  3.50  4.70  7.9\n",
       "C          27.0  5.148148  2.395568  0.5  3.450  5.40  7.00  9.2"
      ]
     },
     "execution_count": 51,
     "metadata": {},
     "output_type": "execute_result"
    }
   ],
   "source": [
    "# Now, we'll consider the categories!\n",
    "\n",
    "diet.loc[:, [\"diet_type\", \"wloss\"]].groupby(\"diet_type\").describe()"
   ]
  },
  {
   "cell_type": "code",
   "execution_count": 52,
   "id": "f707129b-d43d-4f3a-9640-ac841ebda587",
   "metadata": {
    "execution": {
     "iopub.execute_input": "2023-07-05T14:02:13.333984Z",
     "iopub.status.busy": "2023-07-05T14:02:13.333984Z",
     "iopub.status.idle": "2023-07-05T14:02:13.338492Z",
     "shell.execute_reply": "2023-07-05T14:02:13.337984Z",
     "shell.execute_reply.started": "2023-07-05T14:02:13.333984Z"
    }
   },
   "outputs": [],
   "source": [
    "# There are considerable differences between the means of the three diet categories."
   ]
  },
  {
   "cell_type": "code",
   "execution_count": 56,
   "id": "8e53c635-87bf-4375-b1b4-e175267e4daf",
   "metadata": {
    "execution": {
     "iopub.execute_input": "2023-07-05T14:11:23.178547Z",
     "iopub.status.busy": "2023-07-05T14:11:23.178547Z",
     "iopub.status.idle": "2023-07-05T14:11:23.196608Z",
     "shell.execute_reply": "2023-07-05T14:11:23.196456Z",
     "shell.execute_reply.started": "2023-07-05T14:11:23.178547Z"
    }
   },
   "outputs": [],
   "source": [
    "# The question one way ANOVA asks is whether there's a difference between the three diet categories?\n",
    "\n",
    "# one way ANOVA splits the variation in the whole feature (SST) into SST within groups and SST between groups.\n",
    "# For the SST within A category,\n",
    "\n",
    "# Here, we sum the squares of differences between the values in category A and the mean of the values in category A.\n",
    "# That gives the variation within category A!"
   ]
  },
  {
   "cell_type": "markdown",
   "id": "d4a42338-fe24-4e5b-9e9a-89be7cb81600",
   "metadata": {},
   "source": [
    "# ___$SS_w = \\sum{(x_A - \\bar{x}_A)^2}$___"
   ]
  },
  {
   "cell_type": "code",
   "execution_count": 69,
   "id": "81902d52-80a3-4996-8104-6ee90c347208",
   "metadata": {
    "execution": {
     "iopub.execute_input": "2023-07-05T14:24:21.620249Z",
     "iopub.status.busy": "2023-07-05T14:24:21.620249Z",
     "iopub.status.idle": "2023-07-05T14:24:21.632851Z",
     "shell.execute_reply": "2023-07-05T14:24:21.632851Z",
     "shell.execute_reply.started": "2023-07-05T14:24:21.620249Z"
    }
   },
   "outputs": [
    {
     "data": {
      "text/plain": [
       "(115.41999999999989, 145.77440000000007, 149.20740740740726)"
      ]
     },
     "execution_count": 69,
     "metadata": {},
     "output_type": "execute_result"
    }
   ],
   "source": [
    "ssw_a = sum((diet.wloss[diet.diet_type == 'A'] - diet.wloss[diet.diet_type == 'A'].mean()) ** 2)\n",
    "ssw_b = sum((diet.wloss[diet.diet_type == 'B'] - diet.wloss[diet.diet_type == 'B'].mean()) ** 2)\n",
    "ssw_c = sum((diet.wloss[diet.diet_type == 'C'] - diet.wloss[diet.diet_type == 'C'].mean()) ** 2)\n",
    "\n",
    "ssw_a, ssw_b, ssw_c"
   ]
  },
  {
   "cell_type": "code",
   "execution_count": 68,
   "id": "6760d019-d734-436d-a3b7-01f050abf510",
   "metadata": {
    "execution": {
     "iopub.execute_input": "2023-07-05T14:23:13.901978Z",
     "iopub.status.busy": "2023-07-05T14:23:13.901978Z",
     "iopub.status.idle": "2023-07-05T14:23:13.917287Z",
     "shell.execute_reply": "2023-07-05T14:23:13.917287Z",
     "shell.execute_reply.started": "2023-07-05T14:23:13.901978Z"
    }
   },
   "outputs": [],
   "source": [
    "# For the SST between the three categories,\n",
    "# Here we sum the squares of differences between the means of each category and the mean of the feature as a whole, multiplied by the number\n",
    "# of values in that category!.\n",
    "\n",
    "# This gives the variation between the categories."
   ]
  },
  {
   "cell_type": "markdown",
   "id": "943e43dc-69f6-4bbc-813b-50b20c08fd49",
   "metadata": {},
   "source": [
    "# ___$SS_b = \\sum{n_{cat}(\\bar{x}_{cat} - \\hat{x}_{global})^2}$___"
   ]
  },
  {
   "cell_type": "code",
   "execution_count": 78,
   "id": "70ee8aea-5206-4c95-b5ec-413cecb10ec2",
   "metadata": {
    "execution": {
     "iopub.execute_input": "2023-07-05T14:30:45.060050Z",
     "iopub.status.busy": "2023-07-05T14:30:45.060050Z",
     "iopub.status.idle": "2023-07-05T14:30:45.073903Z",
     "shell.execute_reply": "2023-07-05T14:30:45.073375Z",
     "shell.execute_reply.started": "2023-07-05T14:30:45.060050Z"
    }
   },
   "outputs": [
    {
     "data": {
      "text/plain": [
       "(array([24, 25, 27], dtype=int64), array([3.3       , 3.268     , 5.14814815]))"
      ]
     },
     "execution_count": 78,
     "metadata": {},
     "output_type": "execute_result"
    }
   ],
   "source": [
    "glob_mean = diet.wloss.mean()\n",
    "\n",
    "mean_a = diet.wloss[diet.diet_type == 'A'].mean()\n",
    "mean_b = diet.wloss[diet.diet_type == 'B'].mean()\n",
    "mean_c = diet.wloss[diet.diet_type == 'C'].mean()\n",
    "\n",
    "na = sum(diet.diet_type == 'A')\n",
    "nb = sum(diet.diet_type == 'B')\n",
    "nc = sum(diet.diet_type == 'C')\n",
    "\n",
    "ncats = np.array([na, nb, nc], dtype = np.int64)\n",
    "catmeans = np.array([mean_a, mean_b, mean_c], dtype = np.float64)\n",
    "\n",
    "ncats, catmeans"
   ]
  },
  {
   "cell_type": "code",
   "execution_count": 83,
   "id": "6416824b-2b2c-406c-a9de-33b71fdca791",
   "metadata": {
    "execution": {
     "iopub.execute_input": "2023-07-05T14:33:41.735698Z",
     "iopub.status.busy": "2023-07-05T14:33:41.735698Z",
     "iopub.status.idle": "2023-07-05T14:33:41.740300Z",
     "shell.execute_reply": "2023-07-05T14:33:41.740300Z",
     "shell.execute_reply.started": "2023-07-05T14:33:41.735698Z"
    }
   },
   "outputs": [
    {
     "data": {
      "text/plain": [
       "60.527008382066214"
      ]
     },
     "execution_count": 83,
     "metadata": {},
     "output_type": "execute_result"
    }
   ],
   "source": [
    "# Sum of squares of the differences between the means of the categories and the global mean, multiplied by the category sizes.\n",
    "\n",
    "ssq_between = sum(ncats * ((catmeans - glob_mean) ** 2))\n",
    "ssq_between"
   ]
  },
  {
   "cell_type": "code",
   "execution_count": 85,
   "id": "58afeeff-0cd0-4ace-9fae-4e37502e9333",
   "metadata": {
    "execution": {
     "iopub.execute_input": "2023-07-05T14:35:45.045826Z",
     "iopub.status.busy": "2023-07-05T14:35:45.045826Z",
     "iopub.status.idle": "2023-07-05T14:35:45.054964Z",
     "shell.execute_reply": "2023-07-05T14:35:45.054316Z",
     "shell.execute_reply.started": "2023-07-05T14:35:45.045826Z"
    }
   },
   "outputs": [
    {
     "data": {
      "text/plain": [
       "410.4018074074072"
      ]
     },
     "execution_count": 85,
     "metadata": {},
     "output_type": "execute_result"
    }
   ],
   "source": [
    "# Sum of the sum of squares within each of the three categories.\n",
    "\n",
    "ssq_within = ssw_a + ssw_b + ssw_c\n",
    "ssq_within"
   ]
  },
  {
   "cell_type": "code",
   "execution_count": 86,
   "id": "299115c7-97d1-4383-94da-01be9938df1e",
   "metadata": {
    "execution": {
     "iopub.execute_input": "2023-07-05T14:38:01.431842Z",
     "iopub.status.busy": "2023-07-05T14:38:01.431842Z",
     "iopub.status.idle": "2023-07-05T14:38:01.444264Z",
     "shell.execute_reply": "2023-07-05T14:38:01.444264Z",
     "shell.execute_reply.started": "2023-07-05T14:38:01.431842Z"
    }
   },
   "outputs": [],
   "source": [
    "# In our dataset, there's varaition within and between the categories!\n",
    "# Now, are these differences statistically significant?"
   ]
  },
  {
   "cell_type": "code",
   "execution_count": null,
   "id": "bb2efc92-7224-4f3e-bdee-2cb61d21938f",
   "metadata": {},
   "outputs": [],
   "source": []
  },
  {
   "cell_type": "code",
   "execution_count": 90,
   "id": "89714ac5-2dac-440e-ae4a-d558db9f275d",
   "metadata": {
    "execution": {
     "iopub.execute_input": "2023-07-05T14:40:50.425289Z",
     "iopub.status.busy": "2023-07-05T14:40:50.425289Z",
     "iopub.status.idle": "2023-07-05T14:40:50.438367Z",
     "shell.execute_reply": "2023-07-05T14:40:50.438367Z",
     "shell.execute_reply.started": "2023-07-05T14:40:50.425289Z"
    }
   },
   "outputs": [
    {
     "data": {
      "text/plain": [
       "470.9288157894734"
      ]
     },
     "execution_count": 90,
     "metadata": {},
     "output_type": "execute_result"
    }
   ],
   "source": [
    "# Total sum of squared differences is actually equal to the sum of squared differences within the categories + \n",
    "# sum of squared differences between the categories\n",
    "\n",
    "ssq_global = sum((diet.wloss - glob_mean) ** 2)\n",
    "ssq_global"
   ]
  },
  {
   "cell_type": "code",
   "execution_count": 91,
   "id": "0caab5fa-716f-463b-bcf6-4759fd54adcc",
   "metadata": {
    "execution": {
     "iopub.execute_input": "2023-07-05T14:40:52.099729Z",
     "iopub.status.busy": "2023-07-05T14:40:52.099729Z",
     "iopub.status.idle": "2023-07-05T14:40:52.116763Z",
     "shell.execute_reply": "2023-07-05T14:40:52.115118Z",
     "shell.execute_reply.started": "2023-07-05T14:40:52.099729Z"
    }
   },
   "outputs": [
    {
     "data": {
      "text/plain": [
       "470.92881578947345"
      ]
     },
     "execution_count": 91,
     "metadata": {},
     "output_type": "execute_result"
    }
   ],
   "source": [
    "ssq_between + ssq_within"
   ]
  },
  {
   "cell_type": "code",
   "execution_count": 92,
   "id": "b7ad0027-c516-494f-a127-90ad59b968af",
   "metadata": {
    "execution": {
     "iopub.execute_input": "2023-07-05T14:41:43.002211Z",
     "iopub.status.busy": "2023-07-05T14:41:43.002211Z",
     "iopub.status.idle": "2023-07-05T14:41:43.020779Z",
     "shell.execute_reply": "2023-07-05T14:41:43.020711Z",
     "shell.execute_reply.started": "2023-07-05T14:41:43.002211Z"
    }
   },
   "outputs": [],
   "source": [
    "# WOW!\n",
    "# THIS WILL ALWAYS BE TRUE!"
   ]
  },
  {
   "cell_type": "code",
   "execution_count": null,
   "id": "e485bac5-c534-4bc7-8a3b-88e65e30c5e0",
   "metadata": {},
   "outputs": [],
   "source": []
  },
  {
   "cell_type": "markdown",
   "id": "2b5eba6c-a897-463b-90cd-7f315ba7279c",
   "metadata": {},
   "source": [
    "## ___F test___\n",
    "-----------"
   ]
  },
  {
   "cell_type": "code",
   "execution_count": null,
   "id": "cda0ca49-17ca-48c9-b7a4-91c72a33b729",
   "metadata": {},
   "outputs": [],
   "source": [
    "# Now we need to decide whether the sum of squared differences between categories is big enough to claim that there indeed is a \n",
    "# statistically significant difference beyween the group means!\n",
    "\n",
    "# This is where the F test comes into the scene."
   ]
  },
  {
   "cell_type": "markdown",
   "id": "b013e8ce-3c3a-46bd-9e5f-3f1c4cc53359",
   "metadata": {},
   "source": [
    "# ___$F = \\frac{MS_b}{MS_w}$___"
   ]
  },
  {
   "cell_type": "code",
   "execution_count": null,
   "id": "3f8957d5-44f7-4e05-b9e4-d38b1dd7ead8",
   "metadata": {},
   "outputs": [],
   "source": [
    "# MS_b is the mean"
   ]
  }
 ],
 "metadata": {
  "kernelspec": {
   "display_name": "Python 3 (ipykernel)",
   "language": "python",
   "name": "python3"
  },
  "language_info": {
   "codemirror_mode": {
    "name": "ipython",
    "version": 3
   },
   "file_extension": ".py",
   "mimetype": "text/x-python",
   "name": "python",
   "nbconvert_exporter": "python",
   "pygments_lexer": "ipython3",
   "version": "3.11.4"
  }
 },
 "nbformat": 4,
 "nbformat_minor": 5
}
