{
 "cells": [
  {
   "cell_type": "code",
   "execution_count": 4,
   "id": "68cd5e4c-6cd3-435f-8d75-ad4abe7f8d0f",
   "metadata": {
    "execution": {
     "iopub.execute_input": "2024-04-03T00:28:51.733211Z",
     "iopub.status.busy": "2024-04-03T00:28:51.733211Z",
     "iopub.status.idle": "2024-04-03T00:28:51.747394Z",
     "shell.execute_reply": "2024-04-03T00:28:51.747291Z",
     "shell.execute_reply.started": "2024-04-03T00:28:51.733211Z"
    }
   },
   "outputs": [],
   "source": [
    "from bs4 import BeautifulSoup\n",
    "import pandas as pd\n",
    "from urllib import request"
   ]
  },
  {
   "cell_type": "code",
   "execution_count": 3,
   "id": "3253c516-4951-4d44-840f-8c36e3adb7a3",
   "metadata": {
    "execution": {
     "iopub.execute_input": "2024-04-03T00:28:24.405734Z",
     "iopub.status.busy": "2024-04-03T00:28:24.405734Z",
     "iopub.status.idle": "2024-04-03T00:28:24.411916Z",
     "shell.execute_reply": "2024-04-03T00:28:24.411130Z",
     "shell.execute_reply.started": "2024-04-03T00:28:24.405734Z"
    }
   },
   "outputs": [],
   "source": [
    "URL: str = \"https://www.bot.jfn.ac.lk/index.php/research-grants/\""
   ]
  },
  {
   "cell_type": "code",
   "execution_count": 45,
   "id": "630b6d7f-fa82-425c-b1ff-6ae77d712b75",
   "metadata": {
    "execution": {
     "iopub.execute_input": "2024-04-03T00:59:26.101981Z",
     "iopub.status.busy": "2024-04-03T00:59:26.101981Z",
     "iopub.status.idle": "2024-04-03T00:59:27.525859Z",
     "shell.execute_reply": "2024-04-03T00:59:27.525859Z",
     "shell.execute_reply.started": "2024-04-03T00:59:26.101981Z"
    }
   },
   "outputs": [],
   "source": [
    "with request.urlopen(URL) as conn:\n",
    "    html: str = conn.read()"
   ]
  },
  {
   "cell_type": "code",
   "execution_count": 46,
   "id": "6b4c3e1a-3616-4943-8315-2589532b0b26",
   "metadata": {
    "execution": {
     "iopub.execute_input": "2024-04-03T00:59:27.525859Z",
     "iopub.status.busy": "2024-04-03T00:59:27.525859Z",
     "iopub.status.idle": "2024-04-03T00:59:27.555966Z",
     "shell.execute_reply": "2024-04-03T00:59:27.555966Z",
     "shell.execute_reply.started": "2024-04-03T00:59:27.525859Z"
    }
   },
   "outputs": [],
   "source": [
    "soup = BeautifulSoup(html)"
   ]
  },
  {
   "cell_type": "code",
   "execution_count": 47,
   "id": "362959f1-05ca-445a-bb67-a269821d663e",
   "metadata": {
    "execution": {
     "iopub.execute_input": "2024-04-03T00:59:28.259207Z",
     "iopub.status.busy": "2024-04-03T00:59:28.259207Z",
     "iopub.status.idle": "2024-04-03T00:59:28.275916Z",
     "shell.execute_reply": "2024-04-03T00:59:28.274886Z",
     "shell.execute_reply.started": "2024-04-03T00:59:28.259207Z"
    }
   },
   "outputs": [],
   "source": [
    "grants = soup.find(\"div\", attrs = {\"class\": \"entry clr\", \"itemprop\": \"text\"})  # <div class=\"entry clr\" itemprop=\"text\">"
   ]
  },
  {
   "cell_type": "code",
   "execution_count": 48,
   "id": "d4e51c5e-38d8-467c-ae8d-687d101ff39a",
   "metadata": {
    "execution": {
     "iopub.execute_input": "2024-04-03T00:59:28.791518Z",
     "iopub.status.busy": "2024-04-03T00:59:28.791518Z",
     "iopub.status.idle": "2024-04-03T00:59:28.802262Z",
     "shell.execute_reply": "2024-04-03T00:59:28.802262Z",
     "shell.execute_reply.started": "2024-04-03T00:59:28.791518Z"
    }
   },
   "outputs": [],
   "source": [
    "# grants grouped, year wise.\n",
    "\n",
    "grant_groups = grants.find_all(\"div\", attrs = {\"class\": \"su-spoiler su-spoiler-style-fancy su-spoiler-icon-plus su-spoiler-closed\"})"
   ]
  },
  {
   "cell_type": "code",
   "execution_count": 49,
   "id": "6fd483cb-71b5-41ce-b3d0-f6bd05fa166b",
   "metadata": {
    "execution": {
     "iopub.execute_input": "2024-04-03T00:59:39.146032Z",
     "iopub.status.busy": "2024-04-03T00:59:39.146032Z",
     "iopub.status.idle": "2024-04-03T00:59:39.165498Z",
     "shell.execute_reply": "2024-04-03T00:59:39.165498Z",
     "shell.execute_reply.started": "2024-04-03T00:59:39.146032Z"
    }
   },
   "outputs": [
    {
     "data": {
      "text/plain": [
       "<div class=\"su-spoiler su-spoiler-style-fancy su-spoiler-icon-plus su-spoiler-closed\" data-anchor-in-url=\"no\" data-scroll-offset=\"0\"><div class=\"su-spoiler-title\" role=\"button\" tabindex=\"0\"><span class=\"su-spoiler-icon\"></span>2017</div><div class=\"su-spoiler-content su-u-clearfix su-u-trim\">\n",
       "<table class=\"tablepress tablepress-id-RG2017\" id=\"tablepress-RG2017\">\n",
       "<thead>\n",
       "<tr class=\"row-1 odd\">\n",
       "<th class=\"column-1\">Grantee</th><th class=\"column-2\">Project Title</th><th class=\"column-3\">Funding Source</th><th class=\"column-4\">Amount</th>\n",
       "</tr>\n",
       "</thead>\n",
       "<tbody class=\"row-hover\">\n",
       "<tr class=\"row-2 even\">\n",
       "<td class=\"column-1\">Prof.R.Kapilan</td><td class=\"column-2\"></td><td class=\"column-3\">University research  grant</td><td class=\"column-4\">LKR 800,000.00</td>\n",
       "</tr>\n",
       "<tr class=\"row-3 odd\">\n",
       "<td class=\"column-1\">Dr. E.C. Jeyaseelan</td><td class=\"column-2\">Molecular identification of causative agent of a new wide spreading disease on Okra in Northern Sri Lanka.</td><td class=\"column-3\">University research  grant</td><td class=\"column-4\">LKR 750,000.00</td>\n",
       "</tr>\n",
       "</tbody>\n",
       "</table>\n",
       "<!-- #tablepress-RG2017 from cache --></div></div>"
      ]
     },
     "execution_count": 49,
     "metadata": {},
     "output_type": "execute_result"
    }
   ],
   "source": [
    "grant_groups[3]"
   ]
  },
  {
   "cell_type": "code",
   "execution_count": 36,
   "id": "6c632d2b-2612-40e8-a6e3-b4b1363e70fc",
   "metadata": {
    "execution": {
     "iopub.execute_input": "2024-04-03T00:55:53.895654Z",
     "iopub.status.busy": "2024-04-03T00:55:53.895654Z",
     "iopub.status.idle": "2024-04-03T00:55:53.908077Z",
     "shell.execute_reply": "2024-04-03T00:55:53.907312Z",
     "shell.execute_reply.started": "2024-04-03T00:55:53.895654Z"
    }
   },
   "outputs": [],
   "source": []
  },
  {
   "cell_type": "code",
   "execution_count": 61,
   "id": "02374e74-6bb2-4a6e-aa89-7603a32e8d73",
   "metadata": {
    "execution": {
     "iopub.execute_input": "2024-04-03T01:22:43.032321Z",
     "iopub.status.busy": "2024-04-03T01:22:43.032321Z",
     "iopub.status.idle": "2024-04-03T01:22:43.047909Z",
     "shell.execute_reply": "2024-04-03T01:22:43.047909Z",
     "shell.execute_reply.started": "2024-04-03T01:22:43.032321Z"
    }
   },
   "outputs": [],
   "source": [
    "table = {\"Year\": [], \"Grantee\": [], \"Project\": [], \"Funder\": [], \"Amount\": []}\n",
    "\n",
    "for group in grant_groups:  # grants grouped by year\n",
    "    year: str = group.find(\"div\", attrs = {\"class\": \"su-spoiler-title\"}).text\n",
    "    if not year:\n",
    "        raise RuntimeError\n",
    "        \n",
    "    for grant in group.find_all(\"tr\")[1:]: # for each grant in the select year, skip the title row\n",
    "        grantee: str = grant.find(\"td\", attrs = {\"class\": \"column-1\"}).text\n",
    "        project: str = grant.find(\"td\", attrs = {\"class\": \"column-2\"}).text\n",
    "        funder: str = grant.find(\"td\", attrs = {\"class\": \"column-3\"}).text\n",
    "        amount: str = grant.find(\"td\", attrs = {\"class\": \"column-4\"}).text\n",
    "        \n",
    "        if (grantee):\n",
    "            table[\"Year\"].append(year)\n",
    "            table[\"Grantee\"].append(grantee)\n",
    "            table[\"Project\"].append(project)\n",
    "            table[\"Funder\"].append(funder)\n",
    "            table[\"Amount\"].append(amount)"
   ]
  },
  {
   "cell_type": "code",
   "execution_count": null,
   "id": "ff6feece-4b51-44f5-832e-f69e8e56b50e",
   "metadata": {},
   "outputs": [],
   "source": []
  },
  {
   "cell_type": "code",
   "execution_count": 63,
   "id": "acdd6faa-9f97-4364-a4ad-5fd1ffc7c53b",
   "metadata": {
    "execution": {
     "iopub.execute_input": "2024-04-03T01:23:41.122047Z",
     "iopub.status.busy": "2024-04-03T01:23:41.115539Z",
     "iopub.status.idle": "2024-04-03T01:23:41.126889Z",
     "shell.execute_reply": "2024-04-03T01:23:41.126360Z",
     "shell.execute_reply.started": "2024-04-03T01:23:41.122047Z"
    }
   },
   "outputs": [],
   "source": [
    "data = pd.DataFrame(table)"
   ]
  },
  {
   "cell_type": "code",
   "execution_count": null,
   "id": "1e993102-3277-4a39-bec8-dcf5b0061f74",
   "metadata": {},
   "outputs": [],
   "source": []
  },
  {
   "cell_type": "code",
   "execution_count": 80,
   "id": "759730da-809d-4c5d-806e-f7961a1be355",
   "metadata": {
    "execution": {
     "iopub.execute_input": "2024-04-03T01:28:55.292140Z",
     "iopub.status.busy": "2024-04-03T01:28:55.292140Z",
     "iopub.status.idle": "2024-04-03T01:28:55.304218Z",
     "shell.execute_reply": "2024-04-03T01:28:55.304093Z",
     "shell.execute_reply.started": "2024-04-03T01:28:55.292140Z"
    }
   },
   "outputs": [],
   "source": [
    "data.Amount = data.Amount.str.replace(\"LKR\", \"\").str.strip()\n",
    "data.Grantee = data.Grantee.str.replace('\\n', ' ')\n",
    "data.Funder = data.Funder.str.replace('\\t', '').str.title()\n",
    "data.Project = data.Project.str.title()"
   ]
  },
  {
   "cell_type": "code",
   "execution_count": 86,
   "id": "86813393-5754-4586-808f-30ab832a7d26",
   "metadata": {
    "execution": {
     "iopub.execute_input": "2024-04-03T01:31:58.737434Z",
     "iopub.status.busy": "2024-04-03T01:31:58.737434Z",
     "iopub.status.idle": "2024-04-03T01:31:58.746775Z",
     "shell.execute_reply": "2024-04-03T01:31:58.746775Z",
     "shell.execute_reply.started": "2024-04-03T01:31:58.737434Z"
    }
   },
   "outputs": [],
   "source": [
    "# commas will cause trouble in csv parsing\n",
    "data.Amount = data.Amount.str.replace(',', '').str.replace(' ', '')"
   ]
  },
  {
   "cell_type": "code",
   "execution_count": 88,
   "id": "59b3aa2d-0551-4b4d-a526-4f784f5b78db",
   "metadata": {
    "execution": {
     "iopub.execute_input": "2024-04-03T01:32:28.747347Z",
     "iopub.status.busy": "2024-04-03T01:32:28.747347Z",
     "iopub.status.idle": "2024-04-03T01:32:28.765131Z",
     "shell.execute_reply": "2024-04-03T01:32:28.765131Z",
     "shell.execute_reply.started": "2024-04-03T01:32:28.747347Z"
    }
   },
   "outputs": [],
   "source": [
    "data.to_csv(\"./grants.csv\", index = None)"
   ]
  },
  {
   "cell_type": "code",
   "execution_count": 89,
   "id": "34d03931-8c51-47cd-9908-ccf5cca7d740",
   "metadata": {
    "execution": {
     "iopub.execute_input": "2024-04-03T01:51:54.685208Z",
     "iopub.status.busy": "2024-04-03T01:51:54.685208Z",
     "iopub.status.idle": "2024-04-03T01:51:54.699470Z",
     "shell.execute_reply": "2024-04-03T01:51:54.699397Z",
     "shell.execute_reply.started": "2024-04-03T01:51:54.685208Z"
    }
   },
   "outputs": [],
   "source": [
    "# woohoo :))"
   ]
  },
  {
   "cell_type": "code",
   "execution_count": null,
   "id": "6fb18f5e-76c0-454c-80eb-629c2ff86df7",
   "metadata": {},
   "outputs": [],
   "source": []
  }
 ],
 "metadata": {
  "kernelspec": {
   "display_name": "Python 3 (ipykernel)",
   "language": "python",
   "name": "python3"
  },
  "language_info": {
   "codemirror_mode": {
    "name": "ipython",
    "version": 3
   },
   "file_extension": ".py",
   "mimetype": "text/x-python",
   "name": "python",
   "nbconvert_exporter": "python",
   "pygments_lexer": "ipython3",
   "version": "3.12.2"
  }
 },
 "nbformat": 4,
 "nbformat_minor": 5
}
