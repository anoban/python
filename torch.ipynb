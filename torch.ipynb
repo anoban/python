{
 "cells": [
  {
   "cell_type": "code",
   "execution_count": 15,
   "id": "f778fb89-de90-4f6c-bafb-5f5353d2abfa",
   "metadata": {
    "execution": {
     "iopub.execute_input": "2024-01-12T01:26:35.827928Z",
     "iopub.status.busy": "2024-01-12T01:26:35.827928Z",
     "iopub.status.idle": "2024-01-12T01:26:36.511701Z",
     "shell.execute_reply": "2024-01-12T01:26:36.511701Z",
     "shell.execute_reply.started": "2024-01-12T01:26:35.827928Z"
    }
   },
   "outputs": [],
   "source": [
    "import numpy as np\n",
    "import torch\n",
    "from PIL import Image\n",
    "import matplotlib.pyplot as plt"
   ]
  },
  {
   "cell_type": "code",
   "execution_count": 4,
   "id": "fb7ae38a-3936-43e3-a030-769a19a979de",
   "metadata": {
    "execution": {
     "iopub.execute_input": "2024-01-12T01:19:18.125220Z",
     "iopub.status.busy": "2024-01-12T01:19:18.125220Z",
     "iopub.status.idle": "2024-01-12T01:19:18.156945Z",
     "shell.execute_reply": "2024-01-12T01:19:18.155740Z",
     "shell.execute_reply.started": "2024-01-12T01:19:18.125220Z"
    }
   },
   "outputs": [],
   "source": [
    "x = np.random.randint(low = 0, high = 10_000, size = (1000, 1000))"
   ]
  },
  {
   "cell_type": "code",
   "execution_count": 7,
   "id": "4bdff433-4742-4bb3-969a-cc8a9f9d4997",
   "metadata": {
    "execution": {
     "iopub.execute_input": "2024-01-12T01:21:41.229550Z",
     "iopub.status.busy": "2024-01-12T01:21:41.229550Z",
     "iopub.status.idle": "2024-01-12T01:21:41.339011Z",
     "shell.execute_reply": "2024-01-12T01:21:41.339011Z",
     "shell.execute_reply.started": "2024-01-12T01:21:41.229550Z"
    }
   },
   "outputs": [
    {
     "data": {
      "text/plain": [
       "True"
      ]
     },
     "execution_count": 7,
     "metadata": {},
     "output_type": "execute_result"
    }
   ],
   "source": [
    "torch.cuda.is_available()"
   ]
  },
  {
   "cell_type": "code",
   "execution_count": 6,
   "id": "3e34cbdd-1560-485e-8e33-7337b2908373",
   "metadata": {
    "execution": {
     "iopub.execute_input": "2024-01-12T01:21:04.946650Z",
     "iopub.status.busy": "2024-01-12T01:21:04.946650Z",
     "iopub.status.idle": "2024-01-12T01:21:04.955585Z",
     "shell.execute_reply": "2024-01-12T01:21:04.955585Z",
     "shell.execute_reply.started": "2024-01-12T01:21:04.946650Z"
    }
   },
   "outputs": [
    {
     "data": {
      "text/plain": [
       "tensor([[1232, 1760, 8934,  ..., 9463, 7398, 8399],\n",
       "        [8798, 8473,  262,  ...,  394, 2295, 6018],\n",
       "        [8497, 5185, 6297,  ..., 6622, 3612, 7022],\n",
       "        ...,\n",
       "        [8084, 6055, 7156,  ...,  975, 3881,  449],\n",
       "        [ 854, 8900, 5579,  ..., 7298, 8918, 7517],\n",
       "        [8596, 4798, 7250,  ..., 3537, 3218, 8941]])"
      ]
     },
     "execution_count": 6,
     "metadata": {},
     "output_type": "execute_result"
    }
   ],
   "source": [
    "torch.tensor(x, dtype = torch.int64)"
   ]
  },
  {
   "cell_type": "code",
   "execution_count": 10,
   "id": "d507d60e-5f80-4054-816b-456ad978db20",
   "metadata": {
    "execution": {
     "iopub.execute_input": "2024-01-12T01:23:40.665244Z",
     "iopub.status.busy": "2024-01-12T01:23:40.665244Z",
     "iopub.status.idle": "2024-01-12T01:23:40.682022Z",
     "shell.execute_reply": "2024-01-12T01:23:40.682022Z",
     "shell.execute_reply.started": "2024-01-12T01:23:40.665244Z"
    }
   },
   "outputs": [
    {
     "data": {
      "text/plain": [
       "tensor([[1232., 1760., 8934.,  ..., 9463., 7398., 8399.],\n",
       "        [8798., 8473.,  262.,  ...,  394., 2295., 6018.],\n",
       "        [8497., 5185., 6297.,  ..., 6622., 3612., 7022.],\n",
       "        ...,\n",
       "        [8084., 6055., 7156.,  ...,  975., 3881.,  449.],\n",
       "        [ 854., 8900., 5579.,  ..., 7298., 8918., 7517.],\n",
       "        [8596., 4798., 7250.,  ..., 3537., 3218., 8941.]], device='cuda:0',\n",
       "       dtype=torch.float64)"
      ]
     },
     "execution_count": 10,
     "metadata": {},
     "output_type": "execute_result"
    }
   ],
   "source": [
    "y = torch.tensor(x, dtype = torch.float64, device = torch.device(\"cuda:0\"))\n",
    "y"
   ]
  },
  {
   "cell_type": "code",
   "execution_count": 11,
   "id": "09cca7d1-d060-4ff0-952c-0e26a814c90a",
   "metadata": {
    "execution": {
     "iopub.execute_input": "2024-01-12T01:23:48.598293Z",
     "iopub.status.busy": "2024-01-12T01:23:48.598293Z",
     "iopub.status.idle": "2024-01-12T01:23:48.662515Z",
     "shell.execute_reply": "2024-01-12T01:23:48.662515Z",
     "shell.execute_reply.started": "2024-01-12T01:23:48.598293Z"
    }
   },
   "outputs": [
    {
     "data": {
      "text/plain": [
       "tensor(5.0006e+09, device='cuda:0', dtype=torch.float64)"
      ]
     },
     "execution_count": 11,
     "metadata": {},
     "output_type": "execute_result"
    }
   ],
   "source": [
    "y.sum()"
   ]
  },
  {
   "cell_type": "code",
   "execution_count": 13,
   "id": "8600ef31-c18e-4c18-bea4-0ef4207573fd",
   "metadata": {
    "execution": {
     "iopub.execute_input": "2024-01-12T01:24:06.971663Z",
     "iopub.status.busy": "2024-01-12T01:24:06.971663Z",
     "iopub.status.idle": "2024-01-12T01:24:06.984279Z",
     "shell.execute_reply": "2024-01-12T01:24:06.984279Z",
     "shell.execute_reply.started": "2024-01-12T01:24:06.971663Z"
    }
   },
   "outputs": [
    {
     "data": {
      "text/plain": [
       "torch.Size([1000, 1000])"
      ]
     },
     "execution_count": 13,
     "metadata": {},
     "output_type": "execute_result"
    }
   ],
   "source": [
    "y.shape"
   ]
  },
  {
   "cell_type": "code",
   "execution_count": 14,
   "id": "b598a7df-b8e5-4ad4-b801-b1775cdd49aa",
   "metadata": {
    "execution": {
     "iopub.execute_input": "2024-01-12T01:24:10.558298Z",
     "iopub.status.busy": "2024-01-12T01:24:10.558298Z",
     "iopub.status.idle": "2024-01-12T01:24:10.567208Z",
     "shell.execute_reply": "2024-01-12T01:24:10.567208Z",
     "shell.execute_reply.started": "2024-01-12T01:24:10.558298Z"
    }
   },
   "outputs": [
    {
     "data": {
      "text/plain": [
       "torch.Size([1000000])"
      ]
     },
     "execution_count": 14,
     "metadata": {},
     "output_type": "execute_result"
    }
   ],
   "source": [
    "y.flatten().shape"
   ]
  },
  {
   "cell_type": "code",
   "execution_count": 35,
   "id": "ba7eba60-f5bf-43a3-81a9-a88654966888",
   "metadata": {
    "execution": {
     "iopub.execute_input": "2024-01-12T01:42:46.316462Z",
     "iopub.status.busy": "2024-01-12T01:42:46.316462Z",
     "iopub.status.idle": "2024-01-12T01:42:46.322326Z",
     "shell.execute_reply": "2024-01-12T01:42:46.322326Z",
     "shell.execute_reply.started": "2024-01-12T01:42:46.316462Z"
    }
   },
   "outputs": [],
   "source": [
    "with open(r\"./girl.jpg\", mode = \"rb\") as fp:\n",
    "    girl = np.fromfile(fp, dtype = np.uint8)"
   ]
  },
  {
   "cell_type": "code",
   "execution_count": 37,
   "id": "b196e2e3-ca41-4820-9f51-ca57e6e486c4",
   "metadata": {
    "execution": {
     "iopub.execute_input": "2024-01-12T01:43:01.476011Z",
     "iopub.status.busy": "2024-01-12T01:43:01.476011Z",
     "iopub.status.idle": "2024-01-12T01:43:01.489546Z",
     "shell.execute_reply": "2024-01-12T01:43:01.489031Z",
     "shell.execute_reply.started": "2024-01-12T01:43:01.476011Z"
    }
   },
   "outputs": [
    {
     "data": {
      "text/plain": [
       "687321"
      ]
     },
     "execution_count": 37,
     "metadata": {},
     "output_type": "execute_result"
    }
   ],
   "source": [
    "girl.size"
   ]
  },
  {
   "cell_type": "code",
   "execution_count": 38,
   "id": "42ffd68f-fa1c-4ec7-bc7a-c7455a62de78",
   "metadata": {
    "execution": {
     "iopub.execute_input": "2024-01-12T01:43:11.336494Z",
     "iopub.status.busy": "2024-01-12T01:43:11.336494Z",
     "iopub.status.idle": "2024-01-12T01:43:11.344348Z",
     "shell.execute_reply": "2024-01-12T01:43:11.343246Z",
     "shell.execute_reply.started": "2024-01-12T01:43:11.336494Z"
    }
   },
   "outputs": [
    {
     "data": {
      "text/plain": [
       "(687321,)"
      ]
     },
     "execution_count": 38,
     "metadata": {},
     "output_type": "execute_result"
    }
   ],
   "source": [
    "girl.shape"
   ]
  },
  {
   "cell_type": "code",
   "execution_count": 39,
   "id": "f4b23cd4-253b-4fe9-bae7-87ac408f1519",
   "metadata": {
    "execution": {
     "iopub.execute_input": "2024-01-12T01:43:15.526668Z",
     "iopub.status.busy": "2024-01-12T01:43:15.526668Z",
     "iopub.status.idle": "2024-01-12T01:43:15.658006Z",
     "shell.execute_reply": "2024-01-12T01:43:15.658006Z",
     "shell.execute_reply.started": "2024-01-12T01:43:15.526668Z"
    }
   },
   "outputs": [
    {
     "data": {
      "text/plain": [
       "tensor([255, 216, 255,  ...,  67, 255, 217], device='cuda:0',\n",
       "       dtype=torch.uint8)"
      ]
     },
     "execution_count": 39,
     "metadata": {},
     "output_type": "execute_result"
    }
   ],
   "source": [
    "torch.tensor(girl, device = torch.device(\"cuda:0\"), dtype = torch.uint8)"
   ]
  },
  {
   "cell_type": "code",
   "execution_count": null,
   "id": "6e57f1b6-d3c2-4ea5-b5c4-411cf4452578",
   "metadata": {},
   "outputs": [],
   "source": []
  }
 ],
 "metadata": {
  "kernelspec": {
   "display_name": "Python 3 (ipykernel)",
   "language": "python",
   "name": "python3"
  },
  "language_info": {
   "codemirror_mode": {
    "name": "ipython",
    "version": 3
   },
   "file_extension": ".py",
   "mimetype": "text/x-python",
   "name": "python",
   "nbconvert_exporter": "python",
   "pygments_lexer": "ipython3",
   "version": "3.11.7"
  }
 },
 "nbformat": 4,
 "nbformat_minor": 5
}
