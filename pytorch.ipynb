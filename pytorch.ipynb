{
 "cells": [
  {
   "cell_type": "code",
   "execution_count": 9,
   "id": "5079b320-f463-45be-b5b4-7c8a9d0e6085",
   "metadata": {
    "execution": {
     "iopub.execute_input": "2024-01-13T13:15:00.329155Z",
     "iopub.status.busy": "2024-01-13T13:15:00.329155Z",
     "iopub.status.idle": "2024-01-13T13:15:00.344036Z",
     "shell.execute_reply": "2024-01-13T13:15:00.344036Z",
     "shell.execute_reply.started": "2024-01-13T13:15:00.329155Z"
    }
   },
   "outputs": [],
   "source": [
    "import numpy as np\n",
    "import torch\n",
    "import matplotlib as plt\n",
    "from PIL import Image"
   ]
  },
  {
   "cell_type": "code",
   "execution_count": 6,
   "id": "52fc6ac1-58be-45eb-9a5a-731ed33322c1",
   "metadata": {
    "execution": {
     "iopub.execute_input": "2024-01-13T13:14:26.231844Z",
     "iopub.status.busy": "2024-01-13T13:14:26.231844Z",
     "iopub.status.idle": "2024-01-13T13:14:26.248648Z",
     "shell.execute_reply": "2024-01-13T13:14:26.247504Z",
     "shell.execute_reply.started": "2024-01-13T13:14:26.231844Z"
    }
   },
   "outputs": [],
   "source": [
    "with open(r\"./girl.bmp\", \"rb\") as fp:\n",
    "    image = np.fromfile(fp, dtype = np.uint8)"
   ]
  },
  {
   "cell_type": "code",
   "execution_count": 7,
   "id": "8519324f-2cff-4ee6-a7e6-953c70933e57",
   "metadata": {
    "execution": {
     "iopub.execute_input": "2024-01-13T13:14:26.890305Z",
     "iopub.status.busy": "2024-01-13T13:14:26.890305Z",
     "iopub.status.idle": "2024-01-13T13:14:26.905817Z",
     "shell.execute_reply": "2024-01-13T13:14:26.904714Z",
     "shell.execute_reply.started": "2024-01-13T13:14:26.890305Z"
    }
   },
   "outputs": [
    {
     "data": {
      "text/plain": [
       "array([ 66,  77,  54, ...,  44,  18, 255], dtype=uint8)"
      ]
     },
     "execution_count": 7,
     "metadata": {},
     "output_type": "execute_result"
    }
   ],
   "source": [
    "image"
   ]
  },
  {
   "cell_type": "code",
   "execution_count": 8,
   "id": "4e573745-6cfc-4e02-8890-12cdca4b2aaa",
   "metadata": {
    "execution": {
     "iopub.execute_input": "2024-01-13T13:14:31.918579Z",
     "iopub.status.busy": "2024-01-13T13:14:31.918579Z",
     "iopub.status.idle": "2024-01-13T13:14:31.932166Z",
     "shell.execute_reply": "2024-01-13T13:14:31.932166Z",
     "shell.execute_reply.started": "2024-01-13T13:14:31.918579Z"
    }
   },
   "outputs": [
    {
     "data": {
      "text/plain": [
       "9437238"
      ]
     },
     "execution_count": 8,
     "metadata": {},
     "output_type": "execute_result"
    }
   ],
   "source": [
    "image.size"
   ]
  },
  {
   "cell_type": "code",
   "execution_count": 11,
   "id": "1e1ede72-8f7b-4fca-98e3-838944ab76b9",
   "metadata": {
    "execution": {
     "iopub.execute_input": "2024-01-13T13:15:24.799292Z",
     "iopub.status.busy": "2024-01-13T13:15:24.799292Z",
     "iopub.status.idle": "2024-01-13T13:15:24.810835Z",
     "shell.execute_reply": "2024-01-13T13:15:24.809755Z",
     "shell.execute_reply.started": "2024-01-13T13:15:24.799292Z"
    }
   },
   "outputs": [],
   "source": [
    "picture = Image.open(r\"./girl.bmp\")"
   ]
  },
  {
   "cell_type": "code",
   "execution_count": 13,
   "id": "351bcbd8-b6d0-4902-9869-eee4858513ae",
   "metadata": {
    "execution": {
     "iopub.execute_input": "2024-01-13T13:15:42.144979Z",
     "iopub.status.busy": "2024-01-13T13:15:42.144979Z",
     "iopub.status.idle": "2024-01-13T13:15:42.165868Z",
     "shell.execute_reply": "2024-01-13T13:15:42.165748Z",
     "shell.execute_reply.started": "2024-01-13T13:15:42.144979Z"
    }
   },
   "outputs": [
    {
     "data": {
      "text/plain": [
       "(2048, 1152)"
      ]
     },
     "execution_count": 13,
     "metadata": {},
     "output_type": "execute_result"
    }
   ],
   "source": [
    "picture.width, picture.height"
   ]
  },
  {
   "cell_type": "code",
   "execution_count": 15,
   "id": "c9f3fe69-2f58-450c-9ae3-1f770e5d4505",
   "metadata": {
    "execution": {
     "iopub.execute_input": "2024-01-13T13:16:12.688215Z",
     "iopub.status.busy": "2024-01-13T13:16:12.688215Z",
     "iopub.status.idle": "2024-01-13T13:16:12.701958Z",
     "shell.execute_reply": "2024-01-13T13:16:12.700840Z",
     "shell.execute_reply.started": "2024-01-13T13:16:12.688215Z"
    }
   },
   "outputs": [
    {
     "data": {
      "text/plain": [
       "array([ 73, 203, 203, ...,  44,  18, 255], dtype=uint8)"
      ]
     },
     "execution_count": 15,
     "metadata": {},
     "output_type": "execute_result"
    }
   ],
   "source": [
    "# BMP pixel arrays\n",
    "\n",
    "image[54:]"
   ]
  },
  {
   "cell_type": "code",
   "execution_count": 17,
   "id": "970bf467-cbe3-4c6f-a5bc-03dc6a86c06b",
   "metadata": {
    "execution": {
     "iopub.execute_input": "2024-01-13T13:16:23.407789Z",
     "iopub.status.busy": "2024-01-13T13:16:23.407789Z",
     "iopub.status.idle": "2024-01-13T13:16:23.422523Z",
     "shell.execute_reply": "2024-01-13T13:16:23.421410Z",
     "shell.execute_reply.started": "2024-01-13T13:16:23.407789Z"
    }
   },
   "outputs": [
    {
     "data": {
      "text/plain": [
       "4608.0"
      ]
     },
     "execution_count": 17,
     "metadata": {},
     "output_type": "execute_result"
    }
   ],
   "source": [
    "len(image[54:]) / picture.width"
   ]
  },
  {
   "cell_type": "code",
   "execution_count": 27,
   "id": "b384d3d1-5a83-4ba0-837d-184c7b88c0fd",
   "metadata": {
    "execution": {
     "iopub.execute_input": "2024-01-13T13:19:34.719449Z",
     "iopub.status.busy": "2024-01-13T13:19:34.719449Z",
     "iopub.status.idle": "2024-01-13T13:19:34.733758Z",
     "shell.execute_reply": "2024-01-13T13:19:34.732683Z",
     "shell.execute_reply.started": "2024-01-13T13:19:34.719449Z"
    }
   },
   "outputs": [
    {
     "data": {
      "text/plain": [
       "2359296"
      ]
     },
     "execution_count": 27,
     "metadata": {},
     "output_type": "execute_result"
    }
   ],
   "source": [
    "picture.width * picture.height"
   ]
  },
  {
   "cell_type": "code",
   "execution_count": 28,
   "id": "13bc1ec4-efe9-42ac-a911-c2d8d404d259",
   "metadata": {
    "execution": {
     "iopub.execute_input": "2024-01-13T13:19:58.410753Z",
     "iopub.status.busy": "2024-01-13T13:19:58.409717Z",
     "iopub.status.idle": "2024-01-13T13:19:58.417175Z",
     "shell.execute_reply": "2024-01-13T13:19:58.416661Z",
     "shell.execute_reply.started": "2024-01-13T13:19:58.410753Z"
    }
   },
   "outputs": [
    {
     "data": {
      "text/plain": [
       "9437184"
      ]
     },
     "execution_count": 28,
     "metadata": {},
     "output_type": "execute_result"
    }
   ],
   "source": [
    "picture.width * picture.height * 4"
   ]
  },
  {
   "cell_type": "code",
   "execution_count": 40,
   "id": "ed6c0cba-1705-4218-8a4b-572470ed26ea",
   "metadata": {
    "execution": {
     "iopub.execute_input": "2024-01-13T13:24:00.144360Z",
     "iopub.status.busy": "2024-01-13T13:24:00.144360Z",
     "iopub.status.idle": "2024-01-13T13:24:00.166599Z",
     "shell.execute_reply": "2024-01-13T13:24:00.164944Z",
     "shell.execute_reply.started": "2024-01-13T13:24:00.144360Z"
    }
   },
   "outputs": [
    {
     "data": {
      "text/plain": [
       "2359296.0"
      ]
     },
     "execution_count": 40,
     "metadata": {},
     "output_type": "execute_result"
    }
   ],
   "source": [
    "len(image[54:]) / 4"
   ]
  },
  {
   "cell_type": "code",
   "execution_count": null,
   "id": "26b10002-8193-4148-a90f-00fa6c9f3c15",
   "metadata": {
    "execution": {
     "iopub.execute_input": "2024-01-13T13:24:55.018652Z",
     "iopub.status.busy": "2024-01-13T13:24:55.018652Z"
    }
   },
   "outputs": [],
   "source": [
    "pixels = np.array(np.split(image[54:], 2359296))"
   ]
  },
  {
   "cell_type": "code",
   "execution_count": null,
   "id": "cf6ef858-ad91-4d35-b010-e11c1ccc480a",
   "metadata": {},
   "outputs": [],
   "source": []
  }
 ],
 "metadata": {
  "kernelspec": {
   "display_name": "Python 3 (ipykernel)",
   "language": "python",
   "name": "python3"
  },
  "language_info": {
   "codemirror_mode": {
    "name": "ipython",
    "version": 3
   },
   "file_extension": ".py",
   "mimetype": "text/x-python",
   "name": "python",
   "nbconvert_exporter": "python",
   "pygments_lexer": "ipython3",
   "version": "3.11.7"
  }
 },
 "nbformat": 4,
 "nbformat_minor": 5
}
