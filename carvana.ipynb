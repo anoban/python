{
 "cells": [
  {
   "cell_type": "code",
   "execution_count": 18,
   "id": "c52e387c-8dac-4ced-8c6e-457d266f20de",
   "metadata": {},
   "outputs": [],
   "source": [
    "import os\n",
    "import numpy as np\n",
    "np.random.seed(2025-7-23)"
   ]
  },
  {
   "cell_type": "code",
   "execution_count": null,
   "id": "0b713cda-445f-42af-9d69-5ef535f99711",
   "metadata": {},
   "outputs": [],
   "source": []
  },
  {
   "cell_type": "code",
   "execution_count": 19,
   "id": "00619b88-a6a3-4e8c-b89f-20f63208154e",
   "metadata": {},
   "outputs": [],
   "source": [
    "cars = np.unique([_.split('_')[0] for _ in os.listdir(r\"D:/carvana/\")]) # harvest the base names of the cars without the augmentation suffixes\n",
    "images = np.array(os.listdir(r\"D:/carvana/\"))"
   ]
  },
  {
   "cell_type": "code",
   "execution_count": 20,
   "id": "f36ea61f-3459-49ac-9ae7-f90e57cd1c78",
   "metadata": {},
   "outputs": [],
   "source": [
    "# pick 100 random cars\n",
    "chosen = np.random.choice(cars, size=100)"
   ]
  },
  {
   "cell_type": "code",
   "execution_count": 22,
   "id": "bbf892c0-81ff-4d7c-b356-0d08ae4cbf98",
   "metadata": {},
   "outputs": [
    {
     "data": {
      "text/plain": [
       "[np.str_('test_hq'),\n",
       " np.str_('test_hq'),\n",
       " np.str_('test_hq'),\n",
       " np.str_('test_hq'),\n",
       " np.str_('test_hq'),\n",
       " np.str_('test_hq'),\n",
       " np.str_('test_hq'),\n",
       " np.str_('test_hq'),\n",
       " np.str_('test_hq'),\n",
       " np.str_('test_hq'),\n",
       " np.str_('test_hq'),\n",
       " np.str_('test_hq'),\n",
       " np.str_('test_hq'),\n",
       " np.str_('test_hq'),\n",
       " np.str_('test_hq'),\n",
       " np.str_('test_hq'),\n",
       " np.str_('test_hq'),\n",
       " np.str_('test_hq'),\n",
       " np.str_('test_hq'),\n",
       " np.str_('test_hq'),\n",
       " np.str_('test_hq'),\n",
       " np.str_('test_hq'),\n",
       " np.str_('test_hq'),\n",
       " np.str_('test_hq'),\n",
       " np.str_('test_hq'),\n",
       " np.str_('test_hq'),\n",
       " np.str_('test_hq'),\n",
       " np.str_('test_hq'),\n",
       " np.str_('test_hq'),\n",
       " np.str_('test_hq'),\n",
       " np.str_('test_hq'),\n",
       " np.str_('test_hq'),\n",
       " np.str_('test_hq'),\n",
       " np.str_('test_hq'),\n",
       " np.str_('test_hq'),\n",
       " np.str_('test_hq'),\n",
       " np.str_('test_hq'),\n",
       " np.str_('test_hq'),\n",
       " np.str_('test_hq'),\n",
       " np.str_('test_hq'),\n",
       " np.str_('test_hq'),\n",
       " np.str_('test_hq'),\n",
       " np.str_('test_hq'),\n",
       " np.str_('test_hq'),\n",
       " np.str_('test_hq'),\n",
       " np.str_('test_hq'),\n",
       " np.str_('test_hq'),\n",
       " np.str_('test_hq'),\n",
       " np.str_('test_hq'),\n",
       " np.str_('test_hq'),\n",
       " np.str_('test_hq'),\n",
       " np.str_('test_hq'),\n",
       " np.str_('test_hq'),\n",
       " np.str_('test_hq'),\n",
       " np.str_('test_hq'),\n",
       " np.str_('test_hq'),\n",
       " np.str_('test_hq'),\n",
       " np.str_('test_hq'),\n",
       " np.str_('test_hq'),\n",
       " np.str_('test_hq'),\n",
       " np.str_('test_hq'),\n",
       " np.str_('test_hq'),\n",
       " np.str_('test_hq'),\n",
       " np.str_('test_hq'),\n",
       " np.str_('test_hq'),\n",
       " np.str_('test_hq'),\n",
       " np.str_('test_hq'),\n",
       " np.str_('test_hq'),\n",
       " np.str_('test_hq'),\n",
       " np.str_('test_hq'),\n",
       " np.str_('test_hq'),\n",
       " np.str_('test_hq'),\n",
       " np.str_('test_hq'),\n",
       " np.str_('test_hq'),\n",
       " np.str_('test_hq'),\n",
       " np.str_('test_hq'),\n",
       " np.str_('test_hq'),\n",
       " np.str_('test_hq'),\n",
       " np.str_('test_hq'),\n",
       " np.str_('test_hq'),\n",
       " np.str_('test_hq'),\n",
       " np.str_('test_hq'),\n",
       " np.str_('test_hq'),\n",
       " np.str_('test_hq'),\n",
       " np.str_('test_hq'),\n",
       " np.str_('test_hq'),\n",
       " np.str_('test_hq'),\n",
       " np.str_('test_hq'),\n",
       " np.str_('test_hq'),\n",
       " np.str_('test_hq'),\n",
       " np.str_('test_hq'),\n",
       " np.str_('test_hq'),\n",
       " np.str_('test_hq'),\n",
       " np.str_('test_hq'),\n",
       " np.str_('test_hq'),\n",
       " np.str_('test_hq'),\n",
       " np.str_('test_hq'),\n",
       " np.str_('test_hq'),\n",
       " np.str_('test_hq'),\n",
       " np.str_('test_hq')]"
      ]
     },
     "execution_count": 22,
     "metadata": {},
     "output_type": "execute_result"
    }
   ],
   "source": [
    "# move them to a new folder\n",
    "[fname for car in chosen for fname in images if fname.startswith(car)]"
   ]
  },
  {
   "cell_type": "code",
   "execution_count": null,
   "id": "fe910172-29ed-4118-bff7-c7e56590c1cb",
   "metadata": {},
   "outputs": [],
   "source": []
  }
 ],
 "metadata": {
  "kernelspec": {
   "display_name": "Python 3 (ipykernel)",
   "language": "python",
   "name": "python3"
  },
  "language_info": {
   "codemirror_mode": {
    "name": "ipython",
    "version": 3
   },
   "file_extension": ".py",
   "mimetype": "text/x-python",
   "name": "python",
   "nbconvert_exporter": "python",
   "pygments_lexer": "ipython3",
   "version": "3.13.5"
  }
 },
 "nbformat": 4,
 "nbformat_minor": 5
}
