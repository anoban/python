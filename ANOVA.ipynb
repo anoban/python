{
 "cells": [
  {
   "cell_type": "code",
   "execution_count": 1,
   "id": "a4c4c717-8021-4323-bd1b-7fa8ad99241d",
   "metadata": {
    "execution": {
     "iopub.execute_input": "2023-03-30T05:01:50.690151Z",
     "iopub.status.busy": "2023-03-30T05:01:50.690151Z",
     "iopub.status.idle": "2023-03-30T05:02:15.077261Z",
     "shell.execute_reply": "2023-03-30T05:02:15.076243Z",
     "shell.execute_reply.started": "2023-03-30T05:01:50.690151Z"
    },
    "tags": []
   },
   "outputs": [],
   "source": [
    "import numpy as np\n",
    "import pandas as pd\n",
    "from scipy.stats import f_oneway\n",
    "import matplotlib.pyplot as plt"
   ]
  },
  {
   "cell_type": "code",
   "execution_count": 2,
   "id": "9978fceb-8ee3-47c4-be7b-462cdb929bdc",
   "metadata": {
    "execution": {
     "iopub.execute_input": "2023-03-29T09:17:12.816846Z",
     "iopub.status.busy": "2023-03-29T09:17:12.816846Z",
     "iopub.status.idle": "2023-03-29T09:17:13.012107Z",
     "shell.execute_reply": "2023-03-29T09:17:13.012107Z",
     "shell.execute_reply.started": "2023-03-29T09:17:12.816846Z"
    },
    "tags": []
   },
   "outputs": [],
   "source": [
    "achyranthus = pd.read_csv(r\"./research_data/achyranthus_aserpa.csv\")\n",
    "vitex = pd.read_csv(r\"./research_data/vitex_negundo_correct.csv\")\n",
    "bacillus = pd.read_csv(r\"./research_data/bmegaterium.csv\")\n",
    "pseudomonas = pd.read_csv(r\"./research_data/pfluorescens.csv\")"
   ]
  },
  {
   "cell_type": "code",
   "execution_count": 3,
   "id": "2e2d2f6e-3062-476a-ab09-09ed58aa2772",
   "metadata": {
    "execution": {
     "iopub.execute_input": "2023-03-25T04:34:33.402046Z",
     "iopub.status.busy": "2023-03-25T04:34:33.402046Z",
     "iopub.status.idle": "2023-03-25T04:34:33.408985Z",
     "shell.execute_reply": "2023-03-25T04:34:33.408985Z",
     "shell.execute_reply.started": "2023-03-25T04:34:33.402046Z"
    },
    "tags": []
   },
   "outputs": [],
   "source": [
    "agents = [achyranthus, vitex, bacillus, pseudomonas]"
   ]
  },
  {
   "cell_type": "code",
   "execution_count": 4,
   "id": "27fcf21c-bcef-47d7-9d20-74ee469155c7",
   "metadata": {
    "execution": {
     "iopub.execute_input": "2023-03-25T04:34:33.858473Z",
     "iopub.status.busy": "2023-03-25T04:34:33.858473Z",
     "iopub.status.idle": "2023-03-25T04:34:33.868622Z",
     "shell.execute_reply": "2023-03-25T04:34:33.868622Z",
     "shell.execute_reply.started": "2023-03-25T04:34:33.858473Z"
    },
    "tags": []
   },
   "outputs": [
    {
     "data": {
      "text/plain": [
       "Index(['days', '10^6', '10^5', '10^4', '10^3', 'sterile water', 'positive'], dtype='object')"
      ]
     },
     "execution_count": 4,
     "metadata": {},
     "output_type": "execute_result"
    }
   ],
   "source": [
    "pseudomonas.columns"
   ]
  },
  {
   "cell_type": "code",
   "execution_count": 5,
   "id": "a8e7f5ff-eb63-482b-a41a-803dbc2d45b5",
   "metadata": {
    "execution": {
     "iopub.execute_input": "2023-03-25T04:34:34.282725Z",
     "iopub.status.busy": "2023-03-25T04:34:34.282725Z",
     "iopub.status.idle": "2023-03-25T04:34:34.289756Z",
     "shell.execute_reply": "2023-03-25T04:34:34.289756Z",
     "shell.execute_reply.started": "2023-03-25T04:34:34.282725Z"
    },
    "tags": []
   },
   "outputs": [
    {
     "data": {
      "text/plain": [
       "Index(['days', '10^6', '10^5', '10^4', '10^3', 'sterile water', 'positive'], dtype='object')"
      ]
     },
     "execution_count": 5,
     "metadata": {},
     "output_type": "execute_result"
    }
   ],
   "source": [
    "bacillus.columns"
   ]
  },
  {
   "cell_type": "code",
   "execution_count": 6,
   "id": "7e14df9d-2c24-4e24-9012-e6be7a4bdc86",
   "metadata": {
    "execution": {
     "iopub.execute_input": "2023-03-25T04:34:34.460525Z",
     "iopub.status.busy": "2023-03-25T04:34:34.460525Z",
     "iopub.status.idle": "2023-03-25T04:34:34.474269Z",
     "shell.execute_reply": "2023-03-25T04:34:34.474269Z",
     "shell.execute_reply.started": "2023-03-25T04:34:34.460525Z"
    },
    "tags": []
   },
   "outputs": [
    {
     "data": {
      "text/plain": [
       "Index(['days', '10^6', '10^5', '10^4', '10^3', 'sterile water', 'positive'], dtype='object')"
      ]
     },
     "execution_count": 6,
     "metadata": {},
     "output_type": "execute_result"
    }
   ],
   "source": [
    "vitex.columns"
   ]
  },
  {
   "cell_type": "code",
   "execution_count": 7,
   "id": "d2d0209f-0991-4f51-8bb6-b9391baf5af2",
   "metadata": {
    "execution": {
     "iopub.execute_input": "2023-03-25T04:34:34.629187Z",
     "iopub.status.busy": "2023-03-25T04:34:34.629187Z",
     "iopub.status.idle": "2023-03-25T04:34:34.634745Z",
     "shell.execute_reply": "2023-03-25T04:34:34.634745Z",
     "shell.execute_reply.started": "2023-03-25T04:34:34.629187Z"
    },
    "tags": []
   },
   "outputs": [
    {
     "data": {
      "text/plain": [
       "Index(['days', '10^6', '10^5', '10^4', '10^3', 'sterile water', 'positive'], dtype='object')"
      ]
     },
     "execution_count": 7,
     "metadata": {},
     "output_type": "execute_result"
    }
   ],
   "source": [
    "achyranthus.columns"
   ]
  },
  {
   "cell_type": "code",
   "execution_count": 8,
   "id": "f220a58e-f94d-45a8-b1ec-6bc58dfb2ef6",
   "metadata": {
    "execution": {
     "iopub.execute_input": "2023-03-25T04:34:34.786578Z",
     "iopub.status.busy": "2023-03-25T04:34:34.786578Z",
     "iopub.status.idle": "2023-03-25T04:34:34.791900Z",
     "shell.execute_reply": "2023-03-25T04:34:34.791900Z",
     "shell.execute_reply.started": "2023-03-25T04:34:34.786578Z"
    },
    "tags": []
   },
   "outputs": [],
   "source": [
    "# Hypotheses\n",
    "\n",
    "# For each control agent prove that the control agent causes a significant reduction in symptom development.\n",
    "# Ignore the negative control.\n",
    "# Use the positive control as reference.\n",
    "\n",
    "# Null hypothesis -> \n",
    "# There is no significant difference in the degree of symptom development between the experimental setups and positive control\n",
    "# Alternative hypothesis -> \n",
    "# There is a significant difference in the degree of symptom development between the experimental setups and positive control"
   ]
  },
  {
   "cell_type": "code",
   "execution_count": 3,
   "id": "fba1ce71-66bf-4c35-bfc3-cd12f0a2f14f",
   "metadata": {
    "execution": {
     "iopub.execute_input": "2023-03-29T09:20:31.007670Z",
     "iopub.status.busy": "2023-03-29T09:20:31.007670Z",
     "iopub.status.idle": "2023-03-29T09:20:31.207474Z",
     "shell.execute_reply": "2023-03-29T09:20:31.207474Z",
     "shell.execute_reply.started": "2023-03-29T09:20:31.007670Z"
    },
    "tags": []
   },
   "outputs": [
    {
     "data": {
      "text/html": [
       "<div>\n",
       "<style scoped>\n",
       "    .dataframe tbody tr th:only-of-type {\n",
       "        vertical-align: middle;\n",
       "    }\n",
       "\n",
       "    .dataframe tbody tr th {\n",
       "        vertical-align: top;\n",
       "    }\n",
       "\n",
       "    .dataframe thead th {\n",
       "        text-align: right;\n",
       "    }\n",
       "</style>\n",
       "<table border=\"1\" class=\"dataframe\">\n",
       "  <thead>\n",
       "    <tr style=\"text-align: right;\">\n",
       "      <th></th>\n",
       "      <th>days</th>\n",
       "      <th>10^6</th>\n",
       "      <th>10^5</th>\n",
       "      <th>10^4</th>\n",
       "      <th>10^3</th>\n",
       "      <th>sterile water</th>\n",
       "      <th>positive</th>\n",
       "    </tr>\n",
       "  </thead>\n",
       "  <tbody>\n",
       "    <tr>\n",
       "      <th>0</th>\n",
       "      <td>0</td>\n",
       "      <td>0.00</td>\n",
       "      <td>0</td>\n",
       "      <td>0.000000</td>\n",
       "      <td>0.000000</td>\n",
       "      <td>0</td>\n",
       "      <td>0.00</td>\n",
       "    </tr>\n",
       "    <tr>\n",
       "      <th>1</th>\n",
       "      <td>3</td>\n",
       "      <td>0.00</td>\n",
       "      <td>0</td>\n",
       "      <td>0.000000</td>\n",
       "      <td>0.000000</td>\n",
       "      <td>0</td>\n",
       "      <td>0.00</td>\n",
       "    </tr>\n",
       "    <tr>\n",
       "      <th>2</th>\n",
       "      <td>4</td>\n",
       "      <td>0.00</td>\n",
       "      <td>0</td>\n",
       "      <td>0.000000</td>\n",
       "      <td>0.000000</td>\n",
       "      <td>0</td>\n",
       "      <td>0.00</td>\n",
       "    </tr>\n",
       "    <tr>\n",
       "      <th>3</th>\n",
       "      <td>6</td>\n",
       "      <td>0.01</td>\n",
       "      <td>0</td>\n",
       "      <td>0.000000</td>\n",
       "      <td>0.000000</td>\n",
       "      <td>0</td>\n",
       "      <td>0.40</td>\n",
       "    </tr>\n",
       "    <tr>\n",
       "      <th>4</th>\n",
       "      <td>7</td>\n",
       "      <td>0.01</td>\n",
       "      <td>0</td>\n",
       "      <td>0.000000</td>\n",
       "      <td>0.000000</td>\n",
       "      <td>0</td>\n",
       "      <td>0.72</td>\n",
       "    </tr>\n",
       "    <tr>\n",
       "      <th>5</th>\n",
       "      <td>10</td>\n",
       "      <td>0.10</td>\n",
       "      <td>0</td>\n",
       "      <td>0.003333</td>\n",
       "      <td>0.000000</td>\n",
       "      <td>0</td>\n",
       "      <td>0.85</td>\n",
       "    </tr>\n",
       "    <tr>\n",
       "      <th>6</th>\n",
       "      <td>12</td>\n",
       "      <td>0.18</td>\n",
       "      <td>0</td>\n",
       "      <td>0.003333</td>\n",
       "      <td>0.000000</td>\n",
       "      <td>0</td>\n",
       "      <td>0.86</td>\n",
       "    </tr>\n",
       "    <tr>\n",
       "      <th>7</th>\n",
       "      <td>13</td>\n",
       "      <td>0.20</td>\n",
       "      <td>0</td>\n",
       "      <td>0.003333</td>\n",
       "      <td>0.016667</td>\n",
       "      <td>0</td>\n",
       "      <td>0.91</td>\n",
       "    </tr>\n",
       "    <tr>\n",
       "      <th>8</th>\n",
       "      <td>16</td>\n",
       "      <td>0.20</td>\n",
       "      <td>0</td>\n",
       "      <td>0.003333</td>\n",
       "      <td>0.033333</td>\n",
       "      <td>0</td>\n",
       "      <td>0.94</td>\n",
       "    </tr>\n",
       "  </tbody>\n",
       "</table>\n",
       "</div>"
      ],
      "text/plain": [
       "   days  10^6  10^5      10^4      10^3  sterile water  positive\n",
       "0     0  0.00     0  0.000000  0.000000              0      0.00\n",
       "1     3  0.00     0  0.000000  0.000000              0      0.00\n",
       "2     4  0.00     0  0.000000  0.000000              0      0.00\n",
       "3     6  0.01     0  0.000000  0.000000              0      0.40\n",
       "4     7  0.01     0  0.000000  0.000000              0      0.72\n",
       "5    10  0.10     0  0.003333  0.000000              0      0.85\n",
       "6    12  0.18     0  0.003333  0.000000              0      0.86\n",
       "7    13  0.20     0  0.003333  0.016667              0      0.91\n",
       "8    16  0.20     0  0.003333  0.033333              0      0.94"
      ]
     },
     "execution_count": 3,
     "metadata": {},
     "output_type": "execute_result"
    }
   ],
   "source": [
    "achyranthus"
   ]
  },
  {
   "cell_type": "code",
   "execution_count": 9,
   "id": "144a1818-79c5-45a8-b021-ea7012ec2485",
   "metadata": {
    "execution": {
     "iopub.execute_input": "2023-03-25T04:34:34.948895Z",
     "iopub.status.busy": "2023-03-25T04:34:34.948895Z",
     "iopub.status.idle": "2023-03-25T04:34:34.993444Z",
     "shell.execute_reply": "2023-03-25T04:34:34.993444Z",
     "shell.execute_reply.started": "2023-03-25T04:34:34.948895Z"
    },
    "tags": []
   },
   "outputs": [
    {
     "data": {
      "text/plain": [
       "[array([ 0,  3,  4,  6,  7, 10, 12, 13, 16], dtype=int64),\n",
       " array([ 3,  4,  6,  7, 10, 12, 13, 16], dtype=int64),\n",
       " array([ 0,  2,  4,  8, 13], dtype=int64),\n",
       " array([ 0,  1,  4,  6,  8, 12, 16], dtype=int64)]"
      ]
     },
     "execution_count": 9,
     "metadata": {},
     "output_type": "execute_result"
    }
   ],
   "source": [
    "[df[\"days\"].values for df in agents]"
   ]
  },
  {
   "cell_type": "code",
   "execution_count": 10,
   "id": "6237800a-63af-4fe1-8c77-57c481a3e2d4",
   "metadata": {
    "execution": {
     "iopub.execute_input": "2023-03-25T04:34:35.102050Z",
     "iopub.status.busy": "2023-03-25T04:34:35.102050Z",
     "iopub.status.idle": "2023-03-25T04:34:35.112490Z",
     "shell.execute_reply": "2023-03-25T04:34:35.112490Z",
     "shell.execute_reply.started": "2023-03-25T04:34:35.102050Z"
    },
    "tags": []
   },
   "outputs": [],
   "source": [
    "# since we did not take the measurements every day or in constant interval, comparing these raw readings will definitely lead to misleading \n",
    "# results.\n",
    "# lets prepare a series of daily increments of disease rate (this will normalize the measures)"
   ]
  },
  {
   "cell_type": "code",
   "execution_count": 11,
   "id": "3a43dead-8eb3-4942-b39c-e4a7553701e5",
   "metadata": {
    "execution": {
     "iopub.execute_input": "2023-03-25T04:34:35.306494Z",
     "iopub.status.busy": "2023-03-25T04:34:35.306494Z",
     "iopub.status.idle": "2023-03-25T04:34:35.427287Z",
     "shell.execute_reply": "2023-03-25T04:34:35.427287Z",
     "shell.execute_reply.started": "2023-03-25T04:34:35.306494Z"
    },
    "tags": []
   },
   "outputs": [
    {
     "data": {
      "text/html": [
       "<div>\n",
       "<style scoped>\n",
       "    .dataframe tbody tr th:only-of-type {\n",
       "        vertical-align: middle;\n",
       "    }\n",
       "\n",
       "    .dataframe tbody tr th {\n",
       "        vertical-align: top;\n",
       "    }\n",
       "\n",
       "    .dataframe thead th {\n",
       "        text-align: right;\n",
       "    }\n",
       "</style>\n",
       "<table border=\"1\" class=\"dataframe\">\n",
       "  <thead>\n",
       "    <tr style=\"text-align: right;\">\n",
       "      <th></th>\n",
       "      <th>days</th>\n",
       "      <th>10^6</th>\n",
       "      <th>10^5</th>\n",
       "      <th>10^4</th>\n",
       "      <th>10^3</th>\n",
       "      <th>sterile water</th>\n",
       "      <th>positive</th>\n",
       "    </tr>\n",
       "  </thead>\n",
       "  <tbody>\n",
       "    <tr>\n",
       "      <th>0</th>\n",
       "      <td>3</td>\n",
       "      <td>0.00</td>\n",
       "      <td>0.000000</td>\n",
       "      <td>0.000000</td>\n",
       "      <td>0.000000</td>\n",
       "      <td>0.000</td>\n",
       "      <td>0.00</td>\n",
       "    </tr>\n",
       "    <tr>\n",
       "      <th>1</th>\n",
       "      <td>4</td>\n",
       "      <td>0.00</td>\n",
       "      <td>0.000000</td>\n",
       "      <td>0.000000</td>\n",
       "      <td>0.000000</td>\n",
       "      <td>0.000</td>\n",
       "      <td>0.00</td>\n",
       "    </tr>\n",
       "    <tr>\n",
       "      <th>2</th>\n",
       "      <td>6</td>\n",
       "      <td>0.01</td>\n",
       "      <td>0.020000</td>\n",
       "      <td>0.110000</td>\n",
       "      <td>0.006667</td>\n",
       "      <td>0.000</td>\n",
       "      <td>0.40</td>\n",
       "    </tr>\n",
       "    <tr>\n",
       "      <th>3</th>\n",
       "      <td>7</td>\n",
       "      <td>0.04</td>\n",
       "      <td>0.143333</td>\n",
       "      <td>0.250000</td>\n",
       "      <td>0.043333</td>\n",
       "      <td>0.020</td>\n",
       "      <td>0.72</td>\n",
       "    </tr>\n",
       "    <tr>\n",
       "      <th>4</th>\n",
       "      <td>10</td>\n",
       "      <td>0.04</td>\n",
       "      <td>0.186667</td>\n",
       "      <td>0.316667</td>\n",
       "      <td>0.080000</td>\n",
       "      <td>0.050</td>\n",
       "      <td>0.85</td>\n",
       "    </tr>\n",
       "    <tr>\n",
       "      <th>5</th>\n",
       "      <td>12</td>\n",
       "      <td>0.04</td>\n",
       "      <td>0.266667</td>\n",
       "      <td>0.383333</td>\n",
       "      <td>0.126667</td>\n",
       "      <td>0.100</td>\n",
       "      <td>0.86</td>\n",
       "    </tr>\n",
       "    <tr>\n",
       "      <th>6</th>\n",
       "      <td>13</td>\n",
       "      <td>0.04</td>\n",
       "      <td>0.273333</td>\n",
       "      <td>0.450000</td>\n",
       "      <td>0.130000</td>\n",
       "      <td>0.145</td>\n",
       "      <td>0.91</td>\n",
       "    </tr>\n",
       "    <tr>\n",
       "      <th>7</th>\n",
       "      <td>16</td>\n",
       "      <td>0.05</td>\n",
       "      <td>0.423333</td>\n",
       "      <td>0.473333</td>\n",
       "      <td>0.163333</td>\n",
       "      <td>0.160</td>\n",
       "      <td>0.94</td>\n",
       "    </tr>\n",
       "  </tbody>\n",
       "</table>\n",
       "</div>"
      ],
      "text/plain": [
       "   days  10^6      10^5      10^4      10^3  sterile water  positive\n",
       "0     3  0.00  0.000000  0.000000  0.000000          0.000      0.00\n",
       "1     4  0.00  0.000000  0.000000  0.000000          0.000      0.00\n",
       "2     6  0.01  0.020000  0.110000  0.006667          0.000      0.40\n",
       "3     7  0.04  0.143333  0.250000  0.043333          0.020      0.72\n",
       "4    10  0.04  0.186667  0.316667  0.080000          0.050      0.85\n",
       "5    12  0.04  0.266667  0.383333  0.126667          0.100      0.86\n",
       "6    13  0.04  0.273333  0.450000  0.130000          0.145      0.91\n",
       "7    16  0.05  0.423333  0.473333  0.163333          0.160      0.94"
      ]
     },
     "execution_count": 11,
     "metadata": {},
     "output_type": "execute_result"
    }
   ],
   "source": [
    "vitex"
   ]
  },
  {
   "cell_type": "code",
   "execution_count": 12,
   "id": "aab1c793-6670-4bb9-b93a-c0f0853dafb8",
   "metadata": {
    "execution": {
     "iopub.execute_input": "2023-03-25T04:34:35.801097Z",
     "iopub.status.busy": "2023-03-25T04:34:35.801097Z",
     "iopub.status.idle": "2023-03-25T04:34:35.887387Z",
     "shell.execute_reply": "2023-03-25T04:34:35.887387Z",
     "shell.execute_reply.started": "2023-03-25T04:34:35.801097Z"
    },
    "tags": []
   },
   "outputs": [
    {
     "data": {
      "text/html": [
       "<div>\n",
       "<style scoped>\n",
       "    .dataframe tbody tr th:only-of-type {\n",
       "        vertical-align: middle;\n",
       "    }\n",
       "\n",
       "    .dataframe tbody tr th {\n",
       "        vertical-align: top;\n",
       "    }\n",
       "\n",
       "    .dataframe thead th {\n",
       "        text-align: right;\n",
       "    }\n",
       "</style>\n",
       "<table border=\"1\" class=\"dataframe\">\n",
       "  <thead>\n",
       "    <tr style=\"text-align: right;\">\n",
       "      <th></th>\n",
       "      <th>days</th>\n",
       "      <th>10^6</th>\n",
       "      <th>10^5</th>\n",
       "      <th>10^4</th>\n",
       "      <th>10^3</th>\n",
       "      <th>sterile water</th>\n",
       "      <th>positive</th>\n",
       "    </tr>\n",
       "  </thead>\n",
       "  <tbody>\n",
       "    <tr>\n",
       "      <th>1</th>\n",
       "      <td>1.0</td>\n",
       "      <td>0.00</td>\n",
       "      <td>0.000000</td>\n",
       "      <td>0.000000</td>\n",
       "      <td>0.000000</td>\n",
       "      <td>0.000</td>\n",
       "      <td>0.00</td>\n",
       "    </tr>\n",
       "    <tr>\n",
       "      <th>2</th>\n",
       "      <td>2.0</td>\n",
       "      <td>0.01</td>\n",
       "      <td>0.020000</td>\n",
       "      <td>0.110000</td>\n",
       "      <td>0.006667</td>\n",
       "      <td>0.000</td>\n",
       "      <td>0.40</td>\n",
       "    </tr>\n",
       "    <tr>\n",
       "      <th>3</th>\n",
       "      <td>1.0</td>\n",
       "      <td>0.03</td>\n",
       "      <td>0.123333</td>\n",
       "      <td>0.140000</td>\n",
       "      <td>0.036667</td>\n",
       "      <td>0.020</td>\n",
       "      <td>0.32</td>\n",
       "    </tr>\n",
       "    <tr>\n",
       "      <th>4</th>\n",
       "      <td>3.0</td>\n",
       "      <td>0.00</td>\n",
       "      <td>0.043333</td>\n",
       "      <td>0.066667</td>\n",
       "      <td>0.036667</td>\n",
       "      <td>0.030</td>\n",
       "      <td>0.13</td>\n",
       "    </tr>\n",
       "    <tr>\n",
       "      <th>5</th>\n",
       "      <td>2.0</td>\n",
       "      <td>0.00</td>\n",
       "      <td>0.080000</td>\n",
       "      <td>0.066667</td>\n",
       "      <td>0.046667</td>\n",
       "      <td>0.050</td>\n",
       "      <td>0.01</td>\n",
       "    </tr>\n",
       "    <tr>\n",
       "      <th>6</th>\n",
       "      <td>1.0</td>\n",
       "      <td>0.00</td>\n",
       "      <td>0.006667</td>\n",
       "      <td>0.066667</td>\n",
       "      <td>0.003333</td>\n",
       "      <td>0.045</td>\n",
       "      <td>0.05</td>\n",
       "    </tr>\n",
       "    <tr>\n",
       "      <th>7</th>\n",
       "      <td>3.0</td>\n",
       "      <td>0.01</td>\n",
       "      <td>0.150000</td>\n",
       "      <td>0.023333</td>\n",
       "      <td>0.033333</td>\n",
       "      <td>0.015</td>\n",
       "      <td>0.03</td>\n",
       "    </tr>\n",
       "  </tbody>\n",
       "</table>\n",
       "</div>"
      ],
      "text/plain": [
       "   days  10^6      10^5      10^4      10^3  sterile water  positive\n",
       "1   1.0  0.00  0.000000  0.000000  0.000000          0.000      0.00\n",
       "2   2.0  0.01  0.020000  0.110000  0.006667          0.000      0.40\n",
       "3   1.0  0.03  0.123333  0.140000  0.036667          0.020      0.32\n",
       "4   3.0  0.00  0.043333  0.066667  0.036667          0.030      0.13\n",
       "5   2.0  0.00  0.080000  0.066667  0.046667          0.050      0.01\n",
       "6   1.0  0.00  0.006667  0.066667  0.003333          0.045      0.05\n",
       "7   3.0  0.01  0.150000  0.023333  0.033333          0.015      0.03"
      ]
     },
     "execution_count": 12,
     "metadata": {},
     "output_type": "execute_result"
    }
   ],
   "source": [
    "vitex.diff().dropna(axis = 0)   #.days"
   ]
  },
  {
   "cell_type": "code",
   "execution_count": 13,
   "id": "0dfc703f-6a56-4318-9ac2-26bb2c94713e",
   "metadata": {
    "execution": {
     "iopub.execute_input": "2023-03-25T04:34:36.311759Z",
     "iopub.status.busy": "2023-03-25T04:34:36.311759Z",
     "iopub.status.idle": "2023-03-25T04:34:36.333612Z",
     "shell.execute_reply": "2023-03-25T04:34:36.333612Z",
     "shell.execute_reply.started": "2023-03-25T04:34:36.311759Z"
    },
    "tags": []
   },
   "outputs": [
    {
     "data": {
      "text/html": [
       "<div>\n",
       "<style scoped>\n",
       "    .dataframe tbody tr th:only-of-type {\n",
       "        vertical-align: middle;\n",
       "    }\n",
       "\n",
       "    .dataframe tbody tr th {\n",
       "        vertical-align: top;\n",
       "    }\n",
       "\n",
       "    .dataframe thead th {\n",
       "        text-align: right;\n",
       "    }\n",
       "</style>\n",
       "<table border=\"1\" class=\"dataframe\">\n",
       "  <thead>\n",
       "    <tr style=\"text-align: right;\">\n",
       "      <th></th>\n",
       "      <th>days</th>\n",
       "      <th>10^6</th>\n",
       "      <th>10^5</th>\n",
       "      <th>10^4</th>\n",
       "      <th>10^3</th>\n",
       "      <th>sterile water</th>\n",
       "      <th>positive</th>\n",
       "    </tr>\n",
       "  </thead>\n",
       "  <tbody>\n",
       "    <tr>\n",
       "      <th>1</th>\n",
       "      <td>1.0</td>\n",
       "      <td>0.000000</td>\n",
       "      <td>0.000000</td>\n",
       "      <td>0.000000</td>\n",
       "      <td>0.000000</td>\n",
       "      <td>0.000</td>\n",
       "      <td>0.000000</td>\n",
       "    </tr>\n",
       "    <tr>\n",
       "      <th>2</th>\n",
       "      <td>1.0</td>\n",
       "      <td>0.005000</td>\n",
       "      <td>0.010000</td>\n",
       "      <td>0.055000</td>\n",
       "      <td>0.003333</td>\n",
       "      <td>0.000</td>\n",
       "      <td>0.200000</td>\n",
       "    </tr>\n",
       "    <tr>\n",
       "      <th>3</th>\n",
       "      <td>1.0</td>\n",
       "      <td>0.030000</td>\n",
       "      <td>0.123333</td>\n",
       "      <td>0.140000</td>\n",
       "      <td>0.036667</td>\n",
       "      <td>0.020</td>\n",
       "      <td>0.320000</td>\n",
       "    </tr>\n",
       "    <tr>\n",
       "      <th>4</th>\n",
       "      <td>1.0</td>\n",
       "      <td>0.000000</td>\n",
       "      <td>0.014444</td>\n",
       "      <td>0.022222</td>\n",
       "      <td>0.012222</td>\n",
       "      <td>0.010</td>\n",
       "      <td>0.043333</td>\n",
       "    </tr>\n",
       "    <tr>\n",
       "      <th>5</th>\n",
       "      <td>1.0</td>\n",
       "      <td>0.000000</td>\n",
       "      <td>0.040000</td>\n",
       "      <td>0.033333</td>\n",
       "      <td>0.023333</td>\n",
       "      <td>0.025</td>\n",
       "      <td>0.005000</td>\n",
       "    </tr>\n",
       "    <tr>\n",
       "      <th>6</th>\n",
       "      <td>1.0</td>\n",
       "      <td>0.000000</td>\n",
       "      <td>0.006667</td>\n",
       "      <td>0.066667</td>\n",
       "      <td>0.003333</td>\n",
       "      <td>0.045</td>\n",
       "      <td>0.050000</td>\n",
       "    </tr>\n",
       "    <tr>\n",
       "      <th>7</th>\n",
       "      <td>1.0</td>\n",
       "      <td>0.003333</td>\n",
       "      <td>0.050000</td>\n",
       "      <td>0.007778</td>\n",
       "      <td>0.011111</td>\n",
       "      <td>0.005</td>\n",
       "      <td>0.010000</td>\n",
       "    </tr>\n",
       "  </tbody>\n",
       "</table>\n",
       "</div>"
      ],
      "text/plain": [
       "   days      10^6      10^5      10^4      10^3  sterile water  positive\n",
       "1   1.0  0.000000  0.000000  0.000000  0.000000          0.000  0.000000\n",
       "2   1.0  0.005000  0.010000  0.055000  0.003333          0.000  0.200000\n",
       "3   1.0  0.030000  0.123333  0.140000  0.036667          0.020  0.320000\n",
       "4   1.0  0.000000  0.014444  0.022222  0.012222          0.010  0.043333\n",
       "5   1.0  0.000000  0.040000  0.033333  0.023333          0.025  0.005000\n",
       "6   1.0  0.000000  0.006667  0.066667  0.003333          0.045  0.050000\n",
       "7   1.0  0.003333  0.050000  0.007778  0.011111          0.005  0.010000"
      ]
     },
     "execution_count": 13,
     "metadata": {},
     "output_type": "execute_result"
    }
   ],
   "source": [
    "vitex.diff().dropna(axis = 0).divide(vitex.diff().dropna().days.values, axis = \"rows\")"
   ]
  },
  {
   "cell_type": "code",
   "execution_count": 14,
   "id": "a34ad4b6-0276-47d6-a8aa-07d4a7ef047e",
   "metadata": {
    "execution": {
     "iopub.execute_input": "2023-03-25T04:34:37.035134Z",
     "iopub.status.busy": "2023-03-25T04:34:37.035134Z",
     "iopub.status.idle": "2023-03-25T04:34:37.040339Z",
     "shell.execute_reply": "2023-03-25T04:34:37.040339Z",
     "shell.execute_reply.started": "2023-03-25T04:34:37.035134Z"
    },
    "tags": []
   },
   "outputs": [
    {
     "data": {
      "text/plain": [
       "Index(['days', '10^6', '10^5', '10^4', '10^3', 'sterile water', 'positive'], dtype='object')"
      ]
     },
     "execution_count": 14,
     "metadata": {},
     "output_type": "execute_result"
    }
   ],
   "source": [
    "vitex.columns"
   ]
  },
  {
   "cell_type": "code",
   "execution_count": 15,
   "id": "c5da2670-4ee9-4769-a894-40e64d2f685b",
   "metadata": {
    "execution": {
     "iopub.execute_input": "2023-03-25T04:34:37.743185Z",
     "iopub.status.busy": "2023-03-25T04:34:37.743185Z",
     "iopub.status.idle": "2023-03-25T04:34:37.755598Z",
     "shell.execute_reply": "2023-03-25T04:34:37.755598Z",
     "shell.execute_reply.started": "2023-03-25T04:34:37.743185Z"
    },
    "tags": []
   },
   "outputs": [
    {
     "data": {
      "text/plain": [
       "days             1.000000\n",
       "10^6             0.005476\n",
       "10^5             0.034921\n",
       "10^4             0.046429\n",
       "10^3             0.012857\n",
       "sterile water    0.015000\n",
       "positive         0.089762\n",
       "dtype: float64"
      ]
     },
     "execution_count": 15,
     "metadata": {},
     "output_type": "execute_result"
    }
   ],
   "source": [
    "vitex.diff().dropna(axis = 0).divide(vitex.diff().dropna().days.values, axis = \"rows\").mean(axis = 0)"
   ]
  },
  {
   "cell_type": "code",
   "execution_count": 16,
   "id": "767b5554-ef1b-480d-b158-088054fbcaff",
   "metadata": {
    "execution": {
     "iopub.execute_input": "2023-03-25T04:34:38.152727Z",
     "iopub.status.busy": "2023-03-25T04:34:38.152727Z",
     "iopub.status.idle": "2023-03-25T04:34:38.162977Z",
     "shell.execute_reply": "2023-03-25T04:34:38.162977Z",
     "shell.execute_reply.started": "2023-03-25T04:34:38.152727Z"
    },
    "tags": []
   },
   "outputs": [],
   "source": [
    "def normalized_columns(data: pd.DataFrame, columns : list[str]) -> list[np.array]:\n",
    "    data = data.loc[:, columns]\n",
    "    data = data.diff().dropna(axis = 0).divide(data.diff().dropna().days.values, axis = \"rows\")\n",
    "    return np.array(data.loc[:, columns[1]].values, dtype = np.float64), np.array(data.loc[:, columns[2]].values, dtype = np.float64),\\\n",
    "           np.array(data.loc[:, columns[3]].values, dtype = np.float64), np.array(data.loc[:, columns[4]].values, dtype = np.float64),\\\n",
    "           np.array(data.loc[:, columns[5]].values, dtype = np.float64)"
   ]
  },
  {
   "cell_type": "code",
   "execution_count": 17,
   "id": "e684d6b4-17af-4968-ae90-16b32e347d10",
   "metadata": {
    "execution": {
     "iopub.execute_input": "2023-03-25T04:34:39.991187Z",
     "iopub.status.busy": "2023-03-25T04:34:39.991187Z",
     "iopub.status.idle": "2023-03-25T04:34:40.001289Z",
     "shell.execute_reply": "2023-03-25T04:34:40.001289Z",
     "shell.execute_reply.started": "2023-03-25T04:34:39.991187Z"
    },
    "tags": []
   },
   "outputs": [],
   "source": [
    "*dils, pos = normalized_columns(bacillus, columns = ['days', '10^6', '10^5', '10^4', '10^3', 'positive'])"
   ]
  },
  {
   "cell_type": "code",
   "execution_count": null,
   "id": "72c59b54-d20c-4051-bf76-1ac16c1848be",
   "metadata": {
    "tags": []
   },
   "outputs": [],
   "source": []
  },
  {
   "cell_type": "markdown",
   "id": "8f17df70-5b37-46ff-8377-2aa136c05d03",
   "metadata": {},
   "source": [
    "***Because the F-distribution assumes that the null hypothesis is true, we can place the F-value from our study in the F-distribution to determine how consistent our results are with the null hypothesis and to calculate probabilities.***\n",
    "\n",
    "***The probability that we want to calculate is the probability of observing an F-statistic that is at least as high as the value that our study obtained. That probability allows us to determine how common or rare our F-value is under the assumption that the null hypothesis is true. If the probability is low enough, we can conclude that our data is inconsistent with the null hypothesis. The evidence in the sample data is strong enough to reject the null hypothesis for the entire population.***"
   ]
  },
  {
   "cell_type": "code",
   "execution_count": 90,
   "id": "19bee985-a4bc-441c-8747-40338c29e607",
   "metadata": {
    "execution": {
     "iopub.execute_input": "2023-03-25T05:53:45.589636Z",
     "iopub.status.busy": "2023-03-25T05:53:45.588641Z",
     "iopub.status.idle": "2023-03-25T05:53:45.594259Z",
     "shell.execute_reply": "2023-03-25T05:53:45.593251Z",
     "shell.execute_reply.started": "2023-03-25T05:53:45.589636Z"
    },
    "tags": []
   },
   "outputs": [],
   "source": [
    "def get_pvalues(tests: list[np.array], control: np.array) -> list[float]:\n",
    "    return [f_oneway(test, control)[1] for test in tests]"
   ]
  },
  {
   "cell_type": "code",
   "execution_count": 91,
   "id": "7e17f9c7-8de1-486f-b2f3-d6d5e0937534",
   "metadata": {
    "execution": {
     "iopub.execute_input": "2023-03-25T05:53:45.843469Z",
     "iopub.status.busy": "2023-03-25T05:53:45.843469Z",
     "iopub.status.idle": "2023-03-25T05:53:45.849335Z",
     "shell.execute_reply": "2023-03-25T05:53:45.849335Z",
     "shell.execute_reply.started": "2023-03-25T05:53:45.843469Z"
    },
    "tags": []
   },
   "outputs": [
    {
     "data": {
      "text/plain": [
       "[0.11472276316560334,\n",
       " 0.13759286593211442,\n",
       " 0.12859274685988548,\n",
       " 0.12056921949223508]"
      ]
     },
     "execution_count": 91,
     "metadata": {},
     "output_type": "execute_result"
    }
   ],
   "source": [
    "get_pvalues(dils, pos)"
   ]
  },
  {
   "cell_type": "code",
   "execution_count": 92,
   "id": "7bf09cf7-0815-472d-a850-585e4e1cf0a1",
   "metadata": {
    "execution": {
     "iopub.execute_input": "2023-03-25T05:53:46.141819Z",
     "iopub.status.busy": "2023-03-25T05:53:46.140889Z",
     "iopub.status.idle": "2023-03-25T05:53:46.157926Z",
     "shell.execute_reply": "2023-03-25T05:53:46.157926Z",
     "shell.execute_reply.started": "2023-03-25T05:53:46.141819Z"
    },
    "tags": []
   },
   "outputs": [
    {
     "name": "stdout",
     "output_type": "stream",
     "text": [
      "{'10^6': 0.13579424889470942, '10^5': 0.0808180255226012, '10^4': 0.0813014977686026, '10^3': 0.09133007215814419}\n",
      "{'10^6': 0.09564069132396073, '10^5': 0.2867405763711741, '10^4': 0.40126115694244063, '10^3': 0.12539308813115171}\n",
      "{'10^6': 0.11472276316560334, '10^5': 0.13759286593211442, '10^4': 0.12859274685988548, '10^3': 0.12056921949223508}\n",
      "{'10^6': 0.22283355925605006, '10^5': 0.0901413606412266, '10^4': 0.44016306997830273, '10^3': 0.041405016328807075}\n"
     ]
    }
   ],
   "source": [
    "for data in agents:\n",
    "    *tests, control = normalized_columns(data, ['days', '10^6', '10^5', '10^4', '10^3', 'positive'])\n",
    "    dilutions = ['10^6', '10^5', '10^4', '10^3']\n",
    "    print({dilution: pval for (dilution, pval) in zip(dilutions, get_pvalues(tests, control))})"
   ]
  },
  {
   "cell_type": "code",
   "execution_count": 93,
   "id": "8994d88d-3d81-450d-a31a-ca6263f21275",
   "metadata": {
    "execution": {
     "iopub.execute_input": "2023-03-25T05:53:46.453737Z",
     "iopub.status.busy": "2023-03-25T05:53:46.452729Z",
     "iopub.status.idle": "2023-03-25T05:53:46.456627Z",
     "shell.execute_reply": "2023-03-25T05:53:46.456627Z",
     "shell.execute_reply.started": "2023-03-25T05:53:46.453737Z"
    },
    "tags": []
   },
   "outputs": [],
   "source": [
    "# agents = [achyranthus, vitex, bacillus, pseudomonas]"
   ]
  },
  {
   "cell_type": "markdown",
   "id": "74053afb-4629-4006-bfd5-b73dee8c4e8b",
   "metadata": {},
   "source": [
    "# ***ANOVA considering all experimental setups (dilutions, negative control and positive control)***\n",
    "-----------------------"
   ]
  },
  {
   "cell_type": "code",
   "execution_count": 95,
   "id": "f6f3a2ba-fc03-4962-bbcd-026fd5fa0fe3",
   "metadata": {
    "execution": {
     "iopub.execute_input": "2023-03-25T05:53:51.905100Z",
     "iopub.status.busy": "2023-03-25T05:53:51.905100Z",
     "iopub.status.idle": "2023-03-25T05:53:51.912485Z",
     "shell.execute_reply": "2023-03-25T05:53:51.912485Z",
     "shell.execute_reply.started": "2023-03-25T05:53:51.905100Z"
    },
    "tags": []
   },
   "outputs": [
    {
     "data": {
      "text/plain": [
       "F_onewayResult(statistic=3.282965894083973, pvalue=0.01364122748917126)"
      ]
     },
     "execution_count": 95,
     "metadata": {},
     "output_type": "execute_result"
    }
   ],
   "source": [
    "data = achyranthus.diff(axis = 0).dropna(axis = 0)\n",
    "data = data.div(data.days, axis = 0).drop(\"days\", axis = 1).T.to_numpy()\n",
    "f_oneway(data[0], data[1], data[2], data[3], data[4], data[5])"
   ]
  },
  {
   "cell_type": "code",
   "execution_count": null,
   "id": "83fe827b-1e37-4b95-bdb5-9525ceadc29b",
   "metadata": {},
   "outputs": [],
   "source": []
  },
  {
   "cell_type": "code",
   "execution_count": 96,
   "id": "e46eb8dc-812c-4470-b67b-ad999698e401",
   "metadata": {
    "execution": {
     "iopub.execute_input": "2023-03-25T05:53:56.448367Z",
     "iopub.status.busy": "2023-03-25T05:53:56.448367Z",
     "iopub.status.idle": "2023-03-25T05:53:56.456091Z",
     "shell.execute_reply": "2023-03-25T05:53:56.456091Z",
     "shell.execute_reply.started": "2023-03-25T05:53:56.448367Z"
    },
    "tags": []
   },
   "outputs": [
    {
     "data": {
      "text/plain": [
       "F_onewayResult(statistic=2.0759645976653354, pvalue=0.09116215968896095)"
      ]
     },
     "execution_count": 96,
     "metadata": {},
     "output_type": "execute_result"
    }
   ],
   "source": [
    "data = vitex.diff(axis = 0).dropna(axis = 0)\n",
    "data = data.div(data.days, axis = 0).drop(\"days\", axis = 1).T.to_numpy()\n",
    "f_oneway(data[0], data[1], data[2], data[3], data[4], data[5])"
   ]
  },
  {
   "cell_type": "code",
   "execution_count": null,
   "id": "4e613435-48ed-457b-a5e6-832971da5a71",
   "metadata": {},
   "outputs": [],
   "source": []
  },
  {
   "cell_type": "code",
   "execution_count": 97,
   "id": "8bba015c-717f-4c82-8589-2c9bddb975a1",
   "metadata": {
    "execution": {
     "iopub.execute_input": "2023-03-25T05:53:59.921018Z",
     "iopub.status.busy": "2023-03-25T05:53:59.920020Z",
     "iopub.status.idle": "2023-03-25T05:53:59.929293Z",
     "shell.execute_reply": "2023-03-25T05:53:59.928226Z",
     "shell.execute_reply.started": "2023-03-25T05:53:59.921018Z"
    },
    "tags": []
   },
   "outputs": [
    {
     "data": {
      "text/plain": [
       "F_onewayResult(statistic=2.950138056430449, pvalue=0.0406938150887021)"
      ]
     },
     "execution_count": 97,
     "metadata": {},
     "output_type": "execute_result"
    }
   ],
   "source": [
    "data = bacillus.diff(axis = 0).dropna(axis = 0)\n",
    "data = data.div(data.days, axis = 0).drop(\"days\", axis = 1).T.to_numpy()\n",
    "f_oneway(data[0], data[1], data[2], data[3], data[4], data[5])"
   ]
  },
  {
   "cell_type": "code",
   "execution_count": null,
   "id": "5155615d-45e7-43ab-8318-088ced565108",
   "metadata": {},
   "outputs": [],
   "source": []
  },
  {
   "cell_type": "code",
   "execution_count": 98,
   "id": "ec59bdec-2cf7-426d-bdad-0e3edf8af73f",
   "metadata": {
    "execution": {
     "iopub.execute_input": "2023-03-25T05:54:03.528854Z",
     "iopub.status.busy": "2023-03-25T05:54:03.527849Z",
     "iopub.status.idle": "2023-03-25T05:54:03.537726Z",
     "shell.execute_reply": "2023-03-25T05:54:03.537726Z",
     "shell.execute_reply.started": "2023-03-25T05:54:03.528854Z"
    },
    "tags": []
   },
   "outputs": [
    {
     "data": {
      "text/plain": [
       "F_onewayResult(statistic=2.6994180405273616, pvalue=0.03952893635521616)"
      ]
     },
     "execution_count": 98,
     "metadata": {},
     "output_type": "execute_result"
    }
   ],
   "source": [
    "data = pseudomonas.diff(axis = 0).dropna(axis = 0)\n",
    "data = data.div(data.days, axis = 0).drop(\"days\", axis = 1).T.to_numpy()\n",
    "f_oneway(data[0], data[1], data[2], data[3], data[4], data[5])"
   ]
  },
  {
   "cell_type": "code",
   "execution_count": 3,
   "id": "928b439a-f888-45bd-8c4d-2c36f926836c",
   "metadata": {
    "execution": {
     "iopub.execute_input": "2023-03-30T05:03:26.510352Z",
     "iopub.status.busy": "2023-03-30T05:03:26.510352Z",
     "iopub.status.idle": "2023-03-30T05:03:26.528421Z",
     "shell.execute_reply": "2023-03-30T05:03:26.528421Z",
     "shell.execute_reply.started": "2023-03-30T05:03:26.510352Z"
    },
    "tags": []
   },
   "outputs": [],
   "source": [
    "# Tests are all from x10^4 dilution.\n",
    "\n",
    "p_values = {\n",
    "    \"Positive control\": 0.93,\n",
    "    \"Pseudomonas fluorescens\": 0.5,\n",
    "    \"Bacillus megaterium\": 0.09,\n",
    "    \"Vitex negundo\": 0.47,\n",
    "    \"Achyranthus aserpa\": 0.0033\n",
    "}\n",
    "\n",
    "std_err = {\n",
    "    \"Positive control\": 0.01,\n",
    "    \"Pseudomonas fluorescens\": 0.2309,\n",
    "    \"Bacillus megaterium\": 0.03215,\n",
    "    \"Vitex negundo\": 0.17901,\n",
    "    \"Achyranthus aserpa\": 0.00333\n",
    "}\n",
    "\n",
    "labels = {\n",
    "    \"Positive control\": \"B\",\n",
    "    \"Pseudomonas fluorescens\": \"AB\",\n",
    "    \"Bacillus megaterium\": \"A\",\n",
    "    \"Vitex negundo\": \"AB\",\n",
    "    \"Achyranthus aserpa\": \"A\"\n",
    "}"
   ]
  },
  {
   "cell_type": "code",
   "execution_count": 4,
   "id": "e50a0664-fe9d-4915-b3b5-c3350d6edebb",
   "metadata": {
    "execution": {
     "iopub.execute_input": "2023-03-30T05:03:27.233760Z",
     "iopub.status.busy": "2023-03-30T05:03:27.233760Z",
     "iopub.status.idle": "2023-03-30T05:03:27.347043Z",
     "shell.execute_reply": "2023-03-30T05:03:27.347043Z",
     "shell.execute_reply.started": "2023-03-30T05:03:27.233760Z"
    },
    "tags": []
   },
   "outputs": [
    {
     "data": {
      "text/html": [
       "<div>\n",
       "<style scoped>\n",
       "    .dataframe tbody tr th:only-of-type {\n",
       "        vertical-align: middle;\n",
       "    }\n",
       "\n",
       "    .dataframe tbody tr th {\n",
       "        vertical-align: top;\n",
       "    }\n",
       "\n",
       "    .dataframe thead th {\n",
       "        text-align: right;\n",
       "    }\n",
       "</style>\n",
       "<table border=\"1\" class=\"dataframe\">\n",
       "  <thead>\n",
       "    <tr style=\"text-align: right;\">\n",
       "      <th></th>\n",
       "      <th>Positive control</th>\n",
       "      <th>Pseudomonas fluorescens</th>\n",
       "      <th>Bacillus megaterium</th>\n",
       "      <th>Vitex negundo</th>\n",
       "      <th>Achyranthus aserpa</th>\n",
       "    </tr>\n",
       "  </thead>\n",
       "  <tbody>\n",
       "    <tr>\n",
       "      <th>pvalue</th>\n",
       "      <td>0.93</td>\n",
       "      <td>0.5</td>\n",
       "      <td>0.09</td>\n",
       "      <td>0.47</td>\n",
       "      <td>0.0033</td>\n",
       "    </tr>\n",
       "    <tr>\n",
       "      <th>stderr</th>\n",
       "      <td>0.01</td>\n",
       "      <td>0.2309</td>\n",
       "      <td>0.03215</td>\n",
       "      <td>0.17901</td>\n",
       "      <td>0.00333</td>\n",
       "    </tr>\n",
       "    <tr>\n",
       "      <th>label</th>\n",
       "      <td>B</td>\n",
       "      <td>AB</td>\n",
       "      <td>A</td>\n",
       "      <td>AB</td>\n",
       "      <td>A</td>\n",
       "    </tr>\n",
       "  </tbody>\n",
       "</table>\n",
       "</div>"
      ],
      "text/plain": [
       "       Positive control Pseudomonas fluorescens Bacillus megaterium  \\\n",
       "pvalue             0.93                     0.5                0.09   \n",
       "stderr             0.01                  0.2309             0.03215   \n",
       "label                 B                      AB                   A   \n",
       "\n",
       "       Vitex negundo Achyranthus aserpa  \n",
       "pvalue          0.47             0.0033  \n",
       "stderr       0.17901            0.00333  \n",
       "label             AB                  A  "
      ]
     },
     "execution_count": 4,
     "metadata": {},
     "output_type": "execute_result"
    }
   ],
   "source": [
    "stats = pd.DataFrame([p_values, std_err, labels], index = [\"pvalue\", \"stderr\", \"label\"])\n",
    "stats"
   ]
  },
  {
   "cell_type": "code",
   "execution_count": 5,
   "id": "0e54ef9e-ce81-4149-8ca8-190230a99099",
   "metadata": {
    "execution": {
     "iopub.execute_input": "2023-03-30T05:03:27.893291Z",
     "iopub.status.busy": "2023-03-30T05:03:27.893291Z",
     "iopub.status.idle": "2023-03-30T05:03:27.911209Z",
     "shell.execute_reply": "2023-03-30T05:03:27.911209Z",
     "shell.execute_reply.started": "2023-03-30T05:03:27.893291Z"
    },
    "tags": []
   },
   "outputs": [
    {
     "data": {
      "text/plain": [
       "dict_keys(['Positive control', 'Pseudomonas fluorescens', 'Bacillus megaterium', 'Vitex negundo', 'Achyranthus aserpa'])"
      ]
     },
     "execution_count": 5,
     "metadata": {},
     "output_type": "execute_result"
    }
   ],
   "source": [
    "p_values.keys()"
   ]
  },
  {
   "cell_type": "code",
   "execution_count": 6,
   "id": "6080aabd-755b-4729-aee5-e29dabfb317a",
   "metadata": {
    "execution": {
     "iopub.execute_input": "2023-03-30T05:03:28.254637Z",
     "iopub.status.busy": "2023-03-30T05:03:28.239023Z",
     "iopub.status.idle": "2023-03-30T05:03:28.261948Z",
     "shell.execute_reply": "2023-03-30T05:03:28.261948Z",
     "shell.execute_reply.started": "2023-03-30T05:03:28.254637Z"
    },
    "tags": []
   },
   "outputs": [
    {
     "data": {
      "text/plain": [
       "array([0.9400000000000001, 0.7309, 0.12215, 0.64901,\n",
       "       0.0066300000000000005], dtype=object)"
      ]
     },
     "execution_count": 6,
     "metadata": {},
     "output_type": "execute_result"
    }
   ],
   "source": [
    "(stats.loc[\"pvalue\", :] + stats.loc[\"stderr\", :]).values"
   ]
  },
  {
   "cell_type": "code",
   "execution_count": 7,
   "id": "f518553b-5119-4d66-bdae-066258c272f7",
   "metadata": {
    "execution": {
     "iopub.execute_input": "2023-03-30T05:03:28.632390Z",
     "iopub.status.busy": "2023-03-30T05:03:28.632390Z",
     "iopub.status.idle": "2023-03-30T05:03:28.650013Z",
     "shell.execute_reply": "2023-03-30T05:03:28.650013Z",
     "shell.execute_reply.started": "2023-03-30T05:03:28.632390Z"
    },
    "tags": []
   },
   "outputs": [
    {
     "data": {
      "text/plain": [
       "array([0. , 0.2, 0.4, 0.6, 0.8, 1. ])"
      ]
     },
     "execution_count": 7,
     "metadata": {},
     "output_type": "execute_result"
    }
   ],
   "source": [
    "axes.get_xticks()"
   ]
  },
  {
   "cell_type": "code",
   "execution_count": null,
   "id": "0165c83a-5d6e-444e-91b6-73b0056feaf3",
   "metadata": {
    "tags": []
   },
   "outputs": [],
   "source": []
  },
  {
   "cell_type": "code",
   "execution_count": 9,
   "id": "888c01b0-b244-45f5-927c-c6f0b0fa7b61",
   "metadata": {
    "execution": {
     "iopub.execute_input": "2023-03-30T05:03:42.931107Z",
     "iopub.status.busy": "2023-03-30T05:03:42.931107Z",
     "iopub.status.idle": "2023-03-30T05:03:43.397183Z",
     "shell.execute_reply": "2023-03-30T05:03:43.397183Z",
     "shell.execute_reply.started": "2023-03-30T05:03:42.931107Z"
    },
    "tags": []
   },
   "outputs": [
    {
     "data": {
      "image/png": "[encoded data removed]",
      "text/plain": [
       "<Figure size 1000x400 with 1 Axes>"
      ]
     },
     "metadata": {},
     "output_type": "display_data"
    }
   ],
   "source": [
    "plt.rcParams[\"font.size\"] = 12\n",
    "fig, axes = plt.subplots(nrows = 1, ncols = 1)\n",
    "fig.set_size_inches(10, 4)\n",
    "axes.barh(y = stats.columns, width = stats.loc[\"pvalue\", :], color = \"#0001D8\", alpha = 0.6)\n",
    "axes.errorbar(y = stats.columns, x = stats.loc[\"pvalue\", :], xerr = stats.loc[\"stderr\", :],\n",
    "              ecolor = \"black\", capsize = 12, linestyle = \"None\")\n",
    "axes.set_xlabel(\"$Fraction\\hspace{1}of\\hspace{1}leaf\\hspace{1}area\\hspace{1}covered\\hspace{1}in\\hspace{1}downy\\hspace{1}growth$\")\n",
    "axes.set_ylabel(\"$Experimental\\hspace{1}setups$\")\n",
    "axes.set_yticks(ticks = axes.get_yticks(), labels = [\"$Positive\\hspace{1}control$\", \"$Pseudomonas\\hspace{1}fluorescens$\",\n",
    "                                                     \"$Bacillus\\hspace{1}megaterium$\", \"$Vitex\\hspace{1}negundo$\",\n",
    "                                                     \"$Achyranthus\\hspace{1}aserpa$\"])\n",
    "\n",
    "labels_x = stats.loc[\"pvalue\", :].values + 0.005\n",
    "labels_y = axes.get_yticks() + 0.15\n",
    "label_colors = [\"red\", \"green\", \"blue\", \"green\", \"blue\"]\n",
    "for (x, y, label, clabel) in zip(labels_x, labels_y, stats.loc[\"label\", :], label_colors):\n",
    "    axes.text(x = x, y = y, s = label, color = clabel)\n",
    "    \n",
    "axes.grid(axis = \"x\", which = \"both\")\n",
    "axes.set_axisbelow(True)\n",
    "# plt.tight_layout()\n",
    "# plt.show()\n",
    "plt.savefig(\"./anova.jpeg\", dpi = 200, format = \"jpeg\", bbox_inches = \"tight\")"
   ]
  },
  {
   "cell_type": "code",
   "execution_count": null,
   "id": "401fa990-3933-4c81-82f5-b676524c57ee",
   "metadata": {},
   "outputs": [],
   "source": []
  }
 ],
 "metadata": {
  "kernelspec": {
   "display_name": "Python 3 (ipykernel)",
   "language": "python",
   "name": "python3"
  },
  "language_info": {
   "codemirror_mode": {
    "name": "ipython",
    "version": 3
   },
   "file_extension": ".py",
   "mimetype": "text/x-python",
   "name": "python",
   "nbconvert_exporter": "python",
   "pygments_lexer": "ipython3",
   "version": "3.11.2"
  }
 },
 "nbformat": 4,
 "nbformat_minor": 5
}
