{
 "cells": [
  {
   "cell_type": "code",
   "execution_count": 1,
   "id": "d7c45341-97d7-43fd-b139-1598a31cb2c1",
   "metadata": {
    "execution": {
     "iopub.execute_input": "2023-10-18T15:14:39.180583Z",
     "iopub.status.busy": "2023-10-18T15:14:39.180583Z",
     "iopub.status.idle": "2023-10-18T15:14:39.649887Z",
     "shell.execute_reply": "2023-10-18T15:14:39.649887Z",
     "shell.execute_reply.started": "2023-10-18T15:14:39.180583Z"
    }
   },
   "outputs": [],
   "source": [
    "import numpy as np"
   ]
  },
  {
   "cell_type": "code",
   "execution_count": 19,
   "id": "ab101d36-2213-4565-bb7b-27f2cc9b1a66",
   "metadata": {
    "execution": {
     "iopub.execute_input": "2023-10-18T15:21:16.852431Z",
     "iopub.status.busy": "2023-10-18T15:21:16.852431Z",
     "iopub.status.idle": "2023-10-18T15:21:16.866893Z",
     "shell.execute_reply": "2023-10-18T15:21:16.865887Z",
     "shell.execute_reply.started": "2023-10-18T15:21:16.852431Z"
    }
   },
   "outputs": [],
   "source": [
    "with open(\"./mobydick.txt\", 'rb') as fp:\n",
    "    bytes = np.fromfile(fp, dtype = np.uint8)"
   ]
  },
  {
   "cell_type": "code",
   "execution_count": null,
   "id": "bbad9521-7de9-460a-a955-a1fe6243fa2d",
   "metadata": {},
   "outputs": [],
   "source": []
  },
  {
   "cell_type": "code",
   "execution_count": 20,
   "id": "0c943a4d-18d2-4ecb-9674-9aaec407fff4",
   "metadata": {
    "execution": {
     "iopub.execute_input": "2023-10-18T15:21:17.433790Z",
     "iopub.status.busy": "2023-10-18T15:21:17.433790Z",
     "iopub.status.idle": "2023-10-18T15:21:17.449993Z",
     "shell.execute_reply": "2023-10-18T15:21:17.449271Z",
     "shell.execute_reply.started": "2023-10-18T15:21:17.433790Z"
    }
   },
   "outputs": [
    {
     "data": {
      "text/plain": [
       "(10, 226)"
      ]
     },
     "execution_count": 20,
     "metadata": {},
     "output_type": "execute_result"
    }
   ],
   "source": [
    "bytes.min(), bytes.max()"
   ]
  },
  {
   "cell_type": "code",
   "execution_count": 21,
   "id": "8f59f114-b2fa-4353-84b9-7afc87f0dab7",
   "metadata": {
    "execution": {
     "iopub.execute_input": "2023-10-18T15:21:17.763556Z",
     "iopub.status.busy": "2023-10-18T15:21:17.763556Z",
     "iopub.status.idle": "2023-10-18T15:21:17.775505Z",
     "shell.execute_reply": "2023-10-18T15:21:17.774940Z",
     "shell.execute_reply.started": "2023-10-18T15:21:17.763556Z"
    }
   },
   "outputs": [
    {
     "data": {
      "text/plain": [
       "1256739"
      ]
     },
     "execution_count": 21,
     "metadata": {},
     "output_type": "execute_result"
    }
   ],
   "source": [
    "bytes.size"
   ]
  },
  {
   "cell_type": "code",
   "execution_count": 22,
   "id": "ad0f3d31-da83-417a-bbc8-a2845173ac1c",
   "metadata": {
    "execution": {
     "iopub.execute_input": "2023-10-18T15:21:18.300909Z",
     "iopub.status.busy": "2023-10-18T15:21:18.300909Z",
     "iopub.status.idle": "2023-10-18T15:21:18.344152Z",
     "shell.execute_reply": "2023-10-18T15:21:18.343142Z",
     "shell.execute_reply.started": "2023-10-18T15:21:18.300909Z"
    }
   },
   "outputs": [
    {
     "data": {
      "text/plain": [
       "(array([ 10,  13,  32,  33,  36,  38,  40,  41,  42,  44,  45,  46,  48,\n",
       "         49,  50,  51,  52,  53,  54,  55,  56,  57,  58,  59,  63,  65,\n",
       "         66,  67,  68,  69,  70,  71,  72,  73,  74,  75,  76,  77,  78,\n",
       "         79,  80,  81,  82,  83,  84,  85,  86,  87,  88,  89,  90,  91,\n",
       "         93,  95,  97,  98,  99, 100, 101, 102, 103, 104, 105, 106, 107,\n",
       "        108, 109, 110, 111, 112, 113, 114, 115, 116, 117, 118, 119, 120,\n",
       "        121, 122, 128, 130, 132, 146, 147, 148, 149, 151, 152, 153, 156,\n",
       "        157, 162, 163, 166, 168, 169, 176, 183, 185, 191, 194, 195, 197,\n",
       "        206, 207, 215, 226], dtype=uint8),\n",
       " array([ 22242,  22242, 194354,   1755,      2,      6,    215,    215,\n",
       "            49,  19262,   2587,   7681,    109,     93,     37,     23,\n",
       "            19,     34,     18,     34,     39,     16,    198,   4177,\n",
       "          1003,   2473,   1375,   1259,    656,    971,    727,    543,\n",
       "          1416,   3629,    250,    140,    797,    642,    888,    637,\n",
       "          1134,    333,    728,   1948,   2369,    162,    260,   1251,\n",
       "           414,    247,     20,     44,     44,    746,  75723,  15552,\n",
       "         21535,  37643, 116502,  20136,  20315,  61803,  62276,    834,\n",
       "          7947,  42165,  22684,  64826,  68775,  16299,   1240,  51643,\n",
       "         62397,  85983,  26461,   8478,  21003,   1019,  16654,    622,\n",
       "          7869,      1,      1,      1,      4,   1859,      1,      1,\n",
       "           148,   2781,   1603,   1478,      1,      3,     25,      3,\n",
       "             6,      1,      1,      2,      1,      3,     37,      5,\n",
       "             2,      3,      2,   7869], dtype=int64))"
      ]
     },
     "execution_count": 22,
     "metadata": {},
     "output_type": "execute_result"
    }
   ],
   "source": [
    "np.unique(bytes, return_counts = True)"
   ]
  },
  {
   "cell_type": "code",
   "execution_count": 34,
   "id": "fe005af0-02d1-4a37-9c1b-d7657c6dcf73",
   "metadata": {
    "execution": {
     "iopub.execute_input": "2023-10-18T15:25:18.928175Z",
     "iopub.status.busy": "2023-10-18T15:25:18.928175Z",
     "iopub.status.idle": "2023-10-18T15:25:18.969673Z",
     "shell.execute_reply": "2023-10-18T15:25:18.968660Z",
     "shell.execute_reply.started": "2023-10-18T15:25:18.928175Z"
    }
   },
   "outputs": [
    {
     "data": {
      "text/plain": [
       "array([   10, 22242], dtype=int64)"
      ]
     },
     "execution_count": 34,
     "metadata": {},
     "output_type": "execute_result"
    }
   ],
   "source": [
    "np.array(np.unique(bytes, return_counts = True))[:,0]"
   ]
  },
  {
   "cell_type": "code",
   "execution_count": null,
   "id": "196e5fc5-c074-4084-87b0-2488e6fad93f",
   "metadata": {},
   "outputs": [],
   "source": []
  },
  {
   "cell_type": "code",
   "execution_count": null,
   "id": "949afc7e-0840-4f5c-9d1d-cf7fac8ca8b6",
   "metadata": {},
   "outputs": [],
   "source": []
  }
 ],
 "metadata": {
  "kernelspec": {
   "display_name": "Python 3 (ipykernel)",
   "language": "python",
   "name": "python3"
  },
  "language_info": {
   "codemirror_mode": {
    "name": "ipython",
    "version": 3
   },
   "file_extension": ".py",
   "mimetype": "text/x-python",
   "name": "python",
   "nbconvert_exporter": "python",
   "pygments_lexer": "ipython3",
   "version": "3.11.6"
  }
 },
 "nbformat": 4,
 "nbformat_minor": 5
}
