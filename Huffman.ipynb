{
 "cells": [
  {
   "cell_type": "code",
   "execution_count": 6,
   "id": "c1b22e4d-55c2-46d0-8817-6905ce4869f9",
   "metadata": {
    "execution": {
     "iopub.execute_input": "2023-10-02T07:04:56.820270Z",
     "iopub.status.busy": "2023-10-02T07:04:56.820270Z",
     "iopub.status.idle": "2023-10-02T07:04:56.831003Z",
     "shell.execute_reply": "2023-10-02T07:04:56.831003Z",
     "shell.execute_reply.started": "2023-10-02T07:04:56.820270Z"
    }
   },
   "outputs": [],
   "source": [
    "from collections import Counter"
   ]
  },
  {
   "cell_type": "code",
   "execution_count": 3,
   "id": "7c727db1-8fc7-4956-81e6-6af34c0fd200",
   "metadata": {
    "execution": {
     "iopub.execute_input": "2023-10-02T07:04:32.935352Z",
     "iopub.status.busy": "2023-10-02T07:04:32.935352Z",
     "iopub.status.idle": "2023-10-02T07:04:32.956629Z",
     "shell.execute_reply": "2023-10-02T07:04:32.956629Z",
     "shell.execute_reply.started": "2023-10-02T07:04:32.935352Z"
    }
   },
   "outputs": [],
   "source": [
    "with open(\"./mobydick.txt\", \"r\", encoding = \"utf8\") as fp:\n",
    "    herman = fp.read()"
   ]
  },
  {
   "cell_type": "code",
   "execution_count": 31,
   "id": "f2a0bfb7-c5e4-4ab8-bcc6-815240599c63",
   "metadata": {
    "execution": {
     "iopub.execute_input": "2023-10-02T07:15:00.324407Z",
     "iopub.status.busy": "2023-10-02T07:15:00.324407Z",
     "iopub.status.idle": "2023-10-02T07:15:00.505707Z",
     "shell.execute_reply": "2023-10-02T07:15:00.504607Z",
     "shell.execute_reply.started": "2023-10-02T07:15:00.324407Z"
    }
   },
   "outputs": [],
   "source": [
    "frequencies = Counter(list(herman))"
   ]
  },
  {
   "cell_type": "code",
   "execution_count": 33,
   "id": "e7c206ce-10c7-4668-bf0b-6fe813a82969",
   "metadata": {
    "execution": {
     "iopub.execute_input": "2023-10-02T07:15:19.109060Z",
     "iopub.status.busy": "2023-10-02T07:15:19.109060Z",
     "iopub.status.idle": "2023-10-02T07:15:19.128929Z",
     "shell.execute_reply": "2023-10-02T07:15:19.128404Z",
     "shell.execute_reply.started": "2023-10-02T07:15:19.109060Z"
    }
   },
   "outputs": [
    {
     "data": {
      "text/plain": [
       "dict_values([642, 68775, 15552, 16654, 2587, 656, 62276, 21535, 7947, 22242, 51643, 19262, 2369, 1416, 971, 194354, 1251, 2473, 797, 7681, 116502, 22684, 75723, 64826, 42165, 8478, 1259, 85983, 62397, 20315, 1019, 1134, 728, 3629, 1859, 61803, 16299, 1375, 1948, 26461, 260, 20136, 414, 727, 37643, 888, 21003, 543, 140, 1240, 4177, 333, 1755, 2781, 637, 6, 250, 622, 162, 1003, 247, 215, 215, 1603, 1478, 746, 49, 1, 1, 1, 1, 1, 1, 1, 1, 198, 25, 39, 16, 109, 834, 93, 18, 34, 34, 37, 19, 23, 148, 20, 3, 2, 6, 3, 44, 44, 4, 1, 2])"
      ]
     },
     "execution_count": 33,
     "metadata": {},
     "output_type": "execute_result"
    }
   ],
   "source": [
    "frequencies.values()"
   ]
  },
  {
   "cell_type": "code",
   "execution_count": 34,
   "id": "2cff6004-29d9-4f3c-93f1-f7542396d6fe",
   "metadata": {
    "execution": {
     "iopub.execute_input": "2023-10-02T07:15:57.075312Z",
     "iopub.status.busy": "2023-10-02T07:15:57.075312Z",
     "iopub.status.idle": "2023-10-02T07:15:57.083770Z",
     "shell.execute_reply": "2023-10-02T07:15:57.083770Z",
     "shell.execute_reply.started": "2023-10-02T07:15:57.075312Z"
    }
   },
   "outputs": [
    {
     "data": {
      "text/plain": [
       "dict_keys(['M', 'o', 'b', 'y', '-', 'D', 'i', 'c', 'k', '\\n', 'r', ',', 'T', 'H', 'E', ' ', 'W', 'A', 'L', '.', 'e', 'm', 'a', 'n', 'l', 'v', 'C', 't', 's', 'g', 'x', 'P', 'R', 'I', '—', 'h', 'p', 'B', 'S', 'u', 'V', 'f', 'X', 'F', 'd', 'N', 'w', 'G', 'K', 'q', ';', 'Q', '!', '’', 'O', '&', 'J', 'z', 'U', '?', 'Y', '(', ')', '“', '”', '_', '*', 'ח', 'ו', 'ϰ', 'η', 'τ', 'ο', 'ς', 'Œ', ':', 'æ', '8', '9', '0', 'j', '1', '6', '7', '5', '2', '4', '3', '‘', 'Z', '£', '$', 'é', 'è', '[', ']', 'œ', 'â', 'ù'])"
      ]
     },
     "execution_count": 34,
     "metadata": {},
     "output_type": "execute_result"
    }
   ],
   "source": [
    "frequencies.keys()"
   ]
  },
  {
   "cell_type": "code",
   "execution_count": 44,
   "id": "566c513f-6caf-4d77-94d6-7c12e5ecdac2",
   "metadata": {
    "execution": {
     "iopub.execute_input": "2023-10-02T07:26:18.483901Z",
     "iopub.status.busy": "2023-10-02T07:26:18.483901Z",
     "iopub.status.idle": "2023-10-02T07:26:18.500053Z",
     "shell.execute_reply": "2023-10-02T07:26:18.500053Z",
     "shell.execute_reply.started": "2023-10-02T07:26:18.483901Z"
    }
   },
   "outputs": [
    {
     "data": {
      "text/plain": [
       "[('ח', 1),\n",
       " ('ו', 1),\n",
       " ('ϰ', 1),\n",
       " ('η', 1),\n",
       " ('τ', 1),\n",
       " ('ο', 1),\n",
       " ('ς', 1),\n",
       " ('Œ', 1),\n",
       " ('â', 1),\n",
       " ('$', 2),\n",
       " ('ù', 2),\n",
       " ('£', 3),\n",
       " ('è', 3),\n",
       " ('œ', 4),\n",
       " ('&', 6),\n",
       " ('é', 6),\n",
       " ('9', 16),\n",
       " ('6', 18),\n",
       " ('4', 19),\n",
       " ('Z', 20),\n",
       " ('3', 23),\n",
       " ('æ', 25),\n",
       " ('7', 34),\n",
       " ('5', 34),\n",
       " ('2', 37),\n",
       " ('8', 39),\n",
       " ('[', 44),\n",
       " (']', 44),\n",
       " ('*', 49),\n",
       " ('1', 93),\n",
       " ('0', 109),\n",
       " ('K', 140),\n",
       " ('‘', 148),\n",
       " ('U', 162),\n",
       " (':', 198),\n",
       " ('(', 215),\n",
       " (')', 215),\n",
       " ('Y', 247),\n",
       " ('J', 250),\n",
       " ('V', 260),\n",
       " ('Q', 333),\n",
       " ('X', 414),\n",
       " ('G', 543),\n",
       " ('z', 622),\n",
       " ('O', 637),\n",
       " ('M', 642),\n",
       " ('D', 656),\n",
       " ('F', 727),\n",
       " ('R', 728),\n",
       " ('_', 746),\n",
       " ('L', 797),\n",
       " ('j', 834),\n",
       " ('N', 888),\n",
       " ('E', 971),\n",
       " ('?', 1003),\n",
       " ('x', 1019),\n",
       " ('P', 1134),\n",
       " ('q', 1240),\n",
       " ('W', 1251),\n",
       " ('C', 1259),\n",
       " ('B', 1375),\n",
       " ('H', 1416),\n",
       " ('”', 1478),\n",
       " ('“', 1603),\n",
       " ('!', 1755),\n",
       " ('—', 1859),\n",
       " ('S', 1948),\n",
       " ('T', 2369),\n",
       " ('A', 2473),\n",
       " ('-', 2587),\n",
       " ('’', 2781),\n",
       " ('I', 3629),\n",
       " (';', 4177),\n",
       " ('.', 7681),\n",
       " ('k', 7947),\n",
       " ('v', 8478),\n",
       " ('b', 15552),\n",
       " ('p', 16299),\n",
       " ('y', 16654),\n",
       " (',', 19262),\n",
       " ('f', 20136),\n",
       " ('g', 20315),\n",
       " ('w', 21003),\n",
       " ('c', 21535),\n",
       " ('\\n', 22242),\n",
       " ('m', 22684),\n",
       " ('u', 26461),\n",
       " ('d', 37643),\n",
       " ('l', 42165),\n",
       " ('r', 51643),\n",
       " ('h', 61803),\n",
       " ('i', 62276),\n",
       " ('s', 62397),\n",
       " ('n', 64826),\n",
       " ('o', 68775),\n",
       " ('a', 75723),\n",
       " ('t', 85983),\n",
       " ('e', 116502),\n",
       " (' ', 194354)]"
      ]
     },
     "execution_count": 44,
     "metadata": {},
     "output_type": "execute_result"
    }
   ],
   "source": [
    "sorted(frequencies.items(), key = lambda tup: frequencies.get(tup[0]))"
   ]
  },
  {
   "cell_type": "code",
   "execution_count": null,
   "id": "d7c45341-97d7-43fd-b139-1598a31cb2c1",
   "metadata": {},
   "outputs": [],
   "source": []
  },
  {
   "cell_type": "code",
   "execution_count": null,
   "id": "ab101d36-2213-4565-bb7b-27f2cc9b1a66",
   "metadata": {},
   "outputs": [],
   "source": []
  }
 ],
 "metadata": {
  "kernelspec": {
   "display_name": "Python 3 (ipykernel)",
   "language": "python",
   "name": "python3"
  },
  "language_info": {
   "codemirror_mode": {
    "name": "ipython",
    "version": 3
   },
   "file_extension": ".py",
   "mimetype": "text/x-python",
   "name": "python",
   "nbconvert_exporter": "python",
   "pygments_lexer": "ipython3",
   "version": "3.11.5"
  }
 },
 "nbformat": 4,
 "nbformat_minor": 5
}
