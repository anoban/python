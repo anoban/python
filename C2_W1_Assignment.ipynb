{
 "cells": [
  {
   "cell_type": "markdown",
   "metadata": {
    "id": "EAt-K2qgcIou"
   },
   "source": [
    "# Optimizing Functions of One Variable: Cost Minimization"
   ]
  },
  {
   "cell_type": "markdown",
   "metadata": {
    "id": "FZYK-0rin5x7"
   },
   "source": [
    "In this assignment you will solve a simple optimization problem for a function of one variable. Given a dataset of historical prices of a product from two suppliers, your task is to identify what share of the product you should buy from each of the suppliers to make the best possible investment in the future. Stating the problem mathematically, you will construct a target function to minimize, evaluate its minimum and investigate how its derivative is connected with the result."
   ]
  },
  {
   "cell_type": "markdown",
   "metadata": {},
   "source": [
    "# Table of Contents\n",
    "\n",
    "- [ 1 - Statement of the Optimization Problem](#1)\n",
    "  - [ 1.1 - Description of the Problem](#1.1)\n",
    "  - [ 1.2 - Mathematical Statement of the Problem](#1.2)\n",
    "  - [ 1.3 - Solution Approach](#1.3)\n",
    "- [ 2 - Optimizing Function of One Variable in Python](#2)\n",
    "  - [ 2.1 - Packages](#2.1)\n",
    "  - [ 2.2 - Open and Analyze the Dataset](#2.2)\n",
    "    - [ Exercise 1](#ex01)\n",
    "  - [ 2.3 - Construct the Function $L$ to Optimize and Find its Minimum Point](#2.3)\n",
    "    - [ Exercise 2](#ex02)\n",
    "    - [ Exercise 3](#ex03)\n",
    "    - [ Exercise 4](#ex04)"
   ]
  },
  {
   "cell_type": "markdown",
   "metadata": {},
   "source": [
    "<a name='1'></a>\n",
    "## 1 - Statement of the Optimization Problem"
   ]
  },
  {
   "cell_type": "markdown",
   "metadata": {},
   "source": [
    "<a name='1.1'></a>\n",
    "### 1.1 - Description of the Problem"
   ]
  },
  {
   "cell_type": "markdown",
   "metadata": {},
   "source": [
    "Your Company is aiming to minimize production costs of some goods. During the production process, an essential product P is used, which can be supplied from one of two partners - supplier A and supplier B. Your consultants requested the historical prices of product P from both suppliers A and B, which were provided as monthly averages for the period from February 2018 to March 2020.\n",
    "\n",
    "Preparing Company Budget for the coming twelve months period, your plan is to purchase the same amount of product P monthly. Choosing the supplier, you noticed, that there were some periods in the past, when it would be more profitable to use supplier A (the prices of product P were lower), and other periods to work with supplier B. For the Budget model you can set some percentage of the goods to be purchased from supplier A (e.g. 60%) and the remaining part from supplier B (e.g. 40%), but this split should be kept consistent for the whole of the twelve months period. The Budget will be used in preparation for the contract negotiations with both suppliers.\n",
    "\n",
    "Based on the historical prices, is there a particular percentage which will be more profitable to supply from Company A, and the remaining part from Company B? Or maybe it does not matter and you can work just with one of the suppliers?"
   ]
  },
  {
   "cell_type": "markdown",
   "metadata": {},
   "source": [
    "<a name='1.2'></a>\n",
    "### 1.2 - Mathematical Statement of the Problem"
   ]
  },
  {
   "cell_type": "markdown",
   "metadata": {},
   "source": [
    "Denoting prices of the product P from Company A and Company B as $p_A$ (USD) and $p_B$ (USD) respectively, and the volume of the product to be supplied per month as $n$ (units), the total cost in USD is:\n",
    "\n",
    "$$f\\left(\\omega\\right) = p_A \\omega \\,n+ p_B \\left(1 - \\omega\\right) n,$$\n",
    "\n",
    "where $0\\leq\\omega\\leq1$ is the parameter. If $\\omega = 1$, all goods will be supplied from Company A, and if $\\omega = 0$, from Company B. In case of $0<\\omega<1$, some percentage will be allocated to both. \n",
    "\n",
    "As it is planned to keep the volume $n$ constant over the next twelve months, in the mathematical model the common approach is to put $n = 1$. You can do this, because nothing depends on the volume and the end result will be the same. Now the total cost will be simpler:\n",
    "\n",
    "$$f\\left(\\omega\\right) = p_A \\omega+ p_B \\left(1 - \\omega\\right) \\tag{1}$$\n",
    "\n",
    "Obviously, you do not know the future prices $p_A$ and $p_B$, only historical values (prices $\\{p_A^1, \\cdots, p_A^k\\}$ and $\\{p_B^1, \\cdots, p_B^k\\}$ for $k$ months). And historically there were various periods of time when it was better to take $\\omega = 1$ ($p_A^i < p_B^i$) or $\\omega = 0$ ($p_A^i >p_B^i$). Is it possible now to choose some $\\omega$ value that would provide some evidence of minimum costs in the future?"
   ]
  },
  {
   "cell_type": "markdown",
   "metadata": {},
   "source": [
    "<a name='1.3'></a>\n",
    "### 1.3 - Solution Approach"
   ]
  },
  {
   "cell_type": "markdown",
   "metadata": {},
   "source": [
    "This is a standard **portfolio management** (investment) problem well known in statistics, where based on the historical prices you need to make investment decision to maximize profit (minimize costs). Since statistics has not been covered in this Course, you do not need to understand the details about the function $\\mathcal{L}\\left(\\omega\\right)$ (called **loss function**) to minimize, explained in the next paragraph.\n",
    "\n",
    "The approach is to calculate $f\\left(\\omega\\right)$ for each of the historical prices $p_A^i$ and $p_B^i$, $f^i\\left(\\omega\\right)=p_A^i \\omega+ p_B^i \\left(1 - \\omega\\right)$. Then take an average of those values, $\\overline{f\\left (\\omega\\right)}=\\text{mean}\\left(f^i\\left(\\omega\\right)\\right) = \\frac{1}{k}\\sum_{i=1}^{k}f^i\\left(\\omega\\right)$ and look for such value of $\\omega$ which makes $f^i\\left(\\omega\\right)$ as \"stable\" as possible - varying as little as possible from the average $\\overline{f\\left (\\omega\\right)}$. This means that you would want to minimize the sum of the differences $\\left(f^i \\left(\\omega\\right) -  \\overline{f\\left (\\omega\\right)}\\right)$. As the differences can be negative or positive, a common approach is to take the squares of those and take an average of the squares:\n",
    "\n",
    "$$\\mathcal{L}\\left(\\omega\\right) = \\frac{1}{k}\\sum_{i=1}^{k}\\left(f^i \\left(\\omega\\right) -  \\overline{f\\left (\\omega\\right)}\\right)^2\\tag{2}$$\n",
    "\n",
    "In statistics $\\mathcal{L}\\left(\\omega\\right)$ is called a variance of $\\{f^1 \\left(\\omega\\right), \\cdots , f^k \\left(\\omega\\right)\\}$. The aim is to minimize the variance $\\mathcal{L}\\left(\\omega\\right)$, where $\\omega\\in\\left[0, 1\\right]$. Again, do not worry if you do not understand deeply why particularly this function $\\mathcal{L}\\left(\\omega\\right)$ was chosen. You might think if it is logical to minimize an average $\\overline{f\\left (\\omega\\right)}$, but [risk management](https://www.thebalancemoney.com/minimum-variance-portfolio-overview-4155796#:~:text=A%20minimum%20variance%20portfolio%20is,other%20out%20when%20held%20together.) theory states that in this problem variance needs to be optimized.\n",
    "\n",
    "Statistical theory shows that there is an $\\omega\\in\\left[0, 1\\right]$ value which minimizes function $\\mathcal{L}\\left(\\omega\\right)$ and it can be found using some properties of the datasets $\\{p_A^1, \\cdots, p_A^k\\}$ and $\\{p_B^1, \\cdots, p_B^k\\}$. However, as this is not a Course about statistics, the example is taken to illustrate an optimization problem of one variable based on some dataset. It is a chance for you to check your understanding and practice this week material. \n",
    "\n",
    "Now let's upload a dataset and explore if it is possible to find a minimum point for the corresponding function $\\mathcal{L}\\left(\\omega\\right)$."
   ]
  },
  {
   "cell_type": "markdown",
   "metadata": {},
   "source": [
    "<a name='2'></a>\n",
    "## 2 - Optimizing Function of One Variable in Python"
   ]
  },
  {
   "cell_type": "markdown",
   "metadata": {},
   "source": [
    "<a name='2.1'></a>\n",
    "### 2.1 - Packages"
   ]
  },
  {
   "cell_type": "markdown",
   "metadata": {},
   "source": [
    "Let's import all of the required packages. In addition to the ones you have been using in this Course before, you will need to import `pandas` library. It is a commonly used package for data manipulation and analysis. "
   ]
  },
  {
   "cell_type": "code",
   "execution_count": 59,
   "metadata": {
    "execution": {
     "iopub.execute_input": "2024-06-04T04:51:25.954397Z",
     "iopub.status.busy": "2024-06-04T04:51:25.954397Z",
     "iopub.status.idle": "2024-06-04T04:51:25.964128Z",
     "shell.execute_reply": "2024-06-04T04:51:25.964128Z",
     "shell.execute_reply.started": "2024-06-04T04:51:25.954397Z"
    },
    "tags": [
     "graded"
    ]
   },
   "outputs": [],
   "source": [
    "# A function to perform automatic differentiation.\n",
    "# from jax import grad\n",
    "# A wrapped version of NumPy to use JAX primitives.\n",
    "# import jax.numpy as np\n",
    "\n",
    "# WE WON'T BE USING JAX HERE :)))\n",
    "\n",
    "from numba import njit, jit\n",
    "import numpy as np\n",
    "from numpy.typing import NDArray\n",
    "import matplotlib.pyplot as plt\n",
    "import pandas as pd"
   ]
  },
  {
   "cell_type": "markdown",
   "metadata": {},
   "source": [
    "Load the unit tests defined for this notebook."
   ]
  },
  {
   "cell_type": "code",
   "execution_count": 2,
   "metadata": {
    "execution": {
     "iopub.execute_input": "2024-06-04T04:20:32.883167Z",
     "iopub.status.busy": "2024-06-04T04:20:32.883167Z",
     "iopub.status.idle": "2024-06-04T04:20:32.894384Z",
     "shell.execute_reply": "2024-06-04T04:20:32.894384Z",
     "shell.execute_reply.started": "2024-06-04T04:20:32.883167Z"
    }
   },
   "outputs": [],
   "source": [
    "# import w1_unittest\n",
    "# Please ignore the warning message about GPU/TPU if it appears."
   ]
  },
  {
   "cell_type": "markdown",
   "metadata": {},
   "source": [
    "<a name='2.2'></a>\n",
    "### 2.2 - Open and Analyze the Dataset"
   ]
  },
  {
   "cell_type": "markdown",
   "metadata": {},
   "source": [
    "Historical prices for both suppliers A and B are saved in the file `data/prices.csv`. To open it you can use `pandas` function `read_csv`. This example is very simple, there is no need to use any other parameters."
   ]
  },
  {
   "cell_type": "code",
   "execution_count": 71,
   "metadata": {
    "execution": {
     "iopub.execute_input": "2024-06-04T05:19:27.968155Z",
     "iopub.status.busy": "2024-06-04T05:19:27.968155Z",
     "iopub.status.idle": "2024-06-04T05:19:27.991434Z",
     "shell.execute_reply": "2024-06-04T05:19:27.991434Z",
     "shell.execute_reply.started": "2024-06-04T05:19:27.968155Z"
    }
   },
   "outputs": [
    {
     "name": "stdout",
     "output_type": "stream",
     "text": [
      "date,price_supplier_a_dollars_per_item,price_supplier_b_dollars_per_item\n",
      "1/02/2016,104,76\n",
      "1/03/2016,108,76\n",
      "1/04/2016,101,84\n",
      "1/05/2016,104,79\n",
      "1/06/2016,102,81\n",
      "1/07/2016,105,84\n",
      "1/08/2016,114,90\n",
      "1/09/2016,102,93\n",
      "1/10/2016,105,93\n",
      "1/11/2016,101,99\n",
      "1/12/2016,109,98\n",
      "1/01/2017,103,96\n",
      "1/02/2017,93,94\n",
      "1/03/2017,98,104\n",
      "1/04/2017,92,101\n",
      "1/05/2017,97,102\n",
      "1/06/2017,96,104\n",
      "1/07/2017,94,106\n",
      "1/08/2017,97,105\n",
      "1/09/2017,93,103\n",
      "1/10/2017,99,106\n",
      "1/11/2017,93,104\n",
      "1/12/2017,98,113\n",
      "1/01/2018,94,115\n",
      "1/02/2018,93,114\n",
      "1/03/2018,92,124\n",
      "1/04/2018,96,119\n",
      "1/05/2018,98,115\n",
      "1/06/2018,98,112\n",
      "1/07/2018,93,111\n",
      "1/08/2018,97,106\n",
      "1/09/2018,102,107\n",
      "1/10/2018,103,108\n",
      "1/11/2018,100,108\n",
      "1/12/2018,100,102\n",
      "1/01/2019,104,104\n",
      "1/02/2019,100,101\n",
      "1/03/2019,103,101\n",
      "1/04/2019,104,100\n",
      "1/05/2019,101,103\n",
      "1/06/2019,102,106\n",
      "1/07/2019,100,100\n",
      "1/08/2019,102,97\n",
      "1/09/2019,108,98\n",
      "1/10/2019,107,90\n",
      "1/11/2019,107,92\n",
      "1/12/2019,103,92\n",
      "1/01/2020,109,99\n",
      "1/02/2020,108,94\n",
      "1/03/2020,108,91\n"
     ]
    }
   ],
   "source": [
    "! type .\\prices.csv"
   ]
  },
  {
   "cell_type": "code",
   "execution_count": 3,
   "metadata": {
    "execution": {
     "iopub.execute_input": "2024-06-04T04:20:45.768753Z",
     "iopub.status.busy": "2024-06-04T04:20:45.768753Z",
     "iopub.status.idle": "2024-06-04T04:20:45.825523Z",
     "shell.execute_reply": "2024-06-04T04:20:45.825523Z",
     "shell.execute_reply.started": "2024-06-04T04:20:45.768753Z"
    },
    "tags": [
     "graded"
    ]
   },
   "outputs": [],
   "source": [
    "df = pd.read_csv(r\"./prices.csv\")"
   ]
  },
  {
   "cell_type": "code",
   "execution_count": 7,
   "metadata": {
    "execution": {
     "iopub.execute_input": "2024-06-04T04:20:54.592351Z",
     "iopub.status.busy": "2024-06-04T04:20:54.592351Z",
     "iopub.status.idle": "2024-06-04T04:20:54.601144Z",
     "shell.execute_reply": "2024-06-04T04:20:54.601144Z",
     "shell.execute_reply.started": "2024-06-04T04:20:54.592351Z"
    },
    "tags": [
     "graded"
    ]
   },
   "outputs": [
    {
     "data": {
      "text/plain": [
       "Index(['date', 'price_supplier_a_dollars_per_item',\n",
       "       'price_supplier_b_dollars_per_item'],\n",
       "      dtype='object')"
      ]
     },
     "execution_count": 7,
     "metadata": {},
     "output_type": "execute_result"
    }
   ],
   "source": [
    "df.columns"
   ]
  },
  {
   "cell_type": "code",
   "execution_count": 72,
   "metadata": {
    "execution": {
     "iopub.execute_input": "2024-06-04T05:20:08.012246Z",
     "iopub.status.busy": "2024-06-04T05:20:08.012246Z",
     "iopub.status.idle": "2024-06-04T05:20:08.020070Z",
     "shell.execute_reply": "2024-06-04T05:20:08.020070Z",
     "shell.execute_reply.started": "2024-06-04T05:20:08.012246Z"
    },
    "tags": [
     "graded"
    ]
   },
   "outputs": [
    {
     "data": {
      "text/html": [
       "<div>\n",
       "<style scoped>\n",
       "    .dataframe tbody tr th:only-of-type {\n",
       "        vertical-align: middle;\n",
       "    }\n",
       "\n",
       "    .dataframe tbody tr th {\n",
       "        vertical-align: top;\n",
       "    }\n",
       "\n",
       "    .dataframe thead th {\n",
       "        text-align: right;\n",
       "    }\n",
       "</style>\n",
       "<table border=\"1\" class=\"dataframe\">\n",
       "  <thead>\n",
       "    <tr style=\"text-align: right;\">\n",
       "      <th></th>\n",
       "      <th>date</th>\n",
       "      <th>price_supplier_a_dollars_per_item</th>\n",
       "      <th>price_supplier_b_dollars_per_item</th>\n",
       "    </tr>\n",
       "  </thead>\n",
       "  <tbody>\n",
       "    <tr>\n",
       "      <th>0</th>\n",
       "      <td>1/02/2016</td>\n",
       "      <td>104</td>\n",
       "      <td>76</td>\n",
       "    </tr>\n",
       "    <tr>\n",
       "      <th>1</th>\n",
       "      <td>1/03/2016</td>\n",
       "      <td>108</td>\n",
       "      <td>76</td>\n",
       "    </tr>\n",
       "    <tr>\n",
       "      <th>2</th>\n",
       "      <td>1/04/2016</td>\n",
       "      <td>101</td>\n",
       "      <td>84</td>\n",
       "    </tr>\n",
       "    <tr>\n",
       "      <th>3</th>\n",
       "      <td>1/05/2016</td>\n",
       "      <td>104</td>\n",
       "      <td>79</td>\n",
       "    </tr>\n",
       "    <tr>\n",
       "      <th>4</th>\n",
       "      <td>1/06/2016</td>\n",
       "      <td>102</td>\n",
       "      <td>81</td>\n",
       "    </tr>\n",
       "  </tbody>\n",
       "</table>\n",
       "</div>"
      ],
      "text/plain": [
       "        date  price_supplier_a_dollars_per_item  \\\n",
       "0  1/02/2016                                104   \n",
       "1  1/03/2016                                108   \n",
       "2  1/04/2016                                101   \n",
       "3  1/05/2016                                104   \n",
       "4  1/06/2016                                102   \n",
       "\n",
       "   price_supplier_b_dollars_per_item  \n",
       "0                                 76  \n",
       "1                                 76  \n",
       "2                                 84  \n",
       "3                                 79  \n",
       "4                                 81  "
      ]
     },
     "execution_count": 72,
     "metadata": {},
     "output_type": "execute_result"
    }
   ],
   "source": [
    "df.head()"
   ]
  },
  {
   "cell_type": "markdown",
   "metadata": {},
   "source": [
    "<a name='ex01'></a>\n",
    "### Exercise 1\n",
    "\n",
    "Load the historical prices of supplier A and supplier B into variables `prices_A` and `prices_B`, respectively. Convert the price values into `NumPy` arrays with elements of type `float32` using `np.array` function."
   ]
  },
  {
   "cell_type": "markdown",
   "metadata": {},
   "source": [
    "<details>    \n",
    "<summary>\n",
    "    <font size=\"3\" color=\"darkgreen\"><b>Hint</b></font>\n",
    "</summary>\n",
    "<p>\n",
    "<ul>\n",
    "    <li>The corresponding prices are in the DataFrame `df`, columns `price_supplier_a_dollars_per_item` and `price_supplier_b_dollars_per_item`.</li>\n",
    "    <li>Conversion into the `NumPy` array can be performed with the function `np.array`.</li>\n",
    "</ul>\n",
    "</p>"
   ]
  },
  {
   "cell_type": "code",
   "execution_count": 75,
   "metadata": {
    "execution": {
     "iopub.execute_input": "2024-06-04T05:21:13.601216Z",
     "iopub.status.busy": "2024-06-04T05:21:13.601216Z",
     "iopub.status.idle": "2024-06-04T05:21:13.605950Z",
     "shell.execute_reply": "2024-06-04T05:21:13.605950Z",
     "shell.execute_reply.started": "2024-06-04T05:21:13.601216Z"
    },
    "tags": [
     "graded"
    ]
   },
   "outputs": [],
   "source": [
    "### START CODE HERE ### (~ 4 lines of code)\n",
    "prices_A = df.price_supplier_a_dollars_per_item.to_numpy(dtype = np.float32)\n",
    "prices_B = df.price_supplier_b_dollars_per_item.to_numpy(dtype = np.float32)\n",
    "### END CODE HERE ###"
   ]
  },
  {
   "cell_type": "code",
   "execution_count": 76,
   "metadata": {
    "execution": {
     "iopub.execute_input": "2024-06-04T05:21:14.369905Z",
     "iopub.status.busy": "2024-06-04T05:21:14.369905Z",
     "iopub.status.idle": "2024-06-04T05:21:14.384354Z",
     "shell.execute_reply": "2024-06-04T05:21:14.383695Z",
     "shell.execute_reply.started": "2024-06-04T05:21:14.369905Z"
    },
    "tags": [
     "graded"
    ]
   },
   "outputs": [
    {
     "name": "stdout",
     "output_type": "stream",
     "text": [
      "Some prices of supplier A: [104. 108. 101. 104. 102.]\n",
      "Some prices of supplier B: [76. 76. 84. 79. 81.]\n",
      "Average of the prices, supplier A: 100.8\n",
      "Average of the prices, supplier B: 100.0\n"
     ]
    }
   ],
   "source": [
    "# Print some elements and mean values of the prices_A and prices_B arrays.\n",
    "print(\"Some prices of supplier A:\", prices_A[0:5])\n",
    "print(\"Some prices of supplier B:\", prices_B[0:5])\n",
    "print(\"Average of the prices, supplier A:\", np.mean(prices_A))\n",
    "print(\"Average of the prices, supplier B:\", np.mean(prices_B))"
   ]
  },
  {
   "cell_type": "markdown",
   "metadata": {},
   "source": [
    "##### __Expected Output__ \n",
    "\n",
    "```Python\n",
    "Some prices of supplier A: [104. 108. 101. 104. 102.]\n",
    "Some prices of supplier B: [76. 76. 84. 79. 81.]\n",
    "Average of the prices, supplier A: 100.799995\n",
    "Average of the prices, supplier B: 100.0\n",
    "```"
   ]
  },
  {
   "cell_type": "markdown",
   "metadata": {},
   "source": [
    "Average prices from both suppliers are similar. But if you will plot the historical prices, you will see that there were periods of time when the prices were lower for supplier A, and vice versa."
   ]
  },
  {
   "cell_type": "code",
   "execution_count": 77,
   "metadata": {
    "execution": {
     "iopub.execute_input": "2024-06-04T05:21:25.128352Z",
     "iopub.status.busy": "2024-06-04T05:21:25.128352Z",
     "iopub.status.idle": "2024-06-04T05:21:25.246235Z",
     "shell.execute_reply": "2024-06-04T05:21:25.246235Z",
     "shell.execute_reply.started": "2024-06-04T05:21:25.128352Z"
    },
    "tags": [
     "graded"
    ]
   },
   "outputs": [
    {
     "data": {
      "image/png": "[encoded data removed]",
      "text/plain": [
       "<Figure size 2000x500 with 1 Axes>"
      ]
     },
     "metadata": {},
     "output_type": "display_data"
    }
   ],
   "source": [
    "fig, axes = plt.subplots()\n",
    "fig.set_size_inches(20, 5)\n",
    "axes.plot(prices_A, 'g', label=\"Supplier A\")\n",
    "axes.plot(prices_B, 'b', label=\"Supplier B\")\n",
    "axes.legend()\n",
    "plt.show()"
   ]
  },
  {
   "cell_type": "markdown",
   "metadata": {},
   "source": [
    "Based on the historical data, can you tell which supplier it will be more profitable to work with? As discussed in the section [1.3](#1.3), you need to find such an $\\omega \\in \\left[0, 1\\right]$ which will minimize function $(2)$."
   ]
  },
  {
   "cell_type": "markdown",
   "metadata": {},
   "source": [
    "<a name='2.3'></a>\n",
    "### 2.3 - Construct the Function $\\mathcal{L}$ to Optimize and Find its Minimum Point"
   ]
  },
  {
   "cell_type": "markdown",
   "metadata": {},
   "source": [
    "<a name='ex02'></a>\n",
    "### Exercise 2\n",
    "\n",
    "Calculate `f_of_omega`, corresponding to the $f^i\\left(\\omega\\right)=p_A^i \\omega+ p_B^i \\left(1 - \\omega\\right)$. Prices $\\{p_A^1, \\cdots, p_A^k\\}$ and $\\{p_B^1, \\cdots, p_B^k\\}$ can be passed in the arrays `pA` and `pB`. Thus, multiplying them by the scalars `omega` and `1 - omega` and adding together the resulting arrays, you will get an array containing $\\{f^1\\left(\\omega\\right), \\cdots, f^k\\left(\\omega\\right)\\}$.\n",
    "\n",
    "\n",
    "Then array `f_of_omega` can be taken to calculate `L_of_omega`, according to the expression $(2)$:\n",
    "\n",
    "$$\\mathcal{L}\\left(\\omega\\right) = \\frac{1}{k}\\sum_{i=1}^{k}\\left(f^i \\left(\\omega\\right) -  \\overline{f\\left (\\omega\\right)}\\right)^2$$"
   ]
  },
  {
   "cell_type": "code",
   "execution_count": 78,
   "metadata": {
    "execution": {
     "iopub.execute_input": "2024-06-04T05:21:29.834650Z",
     "iopub.status.busy": "2024-06-04T05:21:29.834650Z",
     "iopub.status.idle": "2024-06-04T05:21:29.847075Z",
     "shell.execute_reply": "2024-06-04T05:21:29.847075Z",
     "shell.execute_reply.started": "2024-06-04T05:21:29.834650Z"
    },
    "tags": [
     "graded"
    ]
   },
   "outputs": [],
   "source": [
    "# the loss function\n",
    "@jit(nopython = True, fastmath = True, parallel = False, forceinline = True)\n",
    "def f_of_omega(omega: np.float32, pA: NDArray[np.float32], pB: NDArray[np.float32]) -> NDArray[np.float32]:\n",
    "    return pA * omega + pB * (1 - omega)\n",
    "\n",
    "# the cost function\n",
    "@jit(nopython = True, fastmath = True, parallel = False, forceinline = True)\n",
    "def L_of_omega(omega: np.float32, pA: NDArray[np.float32], pB: NDArray[np.float32]) -> NDArray[np.float32]:\n",
    "    # tmp: NDArray[np.float32] = f_of_omega(omega, pA, pB)\n",
    "    # return np.square(tmp - tmp.mean()).mean()\n",
    "    return f_of_omega(omega, pA, pB).var()  # :)"
   ]
  },
  {
   "cell_type": "code",
   "execution_count": 83,
   "metadata": {
    "execution": {
     "iopub.execute_input": "2024-06-04T05:21:33.775894Z",
     "iopub.status.busy": "2024-06-04T05:21:33.775894Z",
     "iopub.status.idle": "2024-06-04T05:21:33.784969Z",
     "shell.execute_reply": "2024-06-04T05:21:33.784969Z",
     "shell.execute_reply.started": "2024-06-04T05:21:33.775894Z"
    },
    "tags": [
     "graded"
    ]
   },
   "outputs": [
    {
     "name": "stdout",
     "output_type": "stream",
     "text": [
      "L(omega = 0) = 110.72\n",
      "L(omega = 0.2) = 61.15679999999998\n",
      "L(omega = 0.8) = 11.212799999999998\n",
      "L(omega = 1) = 27.480000000000008\n"
     ]
    }
   ],
   "source": [
    "print(\"L(omega = 0) =\",L_of_omega(0, prices_A, prices_B))\n",
    "print(\"L(omega = 0.2) =\",L_of_omega(0.2, prices_A, prices_B))\n",
    "print(\"L(omega = 0.8) =\",L_of_omega(0.8, prices_A, prices_B))\n",
    "print(\"L(omega = 1) =\",L_of_omega(1, prices_A, prices_B))"
   ]
  },
  {
   "cell_type": "markdown",
   "metadata": {},
   "source": [
    "##### __Expected Output__ \n",
    "\n",
    "```Python\n",
    "L(omega = 0) = 110.72\n",
    "L(omega = 0.2) = 61.1568\n",
    "L(omega = 0.8) = 11.212797\n",
    "L(omega = 1) = 27.48\n",
    "```"
   ]
  },
  {
   "cell_type": "markdown",
   "metadata": {},
   "source": [
    "Analysing the output above, you can notice that values of the function $\\mathcal{L}$ are decreasing for $\\omega$ increasing from $0$ to $0.2$, then to $0.8$, but there is an increase of the function $\\mathcal{L}$ when $\\omega = 1$. What will be the $\\omega$ giving the minimum value of the function $\\mathcal{L}$?\n",
    "\n",
    "In this simple example $\\mathcal{L}\\left(\\omega\\right)$ is a function of one variable and the problem of finding its minimum point with a certain accuracy is a trivial task. You just need to calculate function values for each $\\omega = 0, 0.001, 0.002, \\cdots , 1$ and find minimum element of the resulting array.\n",
    "\n",
    "Function `L_of_omega` will not work if you will pass an array instead of a single value of `omega` (it was not designed for that). It is possible to rewrite it in a way that it would be possible, but here there is no need in that right now - you can calculate the resulting values in the loop as there will be not as many of them."
   ]
  },
  {
   "cell_type": "markdown",
   "metadata": {},
   "source": [
    "<a name='ex03'></a>\n",
    "### Exercise 3\n",
    "\n",
    "Evaluate function `L_of_omega` for each of the elements of the array `omega_array` and pass the result into the corresponding element of the array `L_array` with the function `.at[<index>].set(<value>)`.\n",
    "\n",
    "*Note*: `jax.numpy` has been uploaded instead of the original `NumPy`. Up to this moment `jax` functionality has not been actually used, but it will be called in the cells below. Thus there was no need to upload both versions of the package, and you have to use `.at[<index>].set(<value>)` function to update the array."
   ]
  },
  {
   "cell_type": "code",
   "execution_count": 84,
   "metadata": {
    "execution": {
     "iopub.execute_input": "2024-06-04T05:21:38.225188Z",
     "iopub.status.busy": "2024-06-04T05:21:38.225188Z",
     "iopub.status.idle": "2024-06-04T05:21:39.224697Z",
     "shell.execute_reply": "2024-06-04T05:21:39.224697Z",
     "shell.execute_reply.started": "2024-06-04T05:21:38.225188Z"
    },
    "tags": [
     "graded"
    ]
   },
   "outputs": [],
   "source": [
    "# Parameter endpoint=True will allow ending point 1 to be included in the array.\n",
    "# This is why it is better to take N = 1001, not N = 1000\n",
    "N = 1001\n",
    "omega_array = np.linspace(0, 1, N, endpoint=True, dtype = np.float32)\n",
    "\n",
    "# This is organised as a function only for grading purposes.\n",
    "@jit(nopython = True, fastmath = True, parallel = False, forceinline = True)\n",
    "def L_of_omega_array(omega_array: NDArray[np.float32], pA: NDArray[np.float32], pB: NDArray[np.float32]) -> NDArray[np.float32]:\n",
    "    return np.array([L_of_omega(omega = o, pA = pA, pB = pB) for o in omega_array])\n",
    "\n",
    "L_array = L_of_omega_array(omega_array, prices_A, prices_B)"
   ]
  },
  {
   "cell_type": "code",
   "execution_count": 98,
   "metadata": {
    "execution": {
     "iopub.execute_input": "2024-06-04T05:31:25.558569Z",
     "iopub.status.busy": "2024-06-04T05:31:25.558569Z",
     "iopub.status.idle": "2024-06-04T05:31:25.567077Z",
     "shell.execute_reply": "2024-06-04T05:31:25.567077Z",
     "shell.execute_reply.started": "2024-06-04T05:31:25.558569Z"
    }
   },
   "outputs": [
    {
     "data": {
      "text/plain": [
       "(array([0.00099999, 0.00099999, 0.001     , 0.001     , 0.001     ,\n",
       "        0.001     , 0.001     , 0.001     , 0.001     , 0.001     ,\n",
       "        0.00100002, 0.00100005], dtype=float32),\n",
       " array([551,  17,  19,   2,   1,   1,   2,  22,   1, 168, 108, 108],\n",
       "       dtype=int64))"
      ]
     },
     "execution_count": 98,
     "metadata": {},
     "output_type": "execute_result"
    }
   ],
   "source": [
    "np.unique(np.diff(omega_array), return_counts = True)"
   ]
  },
  {
   "cell_type": "code",
   "execution_count": 120,
   "metadata": {
    "execution": {
     "iopub.execute_input": "2024-06-04T05:40:47.836689Z",
     "iopub.status.busy": "2024-06-04T05:40:47.836689Z",
     "iopub.status.idle": "2024-06-04T05:40:47.846397Z",
     "shell.execute_reply": "2024-06-04T05:40:47.846290Z",
     "shell.execute_reply.started": "2024-06-04T05:40:47.836689Z"
    }
   },
   "outputs": [
    {
     "data": {
      "text/plain": [
       "(1000, 1001)"
      ]
     },
     "execution_count": 120,
     "metadata": {},
     "output_type": "execute_result"
    }
   ],
   "source": [
    "np.diff(omega_array).size, omega_array.size"
   ]
  },
  {
   "cell_type": "code",
   "execution_count": 89,
   "metadata": {
    "execution": {
     "iopub.execute_input": "2024-06-04T05:21:42.478602Z",
     "iopub.status.busy": "2024-06-04T05:21:42.478602Z",
     "iopub.status.idle": "2024-06-04T05:21:42.489809Z",
     "shell.execute_reply": "2024-06-04T05:21:42.489195Z",
     "shell.execute_reply.started": "2024-06-04T05:21:42.478602Z"
    },
    "tags": [
     "graded"
    ]
   },
   "outputs": [
    {
     "name": "stdout",
     "output_type": "stream",
     "text": [
      "L(omega = 0) = 110.72\n",
      "L(omega = 1) = 27.48000000000001\n"
     ]
    }
   ],
   "source": [
    "print(\"L(omega = 0) =\", L_array[0])\n",
    "print(\"L(omega = 1) =\", L_array[-1])"
   ]
  },
  {
   "cell_type": "markdown",
   "metadata": {},
   "source": [
    "##### __Expected Output__ \n",
    "\n",
    "```Python\n",
    "L(omega = 0) = 110.72\n",
    "L(omega = 1) = 27.48\n",
    "```"
   ]
  },
  {
   "cell_type": "markdown",
   "metadata": {},
   "source": [
    "Now a minimum point of the function $\\mathcal{L}\\left(\\omega\\right)$ can be found with a `NumPy` function `argmin()`. As there were $N = 1001$ points taken in the segment $\\left[0, 1\\right]$, the result will be accurate to three decimal places:"
   ]
  },
  {
   "cell_type": "code",
   "execution_count": 96,
   "metadata": {
    "execution": {
     "iopub.execute_input": "2024-06-04T05:21:54.610682Z",
     "iopub.status.busy": "2024-06-04T05:21:54.610682Z",
     "iopub.status.idle": "2024-06-04T05:21:54.619058Z",
     "shell.execute_reply": "2024-06-04T05:21:54.619058Z",
     "shell.execute_reply.started": "2024-06-04T05:21:54.610682Z"
    },
    "tags": [
     "graded"
    ]
   },
   "outputs": [
    {
     "name": "stdout",
     "output_type": "stream",
     "text": [
      "omega_min = 0.702\n",
      "L_of_omega_min = 9.2497203\n"
     ]
    }
   ],
   "source": [
    "i_opt = L_array.argmin()\n",
    "omega_opt = omega_array[i_opt]\n",
    "L_opt = L_array[i_opt]\n",
    "print(f'omega_min = {omega_opt:.3f}\\nL_of_omega_min = {L_opt:.7f}')"
   ]
  },
  {
   "cell_type": "markdown",
   "metadata": {},
   "source": [
    "This result means that, based on the historical data, $\\omega = 0.702$ is expected to be the most profitable choice for the share between suppliers A and B. It is reasonable to plan $70.2\\%$ of product P to be supplied from Company A, and $29.8\\%$ from Company B. \n",
    "\n",
    "If you would like to improve the accuracy, you just need to increase the number of points N. This is a very simple example of a model with one parameter, resulting in optimization of a function of one variable. It is computationally cheap to evaluate it in many points to find the minimum with certain accuracy. But in machine learning the models have hundreds of parameters, using similar approach you would need to perform millions of target function evaluations. This is not possible in most of the cases, and that's where Calculus with its methods and approaches comes into play. \n",
    "\n",
    "In the next weeks of this Course you will learn how to optimize multivariate functions using differentiation. But for now as you are on the learning curve, let's evaluate the derivative of the function $\\mathcal{L}\\left(\\omega\\right)$ at the points saved in the array `omega_array` to check that at the minimum point the derivative is actually the closest to zero. "
   ]
  },
  {
   "cell_type": "markdown",
   "metadata": {},
   "source": [
    "<a name='ex04'></a>\n",
    "### Exercise 4\n",
    "\n",
    "For each $\\omega$ in the `omega_array` calculate $\\frac{d\\mathcal{L}}{d\\omega}$ using `grad()` function from `JAX` library. Remember that you need to pass the function which you want to differentiate (here $\\mathcal{L}\\left(\\omega\\right)$) as an argument of `grad()` function and then evaluate the derivative for the corresponding element of the `omega_array`. Then pass the result into the corresponding element of the array `dLdOmega_array` with the function `.at[<index>].set(<value>)`."
   ]
  },
  {
   "cell_type": "markdown",
   "metadata": {},
   "source": [
    "<details>    \n",
    "<summary>\n",
    "    <font size=\"3\" color=\"darkgreen\"><b>Hint</b></font>\n",
    "</summary>\n",
    "<p>\n",
    "<ul>\n",
    "    <li>Function $\\mathcal{L}\\left(\\omega\\right)$ is implemented in the code as `L_of_omega`.</li>\n",
    "</ul>\n",
    "</p>"
   ]
  },
  {
   "cell_type": "code",
   "execution_count": null,
   "metadata": {},
   "outputs": [],
   "source": [
    "# the below is what I used in the course lab, but it uses JAX.\n",
    "# WE NEED AN ALTERNATIVE TO JAX'S grad() routine :("
   ]
  },
  {
   "cell_type": "raw",
   "metadata": {},
   "source": [
    "# This is organised as a function only for grading purposes.\n",
    "def dLdOmega_of_omega_array(omega_array, pA, pB):\n",
    "    N = len(omega_array)\n",
    "    dLdOmega_array = np.zeros(N)\n",
    "\n",
    "    for i in range(N):\n",
    "        ### START CODE HERE ### (~ 2 lines of code)\n",
    "        dLdOmega = grad(L_of_omega)(omega_array[i], pA, pB)\n",
    "        dLdOmega_array = dLdOmega_array.at[i].set(dLdOmega)\n",
    "        ### END CODE HERE ###\n",
    "        \n",
    "    return dLdOmega_array\n",
    "\n",
    "dLdOmega_array = dLdOmega_of_omega_array(omega_array, prices_A, prices_B)"
   ]
  },
  {
   "cell_type": "code",
   "execution_count": 121,
   "metadata": {
    "execution": {
     "iopub.execute_input": "2024-06-04T05:44:02.587383Z",
     "iopub.status.busy": "2024-06-04T05:44:02.587383Z",
     "iopub.status.idle": "2024-06-04T05:44:02.595334Z",
     "shell.execute_reply": "2024-06-04T05:44:02.595334Z",
     "shell.execute_reply.started": "2024-06-04T05:44:02.587383Z"
    },
    "tags": [
     "graded"
    ]
   },
   "outputs": [],
   "source": [
    "# This is organised as a function only for grading purposes.\n",
    "# @jit(nopython = True, fastmath = True, parallel = False, forceinline = True) # numba does not support np.gradient :(\n",
    "def dLdOmega_of_omega_array(omega_array: NDArray[np.float32], pA: NDArray[np.float32], pB: NDArray[np.float32]) -> NDArray[np.float32]:\n",
    "    # losses for all the omegas\n",
    "    costs: NDArray[np.float32] = L_of_omega_array(omega_array = omega_array, pA = pA, pB = pB)\n",
    "    # the derivatove of the loss with respect to delta omega\n",
    "    # since the values in omega_array are linearly spaced, (i.e. a constant denominator domega)\n",
    "    # d_omega: np.float32 = 0.001 # there might be very marginal variations, but this is good enough :)\n",
    "    # or we can give an array of all domega values, equal in length to the costs array\n",
    "    # return np.diff(costs) / np.diff(omega_array)\n",
    "    # return np.gradient(costs, np.diff(omega_array))  \n",
    "\n",
    "dLdOmega_array = dLdOmega_of_omega_array(omega_array, prices_A, prices_B)"
   ]
  },
  {
   "cell_type": "code",
   "execution_count": 122,
   "metadata": {
    "execution": {
     "iopub.execute_input": "2024-06-04T05:44:03.460093Z",
     "iopub.status.busy": "2024-06-04T05:44:03.460093Z",
     "iopub.status.idle": "2024-06-04T05:44:03.469638Z",
     "shell.execute_reply": "2024-06-04T05:44:03.468497Z",
     "shell.execute_reply.started": "2024-06-04T05:44:03.460093Z"
    },
    "tags": [
     "graded"
    ]
   },
   "outputs": [
    {
     "name": "stdout",
     "output_type": "stream",
     "text": [
      "dLdOmega(omega = 0) = -288.7542780150082\n",
      "dLdOmega(omega = 1) = 122.27178643259536\n"
     ]
    }
   ],
   "source": [
    "print(\"dLdOmega(omega = 0) =\",dLdOmega_array[0])\n",
    "print(\"dLdOmega(omega = 1) =\",dLdOmega_array[-1])"
   ]
  },
  {
   "cell_type": "markdown",
   "metadata": {},
   "source": [
    "##### __Expected Output__ \n",
    "\n",
    "```Python\n",
    "dLdOmega(omega = 0) = -288.96\n",
    "dLdOmega(omega = 1) = 122.47999\n",
    "```"
   ]
  },
  {
   "cell_type": "markdown",
   "metadata": {},
   "source": [
    "Now to find the closest value of the derivative to $0$, take absolute values $\\left|\\frac{d\\mathcal{L}}{d\\omega}\\right|$ for each omega and find minimum of them."
   ]
  },
  {
   "cell_type": "code",
   "execution_count": 108,
   "metadata": {
    "execution": {
     "iopub.execute_input": "2024-06-04T05:35:55.791736Z",
     "iopub.status.busy": "2024-06-04T05:35:55.791736Z",
     "iopub.status.idle": "2024-06-04T05:35:55.803869Z",
     "shell.execute_reply": "2024-06-04T05:35:55.803869Z",
     "shell.execute_reply.started": "2024-06-04T05:35:55.791736Z"
    },
    "tags": [
     "graded"
    ]
   },
   "outputs": [
    {
     "name": "stdout",
     "output_type": "stream",
     "text": [
      "omega_min = 0.702\n",
      "dLdOmega_min = -0.1272188\n"
     ]
    }
   ],
   "source": [
    "i_opt_2 = np.abs(dLdOmega_array).argmin()\n",
    "omega_opt_2 = omega_array[i_opt_2]\n",
    "dLdOmega_opt_2 = dLdOmega_array[i_opt_2]\n",
    "print(f'omega_min = {omega_opt_2:.3f}\\ndLdOmega_min = {dLdOmega_opt_2:.7f}')"
   ]
  },
  {
   "cell_type": "markdown",
   "metadata": {},
   "source": [
    "The result is the same: $\\omega = 0.702$. Let's plot $\\mathcal{L}\\left(\\omega\\right)$ and $\\frac{d\\mathcal{L}}{d\\omega}$ to visualize the graphs of them, minimum point of the function $\\mathcal{L}\\left(\\omega\\right)$ and the point where its derivative is around $0$:"
   ]
  },
  {
   "cell_type": "code",
   "execution_count": 116,
   "metadata": {
    "execution": {
     "iopub.execute_input": "2024-06-04T05:37:17.540829Z",
     "iopub.status.busy": "2024-06-04T05:37:17.540829Z",
     "iopub.status.idle": "2024-06-04T05:37:17.630586Z",
     "shell.execute_reply": "2024-06-04T05:37:17.630586Z",
     "shell.execute_reply.started": "2024-06-04T05:37:17.540829Z"
    },
    "tags": [
     "graded"
    ]
   },
   "outputs": [
    {
     "name": "stderr",
     "output_type": "stream",
     "text": [
      "C:\\Users\\Anoban\\AppData\\Local\\Temp\\ipykernel_12508\\364233527.py:15: UserWarning: No artists with labels found to put in legend.  Note that artists whose label start with an underscore are ignored when legend() is called with no argument.\n",
      "  plt.legend()\n"
     ]
    },
    {
     "data": {
      "image/png": "[encoded data removed]",
      "text/plain": [
       "<Figure size 640x480 with 1 Axes>"
      ]
     },
     "metadata": {},
     "output_type": "display_data"
    }
   ],
   "source": [
    "fig = plt.figure()\n",
    "ax = fig.add_subplot(1, 1, 1)\n",
    "\n",
    "ax.spines['left'].set_position('zero')\n",
    "ax.spines['bottom'].set_position('zero')\n",
    "ax.spines['right'].set_color('none')\n",
    "ax.spines['top'].set_color('none')\n",
    "ax.xaxis.set_ticks_position('bottom')\n",
    "ax.yaxis.set_ticks_position('left')\n",
    "\n",
    "plt.plot(omega_array,  L_array, \"black\")#, label = r\"$\\mathcal{L}\\\\left(\\omega\\\\right)$\")\n",
    "plt.plot(omega_array,  dLdOmega_array, \"orange\")#, label = r\"$\\mathcal{L}\\left(\\omega\\right)$\")\n",
    "plt.plot([omega_opt, omega_opt_2], [L_opt, dLdOmega_opt_2], 'ro', markersize=3)\n",
    "\n",
    "plt.legend()\n",
    "\n",
    "plt.show()"
   ]
  },
  {
   "cell_type": "markdown",
   "metadata": {},
   "source": [
    "Congratulations, you have finished the assignment for this week! This example illustrates how optimization problems may appear in real life, and gives you an opportunity to explore the simple case of minimizing a function with one variable. Now it is time to learn about optimization of multivariate functions!"
   ]
  },
  {
   "cell_type": "code",
   "execution_count": null,
   "metadata": {
    "tags": [
     "graded"
    ]
   },
   "outputs": [],
   "source": []
  }
 ],
 "metadata": {
  "accelerator": "GPU",
  "colab": {
   "collapsed_sections": [],
   "name": "C1_W1_Assignment_Solution.ipynb",
   "provenance": []
  },
  "coursera": {
   "schema_names": [
    "AI4MC1-1"
   ]
  },
  "grader_version": "2",
  "kernelspec": {
   "display_name": "Python 3 (ipykernel)",
   "language": "python",
   "name": "python3"
  },
  "language_info": {
   "codemirror_mode": {
    "name": "ipython",
    "version": 3
   },
   "file_extension": ".py",
   "mimetype": "text/x-python",
   "name": "python",
   "nbconvert_exporter": "python",
   "pygments_lexer": "ipython3",
   "version": "3.12.3"
  },
  "toc": {
   "base_numbering": 1,
   "nav_menu": {},
   "number_sections": true,
   "sideBar": true,
   "skip_h1_title": false,
   "title_cell": "Table of Contents",
   "title_sidebar": "Contents",
   "toc_cell": false,
   "toc_position": {},
   "toc_section_display": true,
   "toc_window_display": false
  },
  "vscode": {
   "interpreter": {
    "hash": "f35d3e96467e1932767366762e4d928eed10b308a51952d02c874201cfd8a75d"
   }
  }
 },
 "nbformat": 4,
 "nbformat_minor": 4
}
